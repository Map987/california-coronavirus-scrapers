{
 "cells": [
  {
   "cell_type": "markdown",
   "id": "1ff81e1a-4d58-4969-a9d9-d13ee104f644",
   "metadata": {},
   "source": [
    "# Unvaccinated vs. vaccinated cases\n",
    "\n",
    "Downloads [case, hospitalization and death rates](https://covid19.ca.gov/state-dashboard/#postvax-status) for unvaccinated and vaccinated residents. Data published by the California Department of Public Health."
   ]
  },
  {
   "cell_type": "markdown",
   "id": "8a1bb75b-13a3-4e09-85ba-733476d587d7",
   "metadata": {},
   "source": [
    "## Import"
   ]
  },
  {
   "cell_type": "markdown",
   "id": "01d0221d-22a3-4339-84cc-65ceb787f08b",
   "metadata": {},
   "source": [
    "Code formatting with [black](https://pypi.org/project/nb-black/)."
   ]
  },
  {
   "cell_type": "code",
   "execution_count": 1,
   "id": "72a661a9-13d8-41a1-b5bd-fa7213ab4508",
   "metadata": {},
   "outputs": [],
   "source": [
    "%load_ext lab_black"
   ]
  },
  {
   "cell_type": "code",
   "execution_count": 2,
   "id": "563fef33-786a-4163-8675-6cd10dfe8d47",
   "metadata": {},
   "outputs": [],
   "source": [
    "import os\n",
    "import pathlib"
   ]
  },
  {
   "cell_type": "code",
   "execution_count": 3,
   "id": "68376d0e-0f3f-44f9-b3ca-464ecaac2b97",
   "metadata": {},
   "outputs": [],
   "source": [
    "this_dir = pathlib.Path(os.path.abspath(\"\"))"
   ]
  },
  {
   "cell_type": "code",
   "execution_count": 4,
   "id": "fd57e19b-84cc-4ab0-9e2c-dc5752aa6ec0",
   "metadata": {},
   "outputs": [],
   "source": [
    "data_dir = this_dir / \"data\""
   ]
  },
  {
   "cell_type": "markdown",
   "id": "9eac5b66-0aab-4a31-9d34-4d2baa86e96c",
   "metadata": {},
   "source": [
    "Import dependencies."
   ]
  },
  {
   "cell_type": "code",
   "execution_count": 5,
   "id": "cebbcf84-f477-4138-922e-13dac9089206",
   "metadata": {
    "tags": []
   },
   "outputs": [],
   "source": [
    "import requests\n",
    "import pandas as pd"
   ]
  },
  {
   "cell_type": "markdown",
   "id": "709b14c7-1693-480b-af88-321d8f3b6529",
   "metadata": {},
   "source": [
    "Retreive the page"
   ]
  },
  {
   "cell_type": "code",
   "execution_count": 6,
   "id": "b135715d-c66f-4fe0-b019-1955ac70c61e",
   "metadata": {},
   "outputs": [],
   "source": [
    "url = \"https://files.covid19.ca.gov/data/dashboard/postvax/california.json\""
   ]
  },
  {
   "cell_type": "code",
   "execution_count": 7,
   "id": "ff9ce34e-1eed-4a28-9a2d-97017bddf771",
   "metadata": {},
   "outputs": [],
   "source": [
    "r = requests.get(url)"
   ]
  },
  {
   "cell_type": "markdown",
   "id": "d2441e3a-65ba-4682-952f-8e297a5aae96",
   "metadata": {},
   "source": [
    "Write the data to a dataframe"
   ]
  },
  {
   "cell_type": "code",
   "execution_count": 8,
   "id": "0ba982f1-f7b7-48c8-9d82-f13827490ce9",
   "metadata": {},
   "outputs": [],
   "source": [
    "data = r.json()"
   ]
  },
  {
   "cell_type": "code",
   "execution_count": 9,
   "id": "a237b028-39e1-46db-9514-d87a6e1a0b14",
   "metadata": {},
   "outputs": [],
   "source": [
    "df = pd.DataFrame(data[\"data\"])"
   ]
  },
  {
   "cell_type": "code",
   "execution_count": 10,
   "id": "d9e7a09c-1bfd-4422-8f4d-478483305275",
   "metadata": {},
   "outputs": [],
   "source": [
    "df.columns = df.columns.str.lower()"
   ]
  },
  {
   "cell_type": "markdown",
   "id": "01c07de0-7a0d-4fb5-ba1a-9524cef627b6",
   "metadata": {},
   "source": [
    "Store the metadata in a dataframe"
   ]
  },
  {
   "cell_type": "code",
   "execution_count": 11,
   "id": "04090db5-479e-4ab8-8a00-77d8ead7e983",
   "metadata": {},
   "outputs": [],
   "source": [
    "metadata = pd.DataFrame(data[\"meta\"], index=[0])"
   ]
  },
  {
   "cell_type": "code",
   "execution_count": 12,
   "id": "0c46c8d0-efba-4e18-b57c-fea9fced32ef",
   "metadata": {},
   "outputs": [],
   "source": [
    "metadata.columns = metadata.columns.str.lower()"
   ]
  },
  {
   "cell_type": "markdown",
   "id": "508bc891-7498-4820-88ae-9441f71334fe",
   "metadata": {},
   "source": [
    "### Export"
   ]
  },
  {
   "cell_type": "code",
   "execution_count": 13,
   "id": "7047b914-ff99-4901-9cc6-3ea376ba8dd9",
   "metadata": {},
   "outputs": [],
   "source": [
    "df.to_csv(data_dir / \"timeseries.csv\", index=False)"
   ]
  },
  {
   "cell_type": "code",
   "execution_count": 14,
   "id": "72ff8962-1acf-4241-b289-db0b0f00d27f",
   "metadata": {},
   "outputs": [],
   "source": [
    "metadata.to_csv(data_dir / \"metadata.csv\", index=False)"
   ]
  }
 ],
 "metadata": {
  "kernelspec": {
   "display_name": "Python 3 (ipykernel)",
   "language": "python",
   "name": "python3"
  },
  "language_info": {
   "codemirror_mode": {
    "name": "ipython",
    "version": 3
   },
   "file_extension": ".py",
   "mimetype": "text/x-python",
   "name": "python",
   "nbconvert_exporter": "python",
   "pygments_lexer": "ipython3",
   "version": "3.8.11"
  }
 },
 "nbformat": 4,
 "nbformat_minor": 5
}
