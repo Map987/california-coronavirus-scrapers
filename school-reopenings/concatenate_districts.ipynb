{
 "cells": [
  {
   "cell_type": "markdown",
   "metadata": {},
   "source": [
    "# Combine district CSVs into a timeseries file"
   ]
  },
  {
   "cell_type": "code",
   "execution_count": 4,
   "metadata": {},
   "outputs": [],
   "source": [
    "%load_ext lab_black"
   ]
  },
  {
   "cell_type": "code",
   "execution_count": 5,
   "metadata": {},
   "outputs": [],
   "source": [
    "import pandas as pd\n",
    "import glob\n",
    "import os\n",
    "import json"
   ]
  },
  {
   "cell_type": "markdown",
   "metadata": {},
   "source": [
    "### Get all the district json files"
   ]
  },
  {
   "cell_type": "raw",
   "metadata": {},
   "source": [
    "\n",
    "files = glob.glob(os.path.join(path, \"data/districts-2021*.csv\"))"
   ]
  },
  {
   "cell_type": "raw",
   "metadata": {},
   "source": [
    "charter_files = glob.glob(os.path.join(path, \"data/charters-2021*.csv\"))"
   ]
  },
  {
   "cell_type": "code",
   "execution_count": 8,
   "metadata": {},
   "outputs": [],
   "source": [
    "def concat_output(name):\n",
    "    path = \"\"\n",
    "    # get files\n",
    "    files = glob.glob(os.path.join(path, f\"data/{name}-2021*.csv\"))\n",
    "    # create date field\n",
    "    file_df = (\n",
    "        pd.read_csv(f, low_memory=False).assign(date=os.path.basename(f)) for f in files\n",
    "    )\n",
    "    # concat\n",
    "    concatenated_df = pd.concat(\n",
    "        file_df,\n",
    "        ignore_index=True,\n",
    "    )\n",
    "    # create date column\n",
    "    concatenated_df[\"date\"] = (\n",
    "        concatenated_df[\"date\"]\n",
    "        .str.replace(f\"{name}-\", \"\", regex=False)\n",
    "        .str.replace(\".csv\", \"\", regex=False)\n",
    "    )\n",
    "\n",
    "    # export\n",
    "    concatenated_df.to_csv(f\"data/{name}-timeseries.csv\", index=False)"
   ]
  },
  {
   "cell_type": "code",
   "execution_count": 9,
   "metadata": {},
   "outputs": [],
   "source": [
    "concat_output(\"districts\")"
   ]
  },
  {
   "cell_type": "code",
   "execution_count": 10,
   "metadata": {},
   "outputs": [],
   "source": [
    "concat_output(\"charters\")"
   ]
  },
  {
   "cell_type": "code",
   "execution_count": 11,
   "metadata": {},
   "outputs": [],
   "source": [
    "concat_output(\"private\")"
   ]
  },
  {
   "cell_type": "raw",
   "metadata": {},
   "source": [
    "### Read them and create a date field"
   ]
  },
  {
   "cell_type": "raw",
   "metadata": {},
   "source": [
    "file_df = (\n",
    "    pd.read_csv(f, low_memory=False).assign(date=os.path.basename(f)) for f in files\n",
    ")"
   ]
  },
  {
   "cell_type": "raw",
   "metadata": {},
   "source": [
    "charter_df = (\n",
    "    pd.read_csv(f, low_memory=False).assign(date=os.path.basename(f))\n",
    "    for f in charter_files\n",
    ")"
   ]
  },
  {
   "cell_type": "raw",
   "metadata": {},
   "source": [
    "### Concatenate all the files"
   ]
  },
  {
   "cell_type": "raw",
   "metadata": {},
   "source": [
    "concatenated_df = pd.concat(\n",
    "    file_df,\n",
    "    ignore_index=True,\n",
    ")"
   ]
  },
  {
   "cell_type": "raw",
   "metadata": {},
   "source": [
    "concatenated_charters_df = pd.concat(\n",
    "    charter_df,\n",
    "    ignore_index=True,\n",
    ")"
   ]
  },
  {
   "cell_type": "raw",
   "metadata": {},
   "source": [
    "### Clean up the date field and column names"
   ]
  },
  {
   "cell_type": "raw",
   "metadata": {},
   "source": [
    "concatenated_df[\"date\"] = (\n",
    "    concatenated_df[\"date\"]\n",
    "    .str.replace(\"districts-\", \"\", regex=False)\n",
    "    .str.replace(\".csv\", \"\", regex=False)\n",
    ")"
   ]
  },
  {
   "cell_type": "raw",
   "metadata": {},
   "source": [
    "concatenated_df.columns = (\n",
    "    concatenated_df.columns.str.replace(\".\", \"\", regex=False)\n",
    "    .str.lower()\n",
    "    .str.replace(\"attributes\", \"\", regex=False)\n",
    ")"
   ]
  },
  {
   "cell_type": "raw",
   "metadata": {},
   "source": [
    "concatenated_charters_df[\"date\"] = (\n",
    "    concatenated_charters_df[\"date\"]\n",
    "    .str.replace(\"charters-\", \"\", regex=False)\n",
    "    .str.replace(\".csv\", \"\", regex=False)\n",
    ")"
   ]
  },
  {
   "cell_type": "raw",
   "metadata": {},
   "source": [
    "concatenated_charters_df.columns = (\n",
    "    concatenated_charters_df.columns.str.replace(\".\", \"\", regex=False)\n",
    "    .str.lower()\n",
    "    .str.replace(\"attributes\", \"\", regex=False)\n",
    ")"
   ]
  },
  {
   "cell_type": "raw",
   "metadata": {},
   "source": [
    "### Cleaning up the unix dates"
   ]
  },
  {
   "cell_type": "raw",
   "metadata": {},
   "source": [
    "district_dates = [\n",
    "    \"creationdate\",\n",
    "    \"editdate\",\n",
    "    \"nearterm_reopening_date\",\n",
    "    \"elem_reopen_dt\",\n",
    "    \"sec_reopen_dt\",\n",
    "]"
   ]
  },
  {
   "cell_type": "raw",
   "metadata": {},
   "source": [
    "charter_dates = [\n",
    "    \"creationdate\",\n",
    "    \"editdate\",\n",
    "    \"reopening_date\",\n",
    "]"
   ]
  },
  {
   "cell_type": "raw",
   "metadata": {},
   "source": [
    "def parse_dates(df, dates):\n",
    "    for d in dates:\n",
    "        df[f\"{d}\"] = pd.to_datetime(df[f\"{d}\"], unit=\"ms\")\n",
    "        df[f\"{d}_clean\"] = df[f\"{d}\"].dt.date\n",
    "    return df"
   ]
  },
  {
   "cell_type": "raw",
   "metadata": {},
   "source": [
    "df = parse_dates(concatenated_df, district_dates)"
   ]
  },
  {
   "cell_type": "raw",
   "metadata": {},
   "source": [
    "charters_final = parse_dates(concatenated_charters_df, charter_dates)"
   ]
  },
  {
   "cell_type": "raw",
   "metadata": {},
   "source": [
    "---"
   ]
  },
  {
   "cell_type": "raw",
   "metadata": {},
   "source": [
    "## Export"
   ]
  },
  {
   "cell_type": "raw",
   "metadata": {},
   "source": [
    "df.to_csv(\"data/districts-all-timeseries.csv\", index=False)"
   ]
  },
  {
   "cell_type": "raw",
   "metadata": {},
   "source": [
    "charters_final.to_csv(\"data/charters-all-timeseries.csv\", index=False)"
   ]
  }
 ],
 "metadata": {
  "kernelspec": {
   "display_name": "Python 3",
   "language": "python",
   "name": "python3"
  },
  "language_info": {
   "codemirror_mode": {
    "name": "ipython",
    "version": 3
   },
   "file_extension": ".py",
   "mimetype": "text/x-python",
   "name": "python",
   "nbconvert_exporter": "python",
   "pygments_lexer": "ipython3",
   "version": "3.8.5"
  }
 },
 "nbformat": 4,
 "nbformat_minor": 4
}
