{
 "cells": [
  {
   "cell_type": "markdown",
   "metadata": {},
   "source": [
    "# Combine district CSVs into a timeseries file"
   ]
  },
  {
   "cell_type": "code",
   "execution_count": 1,
   "metadata": {},
   "outputs": [],
   "source": [
    "%load_ext lab_black"
   ]
  },
  {
   "cell_type": "code",
   "execution_count": 2,
   "metadata": {},
   "outputs": [],
   "source": [
    "import pandas as pd\n",
    "import glob\n",
    "import os\n",
    "import json"
   ]
  },
  {
   "cell_type": "markdown",
   "metadata": {},
   "source": [
    "### Get all the district json files"
   ]
  },
  {
   "cell_type": "code",
   "execution_count": 8,
   "metadata": {},
   "outputs": [],
   "source": [
    "path = \"\"\n",
    "files = glob.glob(os.path.join(path, \"data/districts-2021*.csv\"))"
   ]
  },
  {
   "cell_type": "code",
   "execution_count": 9,
   "metadata": {},
   "outputs": [],
   "source": [
    "charter_files = glob.glob(os.path.join(path, \"data/charters-2021*.csv\"))"
   ]
  },
  {
   "cell_type": "markdown",
   "metadata": {},
   "source": [
    "### Read them and create a date field"
   ]
  },
  {
   "cell_type": "code",
   "execution_count": 10,
   "metadata": {},
   "outputs": [],
   "source": [
    "file_df = (\n",
    "    pd.read_csv(f, low_memory=False).assign(date=os.path.basename(f)) for f in files\n",
    ")"
   ]
  },
  {
   "cell_type": "code",
   "execution_count": 11,
   "metadata": {},
   "outputs": [],
   "source": [
    "charter_df = (\n",
    "    pd.read_csv(f, low_memory=False).assign(date=os.path.basename(f))\n",
    "    for f in charter_files\n",
    ")"
   ]
  },
  {
   "cell_type": "markdown",
   "metadata": {},
   "source": [
    "### Concatenate all the files"
   ]
  },
  {
   "cell_type": "code",
   "execution_count": 12,
   "metadata": {},
   "outputs": [],
   "source": [
    "concatenated_df = pd.concat(\n",
    "    file_df,\n",
    "    ignore_index=True,\n",
    ")"
   ]
  },
  {
   "cell_type": "code",
   "execution_count": 13,
   "metadata": {},
   "outputs": [],
   "source": [
    "concatenated_charters_df = pd.concat(\n",
    "    charter_df,\n",
    "    ignore_index=True,\n",
    ")"
   ]
  },
  {
   "cell_type": "markdown",
   "metadata": {},
   "source": [
    "### Clean up the date field and column names"
   ]
  },
  {
   "cell_type": "code",
   "execution_count": null,
   "metadata": {},
   "outputs": [],
   "source": []
  },
  {
   "cell_type": "code",
   "execution_count": 14,
   "metadata": {},
   "outputs": [],
   "source": [
    "concatenated_df[\"date\"] = (\n",
    "    concatenated_df[\"date\"]\n",
    "    .str.replace(\"districts-\", \"\", regex=False)\n",
    "    .str.replace(\".csv\", \"\", regex=False)\n",
    ")"
   ]
  },
  {
   "cell_type": "code",
   "execution_count": 15,
   "metadata": {},
   "outputs": [],
   "source": [
    "concatenated_df.columns = (\n",
    "    concatenated_df.columns.str.replace(\".\", \"\", regex=False)\n",
    "    .str.lower()\n",
    "    .str.replace(\"attributes\", \"\", regex=False)\n",
    ")"
   ]
  },
  {
   "cell_type": "code",
   "execution_count": 16,
   "metadata": {},
   "outputs": [],
   "source": [
    "concatenated_charters_df[\"date\"] = (\n",
    "    concatenated_charters_df[\"date\"]\n",
    "    .str.replace(\"charters-\", \"\", regex=False)\n",
    "    .str.replace(\".csv\", \"\", regex=False)\n",
    ")"
   ]
  },
  {
   "cell_type": "code",
   "execution_count": 17,
   "metadata": {},
   "outputs": [],
   "source": [
    "concatenated_charters_df.columns = (\n",
    "    concatenated_charters_df.columns.str.replace(\".\", \"\", regex=False)\n",
    "    .str.lower()\n",
    "    .str.replace(\"attributes\", \"\", regex=False)\n",
    ")"
   ]
  },
  {
   "cell_type": "markdown",
   "metadata": {},
   "source": [
    "### Cleaning up the unix dates"
   ]
  },
  {
   "cell_type": "code",
   "execution_count": 37,
   "metadata": {},
   "outputs": [],
   "source": [
    "district_dates = [\n",
    "    \"creationdate\",\n",
    "    \"editdate\",\n",
    "    \"nearterm_reopening_date\",\n",
    "    \"elem_reopen_dt\",\n",
    "    \"sec_reopen_dt\",\n",
    "]"
   ]
  },
  {
   "cell_type": "code",
   "execution_count": 38,
   "metadata": {},
   "outputs": [],
   "source": [
    "charter_dates = [\n",
    "    \"creationdate\",\n",
    "    \"editdate\",\n",
    "    \"reopening_date\",\n",
    "]"
   ]
  },
  {
   "cell_type": "code",
   "execution_count": 39,
   "metadata": {},
   "outputs": [],
   "source": [
    "def parse_dates(df, dates):\n",
    "    for d in dates:\n",
    "        df[f\"{d}\"] = pd.to_datetime(df[f\"{d}\"], unit=\"ms\")\n",
    "        df[f\"{d}_clean\"] = df[f\"{d}\"].dt.date\n",
    "    return df"
   ]
  },
  {
   "cell_type": "code",
   "execution_count": 40,
   "metadata": {},
   "outputs": [],
   "source": [
    "df = parse_dates(concatenated_df, district_dates)"
   ]
  },
  {
   "cell_type": "code",
   "execution_count": 41,
   "metadata": {},
   "outputs": [],
   "source": [
    "charters_final = parse_dates(concatenated_charters_df, charter_dates)"
   ]
  },
  {
   "cell_type": "markdown",
   "metadata": {},
   "source": [
    "---"
   ]
  },
  {
   "cell_type": "markdown",
   "metadata": {},
   "source": [
    "## Export"
   ]
  },
  {
   "cell_type": "code",
   "execution_count": 43,
   "metadata": {},
   "outputs": [],
   "source": [
    "df.to_csv(\"data/districts-all-timeseries.csv\", index=False)"
   ]
  },
  {
   "cell_type": "code",
   "execution_count": 44,
   "metadata": {},
   "outputs": [],
   "source": [
    "charters_final.to_csv(\"data/charters-all-timeseries.csv\", index=False)"
   ]
  }
 ],
 "metadata": {
  "kernelspec": {
   "display_name": "Python 3",
   "language": "python",
   "name": "python3"
  },
  "language_info": {
   "codemirror_mode": {
    "name": "ipython",
    "version": 3
   },
   "file_extension": ".py",
   "mimetype": "text/x-python",
   "name": "python",
   "nbconvert_exporter": "python",
   "pygments_lexer": "ipython3",
   "version": "3.8.5"
  }
 },
 "nbformat": 4,
 "nbformat_minor": 4
}
