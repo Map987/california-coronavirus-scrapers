{
 "cells": [
  {
   "cell_type": "markdown",
   "metadata": {
    "tags": []
   },
   "source": [
    "## Configuration\n",
    "_Initial steps to get the notebook ready to play nice with our repository. Do not delete this section._"
   ]
  },
  {
   "cell_type": "markdown",
   "metadata": {},
   "source": [
    "Code formatting with [black](https://pypi.org/project/nb-black/)."
   ]
  },
  {
   "cell_type": "code",
   "execution_count": 1,
   "metadata": {
    "execution": {
     "iopub.execute_input": "2022-12-28T00:26:26.894013Z",
     "iopub.status.busy": "2022-12-28T00:26:26.893584Z",
     "iopub.status.idle": "2022-12-28T00:26:27.042478Z",
     "shell.execute_reply": "2022-12-28T00:26:27.041917Z"
    }
   },
   "outputs": [],
   "source": [
    "%load_ext lab_black"
   ]
  },
  {
   "cell_type": "code",
   "execution_count": 2,
   "metadata": {
    "execution": {
     "iopub.execute_input": "2022-12-28T00:26:27.047234Z",
     "iopub.status.busy": "2022-12-28T00:26:27.046241Z",
     "iopub.status.idle": "2022-12-28T00:26:27.047751Z",
     "shell.execute_reply": "2022-12-28T00:26:27.048110Z"
    }
   },
   "outputs": [],
   "source": [
    "import os\n",
    "import pathlib"
   ]
  },
  {
   "cell_type": "code",
   "execution_count": 3,
   "metadata": {
    "execution": {
     "iopub.execute_input": "2022-12-28T00:26:27.054578Z",
     "iopub.status.busy": "2022-12-28T00:26:27.053460Z",
     "iopub.status.idle": "2022-12-28T00:26:27.055099Z",
     "shell.execute_reply": "2022-12-28T00:26:27.055464Z"
    }
   },
   "outputs": [],
   "source": [
    "this_dir = pathlib.Path(os.path.abspath(\"\"))"
   ]
  },
  {
   "cell_type": "code",
   "execution_count": 4,
   "metadata": {
    "execution": {
     "iopub.execute_input": "2022-12-28T00:26:27.060097Z",
     "iopub.status.busy": "2022-12-28T00:26:27.059339Z",
     "iopub.status.idle": "2022-12-28T00:26:27.061440Z",
     "shell.execute_reply": "2022-12-28T00:26:27.061046Z"
    }
   },
   "outputs": [],
   "source": [
    "data_dir = this_dir / \"data\""
   ]
  },
  {
   "cell_type": "code",
   "execution_count": 5,
   "metadata": {
    "execution": {
     "iopub.execute_input": "2022-12-28T00:26:27.064879Z",
     "iopub.status.busy": "2022-12-28T00:26:27.064446Z",
     "iopub.status.idle": "2022-12-28T00:26:27.466099Z",
     "shell.execute_reply": "2022-12-28T00:26:27.465306Z"
    }
   },
   "outputs": [],
   "source": [
    "import re\n",
    "import pytz\n",
    "import glob\n",
    "import requests\n",
    "import unicodedata\n",
    "import pandas as pd\n",
    "from slugify import slugify\n",
    "from bs4 import BeautifulSoup\n",
    "from datetime import datetime, date"
   ]
  },
  {
   "cell_type": "markdown",
   "metadata": {},
   "source": [
    "## Download"
   ]
  },
  {
   "cell_type": "markdown",
   "metadata": {},
   "source": [
    "Retrieve the page"
   ]
  },
  {
   "cell_type": "code",
   "execution_count": 6,
   "metadata": {
    "execution": {
     "iopub.execute_input": "2022-12-28T00:26:27.470777Z",
     "iopub.status.busy": "2022-12-28T00:26:27.470273Z",
     "iopub.status.idle": "2022-12-28T00:26:27.473435Z",
     "shell.execute_reply": "2022-12-28T00:26:27.473028Z"
    }
   },
   "outputs": [],
   "source": [
    "url = \"http://publichealth.lacounty.gov/media/Coronavirus/locations.htm\""
   ]
  },
  {
   "cell_type": "code",
   "execution_count": 7,
   "metadata": {
    "execution": {
     "iopub.execute_input": "2022-12-28T00:26:27.480114Z",
     "iopub.status.busy": "2022-12-28T00:26:27.476387Z",
     "iopub.status.idle": "2022-12-28T00:26:28.064037Z",
     "shell.execute_reply": "2022-12-28T00:26:28.063591Z"
    }
   },
   "outputs": [],
   "source": [
    "page = requests.get(url)"
   ]
  },
  {
   "cell_type": "markdown",
   "metadata": {},
   "source": [
    "## Parse"
   ]
  },
  {
   "cell_type": "code",
   "execution_count": 8,
   "metadata": {
    "execution": {
     "iopub.execute_input": "2022-12-28T00:26:28.098435Z",
     "iopub.status.busy": "2022-12-28T00:26:28.087351Z",
     "iopub.status.idle": "2022-12-28T00:26:28.261621Z",
     "shell.execute_reply": "2022-12-28T00:26:28.260752Z"
    }
   },
   "outputs": [],
   "source": [
    "soup = BeautifulSoup(page.content, \"html.parser\")"
   ]
  },
  {
   "cell_type": "markdown",
   "metadata": {},
   "source": [
    "Get content well"
   ]
  },
  {
   "cell_type": "code",
   "execution_count": 9,
   "metadata": {
    "execution": {
     "iopub.execute_input": "2022-12-28T00:26:28.268626Z",
     "iopub.status.busy": "2022-12-28T00:26:28.267316Z",
     "iopub.status.idle": "2022-12-28T00:26:28.270740Z",
     "shell.execute_reply": "2022-12-28T00:26:28.271310Z"
    }
   },
   "outputs": [],
   "source": [
    "content = soup.find(\"div\", {\"id\": \"content\"})"
   ]
  },
  {
   "cell_type": "markdown",
   "metadata": {},
   "source": [
    "Get table"
   ]
  },
  {
   "cell_type": "code",
   "execution_count": 10,
   "metadata": {
    "execution": {
     "iopub.execute_input": "2022-12-28T00:26:28.279159Z",
     "iopub.status.busy": "2022-12-28T00:26:28.278717Z",
     "iopub.status.idle": "2022-12-28T00:26:28.292337Z",
     "shell.execute_reply": "2022-12-28T00:26:28.291957Z"
    }
   },
   "outputs": [],
   "source": [
    "for tag in content.find_all(text=re.compile(\"CITY/COMMUNITY\")):\n",
    "    table = tag.findParent(\"table\")"
   ]
  },
  {
   "cell_type": "code",
   "execution_count": 11,
   "metadata": {
    "execution": {
     "iopub.execute_input": "2022-12-28T00:26:28.297298Z",
     "iopub.status.busy": "2022-12-28T00:26:28.296839Z",
     "iopub.status.idle": "2022-12-28T00:26:28.299880Z",
     "shell.execute_reply": "2022-12-28T00:26:28.299506Z"
    }
   },
   "outputs": [],
   "source": [
    "tbody = soup.tbody"
   ]
  },
  {
   "cell_type": "code",
   "execution_count": 12,
   "metadata": {
    "execution": {
     "iopub.execute_input": "2022-12-28T00:26:28.305452Z",
     "iopub.status.busy": "2022-12-28T00:26:28.304268Z",
     "iopub.status.idle": "2022-12-28T00:26:28.307632Z",
     "shell.execute_reply": "2022-12-28T00:26:28.308006Z"
    }
   },
   "outputs": [],
   "source": [
    "row_list = tbody.find_all(\"tr\")"
   ]
  },
  {
   "cell_type": "code",
   "execution_count": 13,
   "metadata": {
    "execution": {
     "iopub.execute_input": "2022-12-28T00:26:28.312110Z",
     "iopub.status.busy": "2022-12-28T00:26:28.311675Z",
     "iopub.status.idle": "2022-12-28T00:26:28.314619Z",
     "shell.execute_reply": "2022-12-28T00:26:28.314232Z"
    }
   },
   "outputs": [],
   "source": [
    "dict_list = []"
   ]
  },
  {
   "cell_type": "code",
   "execution_count": 14,
   "metadata": {
    "execution": {
     "iopub.execute_input": "2022-12-28T00:26:28.318482Z",
     "iopub.status.busy": "2022-12-28T00:26:28.318035Z",
     "iopub.status.idle": "2022-12-28T00:26:28.323342Z",
     "shell.execute_reply": "2022-12-28T00:26:28.322951Z"
    }
   },
   "outputs": [],
   "source": [
    "def safetxt(element):\n",
    "    v = element.text.strip()\n",
    "    v = v.replace(\"\\u200b\", \"\")\n",
    "    return v"
   ]
  },
  {
   "cell_type": "code",
   "execution_count": 15,
   "metadata": {
    "execution": {
     "iopub.execute_input": "2022-12-28T00:26:28.330799Z",
     "iopub.status.busy": "2022-12-28T00:26:28.327070Z",
     "iopub.status.idle": "2022-12-28T00:26:28.333442Z",
     "shell.execute_reply": "2022-12-28T00:26:28.332827Z"
    }
   },
   "outputs": [],
   "source": [
    "def safenumber(element):\n",
    "    v = safetxt(element)\n",
    "    v = v.replace(\",\", \"\")\n",
    "    v = v.replace(\" \", \"\")\n",
    "    return v"
   ]
  },
  {
   "cell_type": "code",
   "execution_count": 16,
   "metadata": {
    "execution": {
     "iopub.execute_input": "2022-12-28T00:26:28.345070Z",
     "iopub.status.busy": "2022-12-28T00:26:28.344328Z",
     "iopub.status.idle": "2022-12-28T00:26:28.353138Z",
     "shell.execute_reply": "2022-12-28T00:26:28.352704Z"
    }
   },
   "outputs": [],
   "source": [
    "for row in row_list:\n",
    "    cell_content = row.find_all(\"td\")\n",
    "    d = dict(\n",
    "        county=\"Los Angeles\",\n",
    "        area=safetxt(cell_content[0]),\n",
    "        confirmed_cases=safenumber(cell_content[1]),\n",
    "        confirmed_deaths=safenumber(cell_content[3]),\n",
    "    )\n",
    "    dict_list.append(d)"
   ]
  },
  {
   "cell_type": "code",
   "execution_count": 17,
   "metadata": {
    "execution": {
     "iopub.execute_input": "2022-12-28T00:26:28.358674Z",
     "iopub.status.busy": "2022-12-28T00:26:28.357438Z",
     "iopub.status.idle": "2022-12-28T00:26:28.360966Z",
     "shell.execute_reply": "2022-12-28T00:26:28.361358Z"
    }
   },
   "outputs": [],
   "source": [
    "df = pd.DataFrame(dict_list)"
   ]
  },
  {
   "cell_type": "markdown",
   "metadata": {},
   "source": [
    "Get timestamp"
   ]
  },
  {
   "cell_type": "code",
   "execution_count": 18,
   "metadata": {
    "execution": {
     "iopub.execute_input": "2022-12-28T00:26:28.365585Z",
     "iopub.status.busy": "2022-12-28T00:26:28.365114Z",
     "iopub.status.idle": "2022-12-28T00:26:28.368092Z",
     "shell.execute_reply": "2022-12-28T00:26:28.367706Z"
    }
   },
   "outputs": [],
   "source": [
    "date_url = \"http://publichealth.lacounty.gov/media/Coronavirus/js/casecounter.js\""
   ]
  },
  {
   "cell_type": "code",
   "execution_count": 19,
   "metadata": {
    "execution": {
     "iopub.execute_input": "2022-12-28T00:26:28.373995Z",
     "iopub.status.busy": "2022-12-28T00:26:28.373557Z",
     "iopub.status.idle": "2022-12-28T00:26:28.532309Z",
     "shell.execute_reply": "2022-12-28T00:26:28.531587Z"
    }
   },
   "outputs": [],
   "source": [
    "response = requests.get(date_url)\n",
    "date_page = response.text"
   ]
  },
  {
   "cell_type": "code",
   "execution_count": 20,
   "metadata": {
    "execution": {
     "iopub.execute_input": "2022-12-28T00:26:28.540219Z",
     "iopub.status.busy": "2022-12-28T00:26:28.539753Z",
     "iopub.status.idle": "2022-12-28T00:26:28.546077Z",
     "shell.execute_reply": "2022-12-28T00:26:28.546454Z"
    }
   },
   "outputs": [
    {
     "data": {
      "text/plain": [
       "'$( document ).ready(function() {\\r\\n    var data = {\\r\\n\\t\\t\\t\\t    \"content\": { \\r\\n\\t\\t\\r\\n\\t\\t\\t\"count\": \"3,615,292\",\\r\\n\\r\\n\\r\\n\\t\\t\\t\"death\": \"34,561\",\\r\\n\\r\\n\\t\\t\\t\"dailycount\": \"3,006\",\\r\\n\\r\\n\\r\\n\\t\\t\\t\"dailydeath\": \"23\",\\r\\n\\t\\t\\t\"hospitalizationsever\": \"164,905\",\\r\\n\\r\\n\\r\\n\\t\\t\\t\"date\": \"12/23\",\\r\\n\\t\\t\\t\"info\": \"through 12:00pm 12/22/2022\",\\r\\n\\r\\n\\t\\t\\t\"testingaverage\": \"28,859\",\\r\\n\\r\\n\\t\\t\\t\"peopletested\": \"12,805,439\",\\r\\n\\r\\n\\t\\t\\t\"positivity\": \"10.22%\",\\r\\n\\r\\n\\t\\t\\t\"hospitalizations\": \"1,201\",\\r\\n\\t\\t\\t\"datehospitalizations\": \"12/22\"\\r\\n\\r\\n\\t\\t\\t\\t}       \\r\\n\\t\\t\\t\\t};\\t\\r\\n\\t\\t\\t\\t\\r\\n\\t\\t\\t\\t\\r\\n\\t\\t\\t\\tvar content = data.content;\\r\\n\\t\\t\\t\\t\\r\\n\\t\\t\\t\\t$(\\'#ctn\\').html(content.count);\\r\\n\\t\\t\\t\\t$(\\'#det\\').html(content.death);\\r\\n\\t\\t\\t\\t$(\\'#dctn\\').html(content.dailycount);\\r\\n\\t\\t\\t\\t$(\\'#ddet\\').html(content.dailydeath);\\r\\n\\t\\t\\t\\t$(\\'#hosp_1\\').html(content.hospitalizationsever);\\r\\n\\t\\t\\t\\t$(\\'#dte\\').html(content.date);\\r\\n\\t\\t\\t\\t$(\\'#dte_1\\').html(content.date);\\r\\n\\t\\t\\t\\t$(\\'#dte_2\\').html(content.date);\\r\\n\\t\\t\\t\\t$(\\'#dte_3\\').html(content.datehospitalizations);\\r\\n\\t\\t\\t\\t$(\\'#cse\\').html(content.info);\\t\\r\\n\\t\\t\\t\\r\\n\\t\\t\\t\\t\\r\\n\\t\\t\\t\\t$(\\'#tstavg\\').html(content.testingaverage);\\t\\r\\n\\t\\t\\t\\t$(\\'#ppltst\\').html(content.peopletested);\\t\\r\\n\\t\\t\\t\\t$(\\'#pos\\').html(content.positivity);\\t\\r\\n\\t\\t\\t\\t$(\\'#hosp\\').html(content.hospitalizations);\\r\\n\\t\\t\\t\\r\\n\\t\\t\\t\\t\\t\\t\\t\\r\\n\\r\\n\\r\\n});\\r\\n\\r\\n\\r\\n\\r\\n'"
      ]
     },
     "execution_count": 20,
     "metadata": {},
     "output_type": "execute_result"
    }
   ],
   "source": [
    "date_page"
   ]
  },
  {
   "cell_type": "code",
   "execution_count": 21,
   "metadata": {
    "execution": {
     "iopub.execute_input": "2022-12-28T00:26:28.550554Z",
     "iopub.status.busy": "2022-12-28T00:26:28.550115Z",
     "iopub.status.idle": "2022-12-28T00:26:28.553484Z",
     "shell.execute_reply": "2022-12-28T00:26:28.552669Z"
    }
   },
   "outputs": [],
   "source": [
    "# date_text = re.search(r\"([0-9][0-9]/[0-9][0-9])\", date_page).group(1)\n",
    "# date_text = date_text + \"/\" + str(date.today().year)"
   ]
  },
  {
   "cell_type": "code",
   "execution_count": 22,
   "metadata": {
    "execution": {
     "iopub.execute_input": "2022-12-28T00:26:28.557482Z",
     "iopub.status.busy": "2022-12-28T00:26:28.556749Z",
     "iopub.status.idle": "2022-12-28T00:26:28.561707Z",
     "shell.execute_reply": "2022-12-28T00:26:28.561281Z"
    }
   },
   "outputs": [],
   "source": [
    "date_text = re.search(r\"through (.+?)\\\"\", date_page).group(1)"
   ]
  },
  {
   "cell_type": "code",
   "execution_count": 23,
   "metadata": {
    "execution": {
     "iopub.execute_input": "2022-12-28T00:26:28.566147Z",
     "iopub.status.busy": "2022-12-28T00:26:28.565703Z",
     "iopub.status.idle": "2022-12-28T00:26:28.568710Z",
     "shell.execute_reply": "2022-12-28T00:26:28.568324Z"
    }
   },
   "outputs": [],
   "source": [
    "date_text = date_text.split(\"m \")[0]"
   ]
  },
  {
   "cell_type": "code",
   "execution_count": 24,
   "metadata": {
    "execution": {
     "iopub.execute_input": "2022-12-28T00:26:28.572477Z",
     "iopub.status.busy": "2022-12-28T00:26:28.572046Z",
     "iopub.status.idle": "2022-12-28T00:26:28.575087Z",
     "shell.execute_reply": "2022-12-28T00:26:28.574705Z"
    }
   },
   "outputs": [],
   "source": [
    "latest_date = pd.to_datetime(date_text).date()"
   ]
  },
  {
   "cell_type": "code",
   "execution_count": 25,
   "metadata": {
    "execution": {
     "iopub.execute_input": "2022-12-28T00:26:28.580219Z",
     "iopub.status.busy": "2022-12-28T00:26:28.579782Z",
     "iopub.status.idle": "2022-12-28T00:26:28.582103Z",
     "shell.execute_reply": "2022-12-28T00:26:28.581401Z"
    }
   },
   "outputs": [],
   "source": [
    "df[\"county_date\"] = latest_date"
   ]
  },
  {
   "cell_type": "code",
   "execution_count": 26,
   "metadata": {
    "execution": {
     "iopub.execute_input": "2022-12-28T00:26:28.588662Z",
     "iopub.status.busy": "2022-12-28T00:26:28.587987Z",
     "iopub.status.idle": "2022-12-28T00:26:28.591341Z",
     "shell.execute_reply": "2022-12-28T00:26:28.591710Z"
    }
   },
   "outputs": [],
   "source": [
    "df.loc[df.area == \"-  Under Investigation\", \"area\"] = \"Under Investigation\""
   ]
  },
  {
   "cell_type": "code",
   "execution_count": 27,
   "metadata": {
    "execution": {
     "iopub.execute_input": "2022-12-28T00:26:28.597229Z",
     "iopub.status.busy": "2022-12-28T00:26:28.596541Z",
     "iopub.status.idle": "2022-12-28T00:26:28.599876Z",
     "shell.execute_reply": "2022-12-28T00:26:28.600216Z"
    }
   },
   "outputs": [],
   "source": [
    "df.loc[df.area == \"- Under Investigation\", \"area\"] = \"Under Investigation\""
   ]
  },
  {
   "cell_type": "markdown",
   "metadata": {},
   "source": [
    "## Vet"
   ]
  },
  {
   "cell_type": "code",
   "execution_count": 28,
   "metadata": {
    "execution": {
     "iopub.execute_input": "2022-12-28T00:26:28.603561Z",
     "iopub.status.busy": "2022-12-28T00:26:28.603132Z",
     "iopub.status.idle": "2022-12-28T00:26:28.608279Z",
     "shell.execute_reply": "2022-12-28T00:26:28.607916Z"
    }
   },
   "outputs": [
    {
     "data": {
      "text/plain": [
       "341"
      ]
     },
     "execution_count": 28,
     "metadata": {},
     "output_type": "execute_result"
    }
   ],
   "source": [
    "len(df)"
   ]
  },
  {
   "cell_type": "code",
   "execution_count": 29,
   "metadata": {
    "execution": {
     "iopub.execute_input": "2022-12-28T00:26:28.613239Z",
     "iopub.status.busy": "2022-12-28T00:26:28.611678Z",
     "iopub.status.idle": "2022-12-28T00:26:28.615873Z",
     "shell.execute_reply": "2022-12-28T00:26:28.615483Z"
    }
   },
   "outputs": [],
   "source": [
    "try:\n",
    "    assert not len(df) > 342\n",
    "except AssertionError:\n",
    "    raise AssertionError(\"L.A. County's scraper has extra rows\")"
   ]
  },
  {
   "cell_type": "raw",
   "metadata": {},
   "source": [
    "older = pd.read_csv(\"data/los-angeles/2022-12-06.csv\")"
   ]
  },
  {
   "cell_type": "raw",
   "metadata": {},
   "source": [
    "list(set(older.area.tolist()).difference(df.area.tolist()))"
   ]
  },
  {
   "cell_type": "raw",
   "metadata": {},
   "source": [
    "older[older.area == \"Unincorporated - Rosewood\"]"
   ]
  },
  {
   "cell_type": "code",
   "execution_count": 30,
   "metadata": {
    "execution": {
     "iopub.execute_input": "2022-12-28T00:26:28.620881Z",
     "iopub.status.busy": "2022-12-28T00:26:28.620067Z",
     "iopub.status.idle": "2022-12-28T00:26:28.744167Z",
     "shell.execute_reply": "2022-12-28T00:26:28.742681Z"
    }
   },
   "outputs": [
    {
     "ename": "AssertionError",
     "evalue": "L.A. County's scraper is missing rows",
     "output_type": "error",
     "traceback": [
      "\u001b[0;31m---------------------------------------------------------------------------\u001b[0m",
      "\u001b[0;31mAssertionError\u001b[0m                            Traceback (most recent call last)",
      "\u001b[0;32m/tmp/ipykernel_2256/2999864733.py\u001b[0m in \u001b[0;36m<module>\u001b[0;34m\u001b[0m\n\u001b[1;32m      1\u001b[0m \u001b[0;32mtry\u001b[0m\u001b[0;34m:\u001b[0m\u001b[0;34m\u001b[0m\u001b[0;34m\u001b[0m\u001b[0m\n\u001b[0;32m----> 2\u001b[0;31m     \u001b[0;32massert\u001b[0m \u001b[0;32mnot\u001b[0m \u001b[0mlen\u001b[0m\u001b[0;34m(\u001b[0m\u001b[0mdf\u001b[0m\u001b[0;34m)\u001b[0m \u001b[0;34m<\u001b[0m \u001b[0;36m342\u001b[0m\u001b[0;34m\u001b[0m\u001b[0;34m\u001b[0m\u001b[0m\n\u001b[0m\u001b[1;32m      3\u001b[0m \u001b[0;32mexcept\u001b[0m \u001b[0mAssertionError\u001b[0m\u001b[0;34m:\u001b[0m\u001b[0;34m\u001b[0m\u001b[0;34m\u001b[0m\u001b[0m\n",
      "\u001b[0;31mAssertionError\u001b[0m: ",
      "\nDuring handling of the above exception, another exception occurred:\n",
      "\u001b[0;31mAssertionError\u001b[0m                            Traceback (most recent call last)",
      "\u001b[0;32m/tmp/ipykernel_2256/2999864733.py\u001b[0m in \u001b[0;36m<module>\u001b[0;34m\u001b[0m\n\u001b[1;32m      2\u001b[0m     \u001b[0;32massert\u001b[0m \u001b[0;32mnot\u001b[0m \u001b[0mlen\u001b[0m\u001b[0;34m(\u001b[0m\u001b[0mdf\u001b[0m\u001b[0;34m)\u001b[0m \u001b[0;34m<\u001b[0m \u001b[0;36m342\u001b[0m\u001b[0;34m\u001b[0m\u001b[0;34m\u001b[0m\u001b[0m\n\u001b[1;32m      3\u001b[0m \u001b[0;32mexcept\u001b[0m \u001b[0mAssertionError\u001b[0m\u001b[0;34m:\u001b[0m\u001b[0;34m\u001b[0m\u001b[0;34m\u001b[0m\u001b[0m\n\u001b[0;32m----> 4\u001b[0;31m     \u001b[0;32mraise\u001b[0m \u001b[0mAssertionError\u001b[0m\u001b[0;34m(\u001b[0m\u001b[0;34m\"L.A. County's scraper is missing rows\"\u001b[0m\u001b[0;34m)\u001b[0m\u001b[0;34m\u001b[0m\u001b[0;34m\u001b[0m\u001b[0m\n\u001b[0m",
      "\u001b[0;31mAssertionError\u001b[0m: L.A. County's scraper is missing rows"
     ]
    }
   ],
   "source": [
    "try:\n",
    "    assert not len(df) < 342\n",
    "except AssertionError:\n",
    "    raise AssertionError(\"L.A. County's scraper is missing rows\")"
   ]
  },
  {
   "cell_type": "markdown",
   "metadata": {},
   "source": [
    "## Export"
   ]
  },
  {
   "cell_type": "markdown",
   "metadata": {},
   "source": [
    "Set the date"
   ]
  },
  {
   "cell_type": "code",
   "execution_count": 33,
   "metadata": {},
   "outputs": [],
   "source": [
    "tz = pytz.timezone(\"America/Los_Angeles\")"
   ]
  },
  {
   "cell_type": "code",
   "execution_count": 34,
   "metadata": {},
   "outputs": [],
   "source": [
    "today = datetime.now(tz).date()"
   ]
  },
  {
   "cell_type": "code",
   "execution_count": 35,
   "metadata": {},
   "outputs": [],
   "source": [
    "slug = \"los-angeles\""
   ]
  },
  {
   "cell_type": "code",
   "execution_count": 36,
   "metadata": {},
   "outputs": [],
   "source": [
    "df.to_csv(data_dir / slug / f\"{today}.csv\", index=False)"
   ]
  },
  {
   "cell_type": "markdown",
   "metadata": {},
   "source": [
    "## Combine"
   ]
  },
  {
   "cell_type": "code",
   "execution_count": 37,
   "metadata": {},
   "outputs": [],
   "source": [
    "csv_list = [\n",
    "    i\n",
    "    for i in glob.glob(str(data_dir / slug / \"*.csv\"))\n",
    "    if not str(i).endswith(\"timeseries.csv\")\n",
    "]"
   ]
  },
  {
   "cell_type": "code",
   "execution_count": 38,
   "metadata": {},
   "outputs": [],
   "source": [
    "df_list = []\n",
    "for csv in csv_list:\n",
    "    if \"manual\" in csv:\n",
    "        df = pd.read_csv(csv, parse_dates=[\"date\"])\n",
    "    else:\n",
    "        file_date = csv.split(\"/\")[-1].replace(\".csv\", \"\")\n",
    "        df = pd.read_csv(csv, parse_dates=[\"county_date\"])\n",
    "        df[\"date\"] = file_date\n",
    "    df_list.append(df)"
   ]
  },
  {
   "cell_type": "code",
   "execution_count": 39,
   "metadata": {},
   "outputs": [],
   "source": [
    "df = pd.concat(df_list).sort_values([\"date\", \"area\"])"
   ]
  },
  {
   "cell_type": "code",
   "execution_count": 40,
   "metadata": {},
   "outputs": [],
   "source": [
    "df.to_csv(data_dir / slug / \"timeseries.csv\", index=False)"
   ]
  },
  {
   "cell_type": "code",
   "execution_count": null,
   "metadata": {},
   "outputs": [],
   "source": []
  },
  {
   "cell_type": "code",
   "execution_count": null,
   "metadata": {},
   "outputs": [],
   "source": []
  }
 ],
 "metadata": {
  "kernelspec": {
   "display_name": "Python 3 (ipykernel)",
   "language": "python",
   "name": "python3"
  },
  "language_info": {
   "codemirror_mode": {
    "name": "ipython",
    "version": 3
   },
   "file_extension": ".py",
   "mimetype": "text/x-python",
   "name": "python",
   "nbconvert_exporter": "python",
   "pygments_lexer": "ipython3",
   "version": "3.8.15"
  }
 },
 "nbformat": 4,
 "nbformat_minor": 4
}
