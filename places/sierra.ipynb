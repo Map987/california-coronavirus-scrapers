{
 "cells": [
  {
   "cell_type": "code",
   "execution_count": 3,
   "id": "f0e99cc4-28cd-4b53-b0e7-a825c05a1f37",
   "metadata": {
    "tags": []
   },
   "outputs": [],
   "source": [
    "%load_ext lab_black"
   ]
  },
  {
   "cell_type": "code",
   "execution_count": 4,
   "id": "113b7c8f-32a2-4f05-ab8d-58f5d95e5bc2",
   "metadata": {
    "tags": []
   },
   "outputs": [],
   "source": [
    "import os\n",
    "import pytz\n",
    "import pathlib\n",
    "import requests\n",
    "from datetime import datetime\n",
    "from bs4 import BeautifulSoup\n",
    "\n",
    "this_dir = pathlib.Path(os.path.abspath(\"\"))\n",
    "data_dir = this_dir / \"data\""
   ]
  },
  {
   "cell_type": "code",
   "execution_count": 5,
   "id": "270f01af-e935-4404-b0b9-57dc45bbcbf0",
   "metadata": {
    "tags": []
   },
   "outputs": [],
   "source": [
    "r = requests.get(\"http://sierracounty.ca.gov/628/Sierra-County-Cases\")"
   ]
  },
  {
   "cell_type": "code",
   "execution_count": 6,
   "id": "55ee7906-38f0-4bf5-9798-648d449e7cf5",
   "metadata": {
    "tags": []
   },
   "outputs": [],
   "source": [
    "soup = BeautifulSoup(r.text)"
   ]
  },
  {
   "cell_type": "code",
   "execution_count": 8,
   "id": "a5f49089-1cfb-4b6e-9e18-8c6cbaa4ac0a",
   "metadata": {},
   "outputs": [],
   "source": [
    "table = soup.find(\"table\")"
   ]
  },
  {
   "cell_type": "code",
   "execution_count": 9,
   "id": "d196efb2-a72a-41de-9e26-c07f93a04b86",
   "metadata": {},
   "outputs": [
    {
     "data": {
      "text/plain": [
       "<table>\n",
       "<thead>\n",
       "<tr>\n",
       "<th id=\"t8db972bb-69c0-43da-98e4-f947c90ead08c1\" scope=\"col\">Total Cases as of 9/21/2021 1:00 pm</th>\n",
       "<th id=\"t8db972bb-69c0-43da-98e4-f947c90ead08c2\" scope=\"col\">220</th>\n",
       "</tr>\n",
       "</thead>\n",
       "<tbody>\n",
       "<tr class=\"textContent\">\n",
       "<td data-th=\"Total Cases as of 9/21/2021 1:00 pm\" headers=\"t8db972bb-69c0-43da-98e4-f947c90ead08c1\"><strong>Active Cases</strong></td>\n",
       "<td data-th=\"220\" headers=\"t8db972bb-69c0-43da-98e4-f947c90ead08c2\"><strong>3</strong></td>\n",
       "</tr>\n",
       "<tr class=\"alt textContent\">\n",
       "<td data-th=\"Total Cases as of 9/21/2021 1:00 pm\" headers=\"t8db972bb-69c0-43da-98e4-f947c90ead08c1\">Recovered Cases</td>\n",
       "<td data-th=\"220\" headers=\"t8db972bb-69c0-43da-98e4-f947c90ead08c2\">216</td>\n",
       "</tr>\n",
       "<tr class=\"textContent\">\n",
       "<td data-th=\"Total Cases as of 9/21/2021 1:00 pm\" headers=\"t8db972bb-69c0-43da-98e4-f947c90ead08c1\">Located on the <strong><em>East Side</em></strong> of the County</td>\n",
       "<td data-th=\"220\" headers=\"t8db972bb-69c0-43da-98e4-f947c90ead08c2\">167</td>\n",
       "</tr>\n",
       "<tr class=\"alt textContent\">\n",
       "<td data-th=\"Total Cases as of 9/21/2021 1:00 pm\" headers=\"t8db972bb-69c0-43da-98e4-f947c90ead08c1\">Located on the <em><strong>West Side</strong> </em>of the County</td>\n",
       "<td data-th=\"220\" headers=\"t8db972bb-69c0-43da-98e4-f947c90ead08c2\">53</td>\n",
       "</tr>\n",
       "<tr class=\"textContent\">\n",
       "<td data-th=\"Total Cases as of 9/21/2021 1:00 pm\" headers=\"t8db972bb-69c0-43da-98e4-f947c90ead08c1\">Currently Hospitalized</td>\n",
       "<td data-th=\"220\" headers=\"t8db972bb-69c0-43da-98e4-f947c90ead08c2\">2</td>\n",
       "</tr>\n",
       "<tr class=\"alt textContent\">\n",
       "<td data-th=\"Total Cases as of 9/21/2021 1:00 pm\" headers=\"t8db972bb-69c0-43da-98e4-f947c90ead08c1\">Deaths</td>\n",
       "<td data-th=\"220\" headers=\"t8db972bb-69c0-43da-98e4-f947c90ead08c2\">1</td>\n",
       "</tr>\n",
       "</tbody>\n",
       "</table>"
      ]
     },
     "execution_count": 9,
     "metadata": {},
     "output_type": "execute_result"
    }
   ],
   "source": [
    "table"
   ]
  },
  {
   "cell_type": "code",
   "execution_count": null,
   "id": "e9869c8a-b0ba-4040-894a-f728e5ae2671",
   "metadata": {},
   "outputs": [],
   "source": []
  },
  {
   "cell_type": "code",
   "execution_count": null,
   "id": "feb87d84-3ca8-42c2-b4fe-5af3c06bfa86",
   "metadata": {},
   "outputs": [],
   "source": []
  },
  {
   "cell_type": "code",
   "execution_count": 5,
   "id": "7929320b-c5ba-4568-b703-e75c7eae0474",
   "metadata": {
    "execution": {
     "iopub.execute_input": "2021-09-20T16:22:55.457557Z",
     "iopub.status.busy": "2021-09-20T16:22:55.457063Z",
     "iopub.status.idle": "2021-09-20T16:22:55.541074Z",
     "shell.execute_reply": "2021-09-20T16:22:55.540557Z"
    }
   },
   "outputs": [
    {
     "ename": "StopIteration",
     "evalue": "",
     "output_type": "error",
     "traceback": [
      "\u001b[0;31m---------------------------------------------------------------------------\u001b[0m",
      "\u001b[0;31mStopIteration\u001b[0m                             Traceback (most recent call last)",
      "\u001b[0;32m/tmp/ipykernel_3544/2368720972.py\u001b[0m in \u001b[0;36m<module>\u001b[0;34m\u001b[0m\n\u001b[0;32m----> 1\u001b[0;31m \u001b[0mimg\u001b[0m \u001b[0;34m=\u001b[0m \u001b[0mnext\u001b[0m\u001b[0;34m(\u001b[0m\u001b[0ms\u001b[0m \u001b[0;32mfor\u001b[0m \u001b[0ms\u001b[0m \u001b[0;32min\u001b[0m \u001b[0msoup\u001b[0m\u001b[0;34m.\u001b[0m\u001b[0mfind_all\u001b[0m\u001b[0;34m(\u001b[0m\u001b[0;34m\"img\"\u001b[0m\u001b[0;34m)\u001b[0m \u001b[0;32mif\u001b[0m \u001b[0;34m\"Case Map\"\u001b[0m \u001b[0;32min\u001b[0m \u001b[0ms\u001b[0m\u001b[0;34m.\u001b[0m\u001b[0mattrs\u001b[0m\u001b[0;34m.\u001b[0m\u001b[0mget\u001b[0m\u001b[0;34m(\u001b[0m\u001b[0;34m\"alt\"\u001b[0m\u001b[0;34m,\u001b[0m \u001b[0;34m\"\"\u001b[0m\u001b[0;34m)\u001b[0m\u001b[0;34m)\u001b[0m\u001b[0;34m\u001b[0m\u001b[0;34m\u001b[0m\u001b[0m\n\u001b[0m",
      "\u001b[0;31mStopIteration\u001b[0m: "
     ]
    }
   ],
   "source": [
    "img = next(s for s in soup.find_all(\"img\") if \"Case Map\" in s.attrs.get(\"alt\", \"\"))"
   ]
  },
  {
   "cell_type": "code",
   "execution_count": 8,
   "id": "10dc1f1c-3134-4998-a1a7-e2e4314bc049",
   "metadata": {},
   "outputs": [],
   "source": [
    "url = \"http://sierracounty.ca.gov/\" + img[\"src\"]"
   ]
  },
  {
   "cell_type": "code",
   "execution_count": 9,
   "id": "d61b3690-589e-41d3-acd3-3297b84cbd4e",
   "metadata": {},
   "outputs": [],
   "source": [
    "tz = pytz.timezone(\"America/Los_Angeles\")"
   ]
  },
  {
   "cell_type": "code",
   "execution_count": 10,
   "id": "86456990-cc8d-4a03-8f7b-5821767e6053",
   "metadata": {},
   "outputs": [],
   "source": [
    "today = datetime.now(tz).date()"
   ]
  },
  {
   "cell_type": "code",
   "execution_count": 11,
   "id": "37376848-fdd8-4e05-9c7b-9c7f97ab1c22",
   "metadata": {},
   "outputs": [],
   "source": [
    "with open(data_dir / \"sierra\" / f\"{today}.png\", \"wb\") as handler:\n",
    "    handler.write(requests.get(url).content)"
   ]
  }
 ],
 "metadata": {
  "kernelspec": {
   "display_name": "Python 3 (ipykernel)",
   "language": "python",
   "name": "python3"
  },
  "language_info": {
   "codemirror_mode": {
    "name": "ipython",
    "version": 3
   },
   "file_extension": ".py",
   "mimetype": "text/x-python",
   "name": "python",
   "nbconvert_exporter": "python",
   "pygments_lexer": "ipython3",
   "version": "3.8.11"
  }
 },
 "nbformat": 4,
 "nbformat_minor": 5
}
