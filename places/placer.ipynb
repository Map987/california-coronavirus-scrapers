{
 "cells": [
  {
   "cell_type": "markdown",
   "metadata": {},
   "source": [
    "## Configuration\n",
    "_Initial steps to get the notebook ready to play nice with our repository. Do not delete this section._"
   ]
  },
  {
   "cell_type": "markdown",
   "metadata": {},
   "source": [
    "Code formatting with [black](https://pypi.org/project/nb-black/)."
   ]
  },
  {
   "cell_type": "code",
   "execution_count": 1,
   "metadata": {},
   "outputs": [],
   "source": [
    "%load_ext lab_black"
   ]
  },
  {
   "cell_type": "code",
   "execution_count": 2,
   "metadata": {},
   "outputs": [],
   "source": [
    "import os\n",
    "import pytz\n",
    "import glob\n",
    "import pathlib\n",
    "\n",
    "this_dir = pathlib.Path(os.path.abspath(\"\"))\n",
    "data_dir = this_dir / \"data\""
   ]
  },
  {
   "cell_type": "code",
   "execution_count": 3,
   "metadata": {},
   "outputs": [
    {
     "name": "stderr",
     "output_type": "stream",
     "text": [
      "/Users/slee/.local/share/virtualenvs/california-coronavirus-scrapers-QTClc1WQ/lib/python3.8/site-packages/pandas/compat/__init__.py:124: UserWarning: Could not import the lzma module. Your installed Python is incomplete. Attempting to use lzma compression will result in a RuntimeError.\n",
      "  warnings.warn(msg)\n"
     ]
    }
   ],
   "source": [
    "import requests\n",
    "import pandas as pd\n",
    "from bs4 import BeautifulSoup\n",
    "import re\n",
    "import json\n",
    "from datetime import datetime"
   ]
  },
  {
   "cell_type": "markdown",
   "metadata": {},
   "source": [
    "## Download"
   ]
  },
  {
   "cell_type": "markdown",
   "metadata": {},
   "source": [
    "Retrieve the page"
   ]
  },
  {
   "cell_type": "code",
   "execution_count": 4,
   "metadata": {},
   "outputs": [],
   "source": [
    "\n",
    "#url = \"https://www.placer.ca.gov/DocumentCenter/View/46267/dashboard\""
   ]
  },
  {
   "cell_type": "code",
   "execution_count": 6,
   "metadata": {},
   "outputs": [],
   "source": [
    "url = \"https://itwebservices.placer.ca.gov/coviddashboard\""
   ]
  },
  {
   "cell_type": "code",
   "execution_count": 7,
   "metadata": {},
   "outputs": [],
   "source": [
    "page = requests.get(url)"
   ]
  },
  {
   "cell_type": "markdown",
   "metadata": {},
   "source": [
    "## Parse"
   ]
  },
  {
   "cell_type": "code",
   "execution_count": 8,
   "metadata": {},
   "outputs": [],
   "source": [
    "soup = BeautifulSoup(page.content, \"html.parser\")"
   ]
  },
  {
   "cell_type": "markdown",
   "metadata": {},
   "source": [
    "Find script tag with the Infogram data"
   ]
  },
  {
   "cell_type": "code",
   "execution_count": 10,
   "metadata": {},
   "outputs": [],
   "source": [
    "for elem in soup(text=re.compile(r\"Foresthill\")):\n",
    "    script_content = elem"
   ]
  },
  {
   "cell_type": "code",
   "execution_count": 11,
   "metadata": {},
   "outputs": [],
   "source": [
    "data = json.loads(script_content)"
   ]
  },
  {
   "cell_type": "code",
   "execution_count": 12,
   "metadata": {},
   "outputs": [],
   "source": [
    "zip_cities_list = data[\"x\"][\"calls\"][1][\"args\"][-3]"
   ]
  },
  {
   "cell_type": "code",
   "execution_count": 15,
   "metadata": {},
   "outputs": [],
   "source": [
    "dict_list = []"
   ]
  },
  {
   "cell_type": "code",
   "execution_count": 16,
   "metadata": {},
   "outputs": [],
   "source": [
    "TAG_RE = re.compile(r\"<[^>]+>\")"
   ]
  },
  {
   "cell_type": "code",
   "execution_count": 17,
   "metadata": {},
   "outputs": [],
   "source": [
    "for z in zip_cities_list:\n",
    "    split_zips = z.split(\"<br/>\")\n",
    "    area = TAG_RE.sub(\"\", str(split_zips[0]))\n",
    "    zip_code, city = area.split(\" - \")\n",
    "    clean_cases = re.sub(\"Number of cases: \".lower(), \"\", str(split_zips[1]).lower())\n",
    "    d = dict(area=area, city=city, zip_code=zip_code, confirmed_cases=clean_cases)\n",
    "    dict_list.append(d)"
   ]
  },
  {
   "cell_type": "code",
   "execution_count": 18,
   "metadata": {},
   "outputs": [],
   "source": [
    "df = pd.DataFrame(dict_list)"
   ]
  },
  {
   "cell_type": "markdown",
   "metadata": {},
   "source": [
    "Get timestamp"
   ]
  },
  {
   "cell_type": "code",
   "execution_count": 20,
   "metadata": {},
   "outputs": [],
   "source": [
    "time_div = soup.find(\"div\", id=\"dashboard-data-last-updated\")"
   ]
  },
  {
   "cell_type": "code",
   "execution_count": 21,
   "metadata": {},
   "outputs": [],
   "source": [
    "timestamp = time_div.find(\"span\", class_=\"value-output\").get_text()"
   ]
  },
  {
   "cell_type": "code",
   "execution_count": 22,
   "metadata": {},
   "outputs": [],
   "source": [
    "latest_date = pd.to_datetime(timestamp).date()"
   ]
  },
  {
   "cell_type": "code",
   "execution_count": 23,
   "metadata": {},
   "outputs": [],
   "source": [
    "df[\"county_date\"] = latest_date"
   ]
  },
  {
   "cell_type": "code",
   "execution_count": 24,
   "metadata": {},
   "outputs": [],
   "source": [
    "df.insert(0, \"county\", \"Placer\")"
   ]
  },
  {
   "cell_type": "markdown",
   "metadata": {},
   "source": [
    "Clean up"
   ]
  },
  {
   "cell_type": "code",
   "execution_count": 25,
   "metadata": {},
   "outputs": [],
   "source": [
    "df[\"area\"] = df[\"area\"].str.replace(\" - \", \": \")"
   ]
  },
  {
   "cell_type": "code",
   "execution_count": 26,
   "metadata": {},
   "outputs": [],
   "source": [
    "df = df[[\"county\", \"area\", \"confirmed_cases\", \"county_date\", \"zip_code\"]].rename(\n",
    "    columns={\"zip_code\": \"zip\"}\n",
    ")"
   ]
  },
  {
   "cell_type": "markdown",
   "metadata": {},
   "source": [
    "## Vet"
   ]
  },
  {
   "cell_type": "code",
   "execution_count": 27,
   "metadata": {},
   "outputs": [],
   "source": [
    "try:\n",
    "    assert not len(df) < 32\n",
    "except AssertionError:\n",
    "    raise AssertionError(\"Placer County's scraper is missing rows\")"
   ]
  },
  {
   "cell_type": "code",
   "execution_count": 28,
   "metadata": {},
   "outputs": [],
   "source": [
    "try:\n",
    "    assert not len(df) > 32\n",
    "except AssertionError:\n",
    "    raise AssertionError(\"Placer County's scraper has more rows than before\")"
   ]
  },
  {
   "cell_type": "markdown",
   "metadata": {},
   "source": [
    "## Export"
   ]
  },
  {
   "cell_type": "markdown",
   "metadata": {},
   "source": [
    "Set date"
   ]
  },
  {
   "cell_type": "code",
   "execution_count": 29,
   "metadata": {},
   "outputs": [],
   "source": [
    "tz = pytz.timezone(\"America/Los_Angeles\")"
   ]
  },
  {
   "cell_type": "code",
   "execution_count": 30,
   "metadata": {},
   "outputs": [],
   "source": [
    "today = datetime.now(tz).date()"
   ]
  },
  {
   "cell_type": "code",
   "execution_count": 31,
   "metadata": {},
   "outputs": [],
   "source": [
    "slug = \"placer\""
   ]
  },
  {
   "cell_type": "code",
   "execution_count": 33,
   "metadata": {},
   "outputs": [
    {
     "data": {
      "text/html": [
       "<div>\n",
       "<style scoped>\n",
       "    .dataframe tbody tr th:only-of-type {\n",
       "        vertical-align: middle;\n",
       "    }\n",
       "\n",
       "    .dataframe tbody tr th {\n",
       "        vertical-align: top;\n",
       "    }\n",
       "\n",
       "    .dataframe thead th {\n",
       "        text-align: right;\n",
       "    }\n",
       "</style>\n",
       "<table border=\"1\" class=\"dataframe\">\n",
       "  <thead>\n",
       "    <tr style=\"text-align: right;\">\n",
       "      <th></th>\n",
       "      <th>county</th>\n",
       "      <th>area</th>\n",
       "      <th>confirmed_cases</th>\n",
       "      <th>county_date</th>\n",
       "      <th>zip</th>\n",
       "    </tr>\n",
       "  </thead>\n",
       "  <tbody>\n",
       "    <tr>\n",
       "      <th>0</th>\n",
       "      <td>Placer</td>\n",
       "      <td>96162: Truckee</td>\n",
       "      <td>&lt;6</td>\n",
       "      <td>2021-12-22</td>\n",
       "      <td>96162</td>\n",
       "    </tr>\n",
       "    <tr>\n",
       "      <th>1</th>\n",
       "      <td>Placer</td>\n",
       "      <td>95658: Newcastle</td>\n",
       "      <td>571</td>\n",
       "      <td>2021-12-22</td>\n",
       "      <td>95658</td>\n",
       "    </tr>\n",
       "    <tr>\n",
       "      <th>2</th>\n",
       "      <td>Placer</td>\n",
       "      <td>95714: Dutch Flat</td>\n",
       "      <td>25</td>\n",
       "      <td>2021-12-22</td>\n",
       "      <td>95714</td>\n",
       "    </tr>\n",
       "    <tr>\n",
       "      <th>3</th>\n",
       "      <td>Placer</td>\n",
       "      <td>95715: Emigrant Gap</td>\n",
       "      <td>13</td>\n",
       "      <td>2021-12-22</td>\n",
       "      <td>95715</td>\n",
       "    </tr>\n",
       "    <tr>\n",
       "      <th>4</th>\n",
       "      <td>Placer</td>\n",
       "      <td>96148: Tahoe Vista</td>\n",
       "      <td>111</td>\n",
       "      <td>2021-12-22</td>\n",
       "      <td>96148</td>\n",
       "    </tr>\n",
       "    <tr>\n",
       "      <th>5</th>\n",
       "      <td>Placer</td>\n",
       "      <td>95661: Roseville</td>\n",
       "      <td>3686</td>\n",
       "      <td>2021-12-22</td>\n",
       "      <td>95661</td>\n",
       "    </tr>\n",
       "    <tr>\n",
       "      <th>6</th>\n",
       "      <td>Placer</td>\n",
       "      <td>96161: Truckee</td>\n",
       "      <td>178</td>\n",
       "      <td>2021-12-22</td>\n",
       "      <td>96161</td>\n",
       "    </tr>\n",
       "    <tr>\n",
       "      <th>7</th>\n",
       "      <td>Placer</td>\n",
       "      <td>95650: Loomis</td>\n",
       "      <td>1290</td>\n",
       "      <td>2021-12-22</td>\n",
       "      <td>95650</td>\n",
       "    </tr>\n",
       "    <tr>\n",
       "      <th>8</th>\n",
       "      <td>Placer</td>\n",
       "      <td>96146: Olympic Valley</td>\n",
       "      <td>135</td>\n",
       "      <td>2021-12-22</td>\n",
       "      <td>96146</td>\n",
       "    </tr>\n",
       "    <tr>\n",
       "      <th>9</th>\n",
       "      <td>Placer</td>\n",
       "      <td>95678: Roseville</td>\n",
       "      <td>4975</td>\n",
       "      <td>2021-12-22</td>\n",
       "      <td>95678</td>\n",
       "    </tr>\n",
       "    <tr>\n",
       "      <th>10</th>\n",
       "      <td>Placer</td>\n",
       "      <td>95603: Auburn</td>\n",
       "      <td>2822</td>\n",
       "      <td>2021-12-22</td>\n",
       "      <td>95603</td>\n",
       "    </tr>\n",
       "    <tr>\n",
       "      <th>11</th>\n",
       "      <td>Placer</td>\n",
       "      <td>95724: Norden</td>\n",
       "      <td>6</td>\n",
       "      <td>2021-12-22</td>\n",
       "      <td>95724</td>\n",
       "    </tr>\n",
       "    <tr>\n",
       "      <th>12</th>\n",
       "      <td>Placer</td>\n",
       "      <td>95602: Auburn</td>\n",
       "      <td>1360</td>\n",
       "      <td>2021-12-22</td>\n",
       "      <td>95602</td>\n",
       "    </tr>\n",
       "    <tr>\n",
       "      <th>13</th>\n",
       "      <td>Placer</td>\n",
       "      <td>95631: Foresthill</td>\n",
       "      <td>435</td>\n",
       "      <td>2021-12-22</td>\n",
       "      <td>95631</td>\n",
       "    </tr>\n",
       "    <tr>\n",
       "      <th>14</th>\n",
       "      <td>Placer</td>\n",
       "      <td>95677: Rocklin</td>\n",
       "      <td>2878</td>\n",
       "      <td>2021-12-22</td>\n",
       "      <td>95677</td>\n",
       "    </tr>\n",
       "    <tr>\n",
       "      <th>15</th>\n",
       "      <td>Placer</td>\n",
       "      <td>95722: Meadow Vista</td>\n",
       "      <td>400</td>\n",
       "      <td>2021-12-22</td>\n",
       "      <td>95722</td>\n",
       "    </tr>\n",
       "    <tr>\n",
       "      <th>16</th>\n",
       "      <td>Placer</td>\n",
       "      <td>95717: Gold Run</td>\n",
       "      <td>&lt;6</td>\n",
       "      <td>2021-12-22</td>\n",
       "      <td>95717</td>\n",
       "    </tr>\n",
       "    <tr>\n",
       "      <th>17</th>\n",
       "      <td>Placer</td>\n",
       "      <td>95746: Granite Bay</td>\n",
       "      <td>1736</td>\n",
       "      <td>2021-12-22</td>\n",
       "      <td>95746</td>\n",
       "    </tr>\n",
       "    <tr>\n",
       "      <th>18</th>\n",
       "      <td>Placer</td>\n",
       "      <td>95703: Applegate</td>\n",
       "      <td>170</td>\n",
       "      <td>2021-12-22</td>\n",
       "      <td>95703</td>\n",
       "    </tr>\n",
       "    <tr>\n",
       "      <th>19</th>\n",
       "      <td>Placer</td>\n",
       "      <td>95626: Elverta</td>\n",
       "      <td>57</td>\n",
       "      <td>2021-12-22</td>\n",
       "      <td>95626</td>\n",
       "    </tr>\n",
       "    <tr>\n",
       "      <th>20</th>\n",
       "      <td>Placer</td>\n",
       "      <td>95713: Colfax</td>\n",
       "      <td>657</td>\n",
       "      <td>2021-12-22</td>\n",
       "      <td>95713</td>\n",
       "    </tr>\n",
       "    <tr>\n",
       "      <th>21</th>\n",
       "      <td>Placer</td>\n",
       "      <td>96140: Carnelian Bay</td>\n",
       "      <td>122</td>\n",
       "      <td>2021-12-22</td>\n",
       "      <td>96140</td>\n",
       "    </tr>\n",
       "    <tr>\n",
       "      <th>22</th>\n",
       "      <td>Placer</td>\n",
       "      <td>95681: Sheridan</td>\n",
       "      <td>137</td>\n",
       "      <td>2021-12-22</td>\n",
       "      <td>95681</td>\n",
       "    </tr>\n",
       "    <tr>\n",
       "      <th>23</th>\n",
       "      <td>Placer</td>\n",
       "      <td>95663: Penryn</td>\n",
       "      <td>264</td>\n",
       "      <td>2021-12-22</td>\n",
       "      <td>95663</td>\n",
       "    </tr>\n",
       "    <tr>\n",
       "      <th>24</th>\n",
       "      <td>Placer</td>\n",
       "      <td>96143: Kings Beach</td>\n",
       "      <td>627</td>\n",
       "      <td>2021-12-22</td>\n",
       "      <td>96143</td>\n",
       "    </tr>\n",
       "    <tr>\n",
       "      <th>25</th>\n",
       "      <td>Placer</td>\n",
       "      <td>95701: Alta</td>\n",
       "      <td>85</td>\n",
       "      <td>2021-12-22</td>\n",
       "      <td>95701</td>\n",
       "    </tr>\n",
       "    <tr>\n",
       "      <th>26</th>\n",
       "      <td>Placer</td>\n",
       "      <td>95648: Lincoln</td>\n",
       "      <td>4851</td>\n",
       "      <td>2021-12-22</td>\n",
       "      <td>95648</td>\n",
       "    </tr>\n",
       "    <tr>\n",
       "      <th>27</th>\n",
       "      <td>Placer</td>\n",
       "      <td>95747: Roseville</td>\n",
       "      <td>7237</td>\n",
       "      <td>2021-12-22</td>\n",
       "      <td>95747</td>\n",
       "    </tr>\n",
       "    <tr>\n",
       "      <th>28</th>\n",
       "      <td>Placer</td>\n",
       "      <td>96142: Tahoma</td>\n",
       "      <td>&lt;6</td>\n",
       "      <td>2021-12-22</td>\n",
       "      <td>96142</td>\n",
       "    </tr>\n",
       "    <tr>\n",
       "      <th>29</th>\n",
       "      <td>Placer</td>\n",
       "      <td>96141: Homewood</td>\n",
       "      <td>37</td>\n",
       "      <td>2021-12-22</td>\n",
       "      <td>96141</td>\n",
       "    </tr>\n",
       "    <tr>\n",
       "      <th>30</th>\n",
       "      <td>Placer</td>\n",
       "      <td>95765: Rocklin</td>\n",
       "      <td>3942</td>\n",
       "      <td>2021-12-22</td>\n",
       "      <td>95765</td>\n",
       "    </tr>\n",
       "    <tr>\n",
       "      <th>31</th>\n",
       "      <td>Placer</td>\n",
       "      <td>96145: Tahoe City</td>\n",
       "      <td>351</td>\n",
       "      <td>2021-12-22</td>\n",
       "      <td>96145</td>\n",
       "    </tr>\n",
       "  </tbody>\n",
       "</table>\n",
       "</div>"
      ],
      "text/plain": [
       "    county                   area confirmed_cases county_date    zip\n",
       "0   Placer         96162: Truckee              <6  2021-12-22  96162\n",
       "1   Placer       95658: Newcastle             571  2021-12-22  95658\n",
       "2   Placer      95714: Dutch Flat              25  2021-12-22  95714\n",
       "3   Placer    95715: Emigrant Gap              13  2021-12-22  95715\n",
       "4   Placer     96148: Tahoe Vista             111  2021-12-22  96148\n",
       "5   Placer       95661: Roseville            3686  2021-12-22  95661\n",
       "6   Placer         96161: Truckee             178  2021-12-22  96161\n",
       "7   Placer          95650: Loomis            1290  2021-12-22  95650\n",
       "8   Placer  96146: Olympic Valley             135  2021-12-22  96146\n",
       "9   Placer       95678: Roseville            4975  2021-12-22  95678\n",
       "10  Placer          95603: Auburn            2822  2021-12-22  95603\n",
       "11  Placer          95724: Norden               6  2021-12-22  95724\n",
       "12  Placer          95602: Auburn            1360  2021-12-22  95602\n",
       "13  Placer      95631: Foresthill             435  2021-12-22  95631\n",
       "14  Placer         95677: Rocklin            2878  2021-12-22  95677\n",
       "15  Placer    95722: Meadow Vista             400  2021-12-22  95722\n",
       "16  Placer        95717: Gold Run              <6  2021-12-22  95717\n",
       "17  Placer     95746: Granite Bay            1736  2021-12-22  95746\n",
       "18  Placer       95703: Applegate             170  2021-12-22  95703\n",
       "19  Placer         95626: Elverta              57  2021-12-22  95626\n",
       "20  Placer          95713: Colfax             657  2021-12-22  95713\n",
       "21  Placer   96140: Carnelian Bay             122  2021-12-22  96140\n",
       "22  Placer        95681: Sheridan             137  2021-12-22  95681\n",
       "23  Placer          95663: Penryn             264  2021-12-22  95663\n",
       "24  Placer     96143: Kings Beach             627  2021-12-22  96143\n",
       "25  Placer            95701: Alta              85  2021-12-22  95701\n",
       "26  Placer         95648: Lincoln            4851  2021-12-22  95648\n",
       "27  Placer       95747: Roseville            7237  2021-12-22  95747\n",
       "28  Placer          96142: Tahoma              <6  2021-12-22  96142\n",
       "29  Placer        96141: Homewood              37  2021-12-22  96141\n",
       "30  Placer         95765: Rocklin            3942  2021-12-22  95765\n",
       "31  Placer      96145: Tahoe City             351  2021-12-22  96145"
      ]
     },
     "execution_count": 33,
     "metadata": {},
     "output_type": "execute_result"
    }
   ],
   "source": [
    "df"
   ]
  },
  {
   "cell_type": "code",
   "execution_count": 34,
   "metadata": {},
   "outputs": [],
   "source": [
    "df.to_csv(data_dir / slug / f\"{today}.csv\", index=False)"
   ]
  },
  {
   "cell_type": "markdown",
   "metadata": {},
   "source": [
    "## Combine"
   ]
  },
  {
   "cell_type": "code",
   "execution_count": 35,
   "metadata": {},
   "outputs": [],
   "source": [
    "csv_list = [\n",
    "    i\n",
    "    for i in glob.glob(str(data_dir / slug / \"*.csv\"))\n",
    "    if not str(i).endswith(\"timeseries.csv\")\n",
    "]"
   ]
  },
  {
   "cell_type": "code",
   "execution_count": 36,
   "metadata": {},
   "outputs": [],
   "source": [
    "df_list = []\n",
    "for csv in csv_list:\n",
    "    if \"manual\" in csv:\n",
    "        df = pd.read_csv(csv, parse_dates=[\"date\"])\n",
    "    else:\n",
    "        file_date = csv.split(\"/\")[-1].replace(\".csv\", \"\")\n",
    "        df = pd.read_csv(csv, parse_dates=[\"county_date\"])\n",
    "        df[\"date\"] = file_date\n",
    "    df_list.append(df)"
   ]
  },
  {
   "cell_type": "code",
   "execution_count": 37,
   "metadata": {},
   "outputs": [],
   "source": [
    "df = pd.concat(df_list).sort_values([\"date\", \"area\"])"
   ]
  },
  {
   "cell_type": "code",
   "execution_count": 38,
   "metadata": {},
   "outputs": [],
   "source": [
    "df.to_csv(data_dir / slug / \"timeseries.csv\", index=False)"
   ]
  },
  {
   "cell_type": "code",
   "execution_count": null,
   "metadata": {},
   "outputs": [],
   "source": []
  }
 ],
 "metadata": {
  "kernelspec": {
   "display_name": "Python 3 (ipykernel)",
   "language": "python",
   "name": "python3"
  },
  "language_info": {
   "codemirror_mode": {
    "name": "ipython",
    "version": 3
   },
   "file_extension": ".py",
   "mimetype": "text/x-python",
   "name": "python",
   "nbconvert_exporter": "python",
   "pygments_lexer": "ipython3",
   "version": "3.8.8"
  }
 },
 "nbformat": 4,
 "nbformat_minor": 4
}
