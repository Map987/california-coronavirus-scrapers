{
 "cells": [
  {
   "cell_type": "markdown",
   "metadata": {},
   "source": [
    "## Configuration\n",
    "_Initial steps to get the notebook ready to play nice with our repository. Do not delete this section._"
   ]
  },
  {
   "cell_type": "markdown",
   "metadata": {},
   "source": [
    "Code formatting with [black](https://pypi.org/project/nb-black/)."
   ]
  },
  {
   "cell_type": "code",
   "execution_count": 1,
   "metadata": {},
   "outputs": [],
   "source": [
    ""
   ]
  },
  {
   "cell_type": "code",
   "execution_count": 2,
   "metadata": {},
   "outputs": [],
   "source": [
    "import os\n",
    "import pathlib"
   ]
  },
  {
   "cell_type": "code",
   "execution_count": 3,
   "metadata": {},
   "outputs": [],
   "source": [
    "this_dir = pathlib.Path(os.path.abspath(\"\"))"
   ]
  },
  {
   "cell_type": "code",
   "execution_count": 4,
   "metadata": {},
   "outputs": [],
   "source": [
    "data_dir = this_dir / \"data\""
   ]
  },
  {
   "cell_type": "code",
   "execution_count": 5,
   "metadata": {},
   "outputs": [
    {
     "name": "stderr",
     "output_type": "stream",
     "text": [
      "/Users/slee/.local/share/virtualenvs/california-coronavirus-scrapers-QTClc1WQ/lib/python3.8/site-packages/pandas/compat/__init__.py:124: UserWarning: Could not import the lzma module. Your installed Python is incomplete. Attempting to use lzma compression will result in a RuntimeError.\n",
      "  warnings.warn(msg)\n"
     ]
    }
   ],
   "source": [
    "import pytz\n",
    "import glob\n",
    "import json\n",
    "import requests\n",
    "import pandas as pd\n",
    "from datetime import datetime"
   ]
  },
  {
   "cell_type": "markdown",
   "metadata": {},
   "source": [
    "## Download"
   ]
  },
  {
   "cell_type": "markdown",
   "metadata": {},
   "source": [
    "Retrieve the page"
   ]
  },
  {
   "cell_type": "code",
   "execution_count": 6,
   "metadata": {},
   "outputs": [],
   "source": [
    "url = \"https://services3.arcgis.com/ibgDyuD2DLBge82s/arcgis/rest/services/Fresno_County_Zip_Data_Summary/FeatureServer/0/query?f=json&where=FZIP%3C%3E%2799999%27%20AND%20COUNT_Cases%3E%3D75%20AND%20FZIP%20IS%20NOT%20NULL&returnGeometry=false&spatialRel=esriSpatialRelIntersects&outFields=*&groupByFieldsForStatistics=FCITY&orderByFields=value%20desc&outStatistics=%5B%7B%22statisticType%22%3A%22sum%22%2C%22onStatisticField%22%3A%22COUNT_Cases%22%2C%22outStatisticFieldName%22%3A%22value%22%7D%5D&resultType=standard&cacheHint=true\""
   ]
  },
  {
   "cell_type": "code",
   "execution_count": 7,
   "metadata": {},
   "outputs": [],
   "source": [
    "r = requests.get(url)"
   ]
  },
  {
   "cell_type": "code",
   "execution_count": 8,
   "metadata": {},
   "outputs": [],
   "source": [
    "data = r.json()"
   ]
  },
  {
   "cell_type": "markdown",
   "metadata": {},
   "source": [
    "## Parse"
   ]
  },
  {
   "cell_type": "code",
   "execution_count": 9,
   "metadata": {},
   "outputs": [],
   "source": [
    "dict_list = []"
   ]
  },
  {
   "cell_type": "code",
   "execution_count": 10,
   "metadata": {},
   "outputs": [],
   "source": [
    "for item in data[\"features\"]:\n",
    "    d = dict(\n",
    "        county=\"Fresno\",\n",
    "        area=item[\"attributes\"][\"FCITY\"],\n",
    "        confirmed_cases=item[\"attributes\"][\"value\"],\n",
    "    )\n",
    "    dict_list.append(d)"
   ]
  },
  {
   "cell_type": "code",
   "execution_count": 11,
   "metadata": {},
   "outputs": [],
   "source": [
    "df = pd.DataFrame(dict_list)"
   ]
  },
  {
   "cell_type": "code",
   "execution_count": 12,
   "metadata": {},
   "outputs": [],
   "source": [
    "df[\"area\"] = df[\"area\"].str.title()"
   ]
  },
  {
   "cell_type": "markdown",
   "metadata": {},
   "source": [
    "Get timestamp"
   ]
  },
  {
   "cell_type": "code",
   "execution_count": 13,
   "metadata": {},
   "outputs": [],
   "source": [
    "date_url = \"https://services3.arcgis.com/ibgDyuD2DLBge82s/arcgis/rest/services/Fresno_County_Zip_Data_Summary/FeatureServer/0/?f=json\"\n",
    "date_r = requests.get(date_url)\n",
    "date_data = date_r.json()"
   ]
  },
  {
   "cell_type": "code",
   "execution_count": 14,
   "metadata": {},
   "outputs": [],
   "source": [
    "timestamp = date_data[\"editingInfo\"][\"lastEditDate\"]"
   ]
  },
  {
   "cell_type": "code",
   "execution_count": 15,
   "metadata": {},
   "outputs": [],
   "source": [
    "tz = pytz.timezone(\"America/Los_Angeles\")"
   ]
  },
  {
   "cell_type": "code",
   "execution_count": 16,
   "metadata": {},
   "outputs": [],
   "source": [
    "latest_date = datetime.fromtimestamp(timestamp / 1000, tz).date()"
   ]
  },
  {
   "cell_type": "code",
   "execution_count": 17,
   "metadata": {},
   "outputs": [],
   "source": [
    "df[\"county_date\"] = latest_date"
   ]
  },
  {
   "cell_type": "markdown",
   "metadata": {},
   "source": [
    "## Trim"
   ]
  },
  {
   "cell_type": "code",
   "execution_count": 18,
   "metadata": {},
   "outputs": [],
   "source": [
    "df[\"county\"] = \"Fresno\""
   ]
  },
  {
   "cell_type": "code",
   "execution_count": 19,
   "metadata": {},
   "outputs": [],
   "source": [
    "df[\"area\"] = df[\"area\"].str.title()"
   ]
  },
  {
   "cell_type": "code",
   "execution_count": 20,
   "metadata": {},
   "outputs": [],
   "source": [
    "c = df[[\"county\", \"area\", \"county_date\", \"confirmed_cases\"]]"
   ]
  },
  {
   "cell_type": "markdown",
   "metadata": {},
   "source": [
    "## Vet"
   ]
  },
  {
   "cell_type": "code",
   "execution_count": 23,
   "metadata": {},
   "outputs": [
    {
     "data": {
      "text/plain": [
       "32"
      ]
     },
     "execution_count": 23,
     "metadata": {},
     "output_type": "execute_result"
    }
   ],
   "source": [
    "len(df)"
   ]
  },
  {
   "cell_type": "code",
   "execution_count": 24,
   "metadata": {},
   "outputs": [
    {
     "data": {
      "text/html": [
       "<div>\n",
       "<style scoped>\n",
       "    .dataframe tbody tr th:only-of-type {\n",
       "        vertical-align: middle;\n",
       "    }\n",
       "\n",
       "    .dataframe tbody tr th {\n",
       "        vertical-align: top;\n",
       "    }\n",
       "\n",
       "    .dataframe thead th {\n",
       "        text-align: right;\n",
       "    }\n",
       "</style>\n",
       "<table border=\"1\" class=\"dataframe\">\n",
       "  <thead>\n",
       "    <tr style=\"text-align: right;\">\n",
       "      <th></th>\n",
       "      <th>county</th>\n",
       "      <th>area</th>\n",
       "      <th>confirmed_cases</th>\n",
       "      <th>county_date</th>\n",
       "    </tr>\n",
       "  </thead>\n",
       "  <tbody>\n",
       "    <tr>\n",
       "      <th>0</th>\n",
       "      <td>Fresno</td>\n",
       "      <td>Fresno</td>\n",
       "      <td>159727</td>\n",
       "      <td>2022-08-08</td>\n",
       "    </tr>\n",
       "    <tr>\n",
       "      <th>1</th>\n",
       "      <td>Fresno</td>\n",
       "      <td>Clovis</td>\n",
       "      <td>26304</td>\n",
       "      <td>2022-08-08</td>\n",
       "    </tr>\n",
       "    <tr>\n",
       "      <th>2</th>\n",
       "      <td>Fresno</td>\n",
       "      <td>Sanger</td>\n",
       "      <td>11450</td>\n",
       "      <td>2022-08-08</td>\n",
       "    </tr>\n",
       "    <tr>\n",
       "      <th>3</th>\n",
       "      <td>Fresno</td>\n",
       "      <td>Selma</td>\n",
       "      <td>10088</td>\n",
       "      <td>2022-08-08</td>\n",
       "    </tr>\n",
       "    <tr>\n",
       "      <th>4</th>\n",
       "      <td>Fresno</td>\n",
       "      <td>Reedley</td>\n",
       "      <td>8371</td>\n",
       "      <td>2022-08-08</td>\n",
       "    </tr>\n",
       "    <tr>\n",
       "      <th>5</th>\n",
       "      <td>Fresno</td>\n",
       "      <td>Coalinga</td>\n",
       "      <td>7254</td>\n",
       "      <td>2022-08-08</td>\n",
       "    </tr>\n",
       "    <tr>\n",
       "      <th>6</th>\n",
       "      <td>Fresno</td>\n",
       "      <td>Kerman</td>\n",
       "      <td>5751</td>\n",
       "      <td>2022-08-08</td>\n",
       "    </tr>\n",
       "    <tr>\n",
       "      <th>7</th>\n",
       "      <td>Fresno</td>\n",
       "      <td>Parlier</td>\n",
       "      <td>5546</td>\n",
       "      <td>2022-08-08</td>\n",
       "    </tr>\n",
       "    <tr>\n",
       "      <th>8</th>\n",
       "      <td>Fresno</td>\n",
       "      <td>Mendota</td>\n",
       "      <td>3474</td>\n",
       "      <td>2022-08-08</td>\n",
       "    </tr>\n",
       "    <tr>\n",
       "      <th>9</th>\n",
       "      <td>Fresno</td>\n",
       "      <td>Orange Cove</td>\n",
       "      <td>3362</td>\n",
       "      <td>2022-08-08</td>\n",
       "    </tr>\n",
       "    <tr>\n",
       "      <th>10</th>\n",
       "      <td>Fresno</td>\n",
       "      <td>Kingsburg</td>\n",
       "      <td>3357</td>\n",
       "      <td>2022-08-08</td>\n",
       "    </tr>\n",
       "    <tr>\n",
       "      <th>11</th>\n",
       "      <td>Fresno</td>\n",
       "      <td>Fowler</td>\n",
       "      <td>2552</td>\n",
       "      <td>2022-08-08</td>\n",
       "    </tr>\n",
       "    <tr>\n",
       "      <th>12</th>\n",
       "      <td>Fresno</td>\n",
       "      <td>Firebaugh</td>\n",
       "      <td>2490</td>\n",
       "      <td>2022-08-08</td>\n",
       "    </tr>\n",
       "    <tr>\n",
       "      <th>13</th>\n",
       "      <td>Fresno</td>\n",
       "      <td>Riverdale</td>\n",
       "      <td>1748</td>\n",
       "      <td>2022-08-08</td>\n",
       "    </tr>\n",
       "    <tr>\n",
       "      <th>14</th>\n",
       "      <td>Fresno</td>\n",
       "      <td>Huron</td>\n",
       "      <td>1742</td>\n",
       "      <td>2022-08-08</td>\n",
       "    </tr>\n",
       "    <tr>\n",
       "      <th>15</th>\n",
       "      <td>Fresno</td>\n",
       "      <td>Caruthers</td>\n",
       "      <td>1483</td>\n",
       "      <td>2022-08-08</td>\n",
       "    </tr>\n",
       "    <tr>\n",
       "      <th>16</th>\n",
       "      <td>Fresno</td>\n",
       "      <td>San Joaquin</td>\n",
       "      <td>1165</td>\n",
       "      <td>2022-08-08</td>\n",
       "    </tr>\n",
       "    <tr>\n",
       "      <th>17</th>\n",
       "      <td>Fresno</td>\n",
       "      <td>Laton</td>\n",
       "      <td>821</td>\n",
       "      <td>2022-08-08</td>\n",
       "    </tr>\n",
       "    <tr>\n",
       "      <th>18</th>\n",
       "      <td>Fresno</td>\n",
       "      <td>Del Rey</td>\n",
       "      <td>722</td>\n",
       "      <td>2022-08-08</td>\n",
       "    </tr>\n",
       "    <tr>\n",
       "      <th>19</th>\n",
       "      <td>Fresno</td>\n",
       "      <td>Biola</td>\n",
       "      <td>443</td>\n",
       "      <td>2022-08-08</td>\n",
       "    </tr>\n",
       "    <tr>\n",
       "      <th>20</th>\n",
       "      <td>Fresno</td>\n",
       "      <td>Squaw Valley</td>\n",
       "      <td>388</td>\n",
       "      <td>2022-08-08</td>\n",
       "    </tr>\n",
       "    <tr>\n",
       "      <th>21</th>\n",
       "      <td>Fresno</td>\n",
       "      <td>Auberry</td>\n",
       "      <td>365</td>\n",
       "      <td>2022-08-08</td>\n",
       "    </tr>\n",
       "    <tr>\n",
       "      <th>22</th>\n",
       "      <td>Fresno</td>\n",
       "      <td>Cantua Creek</td>\n",
       "      <td>299</td>\n",
       "      <td>2022-08-08</td>\n",
       "    </tr>\n",
       "    <tr>\n",
       "      <th>23</th>\n",
       "      <td>Fresno</td>\n",
       "      <td>Friant</td>\n",
       "      <td>284</td>\n",
       "      <td>2022-08-08</td>\n",
       "    </tr>\n",
       "    <tr>\n",
       "      <th>24</th>\n",
       "      <td>Fresno</td>\n",
       "      <td>Tollhouse</td>\n",
       "      <td>277</td>\n",
       "      <td>2022-08-08</td>\n",
       "    </tr>\n",
       "    <tr>\n",
       "      <th>25</th>\n",
       "      <td>Fresno</td>\n",
       "      <td>Tranquillity</td>\n",
       "      <td>267</td>\n",
       "      <td>2022-08-08</td>\n",
       "    </tr>\n",
       "    <tr>\n",
       "      <th>26</th>\n",
       "      <td>Fresno</td>\n",
       "      <td>Prather</td>\n",
       "      <td>178</td>\n",
       "      <td>2022-08-08</td>\n",
       "    </tr>\n",
       "    <tr>\n",
       "      <th>27</th>\n",
       "      <td>Fresno</td>\n",
       "      <td>Five Points</td>\n",
       "      <td>141</td>\n",
       "      <td>2022-08-08</td>\n",
       "    </tr>\n",
       "    <tr>\n",
       "      <th>28</th>\n",
       "      <td>Fresno</td>\n",
       "      <td>Raisin</td>\n",
       "      <td>137</td>\n",
       "      <td>2022-08-08</td>\n",
       "    </tr>\n",
       "    <tr>\n",
       "      <th>29</th>\n",
       "      <td>Fresno</td>\n",
       "      <td>Dinuba</td>\n",
       "      <td>112</td>\n",
       "      <td>2022-08-08</td>\n",
       "    </tr>\n",
       "    <tr>\n",
       "      <th>30</th>\n",
       "      <td>Fresno</td>\n",
       "      <td>Dos Palos</td>\n",
       "      <td>94</td>\n",
       "      <td>2022-08-08</td>\n",
       "    </tr>\n",
       "    <tr>\n",
       "      <th>31</th>\n",
       "      <td>Fresno</td>\n",
       "      <td>Dunlap</td>\n",
       "      <td>75</td>\n",
       "      <td>2022-08-08</td>\n",
       "    </tr>\n",
       "  </tbody>\n",
       "</table>\n",
       "</div>"
      ],
      "text/plain": [
       "    county          area  confirmed_cases county_date\n",
       "0   Fresno        Fresno           159727  2022-08-08\n",
       "1   Fresno        Clovis            26304  2022-08-08\n",
       "2   Fresno        Sanger            11450  2022-08-08\n",
       "3   Fresno         Selma            10088  2022-08-08\n",
       "4   Fresno       Reedley             8371  2022-08-08\n",
       "5   Fresno      Coalinga             7254  2022-08-08\n",
       "6   Fresno        Kerman             5751  2022-08-08\n",
       "7   Fresno       Parlier             5546  2022-08-08\n",
       "8   Fresno       Mendota             3474  2022-08-08\n",
       "9   Fresno   Orange Cove             3362  2022-08-08\n",
       "10  Fresno     Kingsburg             3357  2022-08-08\n",
       "11  Fresno        Fowler             2552  2022-08-08\n",
       "12  Fresno     Firebaugh             2490  2022-08-08\n",
       "13  Fresno     Riverdale             1748  2022-08-08\n",
       "14  Fresno         Huron             1742  2022-08-08\n",
       "15  Fresno     Caruthers             1483  2022-08-08\n",
       "16  Fresno   San Joaquin             1165  2022-08-08\n",
       "17  Fresno         Laton              821  2022-08-08\n",
       "18  Fresno       Del Rey              722  2022-08-08\n",
       "19  Fresno         Biola              443  2022-08-08\n",
       "20  Fresno  Squaw Valley              388  2022-08-08\n",
       "21  Fresno       Auberry              365  2022-08-08\n",
       "22  Fresno  Cantua Creek              299  2022-08-08\n",
       "23  Fresno        Friant              284  2022-08-08\n",
       "24  Fresno     Tollhouse              277  2022-08-08\n",
       "25  Fresno  Tranquillity              267  2022-08-08\n",
       "26  Fresno       Prather              178  2022-08-08\n",
       "27  Fresno   Five Points              141  2022-08-08\n",
       "28  Fresno        Raisin              137  2022-08-08\n",
       "29  Fresno        Dinuba              112  2022-08-08\n",
       "30  Fresno     Dos Palos               94  2022-08-08\n",
       "31  Fresno        Dunlap               75  2022-08-08"
      ]
     },
     "execution_count": 24,
     "metadata": {},
     "output_type": "execute_result"
    }
   ],
   "source": [
    "df"
   ]
  },
  {
   "cell_type": "code",
   "execution_count": 25,
   "metadata": {},
   "outputs": [],
   "source": [
    "try:\n",
    "    assert not len(df) > 32\n",
    "except AssertionError:\n",
    "    raise AssertionError(\"Fresno County's place scraper has additional rows\")"
   ]
  },
  {
   "cell_type": "code",
   "execution_count": 26,
   "metadata": {},
   "outputs": [],
   "source": [
    "try:\n",
    "    assert not len(df) < 32\n",
    "except AssertionError:\n",
    "    raise AssertionError(\"Fresno County's place scraper is missing rows\")"
   ]
  },
  {
   "cell_type": "code",
   "execution_count": 27,
   "metadata": {},
   "outputs": [
    {
     "data": {
      "text/plain": [
       "32"
      ]
     },
     "execution_count": 27,
     "metadata": {},
     "output_type": "execute_result"
    }
   ],
   "source": [
    "len(df)"
   ]
  },
  {
   "cell_type": "code",
   "execution_count": 28,
   "metadata": {},
   "outputs": [],
   "source": [
    "old = pd.read_csv(\"data/fresno/2022-06-15.csv\")"
   ]
  },
  {
   "cell_type": "code",
   "execution_count": 29,
   "metadata": {},
   "outputs": [
    {
     "data": {
      "text/html": [
       "<div>\n",
       "<style scoped>\n",
       "    .dataframe tbody tr th:only-of-type {\n",
       "        vertical-align: middle;\n",
       "    }\n",
       "\n",
       "    .dataframe tbody tr th {\n",
       "        vertical-align: top;\n",
       "    }\n",
       "\n",
       "    .dataframe thead th {\n",
       "        text-align: right;\n",
       "    }\n",
       "</style>\n",
       "<table border=\"1\" class=\"dataframe\">\n",
       "  <thead>\n",
       "    <tr style=\"text-align: right;\">\n",
       "      <th></th>\n",
       "      <th>county</th>\n",
       "      <th>area</th>\n",
       "      <th>confirmed_cases</th>\n",
       "      <th>county_date</th>\n",
       "    </tr>\n",
       "  </thead>\n",
       "  <tbody>\n",
       "    <tr>\n",
       "      <th>30</th>\n",
       "      <td>Fresno</td>\n",
       "      <td>Dos Palos</td>\n",
       "      <td>91</td>\n",
       "      <td>2022-06-15</td>\n",
       "    </tr>\n",
       "  </tbody>\n",
       "</table>\n",
       "</div>"
      ],
      "text/plain": [
       "    county       area  confirmed_cases county_date\n",
       "30  Fresno  Dos Palos               91  2022-06-15"
      ]
     },
     "execution_count": 29,
     "metadata": {},
     "output_type": "execute_result"
    }
   ],
   "source": [
    "df[~df.area.isin(old.area)]"
   ]
  },
  {
   "cell_type": "code",
   "execution_count": null,
   "metadata": {},
   "outputs": [],
   "source": []
  },
  {
   "cell_type": "code",
   "execution_count": null,
   "metadata": {},
   "outputs": [],
   "source": []
  },
  {
   "cell_type": "markdown",
   "metadata": {},
   "source": [
    "## Export"
   ]
  },
  {
   "cell_type": "markdown",
   "metadata": {},
   "source": [
    "Mark the current date"
   ]
  },
  {
   "cell_type": "code",
   "execution_count": 30,
   "metadata": {},
   "outputs": [],
   "source": [
    "tz = pytz.timezone(\"America/Los_Angeles\")"
   ]
  },
  {
   "cell_type": "code",
   "execution_count": 31,
   "metadata": {},
   "outputs": [],
   "source": [
    "today = datetime.now(tz).date()"
   ]
  },
  {
   "cell_type": "code",
   "execution_count": 32,
   "metadata": {},
   "outputs": [],
   "source": [
    "slug = \"fresno\""
   ]
  },
  {
   "cell_type": "code",
   "execution_count": 33,
   "metadata": {},
   "outputs": [],
   "source": [
    "df.to_csv(data_dir / slug / f\"{today}.csv\", index=False)"
   ]
  },
  {
   "cell_type": "markdown",
   "metadata": {},
   "source": [
    "## Combine"
   ]
  },
  {
   "cell_type": "code",
   "execution_count": 34,
   "metadata": {},
   "outputs": [],
   "source": [
    "csv_list = [\n",
    "    i\n",
    "    for i in glob.glob(str(data_dir / slug / \"*.csv\"))\n",
    "    if not str(i).endswith(\"timeseries.csv\")\n",
    "]"
   ]
  },
  {
   "cell_type": "code",
   "execution_count": 35,
   "metadata": {},
   "outputs": [],
   "source": [
    "df_list = []\n",
    "for csv in csv_list:\n",
    "    if \"manual\" in csv:\n",
    "        df = pd.read_csv(csv, parse_dates=[\"date\"])\n",
    "    else:\n",
    "        file_date = csv.split(\"/\")[-1].replace(\".csv\", \"\")\n",
    "        df = pd.read_csv(csv, parse_dates=[\"county_date\"])\n",
    "        df[\"date\"] = file_date\n",
    "    df_list.append(df)"
   ]
  },
  {
   "cell_type": "code",
   "execution_count": 36,
   "metadata": {},
   "outputs": [],
   "source": [
    "df = pd.concat(df_list).sort_values([\"date\", \"area\"])"
   ]
  },
  {
   "cell_type": "code",
   "execution_count": 37,
   "metadata": {},
   "outputs": [],
   "source": [
    "df.to_csv(data_dir / slug / \"timeseries.csv\", index=False)"
   ]
  },
  {
   "cell_type": "code",
   "execution_count": 38,
   "metadata": {},
   "outputs": [
    {
     "data": {
      "text/html": [
       "<div>\n",
       "<style scoped>\n",
       "    .dataframe tbody tr th:only-of-type {\n",
       "        vertical-align: middle;\n",
       "    }\n",
       "\n",
       "    .dataframe tbody tr th {\n",
       "        vertical-align: top;\n",
       "    }\n",
       "\n",
       "    .dataframe thead th {\n",
       "        text-align: right;\n",
       "    }\n",
       "</style>\n",
       "<table border=\"1\" class=\"dataframe\">\n",
       "  <thead>\n",
       "    <tr style=\"text-align: right;\">\n",
       "      <th></th>\n",
       "      <th>county</th>\n",
       "      <th>area</th>\n",
       "      <th>confirmed_cases</th>\n",
       "      <th>county_date</th>\n",
       "      <th>date</th>\n",
       "    </tr>\n",
       "  </thead>\n",
       "  <tbody>\n",
       "    <tr>\n",
       "      <th>2634</th>\n",
       "      <td>Fresno</td>\n",
       "      <td>Fresno</td>\n",
       "      <td>128</td>\n",
       "      <td>NaT</td>\n",
       "      <td>2020-04-14 00:00:00</td>\n",
       "    </tr>\n",
       "    <tr>\n",
       "      <th>2618</th>\n",
       "      <td>Fresno</td>\n",
       "      <td>Fresno</td>\n",
       "      <td>148</td>\n",
       "      <td>NaT</td>\n",
       "      <td>2020-04-15 00:00:00</td>\n",
       "    </tr>\n",
       "    <tr>\n",
       "      <th>2602</th>\n",
       "      <td>Fresno</td>\n",
       "      <td>Fresno</td>\n",
       "      <td>159</td>\n",
       "      <td>NaT</td>\n",
       "      <td>2020-04-16 00:00:00</td>\n",
       "    </tr>\n",
       "    <tr>\n",
       "      <th>2586</th>\n",
       "      <td>Fresno</td>\n",
       "      <td>Fresno</td>\n",
       "      <td>166</td>\n",
       "      <td>NaT</td>\n",
       "      <td>2020-04-17 00:00:00</td>\n",
       "    </tr>\n",
       "    <tr>\n",
       "      <th>2570</th>\n",
       "      <td>Fresno</td>\n",
       "      <td>Fresno</td>\n",
       "      <td>189</td>\n",
       "      <td>NaT</td>\n",
       "      <td>2020-04-20 00:00:00</td>\n",
       "    </tr>\n",
       "    <tr>\n",
       "      <th>...</th>\n",
       "      <td>...</td>\n",
       "      <td>...</td>\n",
       "      <td>...</td>\n",
       "      <td>...</td>\n",
       "      <td>...</td>\n",
       "    </tr>\n",
       "    <tr>\n",
       "      <th>0</th>\n",
       "      <td>Fresno</td>\n",
       "      <td>Fresno</td>\n",
       "      <td>101523</td>\n",
       "      <td>2022-02-14</td>\n",
       "      <td>2022-06-12</td>\n",
       "    </tr>\n",
       "    <tr>\n",
       "      <th>0</th>\n",
       "      <td>Fresno</td>\n",
       "      <td>Fresno</td>\n",
       "      <td>101523</td>\n",
       "      <td>2022-02-14</td>\n",
       "      <td>2022-06-13</td>\n",
       "    </tr>\n",
       "    <tr>\n",
       "      <th>0</th>\n",
       "      <td>Fresno</td>\n",
       "      <td>Fresno</td>\n",
       "      <td>101523</td>\n",
       "      <td>2022-02-14</td>\n",
       "      <td>2022-06-14</td>\n",
       "    </tr>\n",
       "    <tr>\n",
       "      <th>0</th>\n",
       "      <td>Fresno</td>\n",
       "      <td>Fresno</td>\n",
       "      <td>101523</td>\n",
       "      <td>2022-02-14</td>\n",
       "      <td>2022-06-15</td>\n",
       "    </tr>\n",
       "    <tr>\n",
       "      <th>0</th>\n",
       "      <td>Fresno</td>\n",
       "      <td>Fresno</td>\n",
       "      <td>146362</td>\n",
       "      <td>2022-06-15</td>\n",
       "      <td>2022-06-16</td>\n",
       "    </tr>\n",
       "  </tbody>\n",
       "</table>\n",
       "<p>460 rows × 5 columns</p>\n",
       "</div>"
      ],
      "text/plain": [
       "      county    area confirmed_cases county_date                 date\n",
       "2634  Fresno  Fresno             128         NaT  2020-04-14 00:00:00\n",
       "2618  Fresno  Fresno             148         NaT  2020-04-15 00:00:00\n",
       "2602  Fresno  Fresno             159         NaT  2020-04-16 00:00:00\n",
       "2586  Fresno  Fresno             166         NaT  2020-04-17 00:00:00\n",
       "2570  Fresno  Fresno             189         NaT  2020-04-20 00:00:00\n",
       "...      ...     ...             ...         ...                  ...\n",
       "0     Fresno  Fresno          101523  2022-02-14           2022-06-12\n",
       "0     Fresno  Fresno          101523  2022-02-14           2022-06-13\n",
       "0     Fresno  Fresno          101523  2022-02-14           2022-06-14\n",
       "0     Fresno  Fresno          101523  2022-02-14           2022-06-15\n",
       "0     Fresno  Fresno          146362  2022-06-15           2022-06-16\n",
       "\n",
       "[460 rows x 5 columns]"
      ]
     },
     "execution_count": 38,
     "metadata": {},
     "output_type": "execute_result"
    }
   ],
   "source": [
    "df[df.area == \"Fresno\"]"
   ]
  },
  {
   "cell_type": "code",
   "execution_count": null,
   "metadata": {},
   "outputs": [],
   "source": []
  }
 ],
 "metadata": {
  "kernelspec": {
   "display_name": "Python 3 (ipykernel)",
   "language": "python",
   "name": "python3"
  },
  "language_info": {
   "codemirror_mode": {
    "name": "ipython",
    "version": 3
   },
   "file_extension": ".py",
   "mimetype": "text/x-python",
   "name": "python",
   "nbconvert_exporter": "python",
   "pygments_lexer": "ipython3",
   "version": "3.8.8"
  }
 },
 "nbformat": 4,
 "nbformat_minor": 4
}
