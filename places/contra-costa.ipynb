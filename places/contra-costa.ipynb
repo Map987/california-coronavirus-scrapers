{
 "cells": [
  {
   "cell_type": "markdown",
   "metadata": {},
   "source": [
    "---\n",
    "### NOTE:\n",
    "\n",
    "To test this requires a `pipenv install` to catch the added dependency, but it also needs one extra step — you'll need to run `playwright install chromium` to pull in the copy of Chrome it needs. This has been added to the GitHub action.\n",
    "\n",
    "---"
   ]
  },
  {
   "cell_type": "markdown",
   "metadata": {},
   "source": [
    "## Configuration\n",
    "_Initial steps to get the notebook ready to play nice with our repository. Do not delete this section._"
   ]
  },
  {
   "cell_type": "markdown",
   "metadata": {},
   "source": [
    "Code formatting with [black](https://pypi.org/project/nb-black/)."
   ]
  },
  {
   "cell_type": "code",
   "execution_count": 1,
   "metadata": {},
   "outputs": [],
   "source": [
    "%load_ext lab_black"
   ]
  },
  {
   "cell_type": "markdown",
   "metadata": {},
   "source": [
    "Add our `utils` directory to the system's `$PATH` so we can import Python files from sibling directories."
   ]
  },
  {
   "cell_type": "code",
   "execution_count": 1,
   "metadata": {},
   "outputs": [],
   "source": [
    "import os\n",
    "import pathlib"
   ]
  },
  {
   "cell_type": "code",
   "execution_count": 2,
   "metadata": {},
   "outputs": [],
   "source": [
    "this_dir = pathlib.Path(os.path.abspath(\"\"))"
   ]
  },
  {
   "cell_type": "code",
   "execution_count": 3,
   "metadata": {},
   "outputs": [],
   "source": [
    "data_dir = this_dir / \"data\""
   ]
  },
  {
   "cell_type": "code",
   "execution_count": 5,
   "metadata": {},
   "outputs": [],
   "source": [
    "import pytz\n",
    "import glob\n",
    "import pandas as pd\n",
    "from json import loads\n",
    "from slugify import slugify\n",
    "from datetime import datetime\n",
    "from playwright.async_api import async_playwright"
   ]
  },
  {
   "cell_type": "markdown",
   "metadata": {},
   "source": [
    "## Download"
   ]
  },
  {
   "cell_type": "code",
   "execution_count": 9,
   "metadata": {},
   "outputs": [
    {
     "name": "stdout",
     "output_type": "stream",
     "text": [
      "Data below last reloaded: 9/6/2021, 11:30 AM\n"
     ]
    }
   ],
   "source": [
    "async with async_playwright() as playwright:\n",
    "    browser = await playwright.chromium.launch()\n",
    "    context = await browser.new_context(accept_downloads=True)\n",
    "\n",
    "    # Open new page\n",
    "    page = await context.new_page()\n",
    "\n",
    "    # Go to https://dashboard.cchealth.org/extensions/COVIDDashboard/Overview.html\n",
    "    await page.goto(\"https://dashboard.cchealth.org/extensions/COVID/Overview.html\")\n",
    "\n",
    "    last_updated_selector = \"#DataLastReloaded\"\n",
    "    await page.wait_for_selector(last_updated_selector)\n",
    "    await page.wait_for_function(\n",
    "        f\"document.querySelector('{last_updated_selector}').textContent\"\n",
    "    )\n",
    "    last_updated = await page.text_content(last_updated_selector)  # .split(\": \")[1]\n",
    "    print(last_updated)\n",
    "    await page.wait_for_timeout(5000)\n",
    "\n",
    "    async with page.expect_download() as download_info:\n",
    "        async with page.expect_popup() as popup_info:\n",
    "            await page.click(\"#export2\")\n",
    "        page1 = await popup_info.value\n",
    "    download = await download_info.value\n",
    "\n",
    "    path = await download.path()\n",
    "    df = pd.read_excel(path, engine=\"openpyxl\")\n",
    "\n",
    "    # Close page\n",
    "    await page1.close()\n",
    "    # Close context\n",
    "    await context.close()\n",
    "    # Close browser\n",
    "    await browser.close()"
   ]
  },
  {
   "cell_type": "markdown",
   "metadata": {},
   "source": [
    "## Parse"
   ]
  },
  {
   "cell_type": "code",
   "execution_count": 10,
   "metadata": {},
   "outputs": [],
   "source": [
    "df = df.drop(\n",
    "    [\n",
    "        \"Cases Last 14 Days\",\n",
    "        \"Population\",\n",
    "        \"Cases Per 100,000\",\n",
    "        \"Cases Last 14 Days Per 100,000\",\n",
    "    ],\n",
    "    axis=1,\n",
    ")"
   ]
  },
  {
   "cell_type": "code",
   "execution_count": 11,
   "metadata": {},
   "outputs": [],
   "source": [
    "df = df[~df[\"Location\"].isin([\"Totals\"])]"
   ]
  },
  {
   "cell_type": "code",
   "execution_count": 12,
   "metadata": {},
   "outputs": [],
   "source": [
    "headers = {\"Location\": \"area\", \"Positive Case Count\": \"confirmed_cases\"}"
   ]
  },
  {
   "cell_type": "code",
   "execution_count": 13,
   "metadata": {},
   "outputs": [],
   "source": [
    "df = df.rename(columns=headers)\n",
    "df.insert(0, \"county\", \"Contra Costa\")"
   ]
  },
  {
   "cell_type": "markdown",
   "metadata": {},
   "source": [
    "Set date"
   ]
  },
  {
   "cell_type": "code",
   "execution_count": 14,
   "metadata": {},
   "outputs": [],
   "source": [
    "last_updated_split = last_updated.split(\": \")[1]"
   ]
  },
  {
   "cell_type": "code",
   "execution_count": 16,
   "metadata": {},
   "outputs": [],
   "source": [
    "tz = pytz.timezone(\"America/Los_Angeles\")"
   ]
  },
  {
   "cell_type": "code",
   "execution_count": 17,
   "metadata": {},
   "outputs": [],
   "source": [
    "today = datetime.now(tz).date()"
   ]
  },
  {
   "cell_type": "code",
   "execution_count": 18,
   "metadata": {},
   "outputs": [],
   "source": [
    "slug = \"contra-costa\""
   ]
  },
  {
   "cell_type": "code",
   "execution_count": 19,
   "metadata": {},
   "outputs": [],
   "source": [
    "df[\"county_date\"] = (\n",
    "    datetime.strptime(last_updated_split, \"%m/%d/%Y, %I:%M %p\")\n",
    "    .astimezone(pytz.timezone(\"America/Los_Angeles\"))\n",
    "    .date()\n",
    "    .isoformat()\n",
    ")"
   ]
  },
  {
   "cell_type": "markdown",
   "metadata": {},
   "source": [
    "## Vet"
   ]
  },
  {
   "cell_type": "code",
   "execution_count": 22,
   "metadata": {},
   "outputs": [],
   "source": [
    "try:\n",
    "    assert not len(df) > 31\n",
    "except AssertionError:\n",
    "    raise AssertionError(\"Contra Costa's scraper has extra rows\")"
   ]
  },
  {
   "cell_type": "code",
   "execution_count": 23,
   "metadata": {},
   "outputs": [],
   "source": [
    "try:\n",
    "    assert not len(df) < 31\n",
    "except AssertionError:\n",
    "    raise AssertionError(\"Contra Costa County's scraper is missing rows\")"
   ]
  },
  {
   "cell_type": "markdown",
   "metadata": {},
   "source": [
    "## Export"
   ]
  },
  {
   "cell_type": "code",
   "execution_count": 25,
   "metadata": {},
   "outputs": [],
   "source": [
    "df.to_csv(data_dir / slug / f\"{today}.csv\", index=False)"
   ]
  },
  {
   "cell_type": "code",
   "execution_count": 26,
   "metadata": {},
   "outputs": [],
   "source": [
    "csv_list = [\n",
    "    i\n",
    "    for i in glob.glob(str(data_dir / slug / \"*.csv\"))\n",
    "    if not str(i).endswith(\"timeseries.csv\")\n",
    "]"
   ]
  },
  {
   "cell_type": "code",
   "execution_count": 27,
   "metadata": {},
   "outputs": [],
   "source": [
    "df_list = []\n",
    "for csv in csv_list:\n",
    "    if \"manual\" in csv:\n",
    "        df = pd.read_csv(csv, parse_dates=[\"date\"])\n",
    "    else:\n",
    "        file_date = csv.split(\"/\")[-1].replace(\".csv\", \"\")\n",
    "        df = pd.read_csv(csv, parse_dates=[\"county_date\"])\n",
    "        df[\"date\"] = file_date\n",
    "    df_list.append(df)"
   ]
  },
  {
   "cell_type": "code",
   "execution_count": 28,
   "metadata": {},
   "outputs": [],
   "source": [
    "df = pd.concat(df_list).sort_values([\"date\", \"area\"])"
   ]
  },
  {
   "cell_type": "code",
   "execution_count": 29,
   "metadata": {},
   "outputs": [],
   "source": [
    "df.to_csv(data_dir / slug / \"timeseries.csv\", index=False)"
   ]
  }
 ],
 "metadata": {
  "interpreter": {
   "hash": "2d853bdeb265e70c423656d3a7ece7c69cc4ec9747b8cf43883403c8e598c037"
  },
  "kernelspec": {
   "display_name": "Python 3 (ipykernel)",
   "language": "python",
   "name": "python3"
  },
  "language_info": {
   "codemirror_mode": {
    "name": "ipython",
    "version": 3
   },
   "file_extension": ".py",
   "mimetype": "text/x-python",
   "name": "python",
   "nbconvert_exporter": "python",
   "pygments_lexer": "ipython3",
   "version": "3.8.8"
  }
 },
 "nbformat": 4,
 "nbformat_minor": 4
}
