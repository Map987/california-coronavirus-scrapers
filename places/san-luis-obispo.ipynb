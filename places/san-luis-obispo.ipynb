{
 "cells": [
  {
   "cell_type": "markdown",
   "metadata": {},
   "source": [
    "## Configuration\n",
    "_Initial steps to get the notebook ready to play nice with our repository. Do not delete this section._"
   ]
  },
  {
   "cell_type": "markdown",
   "metadata": {},
   "source": [
    "Code formatting with [black](https://pypi.org/project/nb-black/)."
   ]
  },
  {
   "cell_type": "code",
   "execution_count": 1,
   "metadata": {},
   "outputs": [],
   "source": [
    "%load_ext lab_black"
   ]
  },
  {
   "cell_type": "code",
   "execution_count": 2,
   "metadata": {},
   "outputs": [],
   "source": [
    "import os\n",
    "import pytz\n",
    "import glob\n",
    "import pathlib\n",
    "\n",
    "this_dir = pathlib.Path(os.path.abspath(\"\"))\n",
    "data_dir = this_dir / \"data\""
   ]
  },
  {
   "cell_type": "code",
   "execution_count": 3,
   "metadata": {},
   "outputs": [
    {
     "name": "stderr",
     "output_type": "stream",
     "text": [
      "/Users/slee/.local/share/virtualenvs/california-coronavirus-scrapers-QTClc1WQ/lib/python3.8/site-packages/pandas/compat/__init__.py:124: UserWarning: Could not import the lzma module. Your installed Python is incomplete. Attempting to use lzma compression will result in a RuntimeError.\n",
      "  warnings.warn(msg)\n"
     ]
    }
   ],
   "source": [
    "import requests\n",
    "import pandas as pd\n",
    "from bs4 import BeautifulSoup\n",
    "import json\n",
    "import re\n",
    "from datetime import datetime, date, timedelta\n",
    "from slugify import slugify\n",
    "from playwright.async_api import async_playwright"
   ]
  },
  {
   "cell_type": "markdown",
   "metadata": {},
   "source": [
    "## Download"
   ]
  },
  {
   "cell_type": "markdown",
   "metadata": {},
   "source": [
    "Retrieve the page"
   ]
  },
  {
   "cell_type": "code",
   "execution_count": 4,
   "metadata": {},
   "outputs": [],
   "source": [
    "url = \"https://e.infogram.com/1c8458d3-1302-4c47-bd47-24366f127b72?parent_url=https%3A%2F%2Fwww.emergencyslo.org%2Fen%2Fpositive-case-details.aspx&src=embed#\""
   ]
  },
  {
   "cell_type": "code",
   "execution_count": 12,
   "metadata": {},
   "outputs": [],
   "source": [
    "url = \"https://e.infogram.com/6d3c0cf1-4960-4340-9872-78dd22cb991a?parent_url=https%3A%2F%2Fwww.slocounty.ca.gov%2FCOVID-19%2FData.aspx&src=embed#\""
   ]
  },
  {
   "cell_type": "code",
   "execution_count": 13,
   "metadata": {},
   "outputs": [],
   "source": [
    "page = requests.get(url)"
   ]
  },
  {
   "cell_type": "code",
   "execution_count": 14,
   "metadata": {},
   "outputs": [],
   "source": [
    "soup = BeautifulSoup(page.content, \"html.parser\")"
   ]
  },
  {
   "cell_type": "markdown",
   "metadata": {},
   "source": [
    "## Parse"
   ]
  },
  {
   "cell_type": "markdown",
   "metadata": {},
   "source": [
    "Find script tag with the Infogram data"
   ]
  },
  {
   "cell_type": "code",
   "execution_count": 24,
   "metadata": {},
   "outputs": [],
   "source": [
    "for elem in soup(text=re.compile(r\"window.infographicData\")):\n",
    "    script = elem"
   ]
  },
  {
   "cell_type": "code",
   "execution_count": 25,
   "metadata": {},
   "outputs": [],
   "source": [
    "stripped_script = re.sub(\"window.infographicData=\", \"\", script)"
   ]
  },
  {
   "cell_type": "code",
   "execution_count": 26,
   "metadata": {},
   "outputs": [],
   "source": [
    "stripped_script = stripped_script.rstrip(\";\")"
   ]
  },
  {
   "cell_type": "code",
   "execution_count": 27,
   "metadata": {},
   "outputs": [],
   "source": [
    "data = json.loads(stripped_script)"
   ]
  },
  {
   "cell_type": "code",
   "execution_count": 48,
   "metadata": {},
   "outputs": [],
   "source": [
    "cities = [\n",
    "    x\n",
    "    for x in data[\"elements\"]\n",
    "    ##if x[\"object_id\"] == \"3695dc89-8a1c-4aa2-951b-11eb68e147ac\"\n",
    "    if x[\"object_id\"] == \"ebb96e22-3766-4a73-a776-90c533b379b5\"\n",
    "]\n",
    "\n",
    "# \"ebb96e22-3766-4a73-a776-90c533b379b5\"\n",
    "# \"e024d6eb-623f-48fc-8345-19a937721f7d\""
   ]
  },
  {
   "cell_type": "code",
   "execution_count": null,
   "metadata": {},
   "outputs": [],
   "source": []
  },
  {
   "cell_type": "code",
   "execution_count": 49,
   "metadata": {},
   "outputs": [],
   "source": [
    "city_list = cities[0][\"data\"][0]"
   ]
  },
  {
   "cell_type": "code",
   "execution_count": 50,
   "metadata": {},
   "outputs": [],
   "source": [
    "not_empty = [ele for ele in city_list if ele[0] != \"\"]"
   ]
  },
  {
   "cell_type": "code",
   "execution_count": 51,
   "metadata": {},
   "outputs": [],
   "source": [
    "df = pd.DataFrame(not_empty)"
   ]
  },
  {
   "cell_type": "code",
   "execution_count": 52,
   "metadata": {},
   "outputs": [],
   "source": [
    "df.columns = df.iloc[0]\n",
    "df = df[1:]"
   ]
  },
  {
   "cell_type": "code",
   "execution_count": 53,
   "metadata": {},
   "outputs": [
    {
     "data": {
      "text/html": [
       "<div>\n",
       "<style scoped>\n",
       "    .dataframe tbody tr th:only-of-type {\n",
       "        vertical-align: middle;\n",
       "    }\n",
       "\n",
       "    .dataframe tbody tr th {\n",
       "        vertical-align: top;\n",
       "    }\n",
       "\n",
       "    .dataframe thead th {\n",
       "        text-align: right;\n",
       "    }\n",
       "</style>\n",
       "<table border=\"1\" class=\"dataframe\">\n",
       "  <thead>\n",
       "    <tr style=\"text-align: right;\">\n",
       "      <th></th>\n",
       "      <th>Date</th>\n",
       "      <th>Arroyo Grande</th>\n",
       "      <th>Atascadero</th>\n",
       "      <th>Grover Beach</th>\n",
       "      <th>Nipomo</th>\n",
       "      <th>Paso Robles</th>\n",
       "      <th>San Luis Obispo</th>\n",
       "      <th>Templeton</th>\n",
       "      <th>CMC (Inmates)</th>\n",
       "      <th>Pismo Beach</th>\n",
       "      <th>...</th>\n",
       "      <th>Cambria</th>\n",
       "      <th>Shandon</th>\n",
       "      <th>Cal Poly (campus residents)</th>\n",
       "      <th>Cayucos</th>\n",
       "      <th>Avila</th>\n",
       "      <th>Santa Margarita</th>\n",
       "      <th>Creston</th>\n",
       "      <th>San Simeon</th>\n",
       "      <th>Bradley</th>\n",
       "      <th>ASH (patients)</th>\n",
       "    </tr>\n",
       "  </thead>\n",
       "  <tbody>\n",
       "    <tr>\n",
       "      <th>1</th>\n",
       "      <td>3/14/2020</td>\n",
       "      <td></td>\n",
       "      <td></td>\n",
       "      <td></td>\n",
       "      <td></td>\n",
       "      <td></td>\n",
       "      <td></td>\n",
       "      <td></td>\n",
       "      <td></td>\n",
       "      <td></td>\n",
       "      <td>...</td>\n",
       "      <td></td>\n",
       "      <td></td>\n",
       "      <td></td>\n",
       "      <td></td>\n",
       "      <td></td>\n",
       "      <td></td>\n",
       "      <td></td>\n",
       "      <td></td>\n",
       "      <td></td>\n",
       "      <td></td>\n",
       "    </tr>\n",
       "    <tr>\n",
       "      <th>2</th>\n",
       "      <td>3/15/2020</td>\n",
       "      <td></td>\n",
       "      <td></td>\n",
       "      <td></td>\n",
       "      <td></td>\n",
       "      <td></td>\n",
       "      <td></td>\n",
       "      <td></td>\n",
       "      <td></td>\n",
       "      <td></td>\n",
       "      <td>...</td>\n",
       "      <td></td>\n",
       "      <td></td>\n",
       "      <td></td>\n",
       "      <td></td>\n",
       "      <td></td>\n",
       "      <td></td>\n",
       "      <td></td>\n",
       "      <td></td>\n",
       "      <td></td>\n",
       "      <td></td>\n",
       "    </tr>\n",
       "    <tr>\n",
       "      <th>3</th>\n",
       "      <td>3/16/2020</td>\n",
       "      <td></td>\n",
       "      <td></td>\n",
       "      <td></td>\n",
       "      <td></td>\n",
       "      <td></td>\n",
       "      <td></td>\n",
       "      <td></td>\n",
       "      <td></td>\n",
       "      <td></td>\n",
       "      <td>...</td>\n",
       "      <td></td>\n",
       "      <td></td>\n",
       "      <td></td>\n",
       "      <td></td>\n",
       "      <td></td>\n",
       "      <td></td>\n",
       "      <td></td>\n",
       "      <td></td>\n",
       "      <td></td>\n",
       "      <td></td>\n",
       "    </tr>\n",
       "    <tr>\n",
       "      <th>4</th>\n",
       "      <td>3/17/2020</td>\n",
       "      <td></td>\n",
       "      <td></td>\n",
       "      <td></td>\n",
       "      <td></td>\n",
       "      <td></td>\n",
       "      <td></td>\n",
       "      <td></td>\n",
       "      <td></td>\n",
       "      <td></td>\n",
       "      <td>...</td>\n",
       "      <td></td>\n",
       "      <td></td>\n",
       "      <td></td>\n",
       "      <td></td>\n",
       "      <td></td>\n",
       "      <td></td>\n",
       "      <td></td>\n",
       "      <td></td>\n",
       "      <td></td>\n",
       "      <td></td>\n",
       "    </tr>\n",
       "    <tr>\n",
       "      <th>5</th>\n",
       "      <td>3/18/2020</td>\n",
       "      <td></td>\n",
       "      <td></td>\n",
       "      <td></td>\n",
       "      <td></td>\n",
       "      <td></td>\n",
       "      <td></td>\n",
       "      <td></td>\n",
       "      <td></td>\n",
       "      <td></td>\n",
       "      <td>...</td>\n",
       "      <td></td>\n",
       "      <td></td>\n",
       "      <td></td>\n",
       "      <td></td>\n",
       "      <td></td>\n",
       "      <td></td>\n",
       "      <td></td>\n",
       "      <td></td>\n",
       "      <td></td>\n",
       "      <td></td>\n",
       "    </tr>\n",
       "    <tr>\n",
       "      <th>...</th>\n",
       "      <td>...</td>\n",
       "      <td>...</td>\n",
       "      <td>...</td>\n",
       "      <td>...</td>\n",
       "      <td>...</td>\n",
       "      <td>...</td>\n",
       "      <td>...</td>\n",
       "      <td>...</td>\n",
       "      <td>...</td>\n",
       "      <td>...</td>\n",
       "      <td>...</td>\n",
       "      <td>...</td>\n",
       "      <td>...</td>\n",
       "      <td>...</td>\n",
       "      <td>...</td>\n",
       "      <td>...</td>\n",
       "      <td>...</td>\n",
       "      <td>...</td>\n",
       "      <td>...</td>\n",
       "      <td>...</td>\n",
       "      <td>...</td>\n",
       "    </tr>\n",
       "    <tr>\n",
       "      <th>673</th>\n",
       "      <td>1/14/2022</td>\n",
       "      <td>3186</td>\n",
       "      <td>3991</td>\n",
       "      <td>1693</td>\n",
       "      <td>2926</td>\n",
       "      <td>7177</td>\n",
       "      <td>7303</td>\n",
       "      <td>1335</td>\n",
       "      <td>2474</td>\n",
       "      <td>745</td>\n",
       "      <td>...</td>\n",
       "      <td>367</td>\n",
       "      <td>282</td>\n",
       "      <td>817</td>\n",
       "      <td>196</td>\n",
       "      <td>73</td>\n",
       "      <td>290</td>\n",
       "      <td>159</td>\n",
       "      <td>56</td>\n",
       "      <td></td>\n",
       "      <td>223</td>\n",
       "    </tr>\n",
       "    <tr>\n",
       "      <th>674</th>\n",
       "      <td>1/15/2022</td>\n",
       "      <td>3262</td>\n",
       "      <td>4174</td>\n",
       "      <td>1728</td>\n",
       "      <td>2971</td>\n",
       "      <td>7347</td>\n",
       "      <td>7446</td>\n",
       "      <td>1373</td>\n",
       "      <td>2500</td>\n",
       "      <td>774</td>\n",
       "      <td>...</td>\n",
       "      <td>371</td>\n",
       "      <td>286</td>\n",
       "      <td>817</td>\n",
       "      <td>200</td>\n",
       "      <td>76</td>\n",
       "      <td>299</td>\n",
       "      <td>164</td>\n",
       "      <td>56</td>\n",
       "      <td>35</td>\n",
       "      <td>238</td>\n",
       "    </tr>\n",
       "    <tr>\n",
       "      <th>675</th>\n",
       "      <td>1/16/2022</td>\n",
       "      <td>3272</td>\n",
       "      <td>4185</td>\n",
       "      <td>1741</td>\n",
       "      <td>2987</td>\n",
       "      <td>7362</td>\n",
       "      <td>7470</td>\n",
       "      <td>1376</td>\n",
       "      <td>2500</td>\n",
       "      <td>780</td>\n",
       "      <td>...</td>\n",
       "      <td>371</td>\n",
       "      <td>286</td>\n",
       "      <td>817</td>\n",
       "      <td>201</td>\n",
       "      <td>76</td>\n",
       "      <td>300</td>\n",
       "      <td>164</td>\n",
       "      <td>56</td>\n",
       "      <td>36</td>\n",
       "      <td>238</td>\n",
       "    </tr>\n",
       "    <tr>\n",
       "      <th>676</th>\n",
       "      <td>1/17/2022</td>\n",
       "      <td>3287</td>\n",
       "      <td>4207</td>\n",
       "      <td>1753</td>\n",
       "      <td>3003</td>\n",
       "      <td>7400</td>\n",
       "      <td>7488</td>\n",
       "      <td>1382</td>\n",
       "      <td>2501</td>\n",
       "      <td>786</td>\n",
       "      <td>...</td>\n",
       "      <td>374</td>\n",
       "      <td>288</td>\n",
       "      <td>817</td>\n",
       "      <td>202</td>\n",
       "      <td>76</td>\n",
       "      <td>300</td>\n",
       "      <td>165</td>\n",
       "      <td>56</td>\n",
       "      <td>36</td>\n",
       "      <td>238</td>\n",
       "    </tr>\n",
       "    <tr>\n",
       "      <th>677</th>\n",
       "      <td>1/18/2022</td>\n",
       "      <td>3366</td>\n",
       "      <td>4259</td>\n",
       "      <td>1787</td>\n",
       "      <td>3061</td>\n",
       "      <td>7531</td>\n",
       "      <td>7584</td>\n",
       "      <td>1402</td>\n",
       "      <td>2501</td>\n",
       "      <td>797</td>\n",
       "      <td>...</td>\n",
       "      <td>380</td>\n",
       "      <td>292</td>\n",
       "      <td>817</td>\n",
       "      <td>209</td>\n",
       "      <td>78</td>\n",
       "      <td>304</td>\n",
       "      <td>167</td>\n",
       "      <td>56</td>\n",
       "      <td>36</td>\n",
       "      <td>240</td>\n",
       "    </tr>\n",
       "  </tbody>\n",
       "</table>\n",
       "<p>677 rows × 24 columns</p>\n",
       "</div>"
      ],
      "text/plain": [
       "0         Date Arroyo Grande Atascadero Grover Beach Nipomo Paso Robles  \\\n",
       "1    3/14/2020                                                            \n",
       "2    3/15/2020                                                            \n",
       "3    3/16/2020                                                            \n",
       "4    3/17/2020                                                            \n",
       "5    3/18/2020                                                            \n",
       "..         ...           ...        ...          ...    ...         ...   \n",
       "673  1/14/2022          3186       3991         1693   2926        7177   \n",
       "674  1/15/2022          3262       4174         1728   2971        7347   \n",
       "675  1/16/2022          3272       4185         1741   2987        7362   \n",
       "676  1/17/2022          3287       4207         1753   3003        7400   \n",
       "677  1/18/2022          3366       4259         1787   3061        7531   \n",
       "\n",
       "0   San Luis Obispo Templeton CMC (Inmates) Pismo Beach  ... Cambria Shandon  \\\n",
       "1                                                        ...                   \n",
       "2                                                        ...                   \n",
       "3                                                        ...                   \n",
       "4                                                        ...                   \n",
       "5                                                        ...                   \n",
       "..              ...       ...           ...         ...  ...     ...     ...   \n",
       "673            7303      1335          2474         745  ...     367     282   \n",
       "674            7446      1373          2500         774  ...     371     286   \n",
       "675            7470      1376          2500         780  ...     371     286   \n",
       "676            7488      1382          2501         786  ...     374     288   \n",
       "677            7584      1402          2501         797  ...     380     292   \n",
       "\n",
       "0   Cal Poly (campus residents) Cayucos Avila Santa Margarita Creston  \\\n",
       "1                                                                       \n",
       "2                                                                       \n",
       "3                                                                       \n",
       "4                                                                       \n",
       "5                                                                       \n",
       "..                          ...     ...   ...             ...     ...   \n",
       "673                         817     196    73             290     159   \n",
       "674                         817     200    76             299     164   \n",
       "675                         817     201    76             300     164   \n",
       "676                         817     202    76             300     165   \n",
       "677                         817     209    78             304     167   \n",
       "\n",
       "0   San Simeon Bradley ASH (patients)  \n",
       "1                                      \n",
       "2                                      \n",
       "3                                      \n",
       "4                                      \n",
       "5                                      \n",
       "..         ...     ...            ...  \n",
       "673         56                    223  \n",
       "674         56      35            238  \n",
       "675         56      36            238  \n",
       "676         56      36            238  \n",
       "677         56      36            240  \n",
       "\n",
       "[677 rows x 24 columns]"
      ]
     },
     "execution_count": 53,
     "metadata": {},
     "output_type": "execute_result"
    }
   ],
   "source": [
    "df"
   ]
  },
  {
   "cell_type": "markdown",
   "metadata": {},
   "source": [
    "Clean up the dataframe"
   ]
  },
  {
   "cell_type": "code",
   "execution_count": 54,
   "metadata": {},
   "outputs": [],
   "source": [
    "melt_df = pd.melt(\n",
    "    df, id_vars=[\"Date\"], var_name=\"area\", value_name=\"confirmed_cases\"\n",
    ").rename(columns={\"Date\": \"date\"})"
   ]
  },
  {
   "cell_type": "code",
   "execution_count": 55,
   "metadata": {},
   "outputs": [],
   "source": [
    "melt_df[\"date\"] = pd.to_datetime(melt_df[\"date\"])"
   ]
  },
  {
   "cell_type": "code",
   "execution_count": 56,
   "metadata": {},
   "outputs": [],
   "source": [
    "melt_df[\"confirmed_cases\"] = melt_df[\"confirmed_cases\"].replace(\",\", \"\", regex=True)"
   ]
  },
  {
   "cell_type": "code",
   "execution_count": 57,
   "metadata": {},
   "outputs": [],
   "source": [
    "filter_df = melt_df[(melt_df[\"confirmed_cases\"] != \"\") & (melt_df[\"area\"] != \"Bradley\")]"
   ]
  },
  {
   "cell_type": "code",
   "execution_count": 58,
   "metadata": {},
   "outputs": [],
   "source": [
    "sort_df = filter_df.sort_values([\"date\", \"area\"])"
   ]
  },
  {
   "cell_type": "code",
   "execution_count": 59,
   "metadata": {},
   "outputs": [],
   "source": [
    "assert not sort_df.area.isnull().any()"
   ]
  },
  {
   "cell_type": "code",
   "execution_count": 60,
   "metadata": {},
   "outputs": [],
   "source": [
    "assert len(sort_df[sort_df.area == \"\"]) == 0"
   ]
  },
  {
   "cell_type": "markdown",
   "metadata": {},
   "source": [
    "Get timestamp"
   ]
  },
  {
   "cell_type": "code",
   "execution_count": 61,
   "metadata": {},
   "outputs": [],
   "source": [
    "text = data[\"elements\"]"
   ]
  },
  {
   "cell_type": "code",
   "execution_count": 62,
   "metadata": {},
   "outputs": [],
   "source": [
    "grafs = []\n",
    "for ele in data[\"elements\"]:\n",
    "    keys = ele.keys()\n",
    "    if \"text\" in keys:\n",
    "        text = ele[\"text\"]\n",
    "        grafs.append(text)"
   ]
  },
  {
   "cell_type": "code",
   "execution_count": 63,
   "metadata": {},
   "outputs": [],
   "source": [
    "regexDateGraf = re.compile(\"As of \\d{1,2}\\/\\d{1,2}\\/\\d{1,2}\")"
   ]
  },
  {
   "cell_type": "code",
   "execution_count": 64,
   "metadata": {},
   "outputs": [],
   "source": [
    "parsed_text = []\n",
    "for graf in grafs:\n",
    "    soup = BeautifulSoup(graf, \"html.parser\")\n",
    "    text = soup.text\n",
    "    parsed_text.append(text)"
   ]
  },
  {
   "cell_type": "code",
   "execution_count": 65,
   "metadata": {},
   "outputs": [],
   "source": [
    "date_graf = [\n",
    "    regexDateGraf.search(t)[0] for t in parsed_text if regexDateGraf.search(t) != None\n",
    "][0]"
   ]
  },
  {
   "cell_type": "code",
   "execution_count": 66,
   "metadata": {},
   "outputs": [],
   "source": [
    "date_graf_trim = date_graf.replace(\"As of \", \"\")"
   ]
  },
  {
   "cell_type": "code",
   "execution_count": 67,
   "metadata": {},
   "outputs": [],
   "source": [
    "latest_date = pd.to_datetime(date_graf_trim, format=\"%m/%d/%y\").date()"
   ]
  },
  {
   "cell_type": "code",
   "execution_count": 68,
   "metadata": {},
   "outputs": [],
   "source": [
    "sort_df[\"county_date\"] = latest_date"
   ]
  },
  {
   "cell_type": "code",
   "execution_count": 69,
   "metadata": {},
   "outputs": [],
   "source": [
    "sort_df.insert(0, \"county\", \"San Luis Obispo\")"
   ]
  },
  {
   "cell_type": "code",
   "execution_count": 70,
   "metadata": {},
   "outputs": [],
   "source": [
    "latest_df = sort_df[sort_df.date == sort_df.date.max()]"
   ]
  },
  {
   "cell_type": "markdown",
   "metadata": {},
   "source": [
    "## Vet"
   ]
  },
  {
   "cell_type": "markdown",
   "metadata": {},
   "source": [
    "Make sure everyone is here"
   ]
  },
  {
   "cell_type": "code",
   "execution_count": 71,
   "metadata": {},
   "outputs": [],
   "source": [
    "try:\n",
    "    assert not len(latest_df) > 22\n",
    "except AssertionError:\n",
    "    raise AssertionError(\"San Luis Obispo County's scraper has more rows than before\")"
   ]
  },
  {
   "cell_type": "code",
   "execution_count": 72,
   "metadata": {},
   "outputs": [],
   "source": [
    "try:\n",
    "    assert not len(latest_df) < 22\n",
    "except AssertionError:\n",
    "    raise AssertionError(\"San Luis Obispo County's scraper is missing rows\")"
   ]
  },
  {
   "cell_type": "code",
   "execution_count": 74,
   "metadata": {},
   "outputs": [
    {
     "data": {
      "text/html": [
       "<div>\n",
       "<style scoped>\n",
       "    .dataframe tbody tr th:only-of-type {\n",
       "        vertical-align: middle;\n",
       "    }\n",
       "\n",
       "    .dataframe tbody tr th {\n",
       "        vertical-align: top;\n",
       "    }\n",
       "\n",
       "    .dataframe thead th {\n",
       "        text-align: right;\n",
       "    }\n",
       "</style>\n",
       "<table border=\"1\" class=\"dataframe\">\n",
       "  <thead>\n",
       "    <tr style=\"text-align: right;\">\n",
       "      <th></th>\n",
       "      <th>county</th>\n",
       "      <th>date</th>\n",
       "      <th>area</th>\n",
       "      <th>confirmed_cases</th>\n",
       "      <th>county_date</th>\n",
       "    </tr>\n",
       "  </thead>\n",
       "  <tbody>\n",
       "    <tr>\n",
       "      <th>15570</th>\n",
       "      <td>San Luis Obispo</td>\n",
       "      <td>2022-01-18</td>\n",
       "      <td>ASH (patients)</td>\n",
       "      <td>240</td>\n",
       "      <td>2022-01-18</td>\n",
       "    </tr>\n",
       "    <tr>\n",
       "      <th>676</th>\n",
       "      <td>San Luis Obispo</td>\n",
       "      <td>2022-01-18</td>\n",
       "      <td>Arroyo Grande</td>\n",
       "      <td>3366</td>\n",
       "      <td>2022-01-18</td>\n",
       "    </tr>\n",
       "    <tr>\n",
       "      <th>1353</th>\n",
       "      <td>San Luis Obispo</td>\n",
       "      <td>2022-01-18</td>\n",
       "      <td>Atascadero</td>\n",
       "      <td>4259</td>\n",
       "      <td>2022-01-18</td>\n",
       "    </tr>\n",
       "    <tr>\n",
       "      <th>12185</th>\n",
       "      <td>San Luis Obispo</td>\n",
       "      <td>2022-01-18</td>\n",
       "      <td>Avila</td>\n",
       "      <td>78</td>\n",
       "      <td>2022-01-18</td>\n",
       "    </tr>\n",
       "    <tr>\n",
       "      <th>5415</th>\n",
       "      <td>San Luis Obispo</td>\n",
       "      <td>2022-01-18</td>\n",
       "      <td>CMC (Inmates)</td>\n",
       "      <td>2501</td>\n",
       "      <td>2022-01-18</td>\n",
       "    </tr>\n",
       "    <tr>\n",
       "      <th>10831</th>\n",
       "      <td>San Luis Obispo</td>\n",
       "      <td>2022-01-18</td>\n",
       "      <td>Cal Poly (campus residents)</td>\n",
       "      <td>817</td>\n",
       "      <td>2022-01-18</td>\n",
       "    </tr>\n",
       "    <tr>\n",
       "      <th>9477</th>\n",
       "      <td>San Luis Obispo</td>\n",
       "      <td>2022-01-18</td>\n",
       "      <td>Cambria</td>\n",
       "      <td>380</td>\n",
       "      <td>2022-01-18</td>\n",
       "    </tr>\n",
       "    <tr>\n",
       "      <th>11508</th>\n",
       "      <td>San Luis Obispo</td>\n",
       "      <td>2022-01-18</td>\n",
       "      <td>Cayucos</td>\n",
       "      <td>209</td>\n",
       "      <td>2022-01-18</td>\n",
       "    </tr>\n",
       "    <tr>\n",
       "      <th>13539</th>\n",
       "      <td>San Luis Obispo</td>\n",
       "      <td>2022-01-18</td>\n",
       "      <td>Creston</td>\n",
       "      <td>167</td>\n",
       "      <td>2022-01-18</td>\n",
       "    </tr>\n",
       "    <tr>\n",
       "      <th>2030</th>\n",
       "      <td>San Luis Obispo</td>\n",
       "      <td>2022-01-18</td>\n",
       "      <td>Grover Beach</td>\n",
       "      <td>1787</td>\n",
       "      <td>2022-01-18</td>\n",
       "    </tr>\n",
       "    <tr>\n",
       "      <th>7446</th>\n",
       "      <td>San Luis Obispo</td>\n",
       "      <td>2022-01-18</td>\n",
       "      <td>Los Osos</td>\n",
       "      <td>1158</td>\n",
       "      <td>2022-01-18</td>\n",
       "    </tr>\n",
       "    <tr>\n",
       "      <th>8800</th>\n",
       "      <td>San Luis Obispo</td>\n",
       "      <td>2022-01-18</td>\n",
       "      <td>Morro Bay</td>\n",
       "      <td>1007</td>\n",
       "      <td>2022-01-18</td>\n",
       "    </tr>\n",
       "    <tr>\n",
       "      <th>2707</th>\n",
       "      <td>San Luis Obispo</td>\n",
       "      <td>2022-01-18</td>\n",
       "      <td>Nipomo</td>\n",
       "      <td>3061</td>\n",
       "      <td>2022-01-18</td>\n",
       "    </tr>\n",
       "    <tr>\n",
       "      <th>8123</th>\n",
       "      <td>San Luis Obispo</td>\n",
       "      <td>2022-01-18</td>\n",
       "      <td>Oceano</td>\n",
       "      <td>1209</td>\n",
       "      <td>2022-01-18</td>\n",
       "    </tr>\n",
       "    <tr>\n",
       "      <th>3384</th>\n",
       "      <td>San Luis Obispo</td>\n",
       "      <td>2022-01-18</td>\n",
       "      <td>Paso Robles</td>\n",
       "      <td>7531</td>\n",
       "      <td>2022-01-18</td>\n",
       "    </tr>\n",
       "    <tr>\n",
       "      <th>6092</th>\n",
       "      <td>San Luis Obispo</td>\n",
       "      <td>2022-01-18</td>\n",
       "      <td>Pismo Beach</td>\n",
       "      <td>797</td>\n",
       "      <td>2022-01-18</td>\n",
       "    </tr>\n",
       "    <tr>\n",
       "      <th>4061</th>\n",
       "      <td>San Luis Obispo</td>\n",
       "      <td>2022-01-18</td>\n",
       "      <td>San Luis Obispo</td>\n",
       "      <td>7584</td>\n",
       "      <td>2022-01-18</td>\n",
       "    </tr>\n",
       "    <tr>\n",
       "      <th>6769</th>\n",
       "      <td>San Luis Obispo</td>\n",
       "      <td>2022-01-18</td>\n",
       "      <td>San Miguel</td>\n",
       "      <td>848</td>\n",
       "      <td>2022-01-18</td>\n",
       "    </tr>\n",
       "    <tr>\n",
       "      <th>14216</th>\n",
       "      <td>San Luis Obispo</td>\n",
       "      <td>2022-01-18</td>\n",
       "      <td>San Simeon</td>\n",
       "      <td>56</td>\n",
       "      <td>2022-01-18</td>\n",
       "    </tr>\n",
       "    <tr>\n",
       "      <th>12862</th>\n",
       "      <td>San Luis Obispo</td>\n",
       "      <td>2022-01-18</td>\n",
       "      <td>Santa Margarita</td>\n",
       "      <td>304</td>\n",
       "      <td>2022-01-18</td>\n",
       "    </tr>\n",
       "    <tr>\n",
       "      <th>10154</th>\n",
       "      <td>San Luis Obispo</td>\n",
       "      <td>2022-01-18</td>\n",
       "      <td>Shandon</td>\n",
       "      <td>292</td>\n",
       "      <td>2022-01-18</td>\n",
       "    </tr>\n",
       "    <tr>\n",
       "      <th>4738</th>\n",
       "      <td>San Luis Obispo</td>\n",
       "      <td>2022-01-18</td>\n",
       "      <td>Templeton</td>\n",
       "      <td>1402</td>\n",
       "      <td>2022-01-18</td>\n",
       "    </tr>\n",
       "  </tbody>\n",
       "</table>\n",
       "</div>"
      ],
      "text/plain": [
       "                county       date                         area  \\\n",
       "15570  San Luis Obispo 2022-01-18               ASH (patients)   \n",
       "676    San Luis Obispo 2022-01-18                Arroyo Grande   \n",
       "1353   San Luis Obispo 2022-01-18                   Atascadero   \n",
       "12185  San Luis Obispo 2022-01-18                        Avila   \n",
       "5415   San Luis Obispo 2022-01-18                CMC (Inmates)   \n",
       "10831  San Luis Obispo 2022-01-18  Cal Poly (campus residents)   \n",
       "9477   San Luis Obispo 2022-01-18                      Cambria   \n",
       "11508  San Luis Obispo 2022-01-18                      Cayucos   \n",
       "13539  San Luis Obispo 2022-01-18                      Creston   \n",
       "2030   San Luis Obispo 2022-01-18                 Grover Beach   \n",
       "7446   San Luis Obispo 2022-01-18                     Los Osos   \n",
       "8800   San Luis Obispo 2022-01-18                    Morro Bay   \n",
       "2707   San Luis Obispo 2022-01-18                       Nipomo   \n",
       "8123   San Luis Obispo 2022-01-18                       Oceano   \n",
       "3384   San Luis Obispo 2022-01-18                  Paso Robles   \n",
       "6092   San Luis Obispo 2022-01-18                  Pismo Beach   \n",
       "4061   San Luis Obispo 2022-01-18              San Luis Obispo   \n",
       "6769   San Luis Obispo 2022-01-18                   San Miguel   \n",
       "14216  San Luis Obispo 2022-01-18                   San Simeon   \n",
       "12862  San Luis Obispo 2022-01-18              Santa Margarita   \n",
       "10154  San Luis Obispo 2022-01-18                      Shandon   \n",
       "4738   San Luis Obispo 2022-01-18                    Templeton   \n",
       "\n",
       "      confirmed_cases county_date  \n",
       "15570             240  2022-01-18  \n",
       "676              3366  2022-01-18  \n",
       "1353             4259  2022-01-18  \n",
       "12185              78  2022-01-18  \n",
       "5415             2501  2022-01-18  \n",
       "10831             817  2022-01-18  \n",
       "9477              380  2022-01-18  \n",
       "11508             209  2022-01-18  \n",
       "13539             167  2022-01-18  \n",
       "2030             1787  2022-01-18  \n",
       "7446             1158  2022-01-18  \n",
       "8800             1007  2022-01-18  \n",
       "2707             3061  2022-01-18  \n",
       "8123             1209  2022-01-18  \n",
       "3384             7531  2022-01-18  \n",
       "6092              797  2022-01-18  \n",
       "4061             7584  2022-01-18  \n",
       "6769              848  2022-01-18  \n",
       "14216              56  2022-01-18  \n",
       "12862             304  2022-01-18  \n",
       "10154             292  2022-01-18  \n",
       "4738             1402  2022-01-18  "
      ]
     },
     "execution_count": 74,
     "metadata": {},
     "output_type": "execute_result"
    }
   ],
   "source": [
    "latest_df"
   ]
  },
  {
   "cell_type": "markdown",
   "metadata": {},
   "source": [
    "## Export"
   ]
  },
  {
   "cell_type": "markdown",
   "metadata": {},
   "source": [
    "Set date"
   ]
  },
  {
   "cell_type": "code",
   "execution_count": 75,
   "metadata": {},
   "outputs": [],
   "source": [
    "tz = pytz.timezone(\"America/Los_Angeles\")"
   ]
  },
  {
   "cell_type": "code",
   "execution_count": 76,
   "metadata": {},
   "outputs": [],
   "source": [
    "today = datetime.now(tz).date()"
   ]
  },
  {
   "cell_type": "code",
   "execution_count": 77,
   "metadata": {},
   "outputs": [],
   "source": [
    "slug = \"san-luis-obispo\""
   ]
  },
  {
   "cell_type": "code",
   "execution_count": 78,
   "metadata": {},
   "outputs": [],
   "source": [
    "latest_df.to_csv(data_dir / slug / f\"{today}.csv\", index=False)"
   ]
  },
  {
   "cell_type": "markdown",
   "metadata": {},
   "source": [
    "## Combine"
   ]
  },
  {
   "cell_type": "code",
   "execution_count": 79,
   "metadata": {},
   "outputs": [],
   "source": [
    "csv_list = [\n",
    "    i\n",
    "    for i in glob.glob(str(data_dir / slug / \"*.csv\"))\n",
    "    if not str(i).endswith(\"timeseries.csv\")\n",
    "]"
   ]
  },
  {
   "cell_type": "code",
   "execution_count": 80,
   "metadata": {},
   "outputs": [],
   "source": [
    "df_list = []\n",
    "for csv in csv_list:\n",
    "    if \"manual\" in csv:\n",
    "        df = pd.read_csv(csv, parse_dates=[\"date\"])\n",
    "    else:\n",
    "        file_date = csv.split(\"/\")[-1].replace(\".csv\", \"\")\n",
    "        df = pd.read_csv(csv, parse_dates=[\"county_date\"])\n",
    "        df[\"date\"] = file_date\n",
    "    df_list.append(df)"
   ]
  },
  {
   "cell_type": "code",
   "execution_count": 81,
   "metadata": {},
   "outputs": [],
   "source": [
    "df = pd.concat(df_list).sort_values([\"date\", \"area\"])"
   ]
  },
  {
   "cell_type": "code",
   "execution_count": 82,
   "metadata": {},
   "outputs": [],
   "source": [
    "df.to_csv(data_dir / slug / \"timeseries.csv\", index=False)"
   ]
  },
  {
   "cell_type": "code",
   "execution_count": null,
   "metadata": {},
   "outputs": [],
   "source": []
  }
 ],
 "metadata": {
  "kernelspec": {
   "display_name": "Python 3 (ipykernel)",
   "language": "python",
   "name": "python3"
  },
  "language_info": {
   "codemirror_mode": {
    "name": "ipython",
    "version": 3
   },
   "file_extension": ".py",
   "mimetype": "text/x-python",
   "name": "python",
   "nbconvert_exporter": "python",
   "pygments_lexer": "ipython3",
   "version": "3.8.8"
  }
 },
 "nbformat": 4,
 "nbformat_minor": 4
}
