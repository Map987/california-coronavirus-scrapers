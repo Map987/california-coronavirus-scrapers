{
 "cells": [
  {
   "cell_type": "markdown",
   "metadata": {},
   "source": [
    "## Configuration\n",
    "_Initial steps to get the notebook ready to play nice with our repository. Do not delete this section._"
   ]
  },
  {
   "cell_type": "markdown",
   "metadata": {},
   "source": [
    "Code formatting with [black](https://pypi.org/project/nb-black/)."
   ]
  },
  {
   "cell_type": "code",
   "execution_count": 1,
   "metadata": {},
   "outputs": [],
   "source": [
    ""
   ]
  },
  {
   "cell_type": "code",
   "execution_count": 2,
   "metadata": {},
   "outputs": [],
   "source": [
    "import os\n",
    "import pytz\n",
    "import glob\n",
    "import pathlib\n",
    "\n",
    "this_dir = pathlib.Path(os.path.abspath(\"\"))\n",
    "data_dir = this_dir / \"data\""
   ]
  },
  {
   "cell_type": "code",
   "execution_count": 3,
   "metadata": {},
   "outputs": [
    {
     "name": "stderr",
     "output_type": "stream",
     "text": [
      "/Users/slee/.local/share/virtualenvs/california-coronavirus-scrapers-QTClc1WQ/lib/python3.8/site-packages/pandas/compat/__init__.py:124: UserWarning: Could not import the lzma module. Your installed Python is incomplete. Attempting to use lzma compression will result in a RuntimeError.\n",
      "  warnings.warn(msg)\n"
     ]
    }
   ],
   "source": [
    "import requests\n",
    "import pandas as pd\n",
    "from bs4 import BeautifulSoup\n",
    "import json\n",
    "import re\n",
    "from datetime import datetime, date, timedelta\n",
    "from slugify import slugify\n",
    "from playwright.async_api import async_playwright"
   ]
  },
  {
   "cell_type": "markdown",
   "metadata": {},
   "source": [
    "## Download"
   ]
  },
  {
   "cell_type": "markdown",
   "metadata": {},
   "source": [
    "Retrieve the page"
   ]
  },
  {
   "cell_type": "code",
   "execution_count": 4,
   "metadata": {},
   "outputs": [],
   "source": [
    "url = \"https://e.infogram.com/1c8458d3-1302-4c47-bd47-24366f127b72?parent_url=https%3A%2F%2Fwww.emergencyslo.org%2Fen%2Fpositive-case-details.aspx&src=embed#\""
   ]
  },
  {
   "cell_type": "code",
   "execution_count": 5,
   "metadata": {},
   "outputs": [],
   "source": [
    "url = \"https://e.infogram.com/6d3c0cf1-4960-4340-9872-78dd22cb991a?parent_url=https%3A%2F%2Fwww.slocounty.ca.gov%2FCOVID-19%2FData.aspx&src=embed#\""
   ]
  },
  {
   "cell_type": "code",
   "execution_count": 6,
   "metadata": {},
   "outputs": [],
   "source": [
    "page = requests.get(url)"
   ]
  },
  {
   "cell_type": "code",
   "execution_count": 7,
   "metadata": {},
   "outputs": [],
   "source": [
    "soup = BeautifulSoup(page.content, \"html.parser\")"
   ]
  },
  {
   "cell_type": "markdown",
   "metadata": {},
   "source": [
    "## Parse"
   ]
  },
  {
   "cell_type": "markdown",
   "metadata": {},
   "source": [
    "Find script tag with the Infogram data"
   ]
  },
  {
   "cell_type": "code",
   "execution_count": 8,
   "metadata": {},
   "outputs": [],
   "source": [
    "for elem in soup(text=re.compile(r\"window.infographicData\")):\n",
    "    script = elem"
   ]
  },
  {
   "cell_type": "code",
   "execution_count": 9,
   "metadata": {},
   "outputs": [],
   "source": [
    "stripped_script = re.sub(\"window.infographicData=\", \"\", script)"
   ]
  },
  {
   "cell_type": "code",
   "execution_count": 10,
   "metadata": {},
   "outputs": [],
   "source": [
    "stripped_script = stripped_script.rstrip(\";\")"
   ]
  },
  {
   "cell_type": "code",
   "execution_count": 11,
   "metadata": {},
   "outputs": [],
   "source": [
    "data = json.loads(stripped_script)"
   ]
  },
  {
   "cell_type": "code",
   "execution_count": 12,
   "metadata": {},
   "outputs": [],
   "source": [
    "cities = [\n",
    "    x\n",
    "    for x in data[\"elements\"]\n",
    "    ##if x[\"object_id\"] == \"3695dc89-8a1c-4aa2-951b-11eb68e147ac\"\n",
    "    if x[\"object_id\"] == \"ebb96e22-3766-4a73-a776-90c533b379b5\"\n",
    "]\n",
    "\n",
    "# \"ebb96e22-3766-4a73-a776-90c533b379b5\"\n",
    "# \"e024d6eb-623f-48fc-8345-19a937721f7d\""
   ]
  },
  {
   "cell_type": "code",
   "execution_count": null,
   "metadata": {},
   "outputs": [],
   "source": []
  },
  {
   "cell_type": "code",
   "execution_count": 13,
   "metadata": {},
   "outputs": [],
   "source": [
    "city_list = cities[0][\"data\"][0]"
   ]
  },
  {
   "cell_type": "code",
   "execution_count": 14,
   "metadata": {},
   "outputs": [],
   "source": [
    "not_empty = [ele for ele in city_list if ele[0] != \"\"]"
   ]
  },
  {
   "cell_type": "code",
   "execution_count": 15,
   "metadata": {},
   "outputs": [],
   "source": [
    "df = pd.DataFrame(not_empty)"
   ]
  },
  {
   "cell_type": "code",
   "execution_count": 16,
   "metadata": {},
   "outputs": [],
   "source": [
    "df.columns = df.iloc[0]\n",
    "df = df[1:]"
   ]
  },
  {
   "cell_type": "code",
   "execution_count": 17,
   "metadata": {},
   "outputs": [
    {
     "data": {
      "text/html": [
       "<div>\n",
       "<style scoped>\n",
       "    .dataframe tbody tr th:only-of-type {\n",
       "        vertical-align: middle;\n",
       "    }\n",
       "\n",
       "    .dataframe tbody tr th {\n",
       "        vertical-align: top;\n",
       "    }\n",
       "\n",
       "    .dataframe thead th {\n",
       "        text-align: right;\n",
       "    }\n",
       "</style>\n",
       "<table border=\"1\" class=\"dataframe\">\n",
       "  <thead>\n",
       "    <tr style=\"text-align: right;\">\n",
       "      <th></th>\n",
       "      <th>Date</th>\n",
       "      <th>Arroyo Grande</th>\n",
       "      <th>Atascadero</th>\n",
       "      <th>Grover Beach</th>\n",
       "      <th>Nipomo</th>\n",
       "      <th>Paso Robles</th>\n",
       "      <th>San Luis Obispo</th>\n",
       "      <th>Templeton</th>\n",
       "      <th>CMC (Inmates)</th>\n",
       "      <th>Pismo Beach</th>\n",
       "      <th>...</th>\n",
       "      <th>Shandon</th>\n",
       "      <th>Cal Poly (campus residents)</th>\n",
       "      <th>Cayucos</th>\n",
       "      <th>Avila</th>\n",
       "      <th>Santa Margarita</th>\n",
       "      <th>Creston</th>\n",
       "      <th>San Simeon</th>\n",
       "      <th>Bradley</th>\n",
       "      <th>ASH (patients)</th>\n",
       "      <th>NaN</th>\n",
       "    </tr>\n",
       "  </thead>\n",
       "  <tbody>\n",
       "    <tr>\n",
       "      <th>1</th>\n",
       "      <td>3/14/2020</td>\n",
       "      <td></td>\n",
       "      <td></td>\n",
       "      <td></td>\n",
       "      <td></td>\n",
       "      <td></td>\n",
       "      <td></td>\n",
       "      <td></td>\n",
       "      <td></td>\n",
       "      <td></td>\n",
       "      <td>...</td>\n",
       "      <td></td>\n",
       "      <td></td>\n",
       "      <td></td>\n",
       "      <td></td>\n",
       "      <td></td>\n",
       "      <td></td>\n",
       "      <td></td>\n",
       "      <td></td>\n",
       "      <td></td>\n",
       "      <td>None</td>\n",
       "    </tr>\n",
       "    <tr>\n",
       "      <th>2</th>\n",
       "      <td>3/15/2020</td>\n",
       "      <td></td>\n",
       "      <td></td>\n",
       "      <td></td>\n",
       "      <td></td>\n",
       "      <td></td>\n",
       "      <td></td>\n",
       "      <td></td>\n",
       "      <td></td>\n",
       "      <td></td>\n",
       "      <td>...</td>\n",
       "      <td></td>\n",
       "      <td></td>\n",
       "      <td></td>\n",
       "      <td></td>\n",
       "      <td></td>\n",
       "      <td></td>\n",
       "      <td></td>\n",
       "      <td></td>\n",
       "      <td></td>\n",
       "      <td>None</td>\n",
       "    </tr>\n",
       "    <tr>\n",
       "      <th>3</th>\n",
       "      <td>3/16/2020</td>\n",
       "      <td></td>\n",
       "      <td></td>\n",
       "      <td></td>\n",
       "      <td></td>\n",
       "      <td></td>\n",
       "      <td></td>\n",
       "      <td></td>\n",
       "      <td></td>\n",
       "      <td></td>\n",
       "      <td>...</td>\n",
       "      <td></td>\n",
       "      <td></td>\n",
       "      <td></td>\n",
       "      <td></td>\n",
       "      <td></td>\n",
       "      <td></td>\n",
       "      <td></td>\n",
       "      <td></td>\n",
       "      <td></td>\n",
       "      <td>None</td>\n",
       "    </tr>\n",
       "    <tr>\n",
       "      <th>4</th>\n",
       "      <td>3/17/2020</td>\n",
       "      <td></td>\n",
       "      <td></td>\n",
       "      <td></td>\n",
       "      <td></td>\n",
       "      <td></td>\n",
       "      <td></td>\n",
       "      <td></td>\n",
       "      <td></td>\n",
       "      <td></td>\n",
       "      <td>...</td>\n",
       "      <td></td>\n",
       "      <td></td>\n",
       "      <td></td>\n",
       "      <td></td>\n",
       "      <td></td>\n",
       "      <td></td>\n",
       "      <td></td>\n",
       "      <td></td>\n",
       "      <td></td>\n",
       "      <td>None</td>\n",
       "    </tr>\n",
       "    <tr>\n",
       "      <th>5</th>\n",
       "      <td>3/18/2020</td>\n",
       "      <td></td>\n",
       "      <td></td>\n",
       "      <td></td>\n",
       "      <td></td>\n",
       "      <td></td>\n",
       "      <td></td>\n",
       "      <td></td>\n",
       "      <td></td>\n",
       "      <td></td>\n",
       "      <td>...</td>\n",
       "      <td></td>\n",
       "      <td></td>\n",
       "      <td></td>\n",
       "      <td></td>\n",
       "      <td></td>\n",
       "      <td></td>\n",
       "      <td></td>\n",
       "      <td></td>\n",
       "      <td></td>\n",
       "      <td>None</td>\n",
       "    </tr>\n",
       "    <tr>\n",
       "      <th>...</th>\n",
       "      <td>...</td>\n",
       "      <td>...</td>\n",
       "      <td>...</td>\n",
       "      <td>...</td>\n",
       "      <td>...</td>\n",
       "      <td>...</td>\n",
       "      <td>...</td>\n",
       "      <td>...</td>\n",
       "      <td>...</td>\n",
       "      <td>...</td>\n",
       "      <td>...</td>\n",
       "      <td>...</td>\n",
       "      <td>...</td>\n",
       "      <td>...</td>\n",
       "      <td>...</td>\n",
       "      <td>...</td>\n",
       "      <td>...</td>\n",
       "      <td>...</td>\n",
       "      <td>...</td>\n",
       "      <td>...</td>\n",
       "      <td>...</td>\n",
       "    </tr>\n",
       "    <tr>\n",
       "      <th>683</th>\n",
       "      <td>1/24/2022</td>\n",
       "      <td>3734</td>\n",
       "      <td>4611</td>\n",
       "      <td>2008</td>\n",
       "      <td>3406</td>\n",
       "      <td>8190</td>\n",
       "      <td>8450</td>\n",
       "      <td>1527</td>\n",
       "      <td>2571</td>\n",
       "      <td>895</td>\n",
       "      <td>...</td>\n",
       "      <td>319</td>\n",
       "      <td>857</td>\n",
       "      <td>242</td>\n",
       "      <td>91</td>\n",
       "      <td>324</td>\n",
       "      <td>179</td>\n",
       "      <td>66</td>\n",
       "      <td>37</td>\n",
       "      <td>258</td>\n",
       "      <td>362</td>\n",
       "    </tr>\n",
       "    <tr>\n",
       "      <th>684</th>\n",
       "      <td>1/25/2022</td>\n",
       "      <td>3831</td>\n",
       "      <td>4710</td>\n",
       "      <td>2063</td>\n",
       "      <td>3518</td>\n",
       "      <td>8365</td>\n",
       "      <td>8676</td>\n",
       "      <td>1552</td>\n",
       "      <td>2575</td>\n",
       "      <td>919</td>\n",
       "      <td>...</td>\n",
       "      <td>323</td>\n",
       "      <td>868</td>\n",
       "      <td>246</td>\n",
       "      <td>94</td>\n",
       "      <td>332</td>\n",
       "      <td>182</td>\n",
       "      <td>66</td>\n",
       "      <td>38</td>\n",
       "      <td>266</td>\n",
       "      <td>374</td>\n",
       "    </tr>\n",
       "    <tr>\n",
       "      <th>685</th>\n",
       "      <td>1/26/2022</td>\n",
       "      <td>3955</td>\n",
       "      <td>4824</td>\n",
       "      <td>2137</td>\n",
       "      <td>3636</td>\n",
       "      <td>8597</td>\n",
       "      <td>8862</td>\n",
       "      <td>1597</td>\n",
       "      <td>2588</td>\n",
       "      <td>945</td>\n",
       "      <td>...</td>\n",
       "      <td>336</td>\n",
       "      <td>884</td>\n",
       "      <td>257</td>\n",
       "      <td>97</td>\n",
       "      <td>336</td>\n",
       "      <td>185</td>\n",
       "      <td>69</td>\n",
       "      <td>40</td>\n",
       "      <td>266</td>\n",
       "      <td>None</td>\n",
       "    </tr>\n",
       "    <tr>\n",
       "      <th>686</th>\n",
       "      <td>1/27/2022</td>\n",
       "      <td>4071</td>\n",
       "      <td>4918</td>\n",
       "      <td>2193</td>\n",
       "      <td>3723</td>\n",
       "      <td>8761</td>\n",
       "      <td>9018</td>\n",
       "      <td>1618</td>\n",
       "      <td>2590</td>\n",
       "      <td>972</td>\n",
       "      <td>...</td>\n",
       "      <td>341</td>\n",
       "      <td>885</td>\n",
       "      <td>261</td>\n",
       "      <td>98</td>\n",
       "      <td>343</td>\n",
       "      <td>190</td>\n",
       "      <td>69</td>\n",
       "      <td>43</td>\n",
       "      <td>266</td>\n",
       "      <td>None</td>\n",
       "    </tr>\n",
       "    <tr>\n",
       "      <th>687</th>\n",
       "      <td>1/28/2022</td>\n",
       "      <td>4148</td>\n",
       "      <td>4984</td>\n",
       "      <td>2240</td>\n",
       "      <td>3778</td>\n",
       "      <td>8860</td>\n",
       "      <td>9106</td>\n",
       "      <td>1634</td>\n",
       "      <td>2629</td>\n",
       "      <td>988</td>\n",
       "      <td>...</td>\n",
       "      <td>346</td>\n",
       "      <td>889</td>\n",
       "      <td>265</td>\n",
       "      <td>99</td>\n",
       "      <td>345</td>\n",
       "      <td>192</td>\n",
       "      <td>69</td>\n",
       "      <td>43</td>\n",
       "      <td>270</td>\n",
       "      <td>None</td>\n",
       "    </tr>\n",
       "  </tbody>\n",
       "</table>\n",
       "<p>687 rows × 25 columns</p>\n",
       "</div>"
      ],
      "text/plain": [
       "0         Date Arroyo Grande Atascadero Grover Beach Nipomo Paso Robles  \\\n",
       "1    3/14/2020                                                            \n",
       "2    3/15/2020                                                            \n",
       "3    3/16/2020                                                            \n",
       "4    3/17/2020                                                            \n",
       "5    3/18/2020                                                            \n",
       "..         ...           ...        ...          ...    ...         ...   \n",
       "683  1/24/2022          3734       4611         2008   3406        8190   \n",
       "684  1/25/2022          3831       4710         2063   3518        8365   \n",
       "685  1/26/2022          3955       4824         2137   3636        8597   \n",
       "686  1/27/2022          4071       4918         2193   3723        8761   \n",
       "687  1/28/2022          4148       4984         2240   3778        8860   \n",
       "\n",
       "0   San Luis Obispo Templeton CMC (Inmates) Pismo Beach  ... Shandon  \\\n",
       "1                                                        ...           \n",
       "2                                                        ...           \n",
       "3                                                        ...           \n",
       "4                                                        ...           \n",
       "5                                                        ...           \n",
       "..              ...       ...           ...         ...  ...     ...   \n",
       "683            8450      1527          2571         895  ...     319   \n",
       "684            8676      1552          2575         919  ...     323   \n",
       "685            8862      1597          2588         945  ...     336   \n",
       "686            9018      1618          2590         972  ...     341   \n",
       "687            9106      1634          2629         988  ...     346   \n",
       "\n",
       "0   Cal Poly (campus residents) Cayucos Avila Santa Margarita Creston  \\\n",
       "1                                                                       \n",
       "2                                                                       \n",
       "3                                                                       \n",
       "4                                                                       \n",
       "5                                                                       \n",
       "..                          ...     ...   ...             ...     ...   \n",
       "683                         857     242    91             324     179   \n",
       "684                         868     246    94             332     182   \n",
       "685                         884     257    97             336     185   \n",
       "686                         885     261    98             343     190   \n",
       "687                         889     265    99             345     192   \n",
       "\n",
       "0   San Simeon Bradley ASH (patients)   NaN  \n",
       "1                                      None  \n",
       "2                                      None  \n",
       "3                                      None  \n",
       "4                                      None  \n",
       "5                                      None  \n",
       "..         ...     ...            ...   ...  \n",
       "683         66      37            258   362  \n",
       "684         66      38            266   374  \n",
       "685         69      40            266  None  \n",
       "686         69      43            266  None  \n",
       "687         69      43            270  None  \n",
       "\n",
       "[687 rows x 25 columns]"
      ]
     },
     "execution_count": 17,
     "metadata": {},
     "output_type": "execute_result"
    }
   ],
   "source": [
    "df"
   ]
  },
  {
   "cell_type": "markdown",
   "metadata": {},
   "source": [
    "Clean up the dataframe"
   ]
  },
  {
   "cell_type": "code",
   "execution_count": 18,
   "metadata": {},
   "outputs": [],
   "source": [
    "melt_df = pd.melt(\n",
    "    df, id_vars=[\"Date\"], var_name=\"area\", value_name=\"confirmed_cases\"\n",
    ").rename(columns={\"Date\": \"date\"})"
   ]
  },
  {
   "cell_type": "code",
   "execution_count": 19,
   "metadata": {},
   "outputs": [],
   "source": [
    "melt_df[\"date\"] = pd.to_datetime(melt_df[\"date\"])"
   ]
  },
  {
   "cell_type": "code",
   "execution_count": 20,
   "metadata": {},
   "outputs": [],
   "source": [
    "melt_df[\"confirmed_cases\"] = melt_df[\"confirmed_cases\"].replace(\",\", \"\", regex=True)"
   ]
  },
  {
   "cell_type": "code",
   "execution_count": 21,
   "metadata": {},
   "outputs": [],
   "source": [
    "filter_df = melt_df[(melt_df[\"confirmed_cases\"] != \"\") & (melt_df[\"area\"] != \"Bradley\")]"
   ]
  },
  {
   "cell_type": "code",
   "execution_count": 22,
   "metadata": {},
   "outputs": [],
   "source": [
    "sort_df = filter_df.sort_values([\"date\", \"area\"])"
   ]
  },
  {
   "cell_type": "code",
   "execution_count": 23,
   "metadata": {},
   "outputs": [],
   "source": [
    "sort_df = sort_df[sort_df.area.notnull()]"
   ]
  },
  {
   "cell_type": "code",
   "execution_count": 24,
   "metadata": {},
   "outputs": [],
   "source": [
    "assert not sort_df.area.isnull().any()"
   ]
  },
  {
   "cell_type": "code",
   "execution_count": 25,
   "metadata": {},
   "outputs": [],
   "source": [
    "assert len(sort_df[sort_df.area == \"\"]) == 0"
   ]
  },
  {
   "cell_type": "markdown",
   "metadata": {},
   "source": [
    "Get timestamp"
   ]
  },
  {
   "cell_type": "code",
   "execution_count": 26,
   "metadata": {},
   "outputs": [],
   "source": [
    "text = data[\"elements\"]"
   ]
  },
  {
   "cell_type": "code",
   "execution_count": 27,
   "metadata": {},
   "outputs": [],
   "source": [
    "grafs = []\n",
    "for ele in data[\"elements\"]:\n",
    "    keys = ele.keys()\n",
    "    if \"text\" in keys:\n",
    "        text = ele[\"text\"]\n",
    "        grafs.append(text)"
   ]
  },
  {
   "cell_type": "code",
   "execution_count": 28,
   "metadata": {},
   "outputs": [],
   "source": [
    "regexDateGraf = re.compile(\"As of \\d{1,2}\\/\\d{1,2}\\/\\d{1,2}\")"
   ]
  },
  {
   "cell_type": "code",
   "execution_count": 29,
   "metadata": {},
   "outputs": [],
   "source": [
    "parsed_text = []\n",
    "for graf in grafs:\n",
    "    soup = BeautifulSoup(graf, \"html.parser\")\n",
    "    text = soup.text\n",
    "    parsed_text.append(text)"
   ]
  },
  {
   "cell_type": "code",
   "execution_count": 30,
   "metadata": {},
   "outputs": [],
   "source": [
    "date_graf = [\n",
    "    regexDateGraf.search(t)[0] for t in parsed_text if regexDateGraf.search(t) != None\n",
    "][0]"
   ]
  },
  {
   "cell_type": "code",
   "execution_count": 31,
   "metadata": {},
   "outputs": [],
   "source": [
    "date_graf_trim = date_graf.replace(\"As of \", \"\")"
   ]
  },
  {
   "cell_type": "code",
   "execution_count": 32,
   "metadata": {},
   "outputs": [],
   "source": [
    "latest_date = pd.to_datetime(date_graf_trim, format=\"%m/%d/%y\").date()"
   ]
  },
  {
   "cell_type": "code",
   "execution_count": 33,
   "metadata": {},
   "outputs": [],
   "source": [
    "sort_df[\"county_date\"] = latest_date"
   ]
  },
  {
   "cell_type": "code",
   "execution_count": 34,
   "metadata": {},
   "outputs": [],
   "source": [
    "sort_df.insert(0, \"county\", \"San Luis Obispo\")"
   ]
  },
  {
   "cell_type": "code",
   "execution_count": 35,
   "metadata": {},
   "outputs": [],
   "source": [
    "latest_df = sort_df[sort_df.date == sort_df.date.max()]"
   ]
  },
  {
   "cell_type": "markdown",
   "metadata": {},
   "source": [
    "## Vet"
   ]
  },
  {
   "cell_type": "markdown",
   "metadata": {},
   "source": [
    "Make sure everyone is here"
   ]
  },
  {
   "cell_type": "code",
   "execution_count": 36,
   "metadata": {},
   "outputs": [],
   "source": [
    "try:\n",
    "    assert not len(latest_df) > 22\n",
    "except AssertionError:\n",
    "    raise AssertionError(\"San Luis Obispo County's scraper has more rows than before\")"
   ]
  },
  {
   "cell_type": "code",
   "execution_count": 37,
   "metadata": {},
   "outputs": [],
   "source": [
    "try:\n",
    "    assert not len(latest_df) < 22\n",
    "except AssertionError:\n",
    "    raise AssertionError(\"San Luis Obispo County's scraper is missing rows\")"
   ]
  },
  {
   "cell_type": "code",
   "execution_count": 38,
   "metadata": {},
   "outputs": [
    {
     "data": {
      "text/html": [
       "<div>\n",
       "<style scoped>\n",
       "    .dataframe tbody tr th:only-of-type {\n",
       "        vertical-align: middle;\n",
       "    }\n",
       "\n",
       "    .dataframe tbody tr th {\n",
       "        vertical-align: top;\n",
       "    }\n",
       "\n",
       "    .dataframe thead th {\n",
       "        text-align: right;\n",
       "    }\n",
       "</style>\n",
       "<table border=\"1\" class=\"dataframe\">\n",
       "  <thead>\n",
       "    <tr style=\"text-align: right;\">\n",
       "      <th></th>\n",
       "      <th>county</th>\n",
       "      <th>date</th>\n",
       "      <th>area</th>\n",
       "      <th>confirmed_cases</th>\n",
       "      <th>county_date</th>\n",
       "    </tr>\n",
       "  </thead>\n",
       "  <tbody>\n",
       "    <tr>\n",
       "      <th>15800</th>\n",
       "      <td>San Luis Obispo</td>\n",
       "      <td>2022-01-28</td>\n",
       "      <td>ASH (patients)</td>\n",
       "      <td>270</td>\n",
       "      <td>2022-01-28</td>\n",
       "    </tr>\n",
       "    <tr>\n",
       "      <th>686</th>\n",
       "      <td>San Luis Obispo</td>\n",
       "      <td>2022-01-28</td>\n",
       "      <td>Arroyo Grande</td>\n",
       "      <td>4148</td>\n",
       "      <td>2022-01-28</td>\n",
       "    </tr>\n",
       "    <tr>\n",
       "      <th>1373</th>\n",
       "      <td>San Luis Obispo</td>\n",
       "      <td>2022-01-28</td>\n",
       "      <td>Atascadero</td>\n",
       "      <td>4984</td>\n",
       "      <td>2022-01-28</td>\n",
       "    </tr>\n",
       "    <tr>\n",
       "      <th>12365</th>\n",
       "      <td>San Luis Obispo</td>\n",
       "      <td>2022-01-28</td>\n",
       "      <td>Avila</td>\n",
       "      <td>99</td>\n",
       "      <td>2022-01-28</td>\n",
       "    </tr>\n",
       "    <tr>\n",
       "      <th>5495</th>\n",
       "      <td>San Luis Obispo</td>\n",
       "      <td>2022-01-28</td>\n",
       "      <td>CMC (Inmates)</td>\n",
       "      <td>2629</td>\n",
       "      <td>2022-01-28</td>\n",
       "    </tr>\n",
       "    <tr>\n",
       "      <th>10991</th>\n",
       "      <td>San Luis Obispo</td>\n",
       "      <td>2022-01-28</td>\n",
       "      <td>Cal Poly (campus residents)</td>\n",
       "      <td>889</td>\n",
       "      <td>2022-01-28</td>\n",
       "    </tr>\n",
       "    <tr>\n",
       "      <th>9617</th>\n",
       "      <td>San Luis Obispo</td>\n",
       "      <td>2022-01-28</td>\n",
       "      <td>Cambria</td>\n",
       "      <td>477</td>\n",
       "      <td>2022-01-28</td>\n",
       "    </tr>\n",
       "    <tr>\n",
       "      <th>11678</th>\n",
       "      <td>San Luis Obispo</td>\n",
       "      <td>2022-01-28</td>\n",
       "      <td>Cayucos</td>\n",
       "      <td>265</td>\n",
       "      <td>2022-01-28</td>\n",
       "    </tr>\n",
       "    <tr>\n",
       "      <th>13739</th>\n",
       "      <td>San Luis Obispo</td>\n",
       "      <td>2022-01-28</td>\n",
       "      <td>Creston</td>\n",
       "      <td>192</td>\n",
       "      <td>2022-01-28</td>\n",
       "    </tr>\n",
       "    <tr>\n",
       "      <th>2060</th>\n",
       "      <td>San Luis Obispo</td>\n",
       "      <td>2022-01-28</td>\n",
       "      <td>Grover Beach</td>\n",
       "      <td>2240</td>\n",
       "      <td>2022-01-28</td>\n",
       "    </tr>\n",
       "    <tr>\n",
       "      <th>7556</th>\n",
       "      <td>San Luis Obispo</td>\n",
       "      <td>2022-01-28</td>\n",
       "      <td>Los Osos</td>\n",
       "      <td>1437</td>\n",
       "      <td>2022-01-28</td>\n",
       "    </tr>\n",
       "    <tr>\n",
       "      <th>8930</th>\n",
       "      <td>San Luis Obispo</td>\n",
       "      <td>2022-01-28</td>\n",
       "      <td>Morro Bay</td>\n",
       "      <td>1301</td>\n",
       "      <td>2022-01-28</td>\n",
       "    </tr>\n",
       "    <tr>\n",
       "      <th>2747</th>\n",
       "      <td>San Luis Obispo</td>\n",
       "      <td>2022-01-28</td>\n",
       "      <td>Nipomo</td>\n",
       "      <td>3778</td>\n",
       "      <td>2022-01-28</td>\n",
       "    </tr>\n",
       "    <tr>\n",
       "      <th>8243</th>\n",
       "      <td>San Luis Obispo</td>\n",
       "      <td>2022-01-28</td>\n",
       "      <td>Oceano</td>\n",
       "      <td>1458</td>\n",
       "      <td>2022-01-28</td>\n",
       "    </tr>\n",
       "    <tr>\n",
       "      <th>3434</th>\n",
       "      <td>San Luis Obispo</td>\n",
       "      <td>2022-01-28</td>\n",
       "      <td>Paso Robles</td>\n",
       "      <td>8860</td>\n",
       "      <td>2022-01-28</td>\n",
       "    </tr>\n",
       "    <tr>\n",
       "      <th>6182</th>\n",
       "      <td>San Luis Obispo</td>\n",
       "      <td>2022-01-28</td>\n",
       "      <td>Pismo Beach</td>\n",
       "      <td>988</td>\n",
       "      <td>2022-01-28</td>\n",
       "    </tr>\n",
       "    <tr>\n",
       "      <th>4121</th>\n",
       "      <td>San Luis Obispo</td>\n",
       "      <td>2022-01-28</td>\n",
       "      <td>San Luis Obispo</td>\n",
       "      <td>9106</td>\n",
       "      <td>2022-01-28</td>\n",
       "    </tr>\n",
       "    <tr>\n",
       "      <th>6869</th>\n",
       "      <td>San Luis Obispo</td>\n",
       "      <td>2022-01-28</td>\n",
       "      <td>San Miguel</td>\n",
       "      <td>998</td>\n",
       "      <td>2022-01-28</td>\n",
       "    </tr>\n",
       "    <tr>\n",
       "      <th>14426</th>\n",
       "      <td>San Luis Obispo</td>\n",
       "      <td>2022-01-28</td>\n",
       "      <td>San Simeon</td>\n",
       "      <td>69</td>\n",
       "      <td>2022-01-28</td>\n",
       "    </tr>\n",
       "    <tr>\n",
       "      <th>13052</th>\n",
       "      <td>San Luis Obispo</td>\n",
       "      <td>2022-01-28</td>\n",
       "      <td>Santa Margarita</td>\n",
       "      <td>345</td>\n",
       "      <td>2022-01-28</td>\n",
       "    </tr>\n",
       "    <tr>\n",
       "      <th>10304</th>\n",
       "      <td>San Luis Obispo</td>\n",
       "      <td>2022-01-28</td>\n",
       "      <td>Shandon</td>\n",
       "      <td>346</td>\n",
       "      <td>2022-01-28</td>\n",
       "    </tr>\n",
       "    <tr>\n",
       "      <th>4808</th>\n",
       "      <td>San Luis Obispo</td>\n",
       "      <td>2022-01-28</td>\n",
       "      <td>Templeton</td>\n",
       "      <td>1634</td>\n",
       "      <td>2022-01-28</td>\n",
       "    </tr>\n",
       "  </tbody>\n",
       "</table>\n",
       "</div>"
      ],
      "text/plain": [
       "                county       date                         area  \\\n",
       "15800  San Luis Obispo 2022-01-28               ASH (patients)   \n",
       "686    San Luis Obispo 2022-01-28                Arroyo Grande   \n",
       "1373   San Luis Obispo 2022-01-28                   Atascadero   \n",
       "12365  San Luis Obispo 2022-01-28                        Avila   \n",
       "5495   San Luis Obispo 2022-01-28                CMC (Inmates)   \n",
       "10991  San Luis Obispo 2022-01-28  Cal Poly (campus residents)   \n",
       "9617   San Luis Obispo 2022-01-28                      Cambria   \n",
       "11678  San Luis Obispo 2022-01-28                      Cayucos   \n",
       "13739  San Luis Obispo 2022-01-28                      Creston   \n",
       "2060   San Luis Obispo 2022-01-28                 Grover Beach   \n",
       "7556   San Luis Obispo 2022-01-28                     Los Osos   \n",
       "8930   San Luis Obispo 2022-01-28                    Morro Bay   \n",
       "2747   San Luis Obispo 2022-01-28                       Nipomo   \n",
       "8243   San Luis Obispo 2022-01-28                       Oceano   \n",
       "3434   San Luis Obispo 2022-01-28                  Paso Robles   \n",
       "6182   San Luis Obispo 2022-01-28                  Pismo Beach   \n",
       "4121   San Luis Obispo 2022-01-28              San Luis Obispo   \n",
       "6869   San Luis Obispo 2022-01-28                   San Miguel   \n",
       "14426  San Luis Obispo 2022-01-28                   San Simeon   \n",
       "13052  San Luis Obispo 2022-01-28              Santa Margarita   \n",
       "10304  San Luis Obispo 2022-01-28                      Shandon   \n",
       "4808   San Luis Obispo 2022-01-28                    Templeton   \n",
       "\n",
       "      confirmed_cases county_date  \n",
       "15800             270  2022-01-28  \n",
       "686              4148  2022-01-28  \n",
       "1373             4984  2022-01-28  \n",
       "12365              99  2022-01-28  \n",
       "5495             2629  2022-01-28  \n",
       "10991             889  2022-01-28  \n",
       "9617              477  2022-01-28  \n",
       "11678             265  2022-01-28  \n",
       "13739             192  2022-01-28  \n",
       "2060             2240  2022-01-28  \n",
       "7556             1437  2022-01-28  \n",
       "8930             1301  2022-01-28  \n",
       "2747             3778  2022-01-28  \n",
       "8243             1458  2022-01-28  \n",
       "3434             8860  2022-01-28  \n",
       "6182              988  2022-01-28  \n",
       "4121             9106  2022-01-28  \n",
       "6869              998  2022-01-28  \n",
       "14426              69  2022-01-28  \n",
       "13052             345  2022-01-28  \n",
       "10304             346  2022-01-28  \n",
       "4808             1634  2022-01-28  "
      ]
     },
     "execution_count": 38,
     "metadata": {},
     "output_type": "execute_result"
    }
   ],
   "source": [
    "latest_df"
   ]
  },
  {
   "cell_type": "markdown",
   "metadata": {},
   "source": [
    "## Export"
   ]
  },
  {
   "cell_type": "markdown",
   "metadata": {},
   "source": [
    "Set date"
   ]
  },
  {
   "cell_type": "code",
   "execution_count": 39,
   "metadata": {},
   "outputs": [],
   "source": [
    "tz = pytz.timezone(\"America/Los_Angeles\")"
   ]
  },
  {
   "cell_type": "code",
   "execution_count": 40,
   "metadata": {},
   "outputs": [],
   "source": [
    "today = datetime.now(tz).date()"
   ]
  },
  {
   "cell_type": "code",
   "execution_count": 41,
   "metadata": {},
   "outputs": [],
   "source": [
    "slug = \"san-luis-obispo\""
   ]
  },
  {
   "cell_type": "code",
   "execution_count": 42,
   "metadata": {},
   "outputs": [],
   "source": [
    "latest_df.to_csv(data_dir / slug / f\"{today}.csv\", index=False)"
   ]
  },
  {
   "cell_type": "markdown",
   "metadata": {},
   "source": [
    "## Combine"
   ]
  },
  {
   "cell_type": "code",
   "execution_count": 43,
   "metadata": {},
   "outputs": [],
   "source": [
    "csv_list = [\n",
    "    i\n",
    "    for i in glob.glob(str(data_dir / slug / \"*.csv\"))\n",
    "    if not str(i).endswith(\"timeseries.csv\")\n",
    "]"
   ]
  },
  {
   "cell_type": "code",
   "execution_count": 44,
   "metadata": {},
   "outputs": [],
   "source": [
    "df_list = []\n",
    "for csv in csv_list:\n",
    "    if \"manual\" in csv:\n",
    "        df = pd.read_csv(csv, parse_dates=[\"date\"])\n",
    "    else:\n",
    "        file_date = csv.split(\"/\")[-1].replace(\".csv\", \"\")\n",
    "        df = pd.read_csv(csv, parse_dates=[\"county_date\"])\n",
    "        df[\"date\"] = file_date\n",
    "    df_list.append(df)"
   ]
  },
  {
   "cell_type": "code",
   "execution_count": 45,
   "metadata": {},
   "outputs": [],
   "source": [
    "df = pd.concat(df_list).sort_values([\"date\", \"area\"])"
   ]
  },
  {
   "cell_type": "code",
   "execution_count": 46,
   "metadata": {},
   "outputs": [],
   "source": [
    "df.to_csv(data_dir / slug / \"timeseries.csv\", index=False)"
   ]
  },
  {
   "cell_type": "code",
   "execution_count": null,
   "metadata": {},
   "outputs": [],
   "source": []
  }
 ],
 "metadata": {
  "kernelspec": {
   "display_name": "Python 3 (ipykernel)",
   "language": "python",
   "name": "python3"
  },
  "language_info": {
   "codemirror_mode": {
    "name": "ipython",
    "version": 3
   },
   "file_extension": ".py",
   "mimetype": "text/x-python",
   "name": "python",
   "nbconvert_exporter": "python",
   "pygments_lexer": "ipython3",
   "version": "3.8.8"
  }
 },
 "nbformat": 4,
 "nbformat_minor": 4
}
