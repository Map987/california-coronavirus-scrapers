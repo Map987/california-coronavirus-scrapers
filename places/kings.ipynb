{
 "cells": [
  {
   "cell_type": "markdown",
   "metadata": {},
   "source": [
    "## Configuration\n",
    "_Initial steps to get the notebook ready to play nice with our repository. Do not delete this section._"
   ]
  },
  {
   "cell_type": "markdown",
   "metadata": {},
   "source": [
    "Code formatting with [black](https://pypi.org/project/nb-black/)."
   ]
  },
  {
   "cell_type": "code",
   "execution_count": 22,
   "metadata": {},
   "outputs": [
    {
     "name": "stdout",
     "output_type": "stream",
     "text": [
      "The lab_black extension is already loaded. To reload it, use:\n",
      "  %reload_ext lab_black\n"
     ]
    }
   ],
   "source": [
    "%load_ext lab_black"
   ]
  },
  {
   "cell_type": "code",
   "execution_count": 23,
   "metadata": {},
   "outputs": [],
   "source": [
    "import os\n",
    "import pathlib"
   ]
  },
  {
   "cell_type": "code",
   "execution_count": 24,
   "metadata": {},
   "outputs": [],
   "source": [
    "this_dir = pathlib.Path(os.path.abspath(\"\"))"
   ]
  },
  {
   "cell_type": "code",
   "execution_count": 25,
   "metadata": {},
   "outputs": [],
   "source": [
    "data_dir = this_dir / \"data\""
   ]
  },
  {
   "cell_type": "code",
   "execution_count": 26,
   "metadata": {},
   "outputs": [],
   "source": [
    "import requests\n",
    "from bs4 import BeautifulSoup\n",
    "\n",
    "import json\n",
    "import re\n",
    "\n",
    "import pandas as pd\n",
    "import numpy as np\n",
    "\n",
    "import pytz\n",
    "import glob\n",
    "from datetime import datetime"
   ]
  },
  {
   "cell_type": "markdown",
   "metadata": {},
   "source": [
    "## Download"
   ]
  },
  {
   "cell_type": "markdown",
   "metadata": {},
   "source": [
    "Paths to Dashboard"
   ]
  },
  {
   "cell_type": "code",
   "execution_count": 27,
   "metadata": {},
   "outputs": [],
   "source": [
    "host_url = \"https://public.tableau.com\"\n",
    "path = \"/views/TITLEDStorylinewithallinone/Storyline2\""
   ]
  },
  {
   "cell_type": "markdown",
   "metadata": {},
   "source": [
    "Retrive Dashboard data"
   ]
  },
  {
   "cell_type": "code",
   "execution_count": 28,
   "metadata": {},
   "outputs": [],
   "source": [
    "url = f\"{host_url}{path}\"\n",
    "\n",
    "r = requests.get(url, params={\":embed\": \"y\", \":showVizHome\": \"no\"})\n",
    "soup = BeautifulSoup(r.text, \"html.parser\")\n",
    "\n",
    "tableauData = json.loads(soup.find(\"textarea\", {\"id\": \"tsConfigContainer\"}).text)\n",
    "\n",
    "dataUrl = f'{host_url}{tableauData[\"vizql_root\"]}/bootstrapSession/sessions/{tableauData[\"sessionid\"]}'\n",
    "\n",
    "r = requests.post(\n",
    "    dataUrl,\n",
    "    data={\n",
    "        \"sheet_id\": tableauData[\"sheetId\"],\n",
    "    },\n",
    ")\n",
    "\n",
    "dataReg = re.search(\"\\d+;({.*})\\d+;({.*})\", r.text, re.MULTILINE)\n",
    "info = json.loads(dataReg.group(1))\n",
    "data = json.loads(dataReg.group(2))"
   ]
  },
  {
   "cell_type": "markdown",
   "metadata": {},
   "source": [
    "## Parse"
   ]
  },
  {
   "cell_type": "markdown",
   "metadata": {},
   "source": [
    "Filter out the cities data"
   ]
  },
  {
   "cell_type": "code",
   "execution_count": 29,
   "metadata": {},
   "outputs": [],
   "source": [
    "columnsData = info[\"worldUpdate\"][\"applicationPresModel\"][\"workbookPresModel\"][\n",
    "    \"dashboardPresModel\"\n",
    "][\"zones\"][\"5\"][\"presModelHolder\"][\"flipboard\"][\"storyPoints\"][\"1\"][\n",
    "    \"dashboardPresModel\"\n",
    "][\n",
    "    \"zones\"\n",
    "][\n",
    "    \"33\"\n",
    "][\n",
    "    \"presModelHolder\"\n",
    "][\n",
    "    \"visual\"\n",
    "][\n",
    "    \"vizData\"\n",
    "][\n",
    "    \"paneColumnsData\"\n",
    "]\n",
    "result = [\n",
    "    {\n",
    "        \"fieldCaption\": t.get(\"fieldCaption\", \"\"),\n",
    "        \"valueIndices\": columnsData[\"paneColumnsList\"][t[\"paneIndices\"][0]][\n",
    "            \"vizPaneColumns\"\n",
    "        ][t[\"columnIndices\"][0]][\"valueIndices\"],\n",
    "        \"aliasIndices\": columnsData[\"paneColumnsList\"][t[\"paneIndices\"][0]][\n",
    "            \"vizPaneColumns\"\n",
    "        ][t[\"columnIndices\"][0]][\"aliasIndices\"],\n",
    "        \"dataType\": t.get(\"dataType\"),\n",
    "        \"paneIndices\": t[\"paneIndices\"][0],\n",
    "        \"columnIndices\": t[\"columnIndices\"][0],\n",
    "    }\n",
    "    for t in columnsData[\"vizDataColumns\"]\n",
    "    if t.get(\"fieldCaption\")\n",
    "]\n",
    "dataFull = data[\"secondaryInfo\"][\"presModelMap\"][\"dataDictionary\"][\"presModelHolder\"][\n",
    "    \"genDataDictionaryPresModel\"\n",
    "][\"dataSegments\"][\"0\"][\"dataColumns\"]\n",
    "\n",
    "\n",
    "def onAlias(it, value, cstring):\n",
    "    return value[it] if (it >= 0) else cstring[\"dataValues\"][abs(it) - 1]\n",
    "\n",
    "\n",
    "frameData = {}\n",
    "cstring = [t for t in dataFull if t[\"dataType\"] == \"cstring\"][0]\n",
    "for t in dataFull:\n",
    "    for index in result:\n",
    "        if t[\"dataType\"] == index[\"dataType\"]:\n",
    "            if len(index[\"valueIndices\"]) > 0:\n",
    "                frameData[f'{index[\"fieldCaption\"]}-value'] = [\n",
    "                    t[\"dataValues\"][abs(it)] for it in index[\"valueIndices\"]\n",
    "                ]\n",
    "            if len(index[\"aliasIndices\"]) > 0:\n",
    "                filterOut = [\n",
    "                    onAlias(it, t[\"dataValues\"], cstring)\n",
    "                    for it in index[\"aliasIndices\"]\n",
    "                ]\n",
    "                try:\n",
    "                    if filterOut[0] > 1:\n",
    "                        frameData[f'{index[\"fieldCaption\"]}-alias'] = [\n",
    "                            onAlias(it, t[\"dataValues\"], cstring)\n",
    "                            for it in index[\"aliasIndices\"]\n",
    "                        ]\n",
    "                except:\n",
    "                    frameData[f'{index[\"fieldCaption\"]}-alias'] = [\n",
    "                        onAlias(it, t[\"dataValues\"], cstring)\n",
    "                        for it in index[\"aliasIndices\"]\n",
    "                    ]"
   ]
  },
  {
   "cell_type": "markdown",
   "metadata": {},
   "source": [
    "Get Correctional facilities data"
   ]
  },
  {
   "cell_type": "code",
   "execution_count": 30,
   "metadata": {},
   "outputs": [],
   "source": [
    "columnsData = info[\"worldUpdate\"][\"applicationPresModel\"][\"workbookPresModel\"][\n",
    "    \"dashboardPresModel\"\n",
    "][\"zones\"][\"5\"][\"presModelHolder\"][\"flipboard\"][\"storyPoints\"][\"1\"][\n",
    "    \"dashboardPresModel\"\n",
    "][\n",
    "    \"zones\"\n",
    "][\n",
    "    \"8\"\n",
    "][\n",
    "    \"presModelHolder\"\n",
    "][\n",
    "    \"visual\"\n",
    "][\n",
    "    \"vizData\"\n",
    "][\n",
    "    \"paneColumnsData\"\n",
    "]\n",
    "result = [\n",
    "    {\n",
    "        \"fieldCaption\": t.get(\"fieldCaption\", \"\"),\n",
    "        \"valueIndices\": columnsData[\"paneColumnsList\"][t[\"paneIndices\"][0]][\n",
    "            \"vizPaneColumns\"\n",
    "        ][t[\"columnIndices\"][0]][\"valueIndices\"],\n",
    "        \"aliasIndices\": columnsData[\"paneColumnsList\"][t[\"paneIndices\"][0]][\n",
    "            \"vizPaneColumns\"\n",
    "        ][t[\"columnIndices\"][0]][\"aliasIndices\"],\n",
    "        \"dataType\": t.get(\"dataType\"),\n",
    "        \"paneIndices\": t[\"paneIndices\"][0],\n",
    "        \"columnIndices\": t[\"columnIndices\"][0],\n",
    "    }\n",
    "    for t in columnsData[\"vizDataColumns\"]\n",
    "    if t.get(\"fieldCaption\")\n",
    "]\n",
    "dataFull = data[\"secondaryInfo\"][\"presModelMap\"][\"dataDictionary\"][\"presModelHolder\"][\n",
    "    \"genDataDictionaryPresModel\"\n",
    "][\"dataSegments\"][\"0\"][\"dataColumns\"]\n",
    "\n",
    "\n",
    "def onAlias(it, value, cstring):\n",
    "    return value[it] if (it >= 0) else cstring[\"dataValues\"][abs(it) - 1]\n",
    "\n",
    "\n",
    "frameData_2 = {}\n",
    "cstring = [t for t in dataFull if t[\"dataType\"] == \"cstring\"][0]\n",
    "for t in dataFull:\n",
    "    for index in result:\n",
    "        if t[\"dataType\"] == index[\"dataType\"]:\n",
    "            if len(index[\"valueIndices\"]) > 0:\n",
    "                frameData_2[f'{index[\"fieldCaption\"]}-value'] = [\n",
    "                    t[\"dataValues\"][abs(it)] for it in index[\"valueIndices\"]\n",
    "                ]\n",
    "            #                 print(frameData[f'{index[\"fieldCaption\"]}-value'])\n",
    "            if len(index[\"aliasIndices\"]) > 0:\n",
    "                filterOut = [\n",
    "                    onAlias(it, t[\"dataValues\"], cstring)\n",
    "                    for it in index[\"aliasIndices\"]\n",
    "                ]\n",
    "                try:\n",
    "                    if filterOut[0] > 1:\n",
    "                        frameData_2[f'{index[\"fieldCaption\"]}-alias'] = [\n",
    "                            onAlias(it, t[\"dataValues\"], cstring)\n",
    "                            for it in index[\"aliasIndices\"]\n",
    "                        ]\n",
    "                except:\n",
    "                    frameData_2[f'{index[\"fieldCaption\"]}-alias'] = [\n",
    "                        onAlias(it, t[\"dataValues\"], cstring)\n",
    "                        for it in index[\"aliasIndices\"]\n",
    "                    ]"
   ]
  },
  {
   "cell_type": "markdown",
   "metadata": {},
   "source": [
    "Turn both into DataFrames"
   ]
  },
  {
   "cell_type": "code",
   "execution_count": 31,
   "metadata": {},
   "outputs": [],
   "source": [
    "df = pd.DataFrame.from_dict(frameData, orient=\"index\").fillna(0).T\n",
    "df_2 = pd.DataFrame.from_dict(frameData_2, orient=\"index\").fillna(0).T"
   ]
  },
  {
   "cell_type": "markdown",
   "metadata": {},
   "source": [
    "Just get correctional facilities cases from second dataframe"
   ]
  },
  {
   "cell_type": "code",
   "execution_count": 32,
   "metadata": {},
   "outputs": [
    {
     "data": {
      "text/html": [
       "<div>\n",
       "<style scoped>\n",
       "    .dataframe tbody tr th:only-of-type {\n",
       "        vertical-align: middle;\n",
       "    }\n",
       "\n",
       "    .dataframe tbody tr th {\n",
       "        vertical-align: top;\n",
       "    }\n",
       "\n",
       "    .dataframe thead th {\n",
       "        text-align: right;\n",
       "    }\n",
       "</style>\n",
       "<table border=\"1\" class=\"dataframe\">\n",
       "  <thead>\n",
       "    <tr style=\"text-align: right;\">\n",
       "      <th></th>\n",
       "      <th>Measure Values-alias</th>\n",
       "      <th>Kings County-value</th>\n",
       "      <th>Kings County-alias</th>\n",
       "      <th>Measure Names-value</th>\n",
       "      <th>Measure Names-alias</th>\n",
       "    </tr>\n",
       "  </thead>\n",
       "  <tbody>\n",
       "    <tr>\n",
       "      <th>0</th>\n",
       "      <td>598</td>\n",
       "      <td>Daily Increase</td>\n",
       "      <td>Daily Increase</td>\n",
       "      <td>[federated.0r1lg6o1tllpw911zqzhi0opa5j0].[sum:...</td>\n",
       "      <td>Tests</td>\n",
       "    </tr>\n",
       "    <tr>\n",
       "      <th>1</th>\n",
       "      <td>499,940</td>\n",
       "      <td>Total</td>\n",
       "      <td>Total</td>\n",
       "      <td>[federated.0r1lg6o1tllpw911zqzhi0opa5j0].[sum:...</td>\n",
       "      <td>Tests</td>\n",
       "    </tr>\n",
       "    <tr>\n",
       "      <th>2</th>\n",
       "      <td>158,646</td>\n",
       "      <td>State Correctional Facility (Inmate)</td>\n",
       "      <td>State Correctional Facility (Inmate)</td>\n",
       "      <td>[federated.0r1lg6o1tllpw911zqzhi0opa5j0].[sum:...</td>\n",
       "      <td>Tests</td>\n",
       "    </tr>\n",
       "    <tr>\n",
       "      <th>3</th>\n",
       "      <td>341,294</td>\n",
       "      <td>Community (Non-inmate)</td>\n",
       "      <td>Community (Non-inmate)</td>\n",
       "      <td>[federated.0r1lg6o1tllpw911zqzhi0opa5j0].[sum:...</td>\n",
       "      <td>Tests</td>\n",
       "    </tr>\n",
       "    <tr>\n",
       "      <th>4</th>\n",
       "      <td>5</td>\n",
       "      <td>Daily Increase</td>\n",
       "      <td>Daily Increase</td>\n",
       "      <td>[federated.0r1lg6o1tllpw911zqzhi0opa5j0].[sum:...</td>\n",
       "      <td>Deaths</td>\n",
       "    </tr>\n",
       "    <tr>\n",
       "      <th>5</th>\n",
       "      <td>303</td>\n",
       "      <td>Total</td>\n",
       "      <td>Total</td>\n",
       "      <td>[federated.0r1lg6o1tllpw911zqzhi0opa5j0].[sum:...</td>\n",
       "      <td>Deaths</td>\n",
       "    </tr>\n",
       "    <tr>\n",
       "      <th>6</th>\n",
       "      <td>19</td>\n",
       "      <td>State Correctional Facility (Inmate)</td>\n",
       "      <td>State Correctional Facility (Inmate)</td>\n",
       "      <td>[federated.0r1lg6o1tllpw911zqzhi0opa5j0].[sum:...</td>\n",
       "      <td>Deaths</td>\n",
       "    </tr>\n",
       "    <tr>\n",
       "      <th>7</th>\n",
       "      <td>284</td>\n",
       "      <td>Community (Non-inmate)</td>\n",
       "      <td>Community (Non-inmate)</td>\n",
       "      <td>[federated.0r1lg6o1tllpw911zqzhi0opa5j0].[sum:...</td>\n",
       "      <td>Deaths</td>\n",
       "    </tr>\n",
       "    <tr>\n",
       "      <th>8</th>\n",
       "      <td>35</td>\n",
       "      <td>Daily Increase</td>\n",
       "      <td>Daily Increase</td>\n",
       "      <td>[federated.0r1lg6o1tllpw911zqzhi0opa5j0].[sum:...</td>\n",
       "      <td>Cases</td>\n",
       "    </tr>\n",
       "    <tr>\n",
       "      <th>9</th>\n",
       "      <td>29,843</td>\n",
       "      <td>Total</td>\n",
       "      <td>Total</td>\n",
       "      <td>[federated.0r1lg6o1tllpw911zqzhi0opa5j0].[sum:...</td>\n",
       "      <td>Cases</td>\n",
       "    </tr>\n",
       "    <tr>\n",
       "      <th>10</th>\n",
       "      <td>7,224</td>\n",
       "      <td>State Correctional Facility (Inmate)</td>\n",
       "      <td>State Correctional Facility (Inmate)</td>\n",
       "      <td>[federated.0r1lg6o1tllpw911zqzhi0opa5j0].[sum:...</td>\n",
       "      <td>Cases</td>\n",
       "    </tr>\n",
       "    <tr>\n",
       "      <th>11</th>\n",
       "      <td>22,619</td>\n",
       "      <td>Community (Non-inmate)</td>\n",
       "      <td>Community (Non-inmate)</td>\n",
       "      <td>[federated.0r1lg6o1tllpw911zqzhi0opa5j0].[sum:...</td>\n",
       "      <td>Cases</td>\n",
       "    </tr>\n",
       "  </tbody>\n",
       "</table>\n",
       "</div>"
      ],
      "text/plain": [
       "   Measure Values-alias                    Kings County-value  \\\n",
       "0                   598                        Daily Increase   \n",
       "1               499,940                                 Total   \n",
       "2               158,646  State Correctional Facility (Inmate)   \n",
       "3               341,294                Community (Non-inmate)   \n",
       "4                     5                        Daily Increase   \n",
       "5                   303                                 Total   \n",
       "6                    19  State Correctional Facility (Inmate)   \n",
       "7                   284                Community (Non-inmate)   \n",
       "8                    35                        Daily Increase   \n",
       "9                29,843                                 Total   \n",
       "10                7,224  State Correctional Facility (Inmate)   \n",
       "11               22,619                Community (Non-inmate)   \n",
       "\n",
       "                      Kings County-alias  \\\n",
       "0                         Daily Increase   \n",
       "1                                  Total   \n",
       "2   State Correctional Facility (Inmate)   \n",
       "3                 Community (Non-inmate)   \n",
       "4                         Daily Increase   \n",
       "5                                  Total   \n",
       "6   State Correctional Facility (Inmate)   \n",
       "7                 Community (Non-inmate)   \n",
       "8                         Daily Increase   \n",
       "9                                  Total   \n",
       "10  State Correctional Facility (Inmate)   \n",
       "11                Community (Non-inmate)   \n",
       "\n",
       "                                  Measure Names-value Measure Names-alias  \n",
       "0   [federated.0r1lg6o1tllpw911zqzhi0opa5j0].[sum:...               Tests  \n",
       "1   [federated.0r1lg6o1tllpw911zqzhi0opa5j0].[sum:...               Tests  \n",
       "2   [federated.0r1lg6o1tllpw911zqzhi0opa5j0].[sum:...               Tests  \n",
       "3   [federated.0r1lg6o1tllpw911zqzhi0opa5j0].[sum:...               Tests  \n",
       "4   [federated.0r1lg6o1tllpw911zqzhi0opa5j0].[sum:...              Deaths  \n",
       "5   [federated.0r1lg6o1tllpw911zqzhi0opa5j0].[sum:...              Deaths  \n",
       "6   [federated.0r1lg6o1tllpw911zqzhi0opa5j0].[sum:...              Deaths  \n",
       "7   [federated.0r1lg6o1tllpw911zqzhi0opa5j0].[sum:...              Deaths  \n",
       "8   [federated.0r1lg6o1tllpw911zqzhi0opa5j0].[sum:...               Cases  \n",
       "9   [federated.0r1lg6o1tllpw911zqzhi0opa5j0].[sum:...               Cases  \n",
       "10  [federated.0r1lg6o1tllpw911zqzhi0opa5j0].[sum:...               Cases  \n",
       "11  [federated.0r1lg6o1tllpw911zqzhi0opa5j0].[sum:...               Cases  "
      ]
     },
     "execution_count": 32,
     "metadata": {},
     "output_type": "execute_result"
    }
   ],
   "source": [
    "df_2"
   ]
  },
  {
   "cell_type": "code",
   "execution_count": 33,
   "metadata": {},
   "outputs": [],
   "source": [
    "df_2 = df_2[df_2[\"Measure Names-alias\"] == \"Cases\"]"
   ]
  },
  {
   "cell_type": "code",
   "execution_count": 34,
   "metadata": {},
   "outputs": [],
   "source": [
    "df_2 = df_2[df_2[\"Kings County-alias\"] == \"State Correctional Facility (Inmate)\"]"
   ]
  },
  {
   "cell_type": "code",
   "execution_count": 35,
   "metadata": {},
   "outputs": [],
   "source": [
    "df_2 = df_2[[\"Kings County-alias\", \"Measure Values-alias\"]]"
   ]
  },
  {
   "cell_type": "code",
   "execution_count": 36,
   "metadata": {},
   "outputs": [],
   "source": [
    "df_2 = df_2.rename(\n",
    "    columns={\"Kings County1-alias\": \"area\", \"Measure Values-alias\": \"confirmed_cases\"}\n",
    ")"
   ]
  },
  {
   "cell_type": "markdown",
   "metadata": {},
   "source": [
    "Rename city dataframe columns"
   ]
  },
  {
   "cell_type": "code",
   "execution_count": 37,
   "metadata": {},
   "outputs": [],
   "source": [
    "df = df.rename(\n",
    "    columns={\"City-alias\": \"area\", \"SUM(Number of Cases)-alias\": \"confirmed_cases\"}\n",
    ")"
   ]
  },
  {
   "cell_type": "markdown",
   "metadata": {},
   "source": [
    "Reorder columns, Combine and add date, Kings County, and fix text"
   ]
  },
  {
   "cell_type": "code",
   "execution_count": 38,
   "metadata": {},
   "outputs": [],
   "source": [
    "df_final = pd.concat([df, df_2])"
   ]
  },
  {
   "cell_type": "code",
   "execution_count": 39,
   "metadata": {},
   "outputs": [],
   "source": [
    "df_final[\"county\"] = \"Kings\"\n",
    "df_final = df_final[[\"county\", \"area\", \"confirmed_cases\"]]\n",
    "df_final = df_final.replace(\n",
    "    \"State Correctional Facility (Inmate)\", \"Correctional facilities\"\n",
    ")"
   ]
  },
  {
   "cell_type": "markdown",
   "metadata": {},
   "source": [
    "Remove any commas from cases column"
   ]
  },
  {
   "cell_type": "code",
   "execution_count": 40,
   "metadata": {},
   "outputs": [],
   "source": [
    "df_final[\"confirmed_cases\"] = df_final.confirmed_cases.replace(\",\", \"\", regex=True)"
   ]
  },
  {
   "cell_type": "markdown",
   "metadata": {},
   "source": [
    "Dig up updated time"
   ]
  },
  {
   "cell_type": "code",
   "execution_count": 41,
   "metadata": {},
   "outputs": [],
   "source": [
    "date_sentence = info[\"worldUpdate\"][\"applicationPresModel\"][\"workbookPresModel\"][\n",
    "    \"dashboardPresModel\"\n",
    "][\"zones\"][\"5\"][\"presModelHolder\"][\"flipboard\"][\"storyPoints\"][\"1\"][\n",
    "    \"dashboardPresModel\"\n",
    "][\n",
    "    \"zones\"\n",
    "][\n",
    "    \"43\"\n",
    "][\n",
    "    \"zoneCommon\"\n",
    "][\n",
    "    \"name\"\n",
    "]"
   ]
  },
  {
   "cell_type": "code",
   "execution_count": 42,
   "metadata": {},
   "outputs": [],
   "source": [
    "date_strings = date_sentence.replace(\"Overview Last Updated on \", \"\").split(\" at \")"
   ]
  },
  {
   "cell_type": "code",
   "execution_count": 43,
   "metadata": {},
   "outputs": [],
   "source": [
    "date = date_strings[0]"
   ]
  },
  {
   "cell_type": "code",
   "execution_count": 44,
   "metadata": {},
   "outputs": [],
   "source": [
    "df_final[\"county_date\"] = pd.to_datetime(date)"
   ]
  },
  {
   "cell_type": "markdown",
   "metadata": {},
   "source": [
    "## Vet"
   ]
  },
  {
   "cell_type": "code",
   "execution_count": 45,
   "metadata": {},
   "outputs": [],
   "source": [
    "default_kings_len = 9"
   ]
  },
  {
   "cell_type": "code",
   "execution_count": 46,
   "metadata": {},
   "outputs": [],
   "source": [
    "try:\n",
    "    assert not len(df_final) > default_kings_len\n",
    "except AssertionError:\n",
    "    raise AssertionError(\"Kings County has more rows than before\")"
   ]
  },
  {
   "cell_type": "code",
   "execution_count": 47,
   "metadata": {},
   "outputs": [],
   "source": [
    "try:\n",
    "    assert not len(df_final) < default_kings_len\n",
    "except AssertionError:\n",
    "    raise AssertionError(\"Kings County has missing row(s)\")"
   ]
  },
  {
   "cell_type": "markdown",
   "metadata": {},
   "source": [
    "## Export"
   ]
  },
  {
   "cell_type": "markdown",
   "metadata": {},
   "source": [
    "Set the date"
   ]
  },
  {
   "cell_type": "code",
   "execution_count": 48,
   "metadata": {},
   "outputs": [],
   "source": [
    "tz = pytz.timezone(\"America/Los_Angeles\")"
   ]
  },
  {
   "cell_type": "code",
   "execution_count": 49,
   "metadata": {},
   "outputs": [],
   "source": [
    "today = datetime.now(tz).date()"
   ]
  },
  {
   "cell_type": "code",
   "execution_count": 50,
   "metadata": {},
   "outputs": [],
   "source": [
    "slug = \"kings\""
   ]
  },
  {
   "cell_type": "code",
   "execution_count": 51,
   "metadata": {},
   "outputs": [],
   "source": [
    "df_final.to_csv(data_dir / slug / f\"{today}.csv\", index=False)"
   ]
  },
  {
   "cell_type": "markdown",
   "metadata": {
    "tags": []
   },
   "source": [
    "## Combine"
   ]
  },
  {
   "cell_type": "code",
   "execution_count": 52,
   "metadata": {},
   "outputs": [],
   "source": [
    "csv_list = [\n",
    "    i\n",
    "    for i in glob.glob(str(data_dir / slug / \"*.csv\"))\n",
    "    if not str(i).endswith(\"timeseries.csv\")\n",
    "]"
   ]
  },
  {
   "cell_type": "code",
   "execution_count": 53,
   "metadata": {},
   "outputs": [],
   "source": [
    "df_list = []\n",
    "for csv in csv_list:\n",
    "    if \"manual\" in csv:\n",
    "        df = pd.read_csv(csv, parse_dates=[\"date\"])\n",
    "    else:\n",
    "        file_date = csv.split(\"/\")[-1].replace(\".csv\", \"\")\n",
    "        df = pd.read_csv(csv, parse_dates=[\"county_date\"])\n",
    "        df[\"date\"] = file_date\n",
    "    df_list.append(df)"
   ]
  },
  {
   "cell_type": "code",
   "execution_count": 54,
   "metadata": {},
   "outputs": [],
   "source": [
    "df = pd.concat(df_list).sort_values([\"date\", \"area\"])"
   ]
  },
  {
   "cell_type": "code",
   "execution_count": 55,
   "metadata": {},
   "outputs": [],
   "source": [
    "df.to_csv(data_dir / slug / \"timeseries.csv\", index=False)"
   ]
  }
 ],
 "metadata": {
  "kernelspec": {
   "display_name": "Python 3 (ipykernel)",
   "language": "python",
   "name": "python3"
  },
  "language_info": {
   "codemirror_mode": {
    "name": "ipython",
    "version": 3
   },
   "file_extension": ".py",
   "mimetype": "text/x-python",
   "name": "python",
   "nbconvert_exporter": "python",
   "pygments_lexer": "ipython3",
   "version": "3.8.11"
  }
 },
 "nbformat": 4,
 "nbformat_minor": 4
}
