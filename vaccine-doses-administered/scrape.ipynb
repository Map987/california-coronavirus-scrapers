{
 "cells": [
  {
   "cell_type": "markdown",
   "id": "pressing-retrieval",
   "metadata": {},
   "source": [
    "# vaccine-doses-administered\n",
    "\n",
    "By [Ryan Murphy](https://www.latimes.com/people/ryan-murphy)\n",
    "\n",
    "Downloads the number of vaccine doses administered by county and statewide from a Tableau dashboard published by the California Department of Public Health."
   ]
  },
  {
   "cell_type": "markdown",
   "id": "broadband-friday",
   "metadata": {},
   "source": [
    "## Import"
   ]
  },
  {
   "cell_type": "markdown",
   "id": "entire-algorithm",
   "metadata": {},
   "source": [
    "Code formatting with [black](https://pypi.org/project/nb-black/)."
   ]
  },
  {
   "cell_type": "code",
   "execution_count": 27,
   "id": "tribal-ambassador",
   "metadata": {},
   "outputs": [
    {
     "name": "stdout",
     "output_type": "stream",
     "text": [
      "The lab_black extension is already loaded. To reload it, use:\n",
      "  %reload_ext lab_black\n"
     ]
    }
   ],
   "source": [
    "%load_ext lab_black"
   ]
  },
  {
   "cell_type": "code",
   "execution_count": 28,
   "id": "sharing-queue",
   "metadata": {},
   "outputs": [],
   "source": [
    "import os\n",
    "import re\n",
    "import pytz\n",
    "import json\n",
    "import requests\n",
    "import pandas as pd\n",
    "from datetime import datetime\n",
    "from bs4 import BeautifulSoup"
   ]
  },
  {
   "cell_type": "markdown",
   "id": "worth-recognition",
   "metadata": {},
   "source": [
    "## Scrape"
   ]
  },
  {
   "cell_type": "markdown",
   "id": "adjacent-paintball",
   "metadata": {},
   "source": [
    "Our collection of variables."
   ]
  },
  {
   "cell_type": "code",
   "execution_count": 29,
   "id": "fixed-tender",
   "metadata": {},
   "outputs": [],
   "source": [
    "host_url = \"https://public.tableau.com\"\n",
    "path = \"/interactive/views/COVID-19VaccineDashboardPublic/Vaccine\"\n",
    "url = f\"{host_url}{path}\"\n",
    "\n",
    "sheet_id = \"County Map\"\n",
    "value_index = 4\n",
    "value_key = \"aliasIndices\"\n",
    "label_index = 1\n",
    "label_key = \"aliasIndices\""
   ]
  },
  {
   "cell_type": "markdown",
   "id": "fifth-boost",
   "metadata": {},
   "source": [
    "Download the embed so we can scrape it and find the VizQL root ID to build our query."
   ]
  },
  {
   "cell_type": "code",
   "execution_count": 30,
   "id": "level-donor",
   "metadata": {},
   "outputs": [],
   "source": [
    "response = requests.get(url, params={\":embed\": \"y\", \":showVizHome\": \"no\"})"
   ]
  },
  {
   "cell_type": "code",
   "execution_count": 31,
   "id": "comparable-clause",
   "metadata": {},
   "outputs": [],
   "source": [
    "soup = BeautifulSoup(response.text, \"html.parser\")"
   ]
  },
  {
   "cell_type": "code",
   "execution_count": 32,
   "id": "sporting-minnesota",
   "metadata": {},
   "outputs": [],
   "source": [
    "context = json.loads(soup.find(\"textarea\", {\"id\": \"tsConfigContainer\"}).text)"
   ]
  },
  {
   "cell_type": "code",
   "execution_count": 33,
   "id": "destroyed-effort",
   "metadata": {},
   "outputs": [],
   "source": [
    "data_url = f'{host_url}{context[\"vizql_root\"]}/bootstrapSession/sessions/{context[\"sessionid\"]}'"
   ]
  },
  {
   "cell_type": "markdown",
   "id": "basic-carroll",
   "metadata": {},
   "source": [
    "Then download the raw data, clean it up, and turn it into usable dictionaries."
   ]
  },
  {
   "cell_type": "code",
   "execution_count": 34,
   "id": "answering-excellence",
   "metadata": {},
   "outputs": [],
   "source": [
    "response = requests.post(data_url, data={\"sheet_id\": sheet_id})\n",
    "raw_text = response.text\n",
    "json_pieces = [json.loads(d) for d in re.split(\"\\d{2,10};(?={.+})\", raw_text) if len(d)]\n",
    "root = next(d for d in json_pieces if \"secondaryInfo\" in d)\n",
    "data = root[\"secondaryInfo\"][\"presModelMap\"]"
   ]
  },
  {
   "cell_type": "markdown",
   "id": "municipal-upper",
   "metadata": {},
   "source": [
    "Build our value lookup."
   ]
  },
  {
   "cell_type": "code",
   "execution_count": 35,
   "id": "thermal-worker",
   "metadata": {},
   "outputs": [],
   "source": [
    "value_columns = data[\"dataDictionary\"][\"presModelHolder\"][\"genDataDictionaryPresModel\"][\n",
    "    \"dataSegments\"\n",
    "][\"0\"][\"dataColumns\"]\n",
    "lookup = {d[\"dataType\"]: d[\"dataValues\"] for d in value_columns}"
   ]
  },
  {
   "cell_type": "markdown",
   "id": "killing-louis",
   "metadata": {},
   "source": [
    "Pull out the columns of indexes so we can run them against our lookup."
   ]
  },
  {
   "cell_type": "code",
   "execution_count": 36,
   "id": "innocent-prefix",
   "metadata": {},
   "outputs": [],
   "source": [
    "pres_model_map = data[\"vizData\"][\"presModelHolder\"][\"genPresModelMapPresModel\"][\n",
    "    \"presModelMap\"\n",
    "]\n",
    "\n",
    "columns = pres_model_map[sheet_id][\"presModelHolder\"][\"genVizDataPresModel\"][\n",
    "    \"paneColumnsData\"\n",
    "][\"paneColumnsList\"][0][\"vizPaneColumns\"]"
   ]
  },
  {
   "cell_type": "markdown",
   "id": "starting-singles",
   "metadata": {},
   "source": [
    "Using our variables from above, pull out the lists of indexes we need."
   ]
  },
  {
   "cell_type": "code",
   "execution_count": 37,
   "id": "stylish-russian",
   "metadata": {},
   "outputs": [],
   "source": [
    "values_column = columns[value_index][value_key]"
   ]
  },
  {
   "cell_type": "code",
   "execution_count": 38,
   "id": "bearing-planner",
   "metadata": {},
   "outputs": [],
   "source": [
    "labels_column = columns[label_index][label_key]"
   ]
  },
  {
   "cell_type": "markdown",
   "id": "sustained-training",
   "metadata": {},
   "source": [
    "Run each one through our lookup."
   ]
  },
  {
   "cell_type": "code",
   "execution_count": 39,
   "id": "quarterly-rochester",
   "metadata": {},
   "outputs": [],
   "source": [
    "values = [lookup[\"integer\"][idx] for idx, value in enumerate(values_column)]"
   ]
  },
  {
   "cell_type": "code",
   "execution_count": 40,
   "id": "residential-police",
   "metadata": {},
   "outputs": [],
   "source": [
    "labels = [lookup[\"cstring\"][label] for label in labels_column]"
   ]
  },
  {
   "cell_type": "markdown",
   "id": "attended-notion",
   "metadata": {},
   "source": [
    "`zip` and convert them to a `dict` so they are key/value'ed."
   ]
  },
  {
   "cell_type": "code",
   "execution_count": 41,
   "id": "prescribed-tulsa",
   "metadata": {},
   "outputs": [],
   "source": [
    "data = [\n",
    "    {\"county\": label, \"doses_administered\": value}\n",
    "    for label, value in (sorted(zip(labels, values), key=lambda d: d[0]))\n",
    "]"
   ]
  },
  {
   "cell_type": "code",
   "execution_count": 42,
   "id": "novel-paraguay",
   "metadata": {},
   "outputs": [],
   "source": [
    "county_df = pd.DataFrame(data)"
   ]
  },
  {
   "cell_type": "markdown",
   "id": "thrown-subcommittee",
   "metadata": {},
   "source": [
    "Get statewide totals"
   ]
  },
  {
   "cell_type": "code",
   "execution_count": 43,
   "id": "ultimate-moldova",
   "metadata": {},
   "outputs": [],
   "source": [
    "statewide_total_sheet_names = [\n",
    "    \"Total Doses Admin\",\n",
    "    \"Total Doses Delivered\",\n",
    "    \"Total Doses Delivered CDC\",\n",
    "    \"Total Doses Shipped\",\n",
    "    \"Total Doses Shipped CDC\",\n",
    "    \"Last Updated Date\",\n",
    "]"
   ]
  },
  {
   "cell_type": "code",
   "execution_count": 44,
   "id": "postal-implementation",
   "metadata": {},
   "outputs": [],
   "source": [
    "values = []\n",
    "for sheet in statewide_total_sheet_names:\n",
    "    totals_response = requests.post(data_url, data={\"sheet_id\": sheet})\n",
    "    totals_raw_text = totals_response.text\n",
    "    totals_json_pieces = [\n",
    "        json.loads(d) for d in re.split(\"\\d{2,10};(?={.+})\", totals_raw_text) if len(d)\n",
    "    ]\n",
    "    totals_root = next(d for d in totals_json_pieces if \"secondaryInfo\" in d)\n",
    "    totals_data = totals_root[\"secondaryInfo\"][\"presModelMap\"]\n",
    "    val = totals_data[\"dataDictionary\"][\"presModelHolder\"][\n",
    "        \"genDataDictionaryPresModel\"\n",
    "    ][\"dataSegments\"][\"0\"][\"dataColumns\"][0][\"dataValues\"][0]\n",
    "    values.append(val)"
   ]
  },
  {
   "cell_type": "code",
   "execution_count": 45,
   "id": "specified-arctic",
   "metadata": {},
   "outputs": [],
   "source": [
    "statewide_totals_dict = dict(zip(statewide_total_sheet_names, values))"
   ]
  },
  {
   "cell_type": "code",
   "execution_count": 46,
   "id": "photographic-package",
   "metadata": {},
   "outputs": [],
   "source": [
    "statewide_totals_df = pd.DataFrame(statewide_totals_dict, index=[0])"
   ]
  },
  {
   "cell_type": "code",
   "execution_count": 47,
   "id": "terminal-indian",
   "metadata": {},
   "outputs": [],
   "source": [
    "statewide_totals_clean = statewide_totals_df.rename(\n",
    "    columns={\n",
    "        \"Total Doses Admin\": \"total_doses_administered\",\n",
    "        \"Total Doses Delivered\": \"total_doses_delivered\",\n",
    "        \"Total Doses Delivered CDC\": \"total_doses_delivered_cdc\",\n",
    "        \"Total Doses Shipped\": \"total_doses_shipped\",\n",
    "        \"Total Doses Shipped CDC\": \"total_doses_shipped_cdc\",\n",
    "        \"Last Updated Date\": \"last_updated\",\n",
    "    }\n",
    ")"
   ]
  },
  {
   "cell_type": "code",
   "execution_count": 48,
   "id": "loving-narrow",
   "metadata": {},
   "outputs": [],
   "source": [
    "statewide_totals_clean[\"last_updated\"] = pd.to_datetime(\n",
    "    statewide_totals_clean[\"last_updated\"]\n",
    ")"
   ]
  },
  {
   "cell_type": "markdown",
   "id": "reflected-stretch",
   "metadata": {},
   "source": [
    "## Export"
   ]
  },
  {
   "cell_type": "markdown",
   "id": "future-simon",
   "metadata": {},
   "source": [
    "Datestamp and write it out"
   ]
  },
  {
   "cell_type": "code",
   "execution_count": 49,
   "id": "tamil-heath",
   "metadata": {},
   "outputs": [],
   "source": [
    "tz = pytz.timezone(\"America/Los_Angeles\")"
   ]
  },
  {
   "cell_type": "code",
   "execution_count": 50,
   "id": "early-providence",
   "metadata": {},
   "outputs": [],
   "source": [
    "today = datetime.now(tz).date()"
   ]
  },
  {
   "cell_type": "code",
   "execution_count": 51,
   "id": "sealed-upset",
   "metadata": {},
   "outputs": [],
   "source": [
    "data_dir = os.path.join(os.path.abspath(\"\"), \"data\")"
   ]
  },
  {
   "cell_type": "code",
   "execution_count": 52,
   "id": "willing-importance",
   "metadata": {},
   "outputs": [],
   "source": [
    "county_df.to_csv(os.path.join(data_dir, \"by-county\", f\"{today}.csv\"), index=False)"
   ]
  },
  {
   "cell_type": "code",
   "execution_count": 53,
   "id": "understood-enforcement",
   "metadata": {},
   "outputs": [],
   "source": [
    "statewide_totals_clean.to_csv(\n",
    "    os.path.join(data_dir, \"statewide\", f\"{today}.csv\"), index=False\n",
    ")"
   ]
  }
 ],
 "metadata": {
  "kernelspec": {
   "display_name": "Python 3",
   "language": "python",
   "name": "python3"
  },
  "language_info": {
   "codemirror_mode": {
    "name": "ipython",
    "version": 3
   },
   "file_extension": ".py",
   "mimetype": "text/x-python",
   "name": "python",
   "nbconvert_exporter": "python",
   "pygments_lexer": "ipython3",
   "version": "3.8.5"
  }
 },
 "nbformat": 4,
 "nbformat_minor": 5
}
