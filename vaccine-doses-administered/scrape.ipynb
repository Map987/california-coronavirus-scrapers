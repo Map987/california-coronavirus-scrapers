{
 "cells": [
  {
   "cell_type": "markdown",
   "id": "assisted-mechanism",
   "metadata": {},
   "source": [
    "# vaccine-doses-administered\n",
    "\n",
    "By [Sean Greene](https://www.latimes.com/people/sean-greene)\n",
    "\n",
    "Downloads the number of vaccine doses administered by county and statewide from a Tableau dashboard published by the California Department of Public Health."
   ]
  },
  {
   "cell_type": "markdown",
   "id": "million-format",
   "metadata": {},
   "source": [
    "## Import"
   ]
  },
  {
   "cell_type": "markdown",
   "id": "weekly-immigration",
   "metadata": {},
   "source": [
    "Code formatting with [black](https://pypi.org/project/nb-black/)."
   ]
  },
  {
   "cell_type": "code",
   "execution_count": 56,
   "id": "impressive-diving",
   "metadata": {},
   "outputs": [
    {
     "name": "stdout",
     "output_type": "stream",
     "text": [
      "The lab_black extension is already loaded. To reload it, use:\n",
      "  %reload_ext lab_black\n"
     ]
    }
   ],
   "source": [
    "%load_ext lab_black"
   ]
  },
  {
   "cell_type": "code",
   "execution_count": 57,
   "id": "careful-persian",
   "metadata": {},
   "outputs": [],
   "source": [
    "import os\n",
    "import re\n",
    "import pytz\n",
    "import json\n",
    "import requests\n",
    "import pandas as pd\n",
    "from datetime import datetime\n",
    "from bs4 import BeautifulSoup"
   ]
  },
  {
   "cell_type": "markdown",
   "id": "concerned-crown",
   "metadata": {},
   "source": [
    "## Scrape"
   ]
  },
  {
   "cell_type": "markdown",
   "id": "effective-rhythm",
   "metadata": {},
   "source": [
    "Our collection of variables."
   ]
  },
  {
   "cell_type": "code",
   "execution_count": 58,
   "id": "likely-advantage",
   "metadata": {},
   "outputs": [],
   "source": [
    "host_url = \"https://public.tableau.com\"\n",
    "path = \"/views/COVID-19VaccineDashboardPublic/Vaccine\"\n",
    "url = f\"{host_url}{path}\"\n",
    "\n",
    "sheet_id = \"County Map\"\n",
    "value_index = 4\n",
    "value_key = \"aliasIndices\"\n",
    "label_index = 1\n",
    "label_key = \"aliasIndices\""
   ]
  },
  {
   "cell_type": "markdown",
   "id": "electoral-dynamics",
   "metadata": {},
   "source": [
    "Download the embed so we can scrape it and find the VizQL root ID to build our query."
   ]
  },
  {
   "cell_type": "code",
   "execution_count": 59,
   "id": "polished-hacker",
   "metadata": {},
   "outputs": [],
   "source": [
    "response = requests.get(url, params={\":embed\": \"y\", \":showVizHome\": \"no\"})\n",
    "soup = BeautifulSoup(response.text, \"html.parser\")\n",
    "\n",
    "context = json.loads(soup.find(\"textarea\", {\"id\": \"tsConfigContainer\"}).text)\n",
    "data_url = f'{host_url}{context[\"vizql_root\"]}/bootstrapSession/sessions/{context[\"sessionid\"]}'"
   ]
  },
  {
   "cell_type": "markdown",
   "id": "opposed-title",
   "metadata": {},
   "source": [
    "Then download the raw data, clean it up, and turn it into usable dictionaries."
   ]
  },
  {
   "cell_type": "code",
   "execution_count": 60,
   "id": "august-columbia",
   "metadata": {},
   "outputs": [],
   "source": [
    "response = requests.post(data_url, data={\"sheet_id\": sheet_id})\n",
    "raw_text = response.text\n",
    "json_pieces = [json.loads(d) for d in re.split(\"\\d{2,10};(?={.+})\", raw_text) if len(d)]\n",
    "root = next(d for d in json_pieces if \"secondaryInfo\" in d)\n",
    "data = root[\"secondaryInfo\"][\"presModelMap\"]"
   ]
  },
  {
   "cell_type": "markdown",
   "id": "involved-arlington",
   "metadata": {},
   "source": [
    "Build our value lookup."
   ]
  },
  {
   "cell_type": "code",
   "execution_count": 61,
   "id": "patient-shirt",
   "metadata": {},
   "outputs": [],
   "source": [
    "value_columns = data[\"dataDictionary\"][\"presModelHolder\"][\"genDataDictionaryPresModel\"][\n",
    "    \"dataSegments\"\n",
    "][\"0\"][\"dataColumns\"]\n",
    "lookup = {d[\"dataType\"]: d[\"dataValues\"] for d in value_columns}"
   ]
  },
  {
   "cell_type": "markdown",
   "id": "false-panel",
   "metadata": {},
   "source": [
    "Pull out the columns of indexes so we can run them against our lookup."
   ]
  },
  {
   "cell_type": "code",
   "execution_count": 62,
   "id": "available-vacation",
   "metadata": {},
   "outputs": [],
   "source": [
    "pres_model_map = data[\"vizData\"][\"presModelHolder\"][\"genPresModelMapPresModel\"][\n",
    "    \"presModelMap\"\n",
    "]\n",
    "\n",
    "columns = pres_model_map[sheet_id][\"presModelHolder\"][\"genVizDataPresModel\"][\n",
    "    \"paneColumnsData\"\n",
    "][\"paneColumnsList\"][0][\"vizPaneColumns\"]"
   ]
  },
  {
   "cell_type": "markdown",
   "id": "adopted-marina",
   "metadata": {},
   "source": [
    "Using our variables from above, pull out the lists of indexes we need."
   ]
  },
  {
   "cell_type": "code",
   "execution_count": 63,
   "id": "single-switch",
   "metadata": {},
   "outputs": [],
   "source": [
    "values_column = columns[value_index][value_key]"
   ]
  },
  {
   "cell_type": "code",
   "execution_count": 64,
   "id": "sudden-idaho",
   "metadata": {},
   "outputs": [],
   "source": [
    "labels_column = columns[label_index][label_key]"
   ]
  },
  {
   "cell_type": "markdown",
   "id": "sharing-mystery",
   "metadata": {},
   "source": [
    "Run each one through our lookup."
   ]
  },
  {
   "cell_type": "code",
   "execution_count": 65,
   "id": "talented-profession",
   "metadata": {},
   "outputs": [],
   "source": [
    "values = [lookup[\"integer\"][value] for value in values_column]"
   ]
  },
  {
   "cell_type": "code",
   "execution_count": 66,
   "id": "alternative-posting",
   "metadata": {},
   "outputs": [],
   "source": [
    "labels = [lookup[\"cstring\"][label] for label in labels_column]"
   ]
  },
  {
   "cell_type": "markdown",
   "id": "caroline-bookmark",
   "metadata": {},
   "source": [
    "`zip` and convert them to a `dict` so they are key/value'ed."
   ]
  },
  {
   "cell_type": "code",
   "execution_count": 67,
   "id": "alpine-hollow",
   "metadata": {},
   "outputs": [],
   "source": [
    "data = [\n",
    "    {\"county\": label, \"doses_administered\": value}\n",
    "    for label, value in (sorted(zip(labels, values), key=lambda d: d[0]))\n",
    "]"
   ]
  },
  {
   "cell_type": "code",
   "execution_count": 68,
   "id": "norwegian-conspiracy",
   "metadata": {},
   "outputs": [],
   "source": [
    "county_df = pd.DataFrame(data)"
   ]
  },
  {
   "cell_type": "markdown",
   "id": "breathing-scene",
   "metadata": {},
   "source": [
    "Get statewide totals"
   ]
  },
  {
   "cell_type": "code",
   "execution_count": 69,
   "id": "entire-avenue",
   "metadata": {},
   "outputs": [],
   "source": [
    "statewide_total_sheet_names = [\n",
    "    \"Total Doses Admin\",\n",
    "    \"Total Doses Delivered\",\n",
    "    \"Total Doses Delivered CDC\",\n",
    "    \"Total Doses Shipped\",\n",
    "    \"Total Doses Shipped CDC\",\n",
    "    \"Last Updated Date\",\n",
    "]"
   ]
  },
  {
   "cell_type": "code",
   "execution_count": 70,
   "id": "oriented-ballet",
   "metadata": {},
   "outputs": [],
   "source": [
    "values = []\n",
    "for sheet in statewide_total_sheet_names:\n",
    "    totals_response = requests.post(data_url, data={\"sheet_id\": sheet})\n",
    "    totals_raw_text = totals_response.text\n",
    "    totals_json_pieces = [\n",
    "        json.loads(d) for d in re.split(\"\\d{2,10};(?={.+})\", totals_raw_text) if len(d)\n",
    "    ]\n",
    "    totals_root = next(d for d in totals_json_pieces if \"secondaryInfo\" in d)\n",
    "    totals_data = totals_root[\"secondaryInfo\"][\"presModelMap\"]\n",
    "    val = totals_data[\"dataDictionary\"][\"presModelHolder\"][\n",
    "        \"genDataDictionaryPresModel\"\n",
    "    ][\"dataSegments\"][\"0\"][\"dataColumns\"][0][\"dataValues\"][0]\n",
    "    values.append(val)"
   ]
  },
  {
   "cell_type": "code",
   "execution_count": 71,
   "id": "prompt-yacht",
   "metadata": {},
   "outputs": [],
   "source": [
    "statewide_totals_dict = dict(zip(statewide_total_sheet_names, values))"
   ]
  },
  {
   "cell_type": "code",
   "execution_count": 72,
   "id": "efficient-junior",
   "metadata": {},
   "outputs": [],
   "source": [
    "statewide_totals_df = pd.DataFrame(statewide_totals_dict, index=[0])"
   ]
  },
  {
   "cell_type": "code",
   "execution_count": 73,
   "id": "spanish-particular",
   "metadata": {},
   "outputs": [],
   "source": [
    "statewide_totals_clean = statewide_totals_df.rename(\n",
    "    columns={\n",
    "        \"Total Doses Admin\": \"total_doses_administered\",\n",
    "        \"Total Doses Delivered\": \"total_doses_delivered\",\n",
    "        \"Total Doses Delivered CDC\": \"total_doses_delivered_cdc\",\n",
    "        \"Total Doses Shipped\": \"total_doses_shipped\",\n",
    "        \"Total Doses Shipped CDC\": \"total_doses_shipped_cdc\",\n",
    "        \"Last Updated Date\": \"last_updated\",\n",
    "    }\n",
    ")"
   ]
  },
  {
   "cell_type": "code",
   "execution_count": 74,
   "id": "interpreted-prayer",
   "metadata": {},
   "outputs": [],
   "source": [
    "statewide_totals_clean[\"last_updated\"] = pd.to_datetime(\n",
    "    statewide_totals_clean[\"last_updated\"]\n",
    ")"
   ]
  },
  {
   "cell_type": "markdown",
   "id": "smooth-constant",
   "metadata": {},
   "source": [
    "## Export"
   ]
  },
  {
   "cell_type": "markdown",
   "id": "forward-columbia",
   "metadata": {},
   "source": [
    "Datestamp and write it out"
   ]
  },
  {
   "cell_type": "code",
   "execution_count": 75,
   "id": "fitting-bracelet",
   "metadata": {},
   "outputs": [],
   "source": [
    "tz = pytz.timezone(\"America/Los_Angeles\")"
   ]
  },
  {
   "cell_type": "code",
   "execution_count": 76,
   "id": "affecting-mechanics",
   "metadata": {},
   "outputs": [],
   "source": [
    "today = datetime.now(tz).date()"
   ]
  },
  {
   "cell_type": "code",
   "execution_count": 77,
   "id": "suspected-croatia",
   "metadata": {},
   "outputs": [],
   "source": [
    "data_dir = os.path.join(os.path.abspath(\"\"), \"data\")"
   ]
  },
  {
   "cell_type": "code",
   "execution_count": 78,
   "id": "absolute-george",
   "metadata": {},
   "outputs": [],
   "source": [
    "county_df.to_csv(os.path.join(data_dir, \"by-county\", f\"{today}.csv\"), index=False)"
   ]
  },
  {
   "cell_type": "code",
   "execution_count": 79,
   "id": "traditional-three",
   "metadata": {},
   "outputs": [],
   "source": [
    "statewide_totals_clean.to_csv(\n",
    "    os.path.join(data_dir, \"statewide\", f\"{today}.csv\"), index=False\n",
    ")"
   ]
  }
 ],
 "metadata": {
  "kernelspec": {
   "display_name": "Python 3",
   "language": "python",
   "name": "python3"
  },
  "language_info": {
   "codemirror_mode": {
    "name": "ipython",
    "version": 3
   },
   "file_extension": ".py",
   "mimetype": "text/x-python",
   "name": "python",
   "nbconvert_exporter": "python",
   "pygments_lexer": "ipython3",
   "version": "3.8.5"
  }
 },
 "nbformat": 4,
 "nbformat_minor": 5
}
