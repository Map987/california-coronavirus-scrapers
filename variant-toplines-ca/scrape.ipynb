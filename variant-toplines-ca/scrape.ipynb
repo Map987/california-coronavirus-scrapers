{
 "cells": [
  {
   "cell_type": "markdown",
   "id": "narrative-helmet",
   "metadata": {},
   "source": [
    "# CDPH variant totals by type\n",
    "\n",
    "Downloads [variant totals](https://covid19.ca.gov/variants/) published by the California Department of Public Health."
   ]
  },
  {
   "cell_type": "code",
   "execution_count": 1,
   "id": "hired-guard",
   "metadata": {},
   "outputs": [],
   "source": [
    "%load_ext lab_black"
   ]
  },
  {
   "cell_type": "markdown",
   "id": "hybrid-circular",
   "metadata": {},
   "source": [
    "## Import"
   ]
  },
  {
   "cell_type": "code",
   "execution_count": 2,
   "id": "a8b497cd-410f-4e2a-8354-63c3f09dfded",
   "metadata": {},
   "outputs": [],
   "source": [
    "import os\n",
    "import glob\n",
    "import pytz\n",
    "import requests\n",
    "import pandas as pd\n",
    "from datetime import datetime"
   ]
  },
  {
   "cell_type": "code",
   "execution_count": 3,
   "id": "resistant-camel",
   "metadata": {},
   "outputs": [],
   "source": [
    "tz = pytz.timezone(\"America/Los_Angeles\")"
   ]
  },
  {
   "cell_type": "code",
   "execution_count": 4,
   "id": "pleasant-shield",
   "metadata": {},
   "outputs": [],
   "source": [
    "today = datetime.now(tz).date()"
   ]
  },
  {
   "cell_type": "markdown",
   "id": "16ad0962-cbc1-4c14-9f6e-0af9c06797a3",
   "metadata": {},
   "source": [
    "## Scrape"
   ]
  },
  {
   "cell_type": "code",
   "execution_count": 5,
   "id": "d04f9410-f062-4519-9188-22c5c3dd3d03",
   "metadata": {},
   "outputs": [],
   "source": [
    "url = \"https://data.covid19.ca.gov/data/variants/california.json\""
   ]
  },
  {
   "cell_type": "code",
   "execution_count": 6,
   "id": "b5da2300-2ad8-4cae-ab49-02ac97f1b6fe",
   "metadata": {},
   "outputs": [],
   "source": [
    "response = requests.get(url)"
   ]
  },
  {
   "cell_type": "code",
   "execution_count": 7,
   "id": "fd87be77-8de5-4d04-8a7a-4499464cf6be",
   "metadata": {},
   "outputs": [],
   "source": [
    "data = response.json()"
   ]
  },
  {
   "cell_type": "code",
   "execution_count": 8,
   "id": "d53042fa-d794-4b31-9f44-08f77082e006",
   "metadata": {},
   "outputs": [],
   "source": [
    "pub_date = data[\"meta\"][\"PUBLISHED_DATE\"]"
   ]
  },
  {
   "cell_type": "code",
   "execution_count": 9,
   "id": "bb9c779a-80e6-4cba-98cc-be15a798d0d4",
   "metadata": {},
   "outputs": [],
   "source": [
    "report_date = data[\"meta\"][\"REPORT_DATE\"]"
   ]
  },
  {
   "cell_type": "markdown",
   "id": "21c01372-43d0-40a5-99c1-911fbeb2b94f",
   "metadata": {},
   "source": [
    "## Parse"
   ]
  },
  {
   "cell_type": "code",
   "execution_count": 10,
   "id": "579471ba-2029-4947-b970-c0610a8677bf",
   "metadata": {},
   "outputs": [],
   "source": [
    "df_list = []\n",
    "for key, value in data[\"data\"][\"time_series\"].items():\n",
    "    df = pd.DataFrame(value[\"VALUES\"])\n",
    "    df.rename(columns={\"VALUE\": key}, inplace=True)\n",
    "    df_list.append(df.set_index(\"DATE\"))"
   ]
  },
  {
   "cell_type": "code",
   "execution_count": 11,
   "id": "a45b8ae0-3715-4974-8e95-29f5bd5792da",
   "metadata": {},
   "outputs": [],
   "source": [
    "df = pd.concat(df_list, axis=1)"
   ]
  },
  {
   "cell_type": "code",
   "execution_count": 12,
   "id": "fc42c429-3a61-4b06-a68f-796578ab3f98",
   "metadata": {},
   "outputs": [],
   "source": [
    "df[\"published_date\"] = pub_date"
   ]
  },
  {
   "cell_type": "code",
   "execution_count": 13,
   "id": "4a3eb945-cf76-43e8-b68f-920b30e12e38",
   "metadata": {},
   "outputs": [],
   "source": [
    "df[\"report_date\"] = report_date"
   ]
  },
  {
   "cell_type": "code",
   "execution_count": 14,
   "id": "0a481c04-5b6a-48bb-a723-4502c80c02d7",
   "metadata": {},
   "outputs": [],
   "source": [
    "df[\"scrape_date\"] = today"
   ]
  },
  {
   "cell_type": "markdown",
   "id": "dated-tonight",
   "metadata": {},
   "source": [
    "## Export"
   ]
  },
  {
   "cell_type": "code",
   "execution_count": 15,
   "id": "frozen-vitamin",
   "metadata": {},
   "outputs": [],
   "source": [
    "data_dir = os.path.join(os.path.abspath(\"\"), \"data\")"
   ]
  },
  {
   "cell_type": "code",
   "execution_count": 16,
   "id": "8148631c-0f99-4e9b-b9b7-a37bf1e03151",
   "metadata": {},
   "outputs": [],
   "source": [
    "df.to_csv(os.path.join(data_dir, \"timeseries.csv\"))"
   ]
  }
 ],
 "metadata": {
  "kernelspec": {
   "display_name": "Python 3 (ipykernel)",
   "language": "python",
   "name": "python3"
  },
  "language_info": {
   "codemirror_mode": {
    "name": "ipython",
    "version": 3
   },
   "file_extension": ".py",
   "mimetype": "text/x-python",
   "name": "python",
   "nbconvert_exporter": "python",
   "pygments_lexer": "ipython3",
   "version": "3.8.12"
  }
 },
 "nbformat": 4,
 "nbformat_minor": 5
}
