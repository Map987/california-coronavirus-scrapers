{
 "cells": [
  {
   "cell_type": "markdown",
   "id": "narrative-helmet",
   "metadata": {},
   "source": [
    "# CDPH variant totals by type\n",
    "\n",
    "By [Matt Stiles](https://www.latimes.com/people/matt-stiles)\n",
    "\n",
    "Downloads [variant totals](https://www.cdph.ca.gov/Programs/CID/DCDC/Pages/COVID-19/COVID-Variants.aspx) published by the California Department of Public Health."
   ]
  },
  {
   "cell_type": "markdown",
   "id": "hybrid-circular",
   "metadata": {},
   "source": [
    "## Import"
   ]
  },
  {
   "cell_type": "markdown",
   "id": "advanced-richards",
   "metadata": {},
   "source": [
    "Code formatting with [black](https://pypi.org/project/nb-black/)."
   ]
  },
  {
   "cell_type": "code",
   "execution_count": 1,
   "id": "hired-guard",
   "metadata": {},
   "outputs": [],
   "source": [
    "%load_ext lab_black"
   ]
  },
  {
   "cell_type": "markdown",
   "id": "sharing-computer",
   "metadata": {},
   "source": [
    "Import dependencies."
   ]
  },
  {
   "cell_type": "code",
   "execution_count": 2,
   "id": "a8b497cd-410f-4e2a-8354-63c3f09dfded",
   "metadata": {},
   "outputs": [],
   "source": [
    "import os\n",
    "import pytz\n",
    "from datetime import datetime\n",
    "import requests\n",
    "from bs4 import BeautifulSoup\n",
    "import pandas as pd\n",
    "import lxml"
   ]
  },
  {
   "cell_type": "code",
   "execution_count": 3,
   "id": "resistant-camel",
   "metadata": {},
   "outputs": [],
   "source": [
    "tz = pytz.timezone(\"America/Los_Angeles\")"
   ]
  },
  {
   "cell_type": "code",
   "execution_count": 4,
   "id": "pleasant-shield",
   "metadata": {},
   "outputs": [],
   "source": [
    "today = datetime.now(tz).date()"
   ]
  },
  {
   "cell_type": "markdown",
   "id": "chemical-disability",
   "metadata": {},
   "source": [
    "## Scrape"
   ]
  },
  {
   "cell_type": "markdown",
   "id": "f6440446-8bcb-4978-838f-672646da2eff",
   "metadata": {},
   "source": [
    "### Get url for CDPH's variants summary page"
   ]
  },
  {
   "cell_type": "code",
   "execution_count": 5,
   "id": "d04f9410-f062-4519-9188-22c5c3dd3d03",
   "metadata": {},
   "outputs": [],
   "source": [
    "url = \"https://www.cdph.ca.gov/Programs/CID/DCDC/Pages/COVID-19/COVID-Variants.aspx\""
   ]
  },
  {
   "cell_type": "markdown",
   "id": "59d74dce-ae54-4972-9efc-ce776f26a7d1",
   "metadata": {},
   "source": [
    "### Read the data on the page"
   ]
  },
  {
   "cell_type": "code",
   "execution_count": 6,
   "id": "89d29f4a-8f2c-4e88-89a3-86c65ca880d6",
   "metadata": {},
   "outputs": [],
   "source": [
    "# page = pd.read_html(url, header=0)"
   ]
  },
  {
   "cell_type": "code",
   "execution_count": 7,
   "id": "b5da2300-2ad8-4cae-ab49-02ac97f1b6fe",
   "metadata": {},
   "outputs": [],
   "source": [
    "response = requests.get(url)"
   ]
  },
  {
   "cell_type": "markdown",
   "id": "030e1a90-2379-41d5-b40c-ba1de0e1daad",
   "metadata": {},
   "source": [
    "### Get the 'known variants of concern in California' table"
   ]
  },
  {
   "cell_type": "code",
   "execution_count": 8,
   "id": "4b702334-b46b-4f71-bf22-94bc0f165426",
   "metadata": {},
   "outputs": [],
   "source": [
    "df1 = pd.read_html(response.text, attrs={\"class\": \"ms-rteTable-default\"}, header=0)[0]"
   ]
  },
  {
   "cell_type": "code",
   "execution_count": 9,
   "id": "6adfea0b-ee6a-4202-895b-c8620deb6071",
   "metadata": {},
   "outputs": [],
   "source": [
    "df1[\"update_date\"] = today"
   ]
  },
  {
   "cell_type": "code",
   "execution_count": 10,
   "id": "8ab0a78a-f022-429a-be9f-4c79388708ea",
   "metadata": {},
   "outputs": [],
   "source": [
    "df1.rename(\n",
    "    columns={\n",
    "        \"Variant\": \"variant_name\",\n",
    "        \"Number of Cases Caused by Variant\": \"cases_caused_by_variant\",\n",
    "        \"update_date\": \"update_date\",\n",
    "    },\n",
    "    inplace=True,\n",
    ")"
   ]
  },
  {
   "cell_type": "code",
   "execution_count": 11,
   "id": "1a55c3f0-7268-414e-8744-972db9d1b207",
   "metadata": {},
   "outputs": [
    {
     "data": {
      "text/html": [
       "<div>\n",
       "<style scoped>\n",
       "    .dataframe tbody tr th:only-of-type {\n",
       "        vertical-align: middle;\n",
       "    }\n",
       "\n",
       "    .dataframe tbody tr th {\n",
       "        vertical-align: top;\n",
       "    }\n",
       "\n",
       "    .dataframe thead th {\n",
       "        text-align: right;\n",
       "    }\n",
       "</style>\n",
       "<table border=\"1\" class=\"dataframe\">\n",
       "  <thead>\n",
       "    <tr style=\"text-align: right;\">\n",
       "      <th></th>\n",
       "      <th>variant_name</th>\n",
       "      <th>cases_caused_by_variant</th>\n",
       "      <th>update_date</th>\n",
       "    </tr>\n",
       "  </thead>\n",
       "  <tbody>\n",
       "    <tr>\n",
       "      <th>0</th>\n",
       "      <td>B.1.1.7</td>\n",
       "      <td>1937</td>\n",
       "      <td>2021-04-17</td>\n",
       "    </tr>\n",
       "    <tr>\n",
       "      <th>1</th>\n",
       "      <td>B.1.351</td>\n",
       "      <td>27</td>\n",
       "      <td>2021-04-17</td>\n",
       "    </tr>\n",
       "    <tr>\n",
       "      <th>2</th>\n",
       "      <td>P.1</td>\n",
       "      <td>166</td>\n",
       "      <td>2021-04-17</td>\n",
       "    </tr>\n",
       "    <tr>\n",
       "      <th>3</th>\n",
       "      <td>B.1.427</td>\n",
       "      <td>4416</td>\n",
       "      <td>2021-04-17</td>\n",
       "    </tr>\n",
       "    <tr>\n",
       "      <th>4</th>\n",
       "      <td>B.1.429</td>\n",
       "      <td>9074</td>\n",
       "      <td>2021-04-17</td>\n",
       "    </tr>\n",
       "  </tbody>\n",
       "</table>\n",
       "</div>"
      ],
      "text/plain": [
       "  variant_name  cases_caused_by_variant update_date\n",
       "0      B.1.1.7                     1937  2021-04-17\n",
       "1      B.1.351                       27  2021-04-17\n",
       "2          P.1                      166  2021-04-17\n",
       "3      B.1.427                     4416  2021-04-17\n",
       "4      B.1.429                     9074  2021-04-17"
      ]
     },
     "execution_count": 11,
     "metadata": {},
     "output_type": "execute_result"
    }
   ],
   "source": [
    "df1.head()"
   ]
  },
  {
   "cell_type": "markdown",
   "id": "eed27a94-2664-4259-a063-65ccc2f72fc0",
   "metadata": {},
   "source": [
    "### Get the 'known variants of interest in California' table"
   ]
  },
  {
   "cell_type": "code",
   "execution_count": 12,
   "id": "fcae3c92-ccdf-4ad1-8ec9-a2cf4092b65d",
   "metadata": {},
   "outputs": [],
   "source": [
    "df2 = pd.read_html(response.text, attrs={\"class\": \"ms-rteTable-default\"}, header=0)[1]"
   ]
  },
  {
   "cell_type": "code",
   "execution_count": 13,
   "id": "d06ca3e6-2e1f-466e-a3d2-13aa25a7fb19",
   "metadata": {},
   "outputs": [],
   "source": [
    "df2[\"update_date\"] = today"
   ]
  },
  {
   "cell_type": "code",
   "execution_count": 14,
   "id": "f30b6c12-507d-48eb-a177-a81680fe4dbf",
   "metadata": {},
   "outputs": [],
   "source": [
    "df2.rename(\n",
    "    columns={\n",
    "        \"Variant\": \"variant_name\",\n",
    "        \"Number of Cases Caused by Variant\": \"cases_caused_by_variant\",\n",
    "        \"update_date\": \"update_date\",\n",
    "    },\n",
    "    inplace=True,\n",
    ")"
   ]
  },
  {
   "cell_type": "code",
   "execution_count": 15,
   "id": "a11d0a9d-39b9-45e6-906a-30dcb9b9399c",
   "metadata": {},
   "outputs": [
    {
     "data": {
      "text/html": [
       "<div>\n",
       "<style scoped>\n",
       "    .dataframe tbody tr th:only-of-type {\n",
       "        vertical-align: middle;\n",
       "    }\n",
       "\n",
       "    .dataframe tbody tr th {\n",
       "        vertical-align: top;\n",
       "    }\n",
       "\n",
       "    .dataframe thead th {\n",
       "        text-align: right;\n",
       "    }\n",
       "</style>\n",
       "<table border=\"1\" class=\"dataframe\">\n",
       "  <thead>\n",
       "    <tr style=\"text-align: right;\">\n",
       "      <th></th>\n",
       "      <th>variant_name</th>\n",
       "      <th>cases_caused_by_variant</th>\n",
       "      <th>update_date</th>\n",
       "    </tr>\n",
       "  </thead>\n",
       "  <tbody>\n",
       "    <tr>\n",
       "      <th>0</th>\n",
       "      <td>B.1.526</td>\n",
       "      <td>78</td>\n",
       "      <td>2021-04-17</td>\n",
       "    </tr>\n",
       "    <tr>\n",
       "      <th>1</th>\n",
       "      <td>B.1.525</td>\n",
       "      <td>5</td>\n",
       "      <td>2021-04-17</td>\n",
       "    </tr>\n",
       "    <tr>\n",
       "      <th>2</th>\n",
       "      <td>P.2</td>\n",
       "      <td>33</td>\n",
       "      <td>2021-04-17</td>\n",
       "    </tr>\n",
       "  </tbody>\n",
       "</table>\n",
       "</div>"
      ],
      "text/plain": [
       "  variant_name  cases_caused_by_variant update_date\n",
       "0      B.1.526                       78  2021-04-17\n",
       "1      B.1.525                        5  2021-04-17\n",
       "2          P.2                       33  2021-04-17"
      ]
     },
     "execution_count": 15,
     "metadata": {},
     "output_type": "execute_result"
    }
   ],
   "source": [
    "df2.head()"
   ]
  },
  {
   "cell_type": "markdown",
   "id": "dated-tonight",
   "metadata": {},
   "source": [
    "## Export"
   ]
  },
  {
   "cell_type": "markdown",
   "id": "lovely-blink",
   "metadata": {},
   "source": [
    "Save out the data as CSVs that are datestamped to California time."
   ]
  },
  {
   "cell_type": "code",
   "execution_count": 16,
   "id": "frozen-vitamin",
   "metadata": {},
   "outputs": [],
   "source": [
    "data_dir = os.path.join(os.path.abspath(\"\"), \"data\")"
   ]
  },
  {
   "cell_type": "code",
   "execution_count": 17,
   "id": "8148631c-0f99-4e9b-b9b7-a37bf1e03151",
   "metadata": {},
   "outputs": [],
   "source": [
    "df1.to_csv(\n",
    "    os.path.join(data_dir, f\"variants_of_concern_ca_{today}_.csv\"),\n",
    "    index=False,\n",
    ")"
   ]
  },
  {
   "cell_type": "code",
   "execution_count": 18,
   "id": "c87f0cb7-bd84-4ad2-bce0-474a22b1b6b7",
   "metadata": {},
   "outputs": [],
   "source": [
    "df2.to_csv(\n",
    "    os.path.join(data_dir, f\"variants_of_interest_ca_{today}_.csv\"),\n",
    "    index=False,\n",
    ")"
   ]
  }
 ],
 "metadata": {
  "kernelspec": {
   "display_name": "Python 3",
   "language": "python",
   "name": "python3"
  },
  "language_info": {
   "codemirror_mode": {
    "name": "ipython",
    "version": 3
   },
   "file_extension": ".py",
   "mimetype": "text/x-python",
   "name": "python",
   "nbconvert_exporter": "python",
   "pygments_lexer": "ipython3",
   "version": "3.8.0"
  }
 },
 "nbformat": 4,
 "nbformat_minor": 5
}
