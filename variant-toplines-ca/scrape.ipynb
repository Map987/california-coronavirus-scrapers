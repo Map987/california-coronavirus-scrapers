{
 "cells": [
  {
   "cell_type": "markdown",
   "id": "narrative-helmet",
   "metadata": {},
   "source": [
    "# CDPH variant totals by type\n",
    "\n",
    "By [Matt Stiles](https://www.latimes.com/people/matt-stiles)\n",
    "\n",
    "Downloads [variant totals](https://www.cdph.ca.gov/Programs/CID/DCDC/Pages/COVID-19/COVID-Variants.aspx) published by the California Department of Public Health."
   ]
  },
  {
   "cell_type": "markdown",
   "id": "hybrid-circular",
   "metadata": {},
   "source": [
    "## Import"
   ]
  },
  {
   "cell_type": "markdown",
   "id": "advanced-richards",
   "metadata": {},
   "source": [
    "Code formatting with [black](https://pypi.org/project/nb-black/)."
   ]
  },
  {
   "cell_type": "code",
   "execution_count": 6,
   "id": "hired-guard",
   "metadata": {},
   "outputs": [
    {
     "name": "stdout",
     "output_type": "stream",
     "text": [
      "The lab_black extension is already loaded. To reload it, use:\n",
      "  %reload_ext lab_black\n"
     ]
    }
   ],
   "source": [
    "%load_ext lab_black"
   ]
  },
  {
   "cell_type": "markdown",
   "id": "sharing-computer",
   "metadata": {},
   "source": [
    "Import dependencies."
   ]
  },
  {
   "cell_type": "code",
   "execution_count": 25,
   "id": "a8b497cd-410f-4e2a-8354-63c3f09dfded",
   "metadata": {},
   "outputs": [],
   "source": [
    "import os\n",
    "import pytz\n",
    "from datetime import datetime\n",
    "import requests\n",
    "from bs4 import BeautifulSoup\n",
    "import pandas as pd\n",
    "import lxml\n",
    "import glob"
   ]
  },
  {
   "cell_type": "code",
   "execution_count": 8,
   "id": "resistant-camel",
   "metadata": {},
   "outputs": [],
   "source": [
    "tz = pytz.timezone(\"America/Los_Angeles\")"
   ]
  },
  {
   "cell_type": "code",
   "execution_count": 9,
   "id": "pleasant-shield",
   "metadata": {},
   "outputs": [],
   "source": [
    "today = datetime.now(tz).date()"
   ]
  },
  {
   "cell_type": "markdown",
   "id": "chemical-disability",
   "metadata": {},
   "source": [
    "## Scrape"
   ]
  },
  {
   "cell_type": "markdown",
   "id": "f6440446-8bcb-4978-838f-672646da2eff",
   "metadata": {},
   "source": [
    "### Get url for CDPH's variants summary page"
   ]
  },
  {
   "cell_type": "code",
   "execution_count": 10,
   "id": "d04f9410-f062-4519-9188-22c5c3dd3d03",
   "metadata": {},
   "outputs": [],
   "source": [
    "url = \"https://www.cdph.ca.gov/Programs/CID/DCDC/Pages/COVID-19/COVID-Variants.aspx\""
   ]
  },
  {
   "cell_type": "markdown",
   "id": "59d74dce-ae54-4972-9efc-ce776f26a7d1",
   "metadata": {},
   "source": [
    "### Read the data on the page"
   ]
  },
  {
   "cell_type": "code",
   "execution_count": 11,
   "id": "89d29f4a-8f2c-4e88-89a3-86c65ca880d6",
   "metadata": {},
   "outputs": [],
   "source": [
    "# page = pd.read_html(url, header=0)"
   ]
  },
  {
   "cell_type": "code",
   "execution_count": 12,
   "id": "b5da2300-2ad8-4cae-ab49-02ac97f1b6fe",
   "metadata": {},
   "outputs": [],
   "source": [
    "response = requests.get(url)"
   ]
  },
  {
   "cell_type": "markdown",
   "id": "030e1a90-2379-41d5-b40c-ba1de0e1daad",
   "metadata": {},
   "source": [
    "### Get the 'known variants of concern in California' table"
   ]
  },
  {
   "cell_type": "code",
   "execution_count": 13,
   "id": "4b702334-b46b-4f71-bf22-94bc0f165426",
   "metadata": {},
   "outputs": [],
   "source": [
    "df1 = pd.read_html(response.text, attrs={\"class\": \"ms-rteTable-default\"}, header=0)[0]"
   ]
  },
  {
   "cell_type": "code",
   "execution_count": 14,
   "id": "6adfea0b-ee6a-4202-895b-c8620deb6071",
   "metadata": {},
   "outputs": [],
   "source": [
    "df1[\"update_date\"] = today"
   ]
  },
  {
   "cell_type": "code",
   "execution_count": 15,
   "id": "8ab0a78a-f022-429a-be9f-4c79388708ea",
   "metadata": {},
   "outputs": [],
   "source": [
    "df1.rename(\n",
    "    columns={\n",
    "        \"Variant\": \"variant_name\",\n",
    "        \"Number of Cases Caused by Variant\": \"cases_caused_by_variant\",\n",
    "        \"update_date\": \"update_date\",\n",
    "    },\n",
    "    inplace=True,\n",
    ")"
   ]
  },
  {
   "cell_type": "code",
   "execution_count": 16,
   "id": "1a55c3f0-7268-414e-8744-972db9d1b207",
   "metadata": {},
   "outputs": [
    {
     "data": {
      "text/html": [
       "<div>\n",
       "<style scoped>\n",
       "    .dataframe tbody tr th:only-of-type {\n",
       "        vertical-align: middle;\n",
       "    }\n",
       "\n",
       "    .dataframe tbody tr th {\n",
       "        vertical-align: top;\n",
       "    }\n",
       "\n",
       "    .dataframe thead th {\n",
       "        text-align: right;\n",
       "    }\n",
       "</style>\n",
       "<table border=\"1\" class=\"dataframe\">\n",
       "  <thead>\n",
       "    <tr style=\"text-align: right;\">\n",
       "      <th></th>\n",
       "      <th>​Variant</th>\n",
       "      <th>​WHO Label</th>\n",
       "      <th>​Number of Cases Caused by Variant</th>\n",
       "      <th>update_date</th>\n",
       "    </tr>\n",
       "  </thead>\n",
       "  <tbody>\n",
       "    <tr>\n",
       "      <th>0</th>\n",
       "      <td>​B.1.1.7</td>\n",
       "      <td>​Alpha</td>\n",
       "      <td>​9,964</td>\n",
       "      <td>2021-07-04</td>\n",
       "    </tr>\n",
       "    <tr>\n",
       "      <th>1</th>\n",
       "      <td>​B.1.351</td>\n",
       "      <td>​Beta</td>\n",
       "      <td>​112</td>\n",
       "      <td>2021-07-04</td>\n",
       "    </tr>\n",
       "    <tr>\n",
       "      <th>2</th>\n",
       "      <td>​P.1</td>\n",
       "      <td>​Gamma</td>\n",
       "      <td>​1,587</td>\n",
       "      <td>2021-07-04</td>\n",
       "    </tr>\n",
       "    <tr>\n",
       "      <th>3</th>\n",
       "      <td>​B.1.617.2*</td>\n",
       "      <td>Delta​</td>\n",
       "      <td>​634</td>\n",
       "      <td>2021-07-04</td>\n",
       "    </tr>\n",
       "  </tbody>\n",
       "</table>\n",
       "</div>"
      ],
      "text/plain": [
       "      ​Variant ​WHO Label ​Number of Cases Caused by Variant update_date\n",
       "0     ​B.1.1.7     ​Alpha                             ​9,964  2021-07-04\n",
       "1     ​B.1.351      ​Beta                               ​112  2021-07-04\n",
       "2         ​P.1     ​Gamma                             ​1,587  2021-07-04\n",
       "3  ​B.1.617.2*     Delta​                               ​634  2021-07-04"
      ]
     },
     "execution_count": 16,
     "metadata": {},
     "output_type": "execute_result"
    }
   ],
   "source": [
    "df1.head()"
   ]
  },
  {
   "cell_type": "markdown",
   "id": "eed27a94-2664-4259-a063-65ccc2f72fc0",
   "metadata": {},
   "source": [
    "### Get the 'known variants of interest in California' table"
   ]
  },
  {
   "cell_type": "code",
   "execution_count": 17,
   "id": "fcae3c92-ccdf-4ad1-8ec9-a2cf4092b65d",
   "metadata": {},
   "outputs": [],
   "source": [
    "df2 = pd.read_html(response.text, attrs={\"class\": \"ms-rteTable-default\"}, header=0)[1]"
   ]
  },
  {
   "cell_type": "code",
   "execution_count": 18,
   "id": "d06ca3e6-2e1f-466e-a3d2-13aa25a7fb19",
   "metadata": {},
   "outputs": [],
   "source": [
    "df2[\"update_date\"] = today"
   ]
  },
  {
   "cell_type": "code",
   "execution_count": 19,
   "id": "f30b6c12-507d-48eb-a177-a81680fe4dbf",
   "metadata": {},
   "outputs": [],
   "source": [
    "df2.rename(\n",
    "    columns={\n",
    "        \"Variant\": \"variant_name\",\n",
    "        \"Number of Cases Caused by Variant\": \"cases_caused_by_variant\",\n",
    "        \"update_date\": \"update_date\",\n",
    "    },\n",
    "    inplace=True,\n",
    ")"
   ]
  },
  {
   "cell_type": "code",
   "execution_count": 20,
   "id": "a11d0a9d-39b9-45e6-906a-30dcb9b9399c",
   "metadata": {},
   "outputs": [
    {
     "data": {
      "text/html": [
       "<div>\n",
       "<style scoped>\n",
       "    .dataframe tbody tr th:only-of-type {\n",
       "        vertical-align: middle;\n",
       "    }\n",
       "\n",
       "    .dataframe tbody tr th {\n",
       "        vertical-align: top;\n",
       "    }\n",
       "\n",
       "    .dataframe thead th {\n",
       "        text-align: right;\n",
       "    }\n",
       "</style>\n",
       "<table border=\"1\" class=\"dataframe\">\n",
       "  <thead>\n",
       "    <tr style=\"text-align: right;\">\n",
       "      <th></th>\n",
       "      <th>​Variant</th>\n",
       "      <th>​WHO Label</th>\n",
       "      <th>​Number of Cases Caused by Variant</th>\n",
       "      <th>update_date</th>\n",
       "    </tr>\n",
       "  </thead>\n",
       "  <tbody>\n",
       "    <tr>\n",
       "      <th>0</th>\n",
       "      <td>​B.1.427 and B.1.429</td>\n",
       "      <td>Epsilon</td>\n",
       "      <td>20585</td>\n",
       "      <td>2021-07-04</td>\n",
       "    </tr>\n",
       "    <tr>\n",
       "      <th>1</th>\n",
       "      <td>​P.2</td>\n",
       "      <td>Zeta</td>\n",
       "      <td>​80</td>\n",
       "      <td>2021-07-04</td>\n",
       "    </tr>\n",
       "    <tr>\n",
       "      <th>2</th>\n",
       "      <td>​B.1.525</td>\n",
       "      <td>​Eta</td>\n",
       "      <td>​53</td>\n",
       "      <td>2021-07-04</td>\n",
       "    </tr>\n",
       "    <tr>\n",
       "      <th>3</th>\n",
       "      <td>B.1.526</td>\n",
       "      <td>​Iota</td>\n",
       "      <td>​1,410</td>\n",
       "      <td>2021-07-04</td>\n",
       "    </tr>\n",
       "    <tr>\n",
       "      <th>4</th>\n",
       "      <td>​B.1.617.1</td>\n",
       "      <td>Kappa</td>\n",
       "      <td>​58</td>\n",
       "      <td>2021-07-04</td>\n",
       "    </tr>\n",
       "  </tbody>\n",
       "</table>\n",
       "</div>"
      ],
      "text/plain": [
       "               ​Variant ​WHO Label ​Number of Cases Caused by Variant  \\\n",
       "0  ​B.1.427 and B.1.429    Epsilon                              20585   \n",
       "1                  ​P.2       Zeta                                ​80   \n",
       "2              ​B.1.525       ​Eta                                ​53   \n",
       "3               B.1.526      ​Iota                             ​1,410   \n",
       "4            ​B.1.617.1      Kappa                                ​58   \n",
       "\n",
       "  update_date  \n",
       "0  2021-07-04  \n",
       "1  2021-07-04  \n",
       "2  2021-07-04  \n",
       "3  2021-07-04  \n",
       "4  2021-07-04  "
      ]
     },
     "execution_count": 20,
     "metadata": {},
     "output_type": "execute_result"
    }
   ],
   "source": [
    "df2.head()"
   ]
  },
  {
   "cell_type": "markdown",
   "id": "dated-tonight",
   "metadata": {},
   "source": [
    "## Export"
   ]
  },
  {
   "cell_type": "markdown",
   "id": "lovely-blink",
   "metadata": {},
   "source": [
    "Save out the data as CSVs that are datestamped to California time."
   ]
  },
  {
   "cell_type": "code",
   "execution_count": 21,
   "id": "frozen-vitamin",
   "metadata": {},
   "outputs": [],
   "source": [
    "data_dir = os.path.join(os.path.abspath(\"\"), \"data\")"
   ]
  },
  {
   "cell_type": "code",
   "execution_count": 22,
   "id": "8148631c-0f99-4e9b-b9b7-a37bf1e03151",
   "metadata": {},
   "outputs": [],
   "source": [
    "df1.to_csv(\n",
    "    os.path.join(data_dir, f\"raw/concern/variants_of_concern_ca_{today}_.csv\"),\n",
    "    index=False,\n",
    ")"
   ]
  },
  {
   "cell_type": "code",
   "execution_count": 23,
   "id": "c87f0cb7-bd84-4ad2-bce0-474a22b1b6b7",
   "metadata": {},
   "outputs": [],
   "source": [
    "df2.to_csv(\n",
    "    os.path.join(data_dir, f\"raw/interest/variants_of_interest_ca_{today}_.csv\"),\n",
    "    index=False,\n",
    ")"
   ]
  },
  {
   "cell_type": "markdown",
   "id": "0ce5ce82-d6bf-4b91-a7fa-f5c9b72ddd41",
   "metadata": {},
   "source": [
    "### Concatenate"
   ]
  },
  {
   "cell_type": "code",
   "execution_count": 26,
   "id": "6ef03863-2012-46a5-947e-4dfc782384e2",
   "metadata": {},
   "outputs": [],
   "source": [
    "path = \"\"\n",
    "of_concern_files = glob.glob(os.path.join(path, \"data/raw/concern/*.csv\"))\n",
    "of_interest_files = glob.glob(os.path.join(path, \"data/raw/interest/*.csv\"))"
   ]
  },
  {
   "cell_type": "markdown",
   "id": "6f65d531-d336-407b-af1b-98ee1fe4aca8",
   "metadata": {},
   "source": [
    "Variants of concern"
   ]
  },
  {
   "cell_type": "code",
   "execution_count": 142,
   "id": "36299198-e975-45fa-9b27-1ba6cbfc9624",
   "metadata": {},
   "outputs": [],
   "source": [
    "def concat_files(files):\n",
    "\n",
    "    file_df = (\n",
    "        pd.read_csv(f, low_memory=False)\n",
    "        .assign(filename=os.path.basename(f))\n",
    "        .rename(\n",
    "            columns={\n",
    "                \"​Variant\": \"variant_name\",\n",
    "                \"​WHO Label\": \"who_label\",\n",
    "                \"​Number of Cases Caused by Variant\": \"cases_caused_by_variant\",\n",
    "            }\n",
    "        )\n",
    "        for f in files\n",
    "    )\n",
    "\n",
    "    concat_df = pd.concat(\n",
    "        file_df,\n",
    "        ignore_index=True,\n",
    "    )\n",
    "    concat_df[\"update_date\"] = pd.to_datetime(\n",
    "        concat_df[\"update_date\"].str.replace(\".csv\", \"\", regex=False)\n",
    "    )\n",
    "    return concat_df"
   ]
  },
  {
   "cell_type": "code",
   "execution_count": 147,
   "id": "8ae2c9e7-e293-4273-af4c-a1079dc45ba6",
   "metadata": {},
   "outputs": [],
   "source": [
    "concern_df = concat_files(of_concern_files)"
   ]
  },
  {
   "cell_type": "code",
   "execution_count": 148,
   "id": "d36bd967-e8e0-438c-a781-6929c6309c37",
   "metadata": {},
   "outputs": [],
   "source": [
    "concern_df.to_csv(\"data/variants_of_concern_timeseries.csv\", index=False)"
   ]
  },
  {
   "cell_type": "code",
   "execution_count": 149,
   "id": "fa0a1e5a-8284-42e6-9479-0627fcdc5e8e",
   "metadata": {},
   "outputs": [],
   "source": [
    "interest_df = concat_files(of_interest_files)"
   ]
  },
  {
   "cell_type": "code",
   "execution_count": 150,
   "id": "55c6bdfa-9be1-4dc4-9ca0-1388726ad3a8",
   "metadata": {},
   "outputs": [],
   "source": [
    "interest_df.to_csv(\"data/variants_of_interest_timeseries.csv\", index=False)"
   ]
  }
 ],
 "metadata": {
  "kernelspec": {
   "display_name": "Python 3",
   "language": "python",
   "name": "python3"
  },
  "language_info": {
   "codemirror_mode": {
    "name": "ipython",
    "version": 3
   },
   "file_extension": ".py",
   "mimetype": "text/x-python",
   "name": "python",
   "nbconvert_exporter": "python",
   "pygments_lexer": "ipython3",
   "version": "3.8.7"
  }
 },
 "nbformat": 4,
 "nbformat_minor": 5
}
