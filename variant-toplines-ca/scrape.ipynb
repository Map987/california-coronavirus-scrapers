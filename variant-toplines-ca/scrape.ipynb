{
 "cells": [
  {
   "cell_type": "markdown",
   "id": "narrative-helmet",
   "metadata": {},
   "source": [
    "# CDPH variant totals by type\n",
    "\n",
    "By [Matt Stiles](https://www.latimes.com/people/matt-stiles)\n",
    "\n",
    "Downloads [variant totals](https://www.cdph.ca.gov/Programs/CID/DCDC/Pages/COVID-19/COVID-Variants.aspx) published by the California Department of Public Health."
   ]
  },
  {
   "cell_type": "markdown",
   "id": "hybrid-circular",
   "metadata": {},
   "source": [
    "## Import"
   ]
  },
  {
   "cell_type": "markdown",
   "id": "advanced-richards",
   "metadata": {},
   "source": [
    "Code formatting with [black](https://pypi.org/project/nb-black/)."
   ]
  },
  {
   "cell_type": "code",
   "execution_count": 39,
   "id": "hired-guard",
   "metadata": {},
   "outputs": [
    {
     "name": "stdout",
     "output_type": "stream",
     "text": [
      "The lab_black extension is already loaded. To reload it, use:\n",
      "  %reload_ext lab_black\n"
     ]
    }
   ],
   "source": [
    "%load_ext lab_black"
   ]
  },
  {
   "cell_type": "markdown",
   "id": "sharing-computer",
   "metadata": {},
   "source": [
    "Import dependencies."
   ]
  },
  {
   "cell_type": "code",
   "execution_count": 40,
   "id": "a8b497cd-410f-4e2a-8354-63c3f09dfded",
   "metadata": {},
   "outputs": [],
   "source": [
    "import os\n",
    "import glob\n",
    "import pytz\n",
    "import requests\n",
    "import pandas as pd\n",
    "from datetime import datetime"
   ]
  },
  {
   "cell_type": "code",
   "execution_count": 41,
   "id": "resistant-camel",
   "metadata": {},
   "outputs": [],
   "source": [
    "tz = pytz.timezone(\"America/Los_Angeles\")"
   ]
  },
  {
   "cell_type": "code",
   "execution_count": 42,
   "id": "pleasant-shield",
   "metadata": {},
   "outputs": [],
   "source": [
    "today = datetime.now(tz).date()"
   ]
  },
  {
   "cell_type": "markdown",
   "id": "chemical-disability",
   "metadata": {},
   "source": [
    "## Scrape"
   ]
  },
  {
   "cell_type": "markdown",
   "id": "f6440446-8bcb-4978-838f-672646da2eff",
   "metadata": {},
   "source": [
    "### Get url for CDPH's variants summary page"
   ]
  },
  {
   "cell_type": "code",
   "execution_count": 43,
   "id": "d04f9410-f062-4519-9188-22c5c3dd3d03",
   "metadata": {},
   "outputs": [],
   "source": [
    "url = \"https://www.cdph.ca.gov/Programs/CID/DCDC/Pages/COVID-19/COVID-Variants.aspx\""
   ]
  },
  {
   "cell_type": "markdown",
   "id": "59d74dce-ae54-4972-9efc-ce776f26a7d1",
   "metadata": {},
   "source": [
    "### Read the data on the page"
   ]
  },
  {
   "cell_type": "code",
   "execution_count": 44,
   "id": "b5da2300-2ad8-4cae-ab49-02ac97f1b6fe",
   "metadata": {},
   "outputs": [],
   "source": [
    "response = requests.get(url)"
   ]
  },
  {
   "cell_type": "code",
   "execution_count": 45,
   "id": "fd87be77-8de5-4d04-8a7a-4499464cf6be",
   "metadata": {},
   "outputs": [],
   "source": [
    "text = response.text"
   ]
  },
  {
   "cell_type": "markdown",
   "id": "03faa5b3-94bb-4ab8-aa53-18d851ab4b95",
   "metadata": {},
   "source": [
    "### Parse the tables"
   ]
  },
  {
   "cell_type": "code",
   "execution_count": 46,
   "id": "dadbc2c7-ec9d-458e-aa81-afc0fc67f958",
   "metadata": {},
   "outputs": [],
   "source": [
    "table_list = pd.read_html(text, attrs={\"class\": \"ms-rteTable-default\"}, header=0)"
   ]
  },
  {
   "cell_type": "markdown",
   "id": "d0a12a39-ffa6-4c66-9b67-40360199c268",
   "metadata": {},
   "source": [
    "Verify there are three on the page."
   ]
  },
  {
   "cell_type": "code",
   "execution_count": 47,
   "id": "c1237c8b-7ae2-4068-a1dc-9af46f73aaa8",
   "metadata": {},
   "outputs": [],
   "source": [
    "assert len(table_list) == 3"
   ]
  },
  {
   "cell_type": "markdown",
   "id": "030e1a90-2379-41d5-b40c-ba1de0e1daad",
   "metadata": {},
   "source": [
    "### Get the 'known variants of concern in California' table"
   ]
  },
  {
   "cell_type": "code",
   "execution_count": 48,
   "id": "4b702334-b46b-4f71-bf22-94bc0f165426",
   "metadata": {},
   "outputs": [],
   "source": [
    "df1 = table_list[0]"
   ]
  },
  {
   "cell_type": "code",
   "execution_count": 49,
   "id": "6adfea0b-ee6a-4202-895b-c8620deb6071",
   "metadata": {},
   "outputs": [],
   "source": [
    "df1[\"update_date\"] = today"
   ]
  },
  {
   "cell_type": "code",
   "execution_count": 50,
   "id": "9f29a90d-938e-4033-9c8d-062aa8465e5e",
   "metadata": {},
   "outputs": [],
   "source": [
    "concern_interest_cols = {\n",
    "    \"​Variant\": \"variant_name\",\n",
    "    \"​WHO Label\": \"who_label\",\n",
    "    \"​Number of Cases Caused by Variant\": \"cases_caused_by_variant\",\n",
    "}"
   ]
  },
  {
   "cell_type": "code",
   "execution_count": 51,
   "id": "8ab0a78a-f022-429a-be9f-4c79388708ea",
   "metadata": {},
   "outputs": [],
   "source": [
    "df1.rename(\n",
    "    columns=concern_interest_cols,\n",
    "    inplace=True,\n",
    ")"
   ]
  },
  {
   "cell_type": "code",
   "execution_count": 52,
   "id": "1a55c3f0-7268-414e-8744-972db9d1b207",
   "metadata": {},
   "outputs": [
    {
     "data": {
      "text/html": [
       "<div>\n",
       "<style scoped>\n",
       "    .dataframe tbody tr th:only-of-type {\n",
       "        vertical-align: middle;\n",
       "    }\n",
       "\n",
       "    .dataframe tbody tr th {\n",
       "        vertical-align: top;\n",
       "    }\n",
       "\n",
       "    .dataframe thead th {\n",
       "        text-align: right;\n",
       "    }\n",
       "</style>\n",
       "<table border=\"1\" class=\"dataframe\">\n",
       "  <thead>\n",
       "    <tr style=\"text-align: right;\">\n",
       "      <th></th>\n",
       "      <th>variant_name</th>\n",
       "      <th>who_label</th>\n",
       "      <th>cases_caused_by_variant</th>\n",
       "      <th>update_date</th>\n",
       "    </tr>\n",
       "  </thead>\n",
       "  <tbody>\n",
       "    <tr>\n",
       "      <th>0</th>\n",
       "      <td>​B.1.1.7</td>\n",
       "      <td>​Alpha</td>\n",
       "      <td>​10,942</td>\n",
       "      <td>2021-07-14</td>\n",
       "    </tr>\n",
       "    <tr>\n",
       "      <th>1</th>\n",
       "      <td>​B.1.351</td>\n",
       "      <td>​Beta</td>\n",
       "      <td>​133</td>\n",
       "      <td>2021-07-14</td>\n",
       "    </tr>\n",
       "    <tr>\n",
       "      <th>2</th>\n",
       "      <td>​P.1</td>\n",
       "      <td>​Gamma</td>\n",
       "      <td>​1,774</td>\n",
       "      <td>2021-07-14</td>\n",
       "    </tr>\n",
       "    <tr>\n",
       "      <th>3</th>\n",
       "      <td>​B.1.617.2*</td>\n",
       "      <td>Delta​</td>\n",
       "      <td>​1,085</td>\n",
       "      <td>2021-07-14</td>\n",
       "    </tr>\n",
       "  </tbody>\n",
       "</table>\n",
       "</div>"
      ],
      "text/plain": [
       "  variant_name who_label cases_caused_by_variant update_date\n",
       "0     ​B.1.1.7    ​Alpha                 ​10,942  2021-07-14\n",
       "1     ​B.1.351     ​Beta                    ​133  2021-07-14\n",
       "2         ​P.1    ​Gamma                  ​1,774  2021-07-14\n",
       "3  ​B.1.617.2*    Delta​                  ​1,085  2021-07-14"
      ]
     },
     "execution_count": 52,
     "metadata": {},
     "output_type": "execute_result"
    }
   ],
   "source": [
    "df1.head()"
   ]
  },
  {
   "cell_type": "markdown",
   "id": "eed27a94-2664-4259-a063-65ccc2f72fc0",
   "metadata": {},
   "source": [
    "### Get the 'known variants of interest in California' table"
   ]
  },
  {
   "cell_type": "code",
   "execution_count": 53,
   "id": "fcae3c92-ccdf-4ad1-8ec9-a2cf4092b65d",
   "metadata": {},
   "outputs": [],
   "source": [
    "df2 = table_list[1]"
   ]
  },
  {
   "cell_type": "code",
   "execution_count": 54,
   "id": "d06ca3e6-2e1f-466e-a3d2-13aa25a7fb19",
   "metadata": {},
   "outputs": [],
   "source": [
    "df2[\"update_date\"] = today"
   ]
  },
  {
   "cell_type": "code",
   "execution_count": 55,
   "id": "f30b6c12-507d-48eb-a177-a81680fe4dbf",
   "metadata": {},
   "outputs": [],
   "source": [
    "df2.rename(\n",
    "    columns=concern_interest_cols,\n",
    "    inplace=True,\n",
    ")"
   ]
  },
  {
   "cell_type": "code",
   "execution_count": 56,
   "id": "a11d0a9d-39b9-45e6-906a-30dcb9b9399c",
   "metadata": {},
   "outputs": [
    {
     "data": {
      "text/html": [
       "<div>\n",
       "<style scoped>\n",
       "    .dataframe tbody tr th:only-of-type {\n",
       "        vertical-align: middle;\n",
       "    }\n",
       "\n",
       "    .dataframe tbody tr th {\n",
       "        vertical-align: top;\n",
       "    }\n",
       "\n",
       "    .dataframe thead th {\n",
       "        text-align: right;\n",
       "    }\n",
       "</style>\n",
       "<table border=\"1\" class=\"dataframe\">\n",
       "  <thead>\n",
       "    <tr style=\"text-align: right;\">\n",
       "      <th></th>\n",
       "      <th>variant_name</th>\n",
       "      <th>who_label</th>\n",
       "      <th>cases_caused_by_variant</th>\n",
       "      <th>update_date</th>\n",
       "    </tr>\n",
       "  </thead>\n",
       "  <tbody>\n",
       "    <tr>\n",
       "      <th>0</th>\n",
       "      <td>​B.1.427 and B.1.429</td>\n",
       "      <td>Epsilon</td>\n",
       "      <td>23464</td>\n",
       "      <td>2021-07-14</td>\n",
       "    </tr>\n",
       "    <tr>\n",
       "      <th>1</th>\n",
       "      <td>​P.2</td>\n",
       "      <td>Zeta</td>\n",
       "      <td>​91</td>\n",
       "      <td>2021-07-14</td>\n",
       "    </tr>\n",
       "    <tr>\n",
       "      <th>2</th>\n",
       "      <td>​B.1.525</td>\n",
       "      <td>​Eta</td>\n",
       "      <td>​56</td>\n",
       "      <td>2021-07-14</td>\n",
       "    </tr>\n",
       "    <tr>\n",
       "      <th>3</th>\n",
       "      <td>B.1.526</td>\n",
       "      <td>​Iota</td>\n",
       "      <td>​1,579</td>\n",
       "      <td>2021-07-14</td>\n",
       "    </tr>\n",
       "    <tr>\n",
       "      <th>4</th>\n",
       "      <td>​B.1.617.1</td>\n",
       "      <td>Kappa</td>\n",
       "      <td>​61</td>\n",
       "      <td>2021-07-14</td>\n",
       "    </tr>\n",
       "  </tbody>\n",
       "</table>\n",
       "</div>"
      ],
      "text/plain": [
       "           variant_name who_label cases_caused_by_variant update_date\n",
       "0  ​B.1.427 and B.1.429   Epsilon                   23464  2021-07-14\n",
       "1                  ​P.2      Zeta                     ​91  2021-07-14\n",
       "2              ​B.1.525      ​Eta                     ​56  2021-07-14\n",
       "3               B.1.526     ​Iota                  ​1,579  2021-07-14\n",
       "4            ​B.1.617.1     Kappa                     ​61  2021-07-14"
      ]
     },
     "execution_count": 56,
     "metadata": {},
     "output_type": "execute_result"
    }
   ],
   "source": [
    "df2.head()"
   ]
  },
  {
   "cell_type": "markdown",
   "id": "fb9696ed-e5f8-45e3-ba9a-12f2319c0901",
   "metadata": {},
   "source": [
    "### Get the 'proportion of variants of concern and variants of interest in California change over time'"
   ]
  },
  {
   "cell_type": "code",
   "execution_count": 57,
   "id": "6f556034-fb88-4ed4-869c-e8f4fa2103fd",
   "metadata": {},
   "outputs": [],
   "source": [
    "df3 = table_list[2]"
   ]
  },
  {
   "cell_type": "code",
   "execution_count": 58,
   "id": "15ca63e6-f4d4-49b0-a3e2-2076b1a4d1c9",
   "metadata": {},
   "outputs": [],
   "source": [
    "df3[\"update_date\"] = today"
   ]
  },
  {
   "cell_type": "code",
   "execution_count": 59,
   "id": "954d89d6-55a4-4842-be90-88e2e3b9b47c",
   "metadata": {},
   "outputs": [],
   "source": [
    "proportion_cols = {\n",
    "    \"Specimen Collection Month\": \"specimen_collection_month\",\n",
    "    \"Alpha\": \"alpha\",\n",
    "    \"Beta\": \"beta\",\n",
    "    \"Gamma\": \"gamma\",\n",
    "    \"Delta\": \"delta\",\n",
    "    \"Epsilon\": \"epsilon\",\n",
    "    \"Zeta\": \"zeta\",\n",
    "    \"Eta\": \"eta\",\n",
    "    \"Iota\": \"iota\",\n",
    "    \"Kappa\": \"kappa\",\n",
    "    \"B.1.617.3\": \"b.1.617.3\",\n",
    "    \"update_date\": \"update_date\",\n",
    "}"
   ]
  },
  {
   "cell_type": "code",
   "execution_count": 60,
   "id": "95be1279-9343-4858-abf5-ab6a611d5dbe",
   "metadata": {},
   "outputs": [],
   "source": [
    "df3.rename(\n",
    "    columns=proportion_cols,\n",
    "    inplace=True,\n",
    ")"
   ]
  },
  {
   "cell_type": "code",
   "execution_count": 61,
   "id": "93211e7a-62dd-49f4-b788-3f858ab5c231",
   "metadata": {},
   "outputs": [
    {
     "data": {
      "text/html": [
       "<div>\n",
       "<style scoped>\n",
       "    .dataframe tbody tr th:only-of-type {\n",
       "        vertical-align: middle;\n",
       "    }\n",
       "\n",
       "    .dataframe tbody tr th {\n",
       "        vertical-align: top;\n",
       "    }\n",
       "\n",
       "    .dataframe thead th {\n",
       "        text-align: right;\n",
       "    }\n",
       "</style>\n",
       "<table border=\"1\" class=\"dataframe\">\n",
       "  <thead>\n",
       "    <tr style=\"text-align: right;\">\n",
       "      <th></th>\n",
       "      <th>specimen_collection_month</th>\n",
       "      <th>alpha</th>\n",
       "      <th>beta</th>\n",
       "      <th>gamma</th>\n",
       "      <th>delta</th>\n",
       "      <th>epsilon</th>\n",
       "      <th>zeta</th>\n",
       "      <th>eta</th>\n",
       "      <th>iota</th>\n",
       "      <th>kappa</th>\n",
       "      <th>B.1.617.3​</th>\n",
       "      <th>update_date</th>\n",
       "    </tr>\n",
       "  </thead>\n",
       "  <tbody>\n",
       "    <tr>\n",
       "      <th>0</th>\n",
       "      <td>​21-Jun</td>\n",
       "      <td>30.6%</td>\n",
       "      <td>0.2%</td>\n",
       "      <td>15.4%</td>\n",
       "      <td>42.9%</td>\n",
       "      <td>1.2%</td>\n",
       "      <td>0.0%</td>\n",
       "      <td>0.0%</td>\n",
       "      <td>6.4%</td>\n",
       "      <td>0.1%</td>\n",
       "      <td>0.0%</td>\n",
       "      <td>2021-07-14</td>\n",
       "    </tr>\n",
       "    <tr>\n",
       "      <th>1</th>\n",
       "      <td>​21-May</td>\n",
       "      <td>57.6%</td>\n",
       "      <td>0.3%</td>\n",
       "      <td>11.5%</td>\n",
       "      <td>5.8%</td>\n",
       "      <td>5.0%</td>\n",
       "      <td>0.0%</td>\n",
       "      <td>0.2%</td>\n",
       "      <td>10.7%</td>\n",
       "      <td>0.1%</td>\n",
       "      <td>0.0%</td>\n",
       "      <td>2021-07-14</td>\n",
       "    </tr>\n",
       "    <tr>\n",
       "      <th>2</th>\n",
       "      <td>21-Apr</td>\n",
       "      <td>50.3%</td>\n",
       "      <td>0.7%</td>\n",
       "      <td>8.7%</td>\n",
       "      <td>2.2%</td>\n",
       "      <td>17.1%</td>\n",
       "      <td>0.0%</td>\n",
       "      <td>0.3%</td>\n",
       "      <td>7.5%</td>\n",
       "      <td>0.4%</td>\n",
       "      <td>0.0%</td>\n",
       "      <td>2021-07-14</td>\n",
       "    </tr>\n",
       "    <tr>\n",
       "      <th>3</th>\n",
       "      <td>21-Mar</td>\n",
       "      <td>22.0%</td>\n",
       "      <td>0.4%</td>\n",
       "      <td>2.3%</td>\n",
       "      <td>0.0%</td>\n",
       "      <td>50.6%</td>\n",
       "      <td>0.3%</td>\n",
       "      <td>0.1%</td>\n",
       "      <td>2.6%</td>\n",
       "      <td>0.1%</td>\n",
       "      <td>0.0%</td>\n",
       "      <td>2021-07-14</td>\n",
       "    </tr>\n",
       "    <tr>\n",
       "      <th>4</th>\n",
       "      <td>21-Feb</td>\n",
       "      <td>5.7%</td>\n",
       "      <td>0.0%</td>\n",
       "      <td>0.0%</td>\n",
       "      <td>0.0%</td>\n",
       "      <td>59.3%</td>\n",
       "      <td>0.1%</td>\n",
       "      <td>0.0%</td>\n",
       "      <td>0.3%</td>\n",
       "      <td>0.0%</td>\n",
       "      <td>0.0%</td>\n",
       "      <td>2021-07-14</td>\n",
       "    </tr>\n",
       "  </tbody>\n",
       "</table>\n",
       "</div>"
      ],
      "text/plain": [
       "  specimen_collection_month  alpha  beta  gamma  delta epsilon  zeta   eta  \\\n",
       "0                   ​21-Jun  30.6%  0.2%  15.4%  42.9%    1.2%  0.0%  0.0%   \n",
       "1                   ​21-May  57.6%  0.3%  11.5%   5.8%    5.0%  0.0%  0.2%   \n",
       "2                    21-Apr  50.3%  0.7%   8.7%   2.2%   17.1%  0.0%  0.3%   \n",
       "3                    21-Mar  22.0%  0.4%   2.3%   0.0%   50.6%  0.3%  0.1%   \n",
       "4                    21-Feb   5.7%  0.0%   0.0%   0.0%   59.3%  0.1%  0.0%   \n",
       "\n",
       "    iota kappa B.1.617.3​ update_date  \n",
       "0   6.4%  0.1%       0.0%  2021-07-14  \n",
       "1  10.7%  0.1%       0.0%  2021-07-14  \n",
       "2   7.5%  0.4%       0.0%  2021-07-14  \n",
       "3   2.6%  0.1%       0.0%  2021-07-14  \n",
       "4   0.3%  0.0%       0.0%  2021-07-14  "
      ]
     },
     "execution_count": 61,
     "metadata": {},
     "output_type": "execute_result"
    }
   ],
   "source": [
    "df3.head()"
   ]
  },
  {
   "cell_type": "markdown",
   "id": "dated-tonight",
   "metadata": {},
   "source": [
    "## Export"
   ]
  },
  {
   "cell_type": "markdown",
   "id": "lovely-blink",
   "metadata": {},
   "source": [
    "Save out the data as CSVs that are datestamped to California time."
   ]
  },
  {
   "cell_type": "code",
   "execution_count": 62,
   "id": "frozen-vitamin",
   "metadata": {},
   "outputs": [],
   "source": [
    "data_dir = os.path.join(os.path.abspath(\"\"), \"data\")"
   ]
  },
  {
   "cell_type": "code",
   "execution_count": 63,
   "id": "8148631c-0f99-4e9b-b9b7-a37bf1e03151",
   "metadata": {},
   "outputs": [],
   "source": [
    "df1.to_csv(\n",
    "    os.path.join(data_dir, f\"raw/concern/variants_of_concern_ca_{today}_.csv\"),\n",
    "    index=False,\n",
    ")"
   ]
  },
  {
   "cell_type": "code",
   "execution_count": 64,
   "id": "c87f0cb7-bd84-4ad2-bce0-474a22b1b6b7",
   "metadata": {},
   "outputs": [],
   "source": [
    "df2.to_csv(\n",
    "    os.path.join(data_dir, f\"raw/interest/variants_of_interest_ca_{today}_.csv\"),\n",
    "    index=False,\n",
    ")"
   ]
  },
  {
   "cell_type": "code",
   "execution_count": 65,
   "id": "00647ceb-77ca-4041-90fa-e589f3a87293",
   "metadata": {},
   "outputs": [],
   "source": [
    "df3.to_csv(\n",
    "    os.path.join(data_dir, f\"raw/proportion/proportion_over_time_ca_{today}.csv\"),\n",
    "    index=False,\n",
    ")"
   ]
  },
  {
   "cell_type": "markdown",
   "id": "0ce5ce82-d6bf-4b91-a7fa-f5c9b72ddd41",
   "metadata": {},
   "source": [
    "### Concatenate"
   ]
  },
  {
   "cell_type": "code",
   "execution_count": 66,
   "id": "7392b43b-64d8-4ead-9b41-f23b03e09733",
   "metadata": {},
   "outputs": [],
   "source": [
    "def get_files(dirname, path=\"\"):\n",
    "    return glob.glob(os.path.join(path, f\"data/raw/{dirname}/*.csv\"))"
   ]
  },
  {
   "cell_type": "code",
   "execution_count": 67,
   "id": "9624669f-4dc4-4eef-9a09-c78006b0ed9d",
   "metadata": {},
   "outputs": [],
   "source": [
    "of_concern_files = get_files(\"concern\")"
   ]
  },
  {
   "cell_type": "code",
   "execution_count": 68,
   "id": "043d141a-2ac4-4020-87a3-a5e35445552a",
   "metadata": {},
   "outputs": [],
   "source": [
    "of_interest_files = get_files(\"interest\")"
   ]
  },
  {
   "cell_type": "code",
   "execution_count": 69,
   "id": "c9d9a452-cc28-437a-9bd3-38ccf3bfc784",
   "metadata": {},
   "outputs": [],
   "source": [
    "proportion_files = get_files(\"proportion\")"
   ]
  },
  {
   "cell_type": "markdown",
   "id": "fdff7f67-081e-498b-8330-12c67e5526d9",
   "metadata": {},
   "source": [
    "Create concern/interest and proportion column dicts."
   ]
  },
  {
   "cell_type": "code",
   "execution_count": 70,
   "id": "36299198-e975-45fa-9b27-1ba6cbfc9624",
   "metadata": {},
   "outputs": [],
   "source": [
    "def concat_files(files, cols):\n",
    "    file_df = (\n",
    "        pd.read_csv(f, low_memory=False)\n",
    "        .assign(filename=os.path.basename(f))\n",
    "        .rename(columns=cols)\n",
    "        for f in files\n",
    "    )\n",
    "    concat_df = pd.concat(\n",
    "        file_df,\n",
    "        ignore_index=True,\n",
    "    )\n",
    "    concat_df[\"update_date\"] = pd.to_datetime(\n",
    "        concat_df[\"update_date\"].str.replace(\".csv\", \"\", regex=False)\n",
    "    )\n",
    "    return concat_df"
   ]
  },
  {
   "cell_type": "code",
   "execution_count": 71,
   "id": "8ae2c9e7-e293-4273-af4c-a1079dc45ba6",
   "metadata": {},
   "outputs": [],
   "source": [
    "concern_df = concat_files(of_concern_files, concern_interest_cols)"
   ]
  },
  {
   "cell_type": "code",
   "execution_count": 72,
   "id": "d36bd967-e8e0-438c-a781-6929c6309c37",
   "metadata": {},
   "outputs": [],
   "source": [
    "concern_df.to_csv(\"data/variants_of_concern_timeseries.csv\", index=False)"
   ]
  },
  {
   "cell_type": "code",
   "execution_count": 73,
   "id": "fa0a1e5a-8284-42e6-9479-0627fcdc5e8e",
   "metadata": {},
   "outputs": [],
   "source": [
    "interest_df = concat_files(of_interest_files, concern_interest_cols)"
   ]
  },
  {
   "cell_type": "code",
   "execution_count": 74,
   "id": "55c6bdfa-9be1-4dc4-9ca0-1388726ad3a8",
   "metadata": {},
   "outputs": [],
   "source": [
    "interest_df.to_csv(\"data/variants_of_interest_timeseries.csv\", index=False)"
   ]
  },
  {
   "cell_type": "code",
   "execution_count": 75,
   "id": "63bd9fb0-c2ec-4b30-a10a-0b0fc80bc61f",
   "metadata": {},
   "outputs": [],
   "source": [
    "proportion_df = concat_files(proportion_files, proportion_cols)"
   ]
  },
  {
   "cell_type": "code",
   "execution_count": 76,
   "id": "d897d1ff-e453-4cd4-8132-9e2c40c1dfc2",
   "metadata": {},
   "outputs": [],
   "source": [
    "proportion_df.to_csv(\"data/proportion_over_time_timeseries.csv\", index=False)"
   ]
  }
 ],
 "metadata": {
  "kernelspec": {
   "display_name": "Python 3",
   "language": "python",
   "name": "python3"
  },
  "language_info": {
   "codemirror_mode": {
    "name": "ipython",
    "version": 3
   },
   "file_extension": ".py",
   "mimetype": "text/x-python",
   "name": "python",
   "nbconvert_exporter": "python",
   "pygments_lexer": "ipython3",
   "version": "3.8.8"
  }
 },
 "nbformat": 4,
 "nbformat_minor": 5
}
