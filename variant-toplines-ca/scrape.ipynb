{
 "cells": [
  {
   "cell_type": "markdown",
   "id": "narrative-helmet",
   "metadata": {},
   "source": [
    "# CDC variants proportions by state\n",
    "\n",
    "By [Matt Stiles](https://www.latimes.com/people/matt-stiles)\n",
    "\n",
    "Downloads variant totals and proportions from a [Tableau dashboard](https://covid.cdc.gov/covid-data-tracker/#variant-proportions) published by the U.S. Centers for Disease Control and Prevention."
   ]
  },
  {
   "cell_type": "markdown",
   "id": "hybrid-circular",
   "metadata": {},
   "source": [
    "## Import"
   ]
  },
  {
   "cell_type": "markdown",
   "id": "advanced-richards",
   "metadata": {},
   "source": [
    "Code formatting with [black](https://pypi.org/project/nb-black/)."
   ]
  },
  {
   "cell_type": "code",
   "execution_count": 1,
   "id": "hired-guard",
   "metadata": {},
   "outputs": [],
   "source": [
    "%load_ext lab_black"
   ]
  },
  {
   "cell_type": "markdown",
   "id": "sharing-computer",
   "metadata": {},
   "source": [
    "Import dependencies."
   ]
  },
  {
   "cell_type": "code",
   "execution_count": 2,
   "id": "connected-whale",
   "metadata": {},
   "outputs": [],
   "source": [
    "import os\n",
    "import pytz\n",
    "from datetime import datetime"
   ]
  },
  {
   "cell_type": "code",
   "execution_count": 3,
   "id": "occupational-indianapolis",
   "metadata": {},
   "outputs": [],
   "source": [
    "import pandas as pd\n",
    "from tableauscraper import TableauScraper as TS"
   ]
  },
  {
   "cell_type": "code",
   "execution_count": 4,
   "id": "computational-incidence",
   "metadata": {},
   "outputs": [],
   "source": [
    "# !pipenv install tableauscraper=='0.1.10'"
   ]
  },
  {
   "cell_type": "code",
   "execution_count": 5,
   "id": "resistant-camel",
   "metadata": {},
   "outputs": [],
   "source": [
    "tz = pytz.timezone(\"America/Los_Angeles\")"
   ]
  },
  {
   "cell_type": "code",
   "execution_count": 6,
   "id": "pleasant-shield",
   "metadata": {},
   "outputs": [],
   "source": [
    "today = datetime.now(tz).date()"
   ]
  },
  {
   "cell_type": "markdown",
   "id": "chemical-disability",
   "metadata": {},
   "source": [
    "## Scrape"
   ]
  },
  {
   "cell_type": "markdown",
   "id": "f6440446-8bcb-4978-838f-672646da2eff",
   "metadata": {},
   "source": [
    "### Get url for CDPH's variants summary page"
   ]
  },
  {
   "cell_type": "code",
   "execution_count": 7,
   "id": "d04f9410-f062-4519-9188-22c5c3dd3d03",
   "metadata": {},
   "outputs": [],
   "source": [
    "url = \"https://www.cdph.ca.gov/Programs/CID/DCDC/Pages/COVID-19/COVID-Variants.aspx\""
   ]
  },
  {
   "cell_type": "markdown",
   "id": "59d74dce-ae54-4972-9efc-ce776f26a7d1",
   "metadata": {},
   "source": [
    "### Read the data on the page"
   ]
  },
  {
   "cell_type": "code",
   "execution_count": 8,
   "id": "3b201f3d-bcc3-41c5-b45a-63b649ff68f7",
   "metadata": {},
   "outputs": [],
   "source": [
    "page = pd.read_html(url, header=0)"
   ]
  },
  {
   "cell_type": "markdown",
   "id": "030e1a90-2379-41d5-b40c-ba1de0e1daad",
   "metadata": {},
   "source": [
    "### Get the 'known variants of concern in California' table"
   ]
  },
  {
   "cell_type": "code",
   "execution_count": 9,
   "id": "0d1349b1-91da-4cf5-b6d7-e364fed315c8",
   "metadata": {},
   "outputs": [],
   "source": [
    "df1 = page[0]"
   ]
  },
  {
   "cell_type": "code",
   "execution_count": 10,
   "id": "c9980ea6-bd54-4f14-b01c-8ce56b5ea488",
   "metadata": {},
   "outputs": [],
   "source": [
    "df1[\"update_date\"] = today"
   ]
  },
  {
   "cell_type": "code",
   "execution_count": 11,
   "id": "8ab0a78a-f022-429a-be9f-4c79388708ea",
   "metadata": {},
   "outputs": [],
   "source": [
    "df1.rename(\n",
    "    columns={\n",
    "        \"Variant\": \"variant_name\",\n",
    "        \"Number of Cases Caused by Variant\": \"cases_caused_by_variant\",\n",
    "        \"update_date\": \"update_date\",\n",
    "    },\n",
    "    inplace=True,\n",
    ")"
   ]
  },
  {
   "cell_type": "markdown",
   "id": "eed27a94-2664-4259-a063-65ccc2f72fc0",
   "metadata": {},
   "source": [
    "### Get the 'known variants of interest in California' table"
   ]
  },
  {
   "cell_type": "code",
   "execution_count": 12,
   "id": "b4f8a1cf-eea8-4e63-8dfb-783cd007e25b",
   "metadata": {},
   "outputs": [],
   "source": [
    "df2 = page[1]"
   ]
  },
  {
   "cell_type": "code",
   "execution_count": 13,
   "id": "460c4c1b-f0ba-4a51-b186-56c3844e8a0c",
   "metadata": {},
   "outputs": [],
   "source": [
    "df2[\"update_date\"] = today"
   ]
  },
  {
   "cell_type": "code",
   "execution_count": 14,
   "id": "d2e60af9-d0b1-4947-93fd-0393c97fd093",
   "metadata": {},
   "outputs": [],
   "source": [
    "df2.rename(\n",
    "    columns={\n",
    "        \"Variant\": \"variant_name\",\n",
    "        \"Number of Cases Caused by Variant\": \"cases_caused_by_variant\",\n",
    "        \"update_date\": \"update_date\",\n",
    "    },\n",
    "    inplace=True,\n",
    ")"
   ]
  },
  {
   "cell_type": "markdown",
   "id": "dated-tonight",
   "metadata": {},
   "source": [
    "## Export"
   ]
  },
  {
   "cell_type": "markdown",
   "id": "lovely-blink",
   "metadata": {},
   "source": [
    "Save out the data as a CSV that's datestamped to California time."
   ]
  },
  {
   "cell_type": "code",
   "execution_count": 15,
   "id": "frozen-vitamin",
   "metadata": {},
   "outputs": [],
   "source": [
    "data_dir = os.path.join(os.path.abspath(\"\"), \"data\")"
   ]
  },
  {
   "cell_type": "code",
   "execution_count": 16,
   "id": "8148631c-0f99-4e9b-b9b7-a37bf1e03151",
   "metadata": {},
   "outputs": [],
   "source": [
    "df1.to_csv(\n",
    "    os.path.join(data_dir, f\"variants_of_concern_ca_{today}_.csv\"),\n",
    "    index=False,\n",
    ")"
   ]
  },
  {
   "cell_type": "code",
   "execution_count": 17,
   "id": "c87f0cb7-bd84-4ad2-bce0-474a22b1b6b7",
   "metadata": {},
   "outputs": [],
   "source": [
    "df2.to_csv(\n",
    "    os.path.join(data_dir, f\"variants_of_interest_ca_{today}_.csv\"),\n",
    "    index=False,\n",
    ")"
   ]
  }
 ],
 "metadata": {
  "kernelspec": {
   "display_name": "Python 3",
   "language": "python",
   "name": "python3"
  },
  "language_info": {
   "codemirror_mode": {
    "name": "ipython",
    "version": 3
   },
   "file_extension": ".py",
   "mimetype": "text/x-python",
   "name": "python",
   "nbconvert_exporter": "python",
   "pygments_lexer": "ipython3",
   "version": "3.8.0"
  }
 },
 "nbformat": 4,
 "nbformat_minor": 5
}
