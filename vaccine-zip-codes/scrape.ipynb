{
 "cells": [
  {
   "cell_type": "markdown",
   "id": "revised-sydney",
   "metadata": {},
   "source": [
    "# Get vaccine coverage by ZIP Codes data from CDPH"
   ]
  },
  {
   "cell_type": "code",
   "execution_count": 21,
   "id": "medical-accreditation",
   "metadata": {},
   "outputs": [
    {
     "name": "stdout",
     "output_type": "stream",
     "text": [
      "The lab_black extension is already loaded. To reload it, use:\n",
      "  %reload_ext lab_black\n"
     ]
    }
   ],
   "source": [
    "%load_ext lab_black"
   ]
  },
  {
   "cell_type": "code",
   "execution_count": 22,
   "id": "varied-recycling",
   "metadata": {},
   "outputs": [],
   "source": [
    "import pandas as pd\n",
    "import datetime as dt\n",
    "import json\n",
    "import os\n",
    "import glob\n",
    "import urllib.request"
   ]
  },
  {
   "cell_type": "code",
   "execution_count": 23,
   "id": "dramatic-christian",
   "metadata": {},
   "outputs": [],
   "source": [
    "pd.options.display.max_columns = 50\n",
    "pd.options.display.max_rows = 1000\n",
    "pd.set_option(\"display.max_colwidth\", None)"
   ]
  },
  {
   "cell_type": "code",
   "execution_count": 24,
   "id": "skilled-multiple",
   "metadata": {},
   "outputs": [],
   "source": [
    "today = dt.datetime.today().strftime(\"%Y-%m-%d\")"
   ]
  },
  {
   "cell_type": "markdown",
   "id": "compact-grant",
   "metadata": {},
   "source": [
    "### Get the metadata from the API"
   ]
  },
  {
   "cell_type": "code",
   "execution_count": 25,
   "id": "interracial-ballot",
   "metadata": {},
   "outputs": [],
   "source": [
    "endpoint = \"https://data.chhs.ca.gov/api/3/action/package_show?id=covid-19-vaccine-progress-dashboard-data-by-zip-code\""
   ]
  },
  {
   "cell_type": "code",
   "execution_count": 26,
   "id": "completed-assets",
   "metadata": {},
   "outputs": [],
   "source": [
    "jsonurl = urllib.request.urlopen(endpoint)\n",
    "text = json.loads(jsonurl.read())"
   ]
  },
  {
   "cell_type": "markdown",
   "id": "welcome-thinking",
   "metadata": {},
   "source": [
    "### Get the object with the max date"
   ]
  },
  {
   "cell_type": "code",
   "execution_count": 27,
   "id": "proud-saskatchewan",
   "metadata": {},
   "outputs": [],
   "source": [
    "data = text[\"result\"][\"resources\"]"
   ]
  },
  {
   "cell_type": "markdown",
   "id": "published-hometown",
   "metadata": {},
   "source": [
    "Loop through the dict to get the file names that contain dates"
   ]
  },
  {
   "cell_type": "code",
   "execution_count": 28,
   "id": "metallic-diana",
   "metadata": {},
   "outputs": [],
   "source": [
    "dates = []\n",
    "for obj in data:\n",
    "    slug = obj[\"name\"]\n",
    "    # find valid dates in the name field and append them to a list\n",
    "    try:\n",
    "        date = pd.to_datetime(\n",
    "            slug.replace(\"COVID-19 Vaccines by ZIP Code \", \"\")\n",
    "        ).strftime(\"%Y-%m-%d\")\n",
    "        dates.append(date)\n",
    "    except:\n",
    "        pass"
   ]
  },
  {
   "cell_type": "markdown",
   "id": "bearing-original",
   "metadata": {},
   "source": [
    "Pick out the latest date from that list"
   ]
  },
  {
   "cell_type": "code",
   "execution_count": 29,
   "id": "remarkable-zambia",
   "metadata": {},
   "outputs": [],
   "source": [
    "latest_date_str = max(d for d in dates)"
   ]
  },
  {
   "cell_type": "markdown",
   "id": "established-pasta",
   "metadata": {},
   "source": [
    "Loop through the objects again and match the latest one with the latest date"
   ]
  },
  {
   "cell_type": "code",
   "execution_count": 30,
   "id": "proprietary-cement",
   "metadata": {},
   "outputs": [],
   "source": [
    "for obj in data:\n",
    "    slug = obj[\"name\"]\n",
    "    try:\n",
    "        date = pd.to_datetime(\n",
    "            slug.replace(\"COVID-19 Vaccines by ZIP Code \", \"\")\n",
    "        ).strftime(\"%Y-%m-%d\")\n",
    "        if date == latest_date_str:\n",
    "            latest_obj = obj\n",
    "        else:\n",
    "            pass\n",
    "    except:\n",
    "        pass"
   ]
  },
  {
   "cell_type": "code",
   "execution_count": 31,
   "id": "large-mobility",
   "metadata": {},
   "outputs": [],
   "source": [
    "latest_date = pd.to_datetime(latest_obj[\"created\"]).strftime(\"%Y-%m-%d\")"
   ]
  },
  {
   "cell_type": "markdown",
   "id": "understanding-number",
   "metadata": {},
   "source": [
    "### Read that latest file into a dataframe to limit redacted rows and save it in raw"
   ]
  },
  {
   "cell_type": "code",
   "execution_count": 32,
   "id": "printable-spencer",
   "metadata": {},
   "outputs": [],
   "source": [
    "df = pd.read_csv(latest_obj[\"url\"])"
   ]
  },
  {
   "cell_type": "code",
   "execution_count": 33,
   "id": "excited-mortality",
   "metadata": {},
   "outputs": [],
   "source": [
    "df = df[df[\"VEM Source\"] != \"No VEM Assigned\"]"
   ]
  },
  {
   "cell_type": "code",
   "execution_count": 34,
   "id": "turned-modem",
   "metadata": {},
   "outputs": [],
   "source": [
    "df.to_csv(\"data/raw/\" + latest_date + \".csv\", index=False)"
   ]
  },
  {
   "cell_type": "markdown",
   "id": "coupled-preliminary",
   "metadata": {},
   "source": [
    "---"
   ]
  },
  {
   "cell_type": "markdown",
   "id": "careful-poetry",
   "metadata": {},
   "source": [
    "## Concatenate all the weekly updates"
   ]
  },
  {
   "cell_type": "markdown",
   "id": "efficient-simulation",
   "metadata": {},
   "source": [
    "### Get all files and assign a date to each table based on the file name"
   ]
  },
  {
   "cell_type": "code",
   "execution_count": 35,
   "id": "intermediate-shift",
   "metadata": {},
   "outputs": [],
   "source": [
    "path = \"\"\n",
    "files = glob.glob(os.path.join(path, \"data/raw/*.csv\"))"
   ]
  },
  {
   "cell_type": "code",
   "execution_count": 36,
   "id": "atomic-change",
   "metadata": {},
   "outputs": [],
   "source": [
    "file_df = (\n",
    "    pd.read_csv(f, low_memory=False).assign(date=os.path.basename(f)) for f in files\n",
    ")"
   ]
  },
  {
   "cell_type": "markdown",
   "id": "international-newsletter",
   "metadata": {},
   "source": [
    "### Concatenate them into one timeseries and clean update date field"
   ]
  },
  {
   "cell_type": "code",
   "execution_count": 37,
   "id": "valid-astronomy",
   "metadata": {},
   "outputs": [],
   "source": [
    "concat_df = pd.concat(\n",
    "    file_df,\n",
    "    ignore_index=True,\n",
    ")"
   ]
  },
  {
   "cell_type": "code",
   "execution_count": 38,
   "id": "comic-break",
   "metadata": {},
   "outputs": [],
   "source": [
    "concat_df[\"date\"] = pd.to_datetime(\n",
    "    concat_df[\"date\"].str.replace(\".csv\", \"\", regex=False)\n",
    ")"
   ]
  },
  {
   "cell_type": "markdown",
   "id": "described-investment",
   "metadata": {},
   "source": [
    "---"
   ]
  },
  {
   "cell_type": "markdown",
   "id": "tribal-destination",
   "metadata": {},
   "source": [
    "## Export"
   ]
  },
  {
   "cell_type": "markdown",
   "id": "faced-occupation",
   "metadata": {},
   "source": [
    "### All updates"
   ]
  },
  {
   "cell_type": "code",
   "execution_count": 39,
   "id": "recent-patrick",
   "metadata": {},
   "outputs": [],
   "source": [
    "concat_df.to_csv(\"data/timeseries.csv\", index=False)"
   ]
  },
  {
   "cell_type": "markdown",
   "id": "limited-regard",
   "metadata": {},
   "source": [
    "### Latest update"
   ]
  },
  {
   "cell_type": "code",
   "execution_count": 40,
   "id": "foreign-fortune",
   "metadata": {},
   "outputs": [],
   "source": [
    "concat_df[concat_df[\"date\"] == concat_df[\"date\"].max()].to_csv(\n",
    "    \"data/latest.csv\", index=False\n",
    ")"
   ]
  }
 ],
 "metadata": {
  "kernelspec": {
   "display_name": "Python 3",
   "language": "python",
   "name": "python3"
  },
  "language_info": {
   "codemirror_mode": {
    "name": "ipython",
    "version": 3
   },
   "file_extension": ".py",
   "mimetype": "text/x-python",
   "name": "python",
   "nbconvert_exporter": "python",
   "pygments_lexer": "ipython3",
   "version": "3.8.7"
  }
 },
 "nbformat": 4,
 "nbformat_minor": 5
}
