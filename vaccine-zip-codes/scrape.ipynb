{
 "cells": [
  {
   "cell_type": "markdown",
   "id": "micro-tender",
   "metadata": {},
   "source": [
    "# Get vaccine coverage by ZIP Codes data from CDPH"
   ]
  },
  {
   "cell_type": "code",
   "execution_count": 1,
   "id": "proved-buddy",
   "metadata": {},
   "outputs": [],
   "source": [
    ""
   ]
  },
  {
   "cell_type": "code",
   "execution_count": 2,
   "id": "inside-timing",
   "metadata": {},
   "outputs": [],
   "source": [
    "import pandas as pd\n",
    "import datetime as dt\n",
    "import json\n",
    "import os\n",
    "import glob\n",
    "import urllib.request"
   ]
  },
  {
   "cell_type": "code",
   "execution_count": 3,
   "id": "organizational-concentrate",
   "metadata": {},
   "outputs": [],
   "source": [
    "pd.options.display.max_columns = 50\n",
    "pd.options.display.max_rows = 1000\n",
    "pd.set_option(\"display.max_colwidth\", None)"
   ]
  },
  {
   "cell_type": "code",
   "execution_count": 4,
   "id": "fewer-crazy",
   "metadata": {},
   "outputs": [],
   "source": [
    "today = dt.datetime.today().strftime(\"%Y-%m-%d\")"
   ]
  },
  {
   "cell_type": "markdown",
   "id": "junior-breast",
   "metadata": {},
   "source": [
    "### Get the metadata from the API"
   ]
  },
  {
   "cell_type": "code",
   "execution_count": 5,
   "id": "specified-fancy",
   "metadata": {},
   "outputs": [],
   "source": [
    "endpoint = \"https://data.chhs.ca.gov/api/3/action/package_show?id=covid-19-vaccine-progress-dashboard-data-by-zip-code\""
   ]
  },
  {
   "cell_type": "code",
   "execution_count": 6,
   "id": "greatest-elements",
   "metadata": {},
   "outputs": [],
   "source": [
    "jsonurl = urllib.request.urlopen(endpoint)\n",
    "text = json.loads(jsonurl.read())"
   ]
  },
  {
   "cell_type": "markdown",
   "id": "invalid-butter",
   "metadata": {},
   "source": [
    "### Get the object with the max date"
   ]
  },
  {
   "cell_type": "code",
   "execution_count": 22,
   "id": "flush-ceremony",
   "metadata": {},
   "outputs": [],
   "source": [
    "data = text[\"result\"][\"resources\"]"
   ]
  },
  {
   "cell_type": "markdown",
   "id": "spare-guitar",
   "metadata": {},
   "source": [
    "### Read that latest file into a dataframe to limit redacted rows ~~and save it in raw~~"
   ]
  },
  {
   "cell_type": "code",
   "execution_count": 23,
   "id": "83f119f3-d083-477d-a818-94bad16f4a56",
   "metadata": {},
   "outputs": [],
   "source": [
    "url = \"https://data.chhs.ca.gov/dataset/ead44d40-fd63-4f9f-950a-3b0111074de8/resource/ec32eece-7474-4488-87f0-6e91cb577458/download/covid19vaccinesbyzipcode_test.csv\""
   ]
  },
  {
   "cell_type": "code",
   "execution_count": 24,
   "id": "protective-distributor",
   "metadata": {},
   "outputs": [],
   "source": [
    "df = pd.read_csv(url)"
   ]
  },
  {
   "cell_type": "code",
   "execution_count": 25,
   "id": "failing-agriculture",
   "metadata": {},
   "outputs": [],
   "source": [
    "df = df[df[\"vem_source\"] != \"No VEM Assigned\"]"
   ]
  },
  {
   "cell_type": "code",
   "execution_count": 26,
   "id": "79800e37-aa15-4bc8-9089-6e0e5a5e4c07",
   "metadata": {},
   "outputs": [],
   "source": [
    "df = df.rename(columns={\"as_of_date\": \"date\"})"
   ]
  },
  {
   "cell_type": "markdown",
   "id": "linear-rolling",
   "metadata": {},
   "source": [
    "## Export"
   ]
  },
  {
   "cell_type": "code",
   "execution_count": 27,
   "id": "056bcb7b-de1f-435f-95a0-ec77e41d545f",
   "metadata": {},
   "outputs": [
    {
     "data": {
      "text/html": [
       "<div>\n",
       "<style scoped>\n",
       "    .dataframe tbody tr th:only-of-type {\n",
       "        vertical-align: middle;\n",
       "    }\n",
       "\n",
       "    .dataframe tbody tr th {\n",
       "        vertical-align: top;\n",
       "    }\n",
       "\n",
       "    .dataframe thead th {\n",
       "        text-align: right;\n",
       "    }\n",
       "</style>\n",
       "<table border=\"1\" class=\"dataframe\">\n",
       "  <thead>\n",
       "    <tr style=\"text-align: right;\">\n",
       "      <th></th>\n",
       "      <th>date</th>\n",
       "      <th>zip_code_tabulation_area</th>\n",
       "      <th>local_health_jurisdiction</th>\n",
       "      <th>county</th>\n",
       "      <th>vaccine_equity_metric_quartile</th>\n",
       "      <th>vem_source</th>\n",
       "      <th>age12_plus_population</th>\n",
       "      <th>age5_plus_population</th>\n",
       "      <th>persons_fully_vaccinated</th>\n",
       "      <th>persons_partially_vaccinated</th>\n",
       "      <th>percent_of_population_fully_vaccinated</th>\n",
       "      <th>percent_of_population_partially_vaccinated</th>\n",
       "      <th>percent_of_population_with_1_plus_dose</th>\n",
       "      <th>redacted</th>\n",
       "    </tr>\n",
       "  </thead>\n",
       "  <tbody>\n",
       "    <tr>\n",
       "      <th>84587</th>\n",
       "      <td>2021-11-30</td>\n",
       "      <td>90012</td>\n",
       "      <td>Los Angeles</td>\n",
       "      <td>Los Angeles</td>\n",
       "      <td>1.0</td>\n",
       "      <td>Healthy Places Index Score</td>\n",
       "      <td>34607.1</td>\n",
       "      <td>35495</td>\n",
       "      <td>52.0</td>\n",
       "      <td>29.0</td>\n",
       "      <td>0.001465</td>\n",
       "      <td>0.000817</td>\n",
       "      <td>0.002282</td>\n",
       "      <td>No</td>\n",
       "    </tr>\n",
       "    <tr>\n",
       "      <th>85523</th>\n",
       "      <td>2021-12-07</td>\n",
       "      <td>90012</td>\n",
       "      <td>Los Angeles</td>\n",
       "      <td>Los Angeles</td>\n",
       "      <td>1.0</td>\n",
       "      <td>Healthy Places Index Score</td>\n",
       "      <td>34607.1</td>\n",
       "      <td>35495</td>\n",
       "      <td>52.0</td>\n",
       "      <td>30.0</td>\n",
       "      <td>0.001465</td>\n",
       "      <td>0.000845</td>\n",
       "      <td>0.002310</td>\n",
       "      <td>No</td>\n",
       "    </tr>\n",
       "    <tr>\n",
       "      <th>87513</th>\n",
       "      <td>2021-12-14</td>\n",
       "      <td>90012</td>\n",
       "      <td>Los Angeles</td>\n",
       "      <td>Los Angeles</td>\n",
       "      <td>1.0</td>\n",
       "      <td>Healthy Places Index Score</td>\n",
       "      <td>34607.1</td>\n",
       "      <td>35495</td>\n",
       "      <td>52.0</td>\n",
       "      <td>31.0</td>\n",
       "      <td>0.001465</td>\n",
       "      <td>0.000873</td>\n",
       "      <td>0.002338</td>\n",
       "      <td>No</td>\n",
       "    </tr>\n",
       "    <tr>\n",
       "      <th>89163</th>\n",
       "      <td>2021-12-21</td>\n",
       "      <td>90012</td>\n",
       "      <td>Los Angeles</td>\n",
       "      <td>Los Angeles</td>\n",
       "      <td>1.0</td>\n",
       "      <td>Healthy Places Index Score</td>\n",
       "      <td>34607.1</td>\n",
       "      <td>35495</td>\n",
       "      <td>52.0</td>\n",
       "      <td>31.0</td>\n",
       "      <td>0.001465</td>\n",
       "      <td>0.000873</td>\n",
       "      <td>0.002338</td>\n",
       "      <td>No</td>\n",
       "    </tr>\n",
       "    <tr>\n",
       "      <th>90770</th>\n",
       "      <td>2021-12-28</td>\n",
       "      <td>90012</td>\n",
       "      <td>Los Angeles</td>\n",
       "      <td>Los Angeles</td>\n",
       "      <td>1.0</td>\n",
       "      <td>Healthy Places Index Score</td>\n",
       "      <td>34607.1</td>\n",
       "      <td>35495</td>\n",
       "      <td>52.0</td>\n",
       "      <td>43.0</td>\n",
       "      <td>0.001465</td>\n",
       "      <td>0.001211</td>\n",
       "      <td>0.002676</td>\n",
       "      <td>No</td>\n",
       "    </tr>\n",
       "  </tbody>\n",
       "</table>\n",
       "</div>"
      ],
      "text/plain": [
       "             date  zip_code_tabulation_area local_health_jurisdiction  \\\n",
       "84587  2021-11-30                     90012               Los Angeles   \n",
       "85523  2021-12-07                     90012               Los Angeles   \n",
       "87513  2021-12-14                     90012               Los Angeles   \n",
       "89163  2021-12-21                     90012               Los Angeles   \n",
       "90770  2021-12-28                     90012               Los Angeles   \n",
       "\n",
       "            county  vaccine_equity_metric_quartile  \\\n",
       "84587  Los Angeles                             1.0   \n",
       "85523  Los Angeles                             1.0   \n",
       "87513  Los Angeles                             1.0   \n",
       "89163  Los Angeles                             1.0   \n",
       "90770  Los Angeles                             1.0   \n",
       "\n",
       "                       vem_source  age12_plus_population  \\\n",
       "84587  Healthy Places Index Score                34607.1   \n",
       "85523  Healthy Places Index Score                34607.1   \n",
       "87513  Healthy Places Index Score                34607.1   \n",
       "89163  Healthy Places Index Score                34607.1   \n",
       "90770  Healthy Places Index Score                34607.1   \n",
       "\n",
       "       age5_plus_population  persons_fully_vaccinated  \\\n",
       "84587                 35495                      52.0   \n",
       "85523                 35495                      52.0   \n",
       "87513                 35495                      52.0   \n",
       "89163                 35495                      52.0   \n",
       "90770                 35495                      52.0   \n",
       "\n",
       "       persons_partially_vaccinated  percent_of_population_fully_vaccinated  \\\n",
       "84587                          29.0                                0.001465   \n",
       "85523                          30.0                                0.001465   \n",
       "87513                          31.0                                0.001465   \n",
       "89163                          31.0                                0.001465   \n",
       "90770                          43.0                                0.001465   \n",
       "\n",
       "       percent_of_population_partially_vaccinated  \\\n",
       "84587                                    0.000817   \n",
       "85523                                    0.000845   \n",
       "87513                                    0.000873   \n",
       "89163                                    0.000873   \n",
       "90770                                    0.001211   \n",
       "\n",
       "       percent_of_population_with_1_plus_dose redacted  \n",
       "84587                                0.002282       No  \n",
       "85523                                0.002310       No  \n",
       "87513                                0.002338       No  \n",
       "89163                                0.002338       No  \n",
       "90770                                0.002676       No  "
      ]
     },
     "execution_count": 27,
     "metadata": {},
     "output_type": "execute_result"
    }
   ],
   "source": [
    "df[df.zip_code_tabulation_area == 90012].tail()"
   ]
  },
  {
   "cell_type": "markdown",
   "id": "common-lyric",
   "metadata": {},
   "source": [
    "### All updates"
   ]
  },
  {
   "cell_type": "code",
   "execution_count": 13,
   "id": "polished-economy",
   "metadata": {},
   "outputs": [],
   "source": [
    "df.to_csv(\"data/timeseries.csv\", index=False)"
   ]
  },
  {
   "cell_type": "markdown",
   "id": "psychological-thermal",
   "metadata": {},
   "source": [
    "### Latest update"
   ]
  },
  {
   "cell_type": "code",
   "execution_count": 14,
   "id": "formal-sarah",
   "metadata": {},
   "outputs": [],
   "source": [
    "df[df[\"date\"] == df[\"date\"].max()].to_csv(\"data/latest.csv\", index=False)"
   ]
  }
 ],
 "metadata": {
  "kernelspec": {
   "display_name": "Python 3 (ipykernel)",
   "language": "python",
   "name": "python3"
  },
  "language_info": {
   "codemirror_mode": {
    "name": "ipython",
    "version": 3
   },
   "file_extension": ".py",
   "mimetype": "text/x-python",
   "name": "python",
   "nbconvert_exporter": "python",
   "pygments_lexer": "ipython3",
   "version": "3.8.12"
  }
 },
 "nbformat": 4,
 "nbformat_minor": 5
}
