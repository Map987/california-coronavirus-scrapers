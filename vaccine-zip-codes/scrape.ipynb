{
 "cells": [
  {
   "cell_type": "markdown",
   "id": "2af70593-d54d-4b86-aa56-9281f51a1fcd",
   "metadata": {},
   "source": [
    "# Get vaccine coverage by ZIP Codes data from CDPH"
   ]
  },
  {
   "cell_type": "code",
   "execution_count": 1,
   "id": "8b4d7663-21a4-4b2c-b2be-22ecf35fcf78",
   "metadata": {},
   "outputs": [],
   "source": [
    "%load_ext lab_black"
   ]
  },
  {
   "cell_type": "code",
   "execution_count": 2,
   "id": "b80b7862-3a14-4772-8581-16e663ea11a7",
   "metadata": {},
   "outputs": [],
   "source": [
    "import pandas as pd\n",
    "import datetime as dt\n",
    "import json\n",
    "import os\n",
    "import glob\n",
    "import urllib.request"
   ]
  },
  {
   "cell_type": "code",
   "execution_count": 3,
   "id": "68645327-9b50-4524-b12c-8ac7badfe390",
   "metadata": {},
   "outputs": [],
   "source": [
    "pd.options.display.max_columns = 50\n",
    "pd.options.display.max_rows = 1000\n",
    "pd.set_option(\"display.max_colwidth\", None)"
   ]
  },
  {
   "cell_type": "code",
   "execution_count": 4,
   "id": "cf67a6ba-430d-4cb3-8581-3c008bf6baf2",
   "metadata": {},
   "outputs": [],
   "source": [
    "today = dt.datetime.today().strftime(\"%Y-%m-%d\")"
   ]
  },
  {
   "cell_type": "markdown",
   "id": "ddb10f72-455d-4542-88c7-ab2b80acc706",
   "metadata": {},
   "source": [
    "### Get the metadata from the API"
   ]
  },
  {
   "cell_type": "code",
   "execution_count": 5,
   "id": "2f399b65-76ce-4969-aba4-4a72c0d3143a",
   "metadata": {},
   "outputs": [],
   "source": [
    "endpoint = \"https://data.chhs.ca.gov/api/3/action/package_show?id=covid-19-vaccine-progress-dashboard-data-by-zip-code\""
   ]
  },
  {
   "cell_type": "code",
   "execution_count": 6,
   "id": "a0f49547-609f-4a67-8f1d-5e67faae0866",
   "metadata": {},
   "outputs": [],
   "source": [
    "jsonurl = urllib.request.urlopen(endpoint)\n",
    "text = json.loads(jsonurl.read())"
   ]
  },
  {
   "cell_type": "markdown",
   "id": "f501d41e-ff37-4961-8eed-981d7e2f5402",
   "metadata": {},
   "source": [
    "### Get the object with the max date"
   ]
  },
  {
   "cell_type": "code",
   "execution_count": 7,
   "id": "8fd11e37-2477-4271-bd0b-ec52fc5afa5c",
   "metadata": {},
   "outputs": [],
   "source": [
    "latest_obj = max(text[\"result\"][\"resources\"], key=lambda ev: ev[\"url\"])"
   ]
  },
  {
   "cell_type": "code",
   "execution_count": 8,
   "id": "903f263f-d2a2-4a63-a5a4-1e4995f2c0c8",
   "metadata": {},
   "outputs": [],
   "source": [
    "latest_date = pd.to_datetime(\n",
    "    latest_obj[\"description\"].replace(\"COVID-19 Vaccines by ZIP Code \", \"\")\n",
    ").strftime(\"%Y-%m-%d\")"
   ]
  },
  {
   "cell_type": "markdown",
   "id": "e93967cf-d67c-435f-bb26-17dbf8937555",
   "metadata": {},
   "source": [
    "### Read that latest file into a dataframe to limit redacted rows and save it in raw"
   ]
  },
  {
   "cell_type": "code",
   "execution_count": 9,
   "id": "26ba8940-9c71-40ca-b0a5-591412413cda",
   "metadata": {},
   "outputs": [],
   "source": [
    "df = pd.read_csv(latest_obj[\"url\"])"
   ]
  },
  {
   "cell_type": "code",
   "execution_count": 10,
   "id": "7ceeb342-646f-40d8-80d5-4b5579569b6f",
   "metadata": {},
   "outputs": [],
   "source": [
    "df = df[df[\"VEM Source\"] != \"No VEM Assigned\"]"
   ]
  },
  {
   "cell_type": "code",
   "execution_count": 11,
   "id": "f47f907a-31c0-4357-b474-d2ef469f22be",
   "metadata": {},
   "outputs": [],
   "source": [
    "df.to_csv(\"data/raw/\" + latest_date + \".csv\", index=False)"
   ]
  },
  {
   "cell_type": "markdown",
   "id": "7b9bb5ef-7a1c-4a3d-90de-13cd36034010",
   "metadata": {},
   "source": [
    "---"
   ]
  },
  {
   "cell_type": "markdown",
   "id": "92bd03cc-f894-442c-bcba-bfe6b74038fc",
   "metadata": {},
   "source": [
    "## Concatenate all the weekly updates"
   ]
  },
  {
   "cell_type": "markdown",
   "id": "07771e55-eb9e-4442-96ab-6b3005f987c1",
   "metadata": {},
   "source": [
    "### Get all files and assign a date to each table based on the file name"
   ]
  },
  {
   "cell_type": "code",
   "execution_count": 12,
   "id": "fca9e5c6-87e2-4df0-85c2-70de88ba85bf",
   "metadata": {},
   "outputs": [],
   "source": [
    "path = \"\"\n",
    "files = glob.glob(os.path.join(path, \"data/raw/*.csv\"))"
   ]
  },
  {
   "cell_type": "code",
   "execution_count": 13,
   "id": "30f408ed-f4b7-45b0-be28-a8b7a24db6a4",
   "metadata": {},
   "outputs": [],
   "source": [
    "file_df = (\n",
    "    pd.read_csv(f, low_memory=False).assign(date=os.path.basename(f)) for f in files\n",
    ")"
   ]
  },
  {
   "cell_type": "markdown",
   "id": "3b80e95b-bd6d-4c5e-a7a8-5efc435294a4",
   "metadata": {},
   "source": [
    "### Concatenate them into one timeseries and clean update date field"
   ]
  },
  {
   "cell_type": "code",
   "execution_count": 14,
   "id": "38d0d8a1-9cfb-4ed7-8fec-e9a7225f74ca",
   "metadata": {},
   "outputs": [],
   "source": [
    "concat_df = pd.concat(\n",
    "    file_df,\n",
    "    ignore_index=True,\n",
    ")"
   ]
  },
  {
   "cell_type": "code",
   "execution_count": 15,
   "id": "25e252d6-6a5d-4962-bc92-f47974025b71",
   "metadata": {},
   "outputs": [],
   "source": [
    "concat_df[\"date\"] = pd.to_datetime(\n",
    "    concat_df[\"date\"].str.replace(\".csv\", \"\", regex=False)\n",
    ")"
   ]
  },
  {
   "cell_type": "markdown",
   "id": "fa23455c-a156-42b8-8a39-7828e4ac0a01",
   "metadata": {},
   "source": [
    "---"
   ]
  },
  {
   "cell_type": "markdown",
   "id": "6a679323-836a-41a2-aeac-417b18b0b078",
   "metadata": {},
   "source": [
    "## Export"
   ]
  },
  {
   "cell_type": "markdown",
   "id": "8609f0d7-0ab6-467b-97dd-bd62597bf9ad",
   "metadata": {},
   "source": [
    "### All updates"
   ]
  },
  {
   "cell_type": "code",
   "execution_count": 16,
   "id": "ff518851-ec4b-4a3c-9076-46751803bea3",
   "metadata": {},
   "outputs": [],
   "source": [
    "concat_df.to_csv(\"data/timeseries.csv\", index=False)"
   ]
  },
  {
   "cell_type": "markdown",
   "id": "573f006f-0d19-4865-b5bb-fa69b4ee590b",
   "metadata": {},
   "source": [
    "### Latest update"
   ]
  },
  {
   "cell_type": "code",
   "execution_count": 17,
   "id": "99125d9d-1e8c-42ff-a123-5eb6a59ad4bc",
   "metadata": {},
   "outputs": [],
   "source": [
    "concat_df[concat_df[\"date\"] == concat_df[\"date\"].max()].to_csv(\n",
    "    \"data/latest.csv\", index=False\n",
    ")"
   ]
  }
 ],
 "metadata": {
  "kernelspec": {
   "display_name": "Python 3",
   "language": "python",
   "name": "python3"
  },
  "language_info": {
   "codemirror_mode": {
    "name": "ipython",
    "version": 3
   },
   "file_extension": ".py",
   "mimetype": "text/x-python",
   "name": "python",
   "nbconvert_exporter": "python",
   "pygments_lexer": "ipython3",
   "version": "3.8.0"
  }
 },
 "nbformat": 4,
 "nbformat_minor": 5
}
