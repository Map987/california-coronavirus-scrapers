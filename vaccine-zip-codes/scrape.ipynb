{
 "cells": [
  {
   "cell_type": "markdown",
   "id": "possible-friend",
   "metadata": {},
   "source": [
    "# Get vaccine coverage by ZIP Codes data from CDPH"
   ]
  },
  {
   "cell_type": "code",
   "execution_count": 41,
   "id": "portuguese-spectacular",
   "metadata": {},
   "outputs": [
    {
     "name": "stdout",
     "output_type": "stream",
     "text": [
      "The lab_black extension is already loaded. To reload it, use:\n",
      "  %reload_ext lab_black\n"
     ]
    }
   ],
   "source": [
    "%load_ext lab_black"
   ]
  },
  {
   "cell_type": "code",
   "execution_count": 42,
   "id": "coastal-device",
   "metadata": {},
   "outputs": [],
   "source": [
    "import pandas as pd\n",
    "import datetime as dt\n",
    "import json\n",
    "import os\n",
    "import glob\n",
    "import urllib.request"
   ]
  },
  {
   "cell_type": "code",
   "execution_count": 43,
   "id": "hearing-river",
   "metadata": {},
   "outputs": [],
   "source": [
    "pd.options.display.max_columns = 50\n",
    "pd.options.display.max_rows = 1000\n",
    "pd.set_option(\"display.max_colwidth\", None)"
   ]
  },
  {
   "cell_type": "code",
   "execution_count": 44,
   "id": "serious-jerusalem",
   "metadata": {},
   "outputs": [],
   "source": [
    "today = dt.datetime.today().strftime(\"%Y-%m-%d\")"
   ]
  },
  {
   "cell_type": "markdown",
   "id": "regulated-detection",
   "metadata": {},
   "source": [
    "### Get the metadata from the API"
   ]
  },
  {
   "cell_type": "code",
   "execution_count": 45,
   "id": "indian-photography",
   "metadata": {},
   "outputs": [],
   "source": [
    "endpoint = \"https://data.chhs.ca.gov/api/3/action/package_show?id=covid-19-vaccine-progress-dashboard-data-by-zip-code\""
   ]
  },
  {
   "cell_type": "code",
   "execution_count": 46,
   "id": "pointed-projection",
   "metadata": {},
   "outputs": [],
   "source": [
    "jsonurl = urllib.request.urlopen(endpoint)\n",
    "text = json.loads(jsonurl.read())"
   ]
  },
  {
   "cell_type": "markdown",
   "id": "neutral-truck",
   "metadata": {},
   "source": [
    "### Get the object with the max date"
   ]
  },
  {
   "cell_type": "code",
   "execution_count": 70,
   "id": "cellular-roommate",
   "metadata": {},
   "outputs": [],
   "source": [
    "latest_obj = max(text[\"result\"][\"resources\"], key=lambda ev: ev[\"created\"])"
   ]
  },
  {
   "cell_type": "code",
   "execution_count": 49,
   "id": "grateful-rescue",
   "metadata": {},
   "outputs": [],
   "source": [
    "latest_date = pd.to_datetime(\n",
    "    latest_obj[\"description\"].replace(\"COVID-19 Vaccines by ZIP Code \", \"\")\n",
    ").strftime(\"%Y-%m-%d\")"
   ]
  },
  {
   "cell_type": "markdown",
   "id": "banned-mayor",
   "metadata": {},
   "source": [
    "### Read that latest file into a dataframe to limit redacted rows and save it in raw"
   ]
  },
  {
   "cell_type": "code",
   "execution_count": 51,
   "id": "lined-progress",
   "metadata": {},
   "outputs": [],
   "source": [
    "df = pd.read_csv(latest_obj[\"url\"])"
   ]
  },
  {
   "cell_type": "code",
   "execution_count": 52,
   "id": "twelve-nomination",
   "metadata": {},
   "outputs": [],
   "source": [
    "df = df[df[\"VEM Source\"] != \"No VEM Assigned\"]"
   ]
  },
  {
   "cell_type": "code",
   "execution_count": 53,
   "id": "respective-architect",
   "metadata": {},
   "outputs": [],
   "source": [
    "df.to_csv(\"data/raw/\" + latest_date + \".csv\", index=False)"
   ]
  },
  {
   "cell_type": "markdown",
   "id": "logical-fault",
   "metadata": {},
   "source": [
    "---"
   ]
  },
  {
   "cell_type": "markdown",
   "id": "talented-norway",
   "metadata": {},
   "source": [
    "## Concatenate all the weekly updates"
   ]
  },
  {
   "cell_type": "markdown",
   "id": "sophisticated-missile",
   "metadata": {},
   "source": [
    "### Get all files and assign a date to each table based on the file name"
   ]
  },
  {
   "cell_type": "code",
   "execution_count": 54,
   "id": "contrary-syndication",
   "metadata": {},
   "outputs": [],
   "source": [
    "path = \"\"\n",
    "files = glob.glob(os.path.join(path, \"data/raw/*.csv\"))"
   ]
  },
  {
   "cell_type": "code",
   "execution_count": 56,
   "id": "meaningful-colorado",
   "metadata": {},
   "outputs": [],
   "source": [
    "file_df = (\n",
    "    pd.read_csv(f, low_memory=False).assign(date=os.path.basename(f)) for f in files\n",
    ")"
   ]
  },
  {
   "cell_type": "markdown",
   "id": "annoying-nursery",
   "metadata": {},
   "source": [
    "### Concatenate them into one timeseries and clean update date field"
   ]
  },
  {
   "cell_type": "code",
   "execution_count": 57,
   "id": "senior-fifty",
   "metadata": {},
   "outputs": [],
   "source": [
    "concat_df = pd.concat(\n",
    "    file_df,\n",
    "    ignore_index=True,\n",
    ")"
   ]
  },
  {
   "cell_type": "code",
   "execution_count": 58,
   "id": "korean-defeat",
   "metadata": {},
   "outputs": [],
   "source": [
    "concat_df[\"date\"] = pd.to_datetime(\n",
    "    concat_df[\"date\"].str.replace(\".csv\", \"\", regex=False)\n",
    ")"
   ]
  },
  {
   "cell_type": "markdown",
   "id": "third-fault",
   "metadata": {},
   "source": [
    "---"
   ]
  },
  {
   "cell_type": "markdown",
   "id": "fantastic-kuwait",
   "metadata": {},
   "source": [
    "## Export"
   ]
  },
  {
   "cell_type": "markdown",
   "id": "robust-somerset",
   "metadata": {},
   "source": [
    "### All updates"
   ]
  },
  {
   "cell_type": "code",
   "execution_count": 59,
   "id": "accessory-english",
   "metadata": {},
   "outputs": [],
   "source": [
    "concat_df.to_csv(\"data/timeseries.csv\", index=False)"
   ]
  },
  {
   "cell_type": "markdown",
   "id": "preceding-paris",
   "metadata": {},
   "source": [
    "### Latest update"
   ]
  },
  {
   "cell_type": "code",
   "execution_count": 60,
   "id": "lesser-jonathan",
   "metadata": {},
   "outputs": [],
   "source": [
    "concat_df[concat_df[\"date\"] == concat_df[\"date\"].max()].to_csv(\n",
    "    \"data/latest.csv\", index=False\n",
    ")"
   ]
  }
 ],
 "metadata": {
  "kernelspec": {
   "display_name": "Python 3",
   "language": "python",
   "name": "python3"
  },
  "language_info": {
   "codemirror_mode": {
    "name": "ipython",
    "version": 3
   },
   "file_extension": ".py",
   "mimetype": "text/x-python",
   "name": "python",
   "nbconvert_exporter": "python",
   "pygments_lexer": "ipython3",
   "version": "3.8.2"
  }
 },
 "nbformat": 4,
 "nbformat_minor": 5
}
