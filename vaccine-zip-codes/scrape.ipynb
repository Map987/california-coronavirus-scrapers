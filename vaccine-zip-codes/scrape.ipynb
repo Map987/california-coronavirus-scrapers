{
 "cells": [
  {
   "cell_type": "markdown",
   "id": "narrative-helmet",
   "metadata": {},
   "source": [
    "# CDC variants proportions by state\n",
    "\n",
    "By [Matt Stiles](https://www.latimes.com/people/matt-stiles)\n",
    "\n",
    "Downloads variant totals and proportions from a [Tableau dashboard](https://covid.cdc.gov/covid-data-tracker/#variant-proportions) published by the U.S. Centers for Disease Control and Prevention."
   ]
  },
  {
   "cell_type": "markdown",
   "id": "hybrid-circular",
   "metadata": {},
   "source": [
    "## Import"
   ]
  },
  {
   "cell_type": "markdown",
   "id": "advanced-richards",
   "metadata": {},
   "source": [
    "Code formatting with [black](https://pypi.org/project/nb-black/)."
   ]
  },
  {
   "cell_type": "code",
   "execution_count": 3,
   "id": "hired-guard",
   "metadata": {},
   "outputs": [],
   "source": [
    "%load_ext lab_black"
   ]
  },
  {
   "cell_type": "markdown",
   "id": "sharing-computer",
   "metadata": {},
   "source": [
    "Import dependencies."
   ]
  },
  {
   "cell_type": "code",
   "execution_count": 4,
   "id": "connected-whale",
   "metadata": {},
   "outputs": [],
   "source": [
    "import os\n",
    "import pytz\n",
    "from datetime import datetime"
   ]
  },
  {
   "cell_type": "code",
   "execution_count": 5,
   "id": "occupational-indianapolis",
   "metadata": {},
   "outputs": [],
   "source": [
    "import pandas as pd\n",
    "from tableauscraper import TableauScraper as TS"
   ]
  },
  {
   "cell_type": "code",
   "execution_count": 6,
   "id": "computational-incidence",
   "metadata": {},
   "outputs": [],
   "source": [
    "# !pipenv install tableauscraper=='0.1.10'"
   ]
  },
  {
   "cell_type": "code",
   "execution_count": 7,
   "id": "resistant-camel",
   "metadata": {},
   "outputs": [],
   "source": [
    "tz = pytz.timezone(\"America/Los_Angeles\")"
   ]
  },
  {
   "cell_type": "code",
   "execution_count": 8,
   "id": "pleasant-shield",
   "metadata": {},
   "outputs": [],
   "source": [
    "today = datetime.now(tz).date()"
   ]
  },
  {
   "cell_type": "markdown",
   "id": "chemical-disability",
   "metadata": {},
   "source": [
    "## Scrape"
   ]
  },
  {
   "cell_type": "markdown",
   "id": "inside-defeat",
   "metadata": {},
   "source": [
    "Set the URL"
   ]
  },
  {
   "cell_type": "code",
   "execution_count": 11,
   "id": "prospective-hanging",
   "metadata": {},
   "outputs": [],
   "source": [
    "url = \"https://public.tableau.com/profile/ca.open.data#!/vizhome/LHJVaccineEquityPerformance/MapView\""
   ]
  },
  {
   "cell_type": "code",
   "execution_count": 12,
   "id": "informed-speaking",
   "metadata": {},
   "outputs": [
    {
     "ename": "AttributeError",
     "evalue": "'NoneType' object has no attribute 'text'",
     "output_type": "error",
     "traceback": [
      "\u001b[0;31m---------------------------------------------------------------------------\u001b[0m",
      "\u001b[0;31mAttributeError\u001b[0m                            Traceback (most recent call last)",
      "\u001b[0;32m<ipython-input-12-dad0ddefc573>\u001b[0m in \u001b[0;36m<module>\u001b[0;34m\u001b[0m\n\u001b[1;32m      1\u001b[0m \u001b[0mts\u001b[0m \u001b[0;34m=\u001b[0m \u001b[0mTS\u001b[0m\u001b[0;34m(\u001b[0m\u001b[0;34m)\u001b[0m\u001b[0;34m\u001b[0m\u001b[0;34m\u001b[0m\u001b[0m\n\u001b[0;32m----> 2\u001b[0;31m \u001b[0mts\u001b[0m\u001b[0;34m.\u001b[0m\u001b[0mloads\u001b[0m\u001b[0;34m(\u001b[0m\u001b[0murl\u001b[0m\u001b[0;34m)\u001b[0m\u001b[0;34m\u001b[0m\u001b[0;34m\u001b[0m\u001b[0m\n\u001b[0m",
      "\u001b[0;32m~/.virtualenvs/california-coronavirus-scrapers-rSkl99K0/lib/python3.8/site-packages/tableauscraper/TableauScraper.py\u001b[0m in \u001b[0;36mloads\u001b[0;34m(self, url)\u001b[0m\n\u001b[1;32m     68\u001b[0m \u001b[0;34m\u001b[0m\u001b[0m\n\u001b[1;32m     69\u001b[0m         self.tableauData = json.loads(\n\u001b[0;32m---> 70\u001b[0;31m             \u001b[0msoup\u001b[0m\u001b[0;34m.\u001b[0m\u001b[0mfind\u001b[0m\u001b[0;34m(\u001b[0m\u001b[0;34m\"textarea\"\u001b[0m\u001b[0;34m,\u001b[0m \u001b[0;34m{\u001b[0m\u001b[0;34m\"id\"\u001b[0m\u001b[0;34m:\u001b[0m \u001b[0;34m\"tsConfigContainer\"\u001b[0m\u001b[0;34m}\u001b[0m\u001b[0;34m)\u001b[0m\u001b[0;34m.\u001b[0m\u001b[0mtext\u001b[0m\u001b[0;34m\u001b[0m\u001b[0;34m\u001b[0m\u001b[0m\n\u001b[0m\u001b[1;32m     71\u001b[0m         )\n\u001b[1;32m     72\u001b[0m \u001b[0;34m\u001b[0m\u001b[0m\n",
      "\u001b[0;31mAttributeError\u001b[0m: 'NoneType' object has no attribute 'text'"
     ]
    }
   ],
   "source": [
    "ts = TS()\n",
    "ts.loads(url)"
   ]
  },
  {
   "cell_type": "code",
   "execution_count": 9,
   "id": "nervous-auditor",
   "metadata": {},
   "outputs": [],
   "source": [
    "ws = ts.getWorksheet(\"State Proportions\")"
   ]
  },
  {
   "cell_type": "code",
   "execution_count": 10,
   "id": "surgical-blackberry",
   "metadata": {},
   "outputs": [],
   "source": [
    "workbook = ts.getWorkbook()"
   ]
  },
  {
   "cell_type": "code",
   "execution_count": 11,
   "id": "historic-corrections",
   "metadata": {},
   "outputs": [],
   "source": [
    "target = \"State Proportions\""
   ]
  },
  {
   "cell_type": "code",
   "execution_count": 12,
   "id": "cardiovascular-cylinder",
   "metadata": {},
   "outputs": [],
   "source": [
    "sheet = next(w for w in workbook.worksheets if w.name == target)"
   ]
  },
  {
   "cell_type": "code",
   "execution_count": 13,
   "id": "unlimited-memorial",
   "metadata": {},
   "outputs": [],
   "source": [
    "src = sheet.data"
   ]
  },
  {
   "cell_type": "code",
   "execution_count": 14,
   "id": "active-shipping",
   "metadata": {},
   "outputs": [],
   "source": [
    "df = src[[\"State-value\", \"Measure Names-alias\", \"Measure Values-alias\"]].copy()"
   ]
  },
  {
   "cell_type": "code",
   "execution_count": 15,
   "id": "connected-worth",
   "metadata": {},
   "outputs": [],
   "source": [
    "df.rename(\n",
    "    columns={\n",
    "        \"State-value\": \"state\",\n",
    "        \"Measure Names-alias\": \"variable\",\n",
    "        \"Measure Values-alias\": \"value\",\n",
    "    },\n",
    "    inplace=True,\n",
    ")"
   ]
  },
  {
   "cell_type": "code",
   "execution_count": 16,
   "id": "given-coupon",
   "metadata": {},
   "outputs": [],
   "source": [
    "df.value = df.value.str.replace(\",\", \"\", regex=False).str.replace(\"%\", \"\", regex=False)"
   ]
  },
  {
   "cell_type": "code",
   "execution_count": 17,
   "id": "clear-desert",
   "metadata": {},
   "outputs": [],
   "source": [
    "df.value = pd.to_numeric(df.value)"
   ]
  },
  {
   "cell_type": "code",
   "execution_count": 18,
   "id": "artistic-generator",
   "metadata": {},
   "outputs": [],
   "source": [
    "df_pivot = df.pivot_table(\n",
    "    values=\"value\", index=\"state\", columns=\"variable\"\n",
    ").reset_index()"
   ]
  },
  {
   "cell_type": "code",
   "execution_count": 19,
   "id": "floppy-shooting",
   "metadata": {},
   "outputs": [],
   "source": [
    "df_pivot.columns = (\n",
    "    df_pivot.columns.str.lower()\n",
    "    .str.replace(\".\", \"\", regex=False)\n",
    "    .str.replace(\" \", \"_\", regex=False)\n",
    "    .str.replace(\"/\", \"_\", regex=False)\n",
    ")"
   ]
  },
  {
   "cell_type": "code",
   "execution_count": 20,
   "id": "ac9b1a31-0ed1-4be6-98e3-b6818495c3f1",
   "metadata": {},
   "outputs": [],
   "source": [
    "df_pivot[\"update_date\"] = today"
   ]
  },
  {
   "cell_type": "code",
   "execution_count": 21,
   "id": "935fa869-7cfb-495d-ab69-8a2888e05321",
   "metadata": {},
   "outputs": [
    {
     "data": {
      "text/html": [
       "<div>\n",
       "<style scoped>\n",
       "    .dataframe tbody tr th:only-of-type {\n",
       "        vertical-align: middle;\n",
       "    }\n",
       "\n",
       "    .dataframe tbody tr th {\n",
       "        vertical-align: top;\n",
       "    }\n",
       "\n",
       "    .dataframe thead th {\n",
       "        text-align: right;\n",
       "    }\n",
       "</style>\n",
       "<table border=\"1\" class=\"dataframe\">\n",
       "  <thead>\n",
       "    <tr style=\"text-align: right;\">\n",
       "      <th>variable</th>\n",
       "      <th>state</th>\n",
       "      <th>b117</th>\n",
       "      <th>b1351</th>\n",
       "      <th>b1427_b1429</th>\n",
       "      <th>other_lineages</th>\n",
       "      <th>p1</th>\n",
       "      <th>total_available_sequences</th>\n",
       "      <th>update_date</th>\n",
       "    </tr>\n",
       "  </thead>\n",
       "  <tbody>\n",
       "    <tr>\n",
       "      <th>0</th>\n",
       "      <td>Arizona</td>\n",
       "      <td>14.1</td>\n",
       "      <td>NaN</td>\n",
       "      <td>36.0</td>\n",
       "      <td>49.2</td>\n",
       "      <td>0.7</td>\n",
       "      <td>411.0</td>\n",
       "      <td>2021-04-17</td>\n",
       "    </tr>\n",
       "    <tr>\n",
       "      <th>1</th>\n",
       "      <td>California</td>\n",
       "      <td>15.9</td>\n",
       "      <td>0.3</td>\n",
       "      <td>53.8</td>\n",
       "      <td>28.4</td>\n",
       "      <td>1.6</td>\n",
       "      <td>6919.0</td>\n",
       "      <td>2021-04-17</td>\n",
       "    </tr>\n",
       "    <tr>\n",
       "      <th>2</th>\n",
       "      <td>Colorado</td>\n",
       "      <td>29.1</td>\n",
       "      <td>0.1</td>\n",
       "      <td>28.1</td>\n",
       "      <td>42.0</td>\n",
       "      <td>0.8</td>\n",
       "      <td>915.0</td>\n",
       "      <td>2021-04-17</td>\n",
       "    </tr>\n",
       "    <tr>\n",
       "      <th>3</th>\n",
       "      <td>Connecticut</td>\n",
       "      <td>29.2</td>\n",
       "      <td>0.8</td>\n",
       "      <td>7.5</td>\n",
       "      <td>61.8</td>\n",
       "      <td>0.8</td>\n",
       "      <td>651.0</td>\n",
       "      <td>2021-04-17</td>\n",
       "    </tr>\n",
       "    <tr>\n",
       "      <th>4</th>\n",
       "      <td>Florida</td>\n",
       "      <td>52.2</td>\n",
       "      <td>0.3</td>\n",
       "      <td>7.5</td>\n",
       "      <td>37.6</td>\n",
       "      <td>2.4</td>\n",
       "      <td>6093.0</td>\n",
       "      <td>2021-04-17</td>\n",
       "    </tr>\n",
       "  </tbody>\n",
       "</table>\n",
       "</div>"
      ],
      "text/plain": [
       "variable        state  b117  b1351  b1427_b1429  other_lineages   p1  \\\n",
       "0             Arizona  14.1    NaN         36.0            49.2  0.7   \n",
       "1          California  15.9    0.3         53.8            28.4  1.6   \n",
       "2            Colorado  29.1    0.1         28.1            42.0  0.8   \n",
       "3         Connecticut  29.2    0.8          7.5            61.8  0.8   \n",
       "4             Florida  52.2    0.3          7.5            37.6  2.4   \n",
       "\n",
       "variable  total_available_sequences update_date  \n",
       "0                             411.0  2021-04-17  \n",
       "1                            6919.0  2021-04-17  \n",
       "2                             915.0  2021-04-17  \n",
       "3                             651.0  2021-04-17  \n",
       "4                            6093.0  2021-04-17  "
      ]
     },
     "execution_count": 21,
     "metadata": {},
     "output_type": "execute_result"
    }
   ],
   "source": [
    "df_pivot.head()"
   ]
  },
  {
   "cell_type": "markdown",
   "id": "dated-tonight",
   "metadata": {},
   "source": [
    "## Export"
   ]
  },
  {
   "cell_type": "markdown",
   "id": "lovely-blink",
   "metadata": {},
   "source": [
    "Save out the data as a CSV that's datestamped to California time."
   ]
  },
  {
   "cell_type": "code",
   "execution_count": 22,
   "id": "frozen-vitamin",
   "metadata": {},
   "outputs": [],
   "source": [
    "data_dir = os.path.join(os.path.abspath(\"\"), \"data\")"
   ]
  },
  {
   "cell_type": "code",
   "execution_count": 23,
   "id": "laughing-domain",
   "metadata": {},
   "outputs": [],
   "source": [
    "df_pivot.to_csv(\n",
    "    os.path.join(data_dir, f\"variants_cdc_proportions_timeseries_{today}_.csv\"),\n",
    "    index=False,\n",
    ")"
   ]
  }
 ],
 "metadata": {
  "kernelspec": {
   "display_name": "Python 3",
   "language": "python",
   "name": "python3"
  },
  "language_info": {
   "codemirror_mode": {
    "name": "ipython",
    "version": 3
   },
   "file_extension": ".py",
   "mimetype": "text/x-python",
   "name": "python",
   "nbconvert_exporter": "python",
   "pygments_lexer": "ipython3",
   "version": "3.8.0"
  }
 },
 "nbformat": 4,
 "nbformat_minor": 5
}
