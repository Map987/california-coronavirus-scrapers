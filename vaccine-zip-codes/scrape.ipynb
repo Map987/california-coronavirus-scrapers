{
 "cells": [
  {
   "cell_type": "markdown",
   "id": "young-florence",
   "metadata": {},
   "source": [
    "# Get vaccine coverage by ZIP Codes data from CDPH"
   ]
  },
  {
   "cell_type": "code",
   "execution_count": 1,
   "id": "vertical-nirvana",
   "metadata": {},
   "outputs": [],
   "source": [
    "%load_ext lab_black"
   ]
  },
  {
   "cell_type": "code",
   "execution_count": 2,
   "id": "convinced-finish",
   "metadata": {},
   "outputs": [],
   "source": [
    "import pandas as pd\n",
    "import datetime as dt\n",
    "import json\n",
    "import os\n",
    "import glob\n",
    "import urllib.request"
   ]
  },
  {
   "cell_type": "code",
   "execution_count": 3,
   "id": "constant-split",
   "metadata": {},
   "outputs": [],
   "source": [
    "pd.options.display.max_columns = 50\n",
    "pd.options.display.max_rows = 1000\n",
    "pd.set_option(\"display.max_colwidth\", None)"
   ]
  },
  {
   "cell_type": "code",
   "execution_count": 4,
   "id": "instant-membership",
   "metadata": {},
   "outputs": [],
   "source": [
    "today = dt.datetime.today().strftime(\"%Y-%m-%d\")"
   ]
  },
  {
   "cell_type": "markdown",
   "id": "stopped-reminder",
   "metadata": {},
   "source": [
    "### Get the metadata from the API"
   ]
  },
  {
   "cell_type": "code",
   "execution_count": 5,
   "id": "still-breakfast",
   "metadata": {},
   "outputs": [],
   "source": [
    "endpoint = \"https://data.chhs.ca.gov/api/3/action/package_show?id=covid-19-vaccine-progress-dashboard-data-by-zip-code\""
   ]
  },
  {
   "cell_type": "code",
   "execution_count": 6,
   "id": "grand-third",
   "metadata": {},
   "outputs": [],
   "source": [
    "jsonurl = urllib.request.urlopen(endpoint)\n",
    "text = json.loads(jsonurl.read())"
   ]
  },
  {
   "cell_type": "markdown",
   "id": "photographic-ghana",
   "metadata": {},
   "source": [
    "### Get the object with the max date"
   ]
  },
  {
   "cell_type": "code",
   "execution_count": 7,
   "id": "minute-capacity",
   "metadata": {},
   "outputs": [],
   "source": [
    "data = text[\"result\"][\"resources\"]"
   ]
  },
  {
   "cell_type": "markdown",
   "id": "square-sapphire",
   "metadata": {},
   "source": [
    "Loop through the dict to get the file names that contain dates"
   ]
  },
  {
   "cell_type": "code",
   "execution_count": 8,
   "id": "stainless-column",
   "metadata": {},
   "outputs": [],
   "source": [
    "dates = []\n",
    "slugs = []\n",
    "for obj in data:\n",
    "    slug = obj[\"name\"]\n",
    "    try:\n",
    "        date = pd.to_datetime(\n",
    "            slug.replace(\"COVID-19 Vaccines by ZIP Code \", \"\")\n",
    "        ).strftime(\"%Y-%m-%d\")\n",
    "        dates.append(date)\n",
    "        slugs.append(slug)\n",
    "    except:\n",
    "        pass"
   ]
  },
  {
   "cell_type": "markdown",
   "id": "dependent-lottery",
   "metadata": {},
   "source": [
    "Use that list of dates to pick out the latest file"
   ]
  },
  {
   "cell_type": "code",
   "execution_count": 9,
   "id": "approximate-friendly",
   "metadata": {},
   "outputs": [],
   "source": [
    "latest_date_str = max(d for d in dates)"
   ]
  },
  {
   "cell_type": "code",
   "execution_count": 10,
   "id": "front-vocabulary",
   "metadata": {},
   "outputs": [],
   "source": [
    "for obj in data:\n",
    "    slug = obj[\"name\"]\n",
    "    try:\n",
    "        date = pd.to_datetime(\n",
    "            slug.replace(\"COVID-19 Vaccines by ZIP Code \", \"\")\n",
    "        ).strftime(\"%Y-%m-%d\")\n",
    "        if date == latest_date_str:\n",
    "            latest_obj = obj\n",
    "        else:\n",
    "            pass\n",
    "    except:\n",
    "        pass"
   ]
  },
  {
   "cell_type": "code",
   "execution_count": 11,
   "id": "acquired-adams",
   "metadata": {},
   "outputs": [],
   "source": [
    "latest_date = pd.to_datetime(latest_obj[\"created\"]).strftime(\"%Y-%m-%d\")"
   ]
  },
  {
   "cell_type": "markdown",
   "id": "photographic-title",
   "metadata": {},
   "source": [
    "### Read that latest file into a dataframe to limit redacted rows and save it in raw"
   ]
  },
  {
   "cell_type": "code",
   "execution_count": 12,
   "id": "filled-cornwall",
   "metadata": {},
   "outputs": [],
   "source": [
    "df = pd.read_csv(latest_obj[\"url\"])"
   ]
  },
  {
   "cell_type": "code",
   "execution_count": 13,
   "id": "prompt-invention",
   "metadata": {},
   "outputs": [],
   "source": [
    "df = df[df[\"VEM Source\"] != \"No VEM Assigned\"]"
   ]
  },
  {
   "cell_type": "code",
   "execution_count": 14,
   "id": "furnished-storm",
   "metadata": {},
   "outputs": [],
   "source": [
    "df.to_csv(\"data/raw/\" + latest_date + \".csv\", index=False)"
   ]
  },
  {
   "cell_type": "markdown",
   "id": "whole-treasury",
   "metadata": {},
   "source": [
    "---"
   ]
  },
  {
   "cell_type": "markdown",
   "id": "incorrect-exhaust",
   "metadata": {},
   "source": [
    "## Concatenate all the weekly updates"
   ]
  },
  {
   "cell_type": "markdown",
   "id": "genuine-opportunity",
   "metadata": {},
   "source": [
    "### Get all files and assign a date to each table based on the file name"
   ]
  },
  {
   "cell_type": "code",
   "execution_count": 15,
   "id": "adequate-israeli",
   "metadata": {},
   "outputs": [],
   "source": [
    "path = \"\"\n",
    "files = glob.glob(os.path.join(path, \"data/raw/*.csv\"))"
   ]
  },
  {
   "cell_type": "code",
   "execution_count": 16,
   "id": "infinite-andrews",
   "metadata": {},
   "outputs": [],
   "source": [
    "file_df = (\n",
    "    pd.read_csv(f, low_memory=False).assign(date=os.path.basename(f)) for f in files\n",
    ")"
   ]
  },
  {
   "cell_type": "markdown",
   "id": "constant-terrace",
   "metadata": {},
   "source": [
    "### Concatenate them into one timeseries and clean update date field"
   ]
  },
  {
   "cell_type": "code",
   "execution_count": 17,
   "id": "compressed-courtesy",
   "metadata": {},
   "outputs": [],
   "source": [
    "concat_df = pd.concat(\n",
    "    file_df,\n",
    "    ignore_index=True,\n",
    ")"
   ]
  },
  {
   "cell_type": "code",
   "execution_count": 18,
   "id": "photographic-vermont",
   "metadata": {},
   "outputs": [],
   "source": [
    "concat_df[\"date\"] = pd.to_datetime(\n",
    "    concat_df[\"date\"].str.replace(\".csv\", \"\", regex=False)\n",
    ")"
   ]
  },
  {
   "cell_type": "markdown",
   "id": "further-enterprise",
   "metadata": {},
   "source": [
    "---"
   ]
  },
  {
   "cell_type": "markdown",
   "id": "pointed-columbus",
   "metadata": {},
   "source": [
    "## Export"
   ]
  },
  {
   "cell_type": "markdown",
   "id": "resident-boost",
   "metadata": {},
   "source": [
    "### All updates"
   ]
  },
  {
   "cell_type": "code",
   "execution_count": 19,
   "id": "bacterial-siemens",
   "metadata": {},
   "outputs": [],
   "source": [
    "concat_df.to_csv(\"data/timeseries.csv\", index=False)"
   ]
  },
  {
   "cell_type": "markdown",
   "id": "opening-native",
   "metadata": {},
   "source": [
    "### Latest update"
   ]
  },
  {
   "cell_type": "code",
   "execution_count": 20,
   "id": "moving-raleigh",
   "metadata": {},
   "outputs": [],
   "source": [
    "concat_df[concat_df[\"date\"] == concat_df[\"date\"].max()].to_csv(\n",
    "    \"data/latest.csv\", index=False\n",
    ")"
   ]
  }
 ],
 "metadata": {
  "kernelspec": {
   "display_name": "Python 3",
   "language": "python",
   "name": "python3"
  },
  "language_info": {
   "codemirror_mode": {
    "name": "ipython",
    "version": 3
   },
   "file_extension": ".py",
   "mimetype": "text/x-python",
   "name": "python",
   "nbconvert_exporter": "python",
   "pygments_lexer": "ipython3",
   "version": "3.8.2"
  }
 },
 "nbformat": 4,
 "nbformat_minor": 5
}
