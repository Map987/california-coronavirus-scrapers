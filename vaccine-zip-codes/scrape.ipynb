{
 "cells": [
  {
   "cell_type": "markdown",
   "id": "insured-listening",
   "metadata": {},
   "source": [
    "# Get vaccine coverage by ZIP Codes data from CDPH"
   ]
  },
  {
   "cell_type": "code",
   "execution_count": 107,
   "id": "fancy-devon",
   "metadata": {},
   "outputs": [
    {
     "name": "stdout",
     "output_type": "stream",
     "text": [
      "The lab_black extension is already loaded. To reload it, use:\n",
      "  %reload_ext lab_black\n"
     ]
    }
   ],
   "source": [
    "%load_ext lab_black"
   ]
  },
  {
   "cell_type": "code",
   "execution_count": 108,
   "id": "moral-colon",
   "metadata": {},
   "outputs": [],
   "source": [
    "import pandas as pd\n",
    "import datetime as dt\n",
    "import json\n",
    "import os\n",
    "import glob\n",
    "import urllib.request"
   ]
  },
  {
   "cell_type": "code",
   "execution_count": 109,
   "id": "pregnant-salad",
   "metadata": {},
   "outputs": [],
   "source": [
    "pd.options.display.max_columns = 50\n",
    "pd.options.display.max_rows = 1000\n",
    "pd.set_option(\"display.max_colwidth\", None)"
   ]
  },
  {
   "cell_type": "code",
   "execution_count": 110,
   "id": "unknown-prerequisite",
   "metadata": {},
   "outputs": [],
   "source": [
    "today = dt.datetime.today().strftime(\"%Y-%m-%d\")"
   ]
  },
  {
   "cell_type": "markdown",
   "id": "unlimited-abraham",
   "metadata": {},
   "source": [
    "### Get the metadata from the API"
   ]
  },
  {
   "cell_type": "code",
   "execution_count": 111,
   "id": "developed-carnival",
   "metadata": {},
   "outputs": [],
   "source": [
    "endpoint = \"https://data.chhs.ca.gov/api/3/action/package_show?id=covid-19-vaccine-progress-dashboard-data-by-zip-code\""
   ]
  },
  {
   "cell_type": "code",
   "execution_count": 112,
   "id": "happy-shore",
   "metadata": {},
   "outputs": [],
   "source": [
    "jsonurl = urllib.request.urlopen(endpoint)\n",
    "text = json.loads(jsonurl.read())"
   ]
  },
  {
   "cell_type": "markdown",
   "id": "integrated-testimony",
   "metadata": {},
   "source": [
    "### Get the object with the max date"
   ]
  },
  {
   "cell_type": "code",
   "execution_count": 113,
   "id": "solar-brass",
   "metadata": {},
   "outputs": [],
   "source": [
    "data = text[\"result\"][\"resources\"]"
   ]
  },
  {
   "cell_type": "markdown",
   "id": "statutory-haven",
   "metadata": {},
   "source": [
    "Loop through the dict to get the file names that contain dates"
   ]
  },
  {
   "cell_type": "code",
   "execution_count": 114,
   "id": "available-sleeve",
   "metadata": {},
   "outputs": [],
   "source": [
    "dates = []\n",
    "for obj in data:\n",
    "    slug = obj[\"name\"]\n",
    "    # find valid dates in the name field and append them to a list\n",
    "    try:\n",
    "        date = pd.to_datetime(\n",
    "            slug.replace(\"COVID-19 Vaccines by ZIP Code \", \"\")\n",
    "        ).strftime(\"%Y-%m-%d\")\n",
    "        dates.append(date)\n",
    "    except:\n",
    "        pass"
   ]
  },
  {
   "cell_type": "markdown",
   "id": "assured-relaxation",
   "metadata": {},
   "source": [
    "Pick out the latest date from that list"
   ]
  },
  {
   "cell_type": "code",
   "execution_count": 115,
   "id": "executive-mystery",
   "metadata": {},
   "outputs": [],
   "source": [
    "latest_date_str = max(d for d in dates)"
   ]
  },
  {
   "cell_type": "markdown",
   "id": "behind-geography",
   "metadata": {},
   "source": [
    "Loop through the objects again and match the latest one with the latest date"
   ]
  },
  {
   "cell_type": "code",
   "execution_count": 116,
   "id": "pressing-helping",
   "metadata": {},
   "outputs": [],
   "source": [
    "for obj in data:\n",
    "    slug = obj[\"name\"]\n",
    "    try:\n",
    "        date = pd.to_datetime(\n",
    "            slug.replace(\"COVID-19 Vaccines by ZIP Code \", \"\")\n",
    "        ).strftime(\"%Y-%m-%d\")\n",
    "        if date == latest_date_str:\n",
    "            latest_obj = obj\n",
    "        else:\n",
    "            pass\n",
    "    except:\n",
    "        pass"
   ]
  },
  {
   "cell_type": "code",
   "execution_count": 117,
   "id": "innocent-worth",
   "metadata": {},
   "outputs": [],
   "source": [
    "latest_date = pd.to_datetime(latest_obj[\"created\"]).strftime(\"%Y-%m-%d\")"
   ]
  },
  {
   "cell_type": "markdown",
   "id": "suburban-target",
   "metadata": {},
   "source": [
    "### Read that latest file into a dataframe to limit redacted rows and save it in raw"
   ]
  },
  {
   "cell_type": "code",
   "execution_count": 118,
   "id": "determined-costume",
   "metadata": {},
   "outputs": [],
   "source": [
    "df = pd.read_csv(latest_obj[\"url\"])"
   ]
  },
  {
   "cell_type": "code",
   "execution_count": 119,
   "id": "strategic-logging",
   "metadata": {},
   "outputs": [],
   "source": [
    "df = df[df[\"VEM Source\"] != \"No VEM Assigned\"]"
   ]
  },
  {
   "cell_type": "code",
   "execution_count": 120,
   "id": "ideal-public",
   "metadata": {},
   "outputs": [],
   "source": [
    "df.to_csv(\"data/raw/\" + latest_date + \".csv\", index=False)"
   ]
  },
  {
   "cell_type": "markdown",
   "id": "neither-copper",
   "metadata": {},
   "source": [
    "---"
   ]
  },
  {
   "cell_type": "markdown",
   "id": "blank-referral",
   "metadata": {},
   "source": [
    "## Concatenate all the weekly updates"
   ]
  },
  {
   "cell_type": "markdown",
   "id": "above-depression",
   "metadata": {},
   "source": [
    "### Get all files and assign a date to each table based on the file name"
   ]
  },
  {
   "cell_type": "code",
   "execution_count": 121,
   "id": "nuclear-woman",
   "metadata": {},
   "outputs": [],
   "source": [
    "path = \"\"\n",
    "files = glob.glob(os.path.join(path, \"data/raw/*.csv\"))"
   ]
  },
  {
   "cell_type": "code",
   "execution_count": 122,
   "id": "legitimate-arthur",
   "metadata": {},
   "outputs": [],
   "source": [
    "file_df = (\n",
    "    pd.read_csv(f, low_memory=False).assign(date=os.path.basename(f)) for f in files\n",
    ")"
   ]
  },
  {
   "cell_type": "markdown",
   "id": "level-importance",
   "metadata": {},
   "source": [
    "### Concatenate them into one timeseries and clean update date field"
   ]
  },
  {
   "cell_type": "code",
   "execution_count": 123,
   "id": "unexpected-breathing",
   "metadata": {},
   "outputs": [],
   "source": [
    "concat_df = pd.concat(\n",
    "    file_df,\n",
    "    ignore_index=True,\n",
    ")"
   ]
  },
  {
   "cell_type": "code",
   "execution_count": 124,
   "id": "according-sodium",
   "metadata": {},
   "outputs": [],
   "source": [
    "concat_df[\"date\"] = pd.to_datetime(\n",
    "    concat_df[\"date\"].str.replace(\".csv\", \"\", regex=False)\n",
    ")"
   ]
  },
  {
   "cell_type": "code",
   "execution_count": 127,
   "id": "curious-sacrifice",
   "metadata": {},
   "outputs": [
    {
     "data": {
      "text/html": [
       "<div>\n",
       "<style scoped>\n",
       "    .dataframe tbody tr th:only-of-type {\n",
       "        vertical-align: middle;\n",
       "    }\n",
       "\n",
       "    .dataframe tbody tr th {\n",
       "        vertical-align: top;\n",
       "    }\n",
       "\n",
       "    .dataframe thead th {\n",
       "        text-align: right;\n",
       "    }\n",
       "</style>\n",
       "<table border=\"1\" class=\"dataframe\">\n",
       "  <thead>\n",
       "    <tr style=\"text-align: right;\">\n",
       "      <th></th>\n",
       "      <th>Zip Code Tabulation Area</th>\n",
       "      <th>Local Health Jurisdiction</th>\n",
       "      <th>Vaccine Equity Metric Quartile</th>\n",
       "      <th>VEM Source</th>\n",
       "      <th>16+ Population</th>\n",
       "      <th>Persons Fully Vaccinated</th>\n",
       "      <th>Persons Partially Vaccinated</th>\n",
       "      <th>Percent of Population Fully Vaccinated</th>\n",
       "      <th>Percent of Population Partially Vaccinated</th>\n",
       "      <th>Percent of Population with 1+ Dose</th>\n",
       "      <th>Redacted</th>\n",
       "      <th>date</th>\n",
       "      <th>County</th>\n",
       "      <th>12+ Population</th>\n",
       "    </tr>\n",
       "  </thead>\n",
       "  <tbody>\n",
       "    <tr>\n",
       "      <th>1636</th>\n",
       "      <td>91320</td>\n",
       "      <td>Ventura</td>\n",
       "      <td>4.0</td>\n",
       "      <td>Healthy Places Index Score</td>\n",
       "      <td>35413.0</td>\n",
       "      <td>13005.0</td>\n",
       "      <td>7558.0</td>\n",
       "      <td>0.367238</td>\n",
       "      <td>0.213424</td>\n",
       "      <td>0.580662</td>\n",
       "      <td>No</td>\n",
       "      <td>2021-04-14</td>\n",
       "      <td>NaN</td>\n",
       "      <td>NaN</td>\n",
       "    </tr>\n",
       "    <tr>\n",
       "      <th>3325</th>\n",
       "      <td>91320</td>\n",
       "      <td>Ventura</td>\n",
       "      <td>4.0</td>\n",
       "      <td>Healthy Places Index Score</td>\n",
       "      <td>35413.0</td>\n",
       "      <td>13356.0</td>\n",
       "      <td>7690.0</td>\n",
       "      <td>0.377150</td>\n",
       "      <td>0.217152</td>\n",
       "      <td>0.594302</td>\n",
       "      <td>No</td>\n",
       "      <td>2021-04-21</td>\n",
       "      <td>NaN</td>\n",
       "      <td>NaN</td>\n",
       "    </tr>\n",
       "    <tr>\n",
       "      <th>4992</th>\n",
       "      <td>91320</td>\n",
       "      <td>Ventura</td>\n",
       "      <td>4.0</td>\n",
       "      <td>Healthy Places Index Score</td>\n",
       "      <td>35413.0</td>\n",
       "      <td>15020.0</td>\n",
       "      <td>7690.0</td>\n",
       "      <td>0.424138</td>\n",
       "      <td>0.217152</td>\n",
       "      <td>0.641290</td>\n",
       "      <td>No</td>\n",
       "      <td>2021-04-28</td>\n",
       "      <td>NaN</td>\n",
       "      <td>NaN</td>\n",
       "    </tr>\n",
       "    <tr>\n",
       "      <th>6688</th>\n",
       "      <td>91320</td>\n",
       "      <td>Ventura</td>\n",
       "      <td>4.0</td>\n",
       "      <td>Healthy Places Index Score</td>\n",
       "      <td>35413.0</td>\n",
       "      <td>16972.0</td>\n",
       "      <td>6816.0</td>\n",
       "      <td>0.479259</td>\n",
       "      <td>0.192472</td>\n",
       "      <td>0.671731</td>\n",
       "      <td>No</td>\n",
       "      <td>2021-05-05</td>\n",
       "      <td>Ventura</td>\n",
       "      <td>NaN</td>\n",
       "    </tr>\n",
       "    <tr>\n",
       "      <th>8384</th>\n",
       "      <td>91320</td>\n",
       "      <td>Ventura</td>\n",
       "      <td>4.0</td>\n",
       "      <td>Healthy Places Index Score</td>\n",
       "      <td>35413.0</td>\n",
       "      <td>18768.0</td>\n",
       "      <td>5824.0</td>\n",
       "      <td>0.529975</td>\n",
       "      <td>0.164459</td>\n",
       "      <td>0.694434</td>\n",
       "      <td>No</td>\n",
       "      <td>2021-05-12</td>\n",
       "      <td>Ventura</td>\n",
       "      <td>NaN</td>\n",
       "    </tr>\n",
       "    <tr>\n",
       "      <th>10087</th>\n",
       "      <td>91320</td>\n",
       "      <td>Ventura</td>\n",
       "      <td>4.0</td>\n",
       "      <td>Healthy Places Index Score</td>\n",
       "      <td>NaN</td>\n",
       "      <td>20246.0</td>\n",
       "      <td>5165.0</td>\n",
       "      <td>0.529767</td>\n",
       "      <td>0.135150</td>\n",
       "      <td>0.664917</td>\n",
       "      <td>No</td>\n",
       "      <td>2021-05-18</td>\n",
       "      <td>Ventura</td>\n",
       "      <td>38216.800781</td>\n",
       "    </tr>\n",
       "    <tr>\n",
       "      <th>11769</th>\n",
       "      <td>91320</td>\n",
       "      <td>Ventura</td>\n",
       "      <td>4.0</td>\n",
       "      <td>Healthy Places Index Score</td>\n",
       "      <td>NaN</td>\n",
       "      <td>21618.0</td>\n",
       "      <td>4773.0</td>\n",
       "      <td>0.565667</td>\n",
       "      <td>0.124893</td>\n",
       "      <td>0.690560</td>\n",
       "      <td>No</td>\n",
       "      <td>2021-05-25</td>\n",
       "      <td>Ventura</td>\n",
       "      <td>38216.800781</td>\n",
       "    </tr>\n",
       "    <tr>\n",
       "      <th>13469</th>\n",
       "      <td>91320</td>\n",
       "      <td>Ventura</td>\n",
       "      <td>4.0</td>\n",
       "      <td>Healthy Places Index Score</td>\n",
       "      <td>NaN</td>\n",
       "      <td>22315.0</td>\n",
       "      <td>4635.0</td>\n",
       "      <td>0.583906</td>\n",
       "      <td>0.121282</td>\n",
       "      <td>0.705187</td>\n",
       "      <td>No</td>\n",
       "      <td>2021-06-01</td>\n",
       "      <td>Ventura</td>\n",
       "      <td>38216.800781</td>\n",
       "    </tr>\n",
       "    <tr>\n",
       "      <th>15146</th>\n",
       "      <td>91320</td>\n",
       "      <td>Ventura</td>\n",
       "      <td>4.0</td>\n",
       "      <td>Healthy Places Index Score</td>\n",
       "      <td>NaN</td>\n",
       "      <td>22315.0</td>\n",
       "      <td>4635.0</td>\n",
       "      <td>0.583906</td>\n",
       "      <td>0.121282</td>\n",
       "      <td>0.705187</td>\n",
       "      <td>No</td>\n",
       "      <td>2021-06-02</td>\n",
       "      <td>Ventura</td>\n",
       "      <td>38216.800781</td>\n",
       "    </tr>\n",
       "  </tbody>\n",
       "</table>\n",
       "</div>"
      ],
      "text/plain": [
       "       Zip Code Tabulation Area Local Health Jurisdiction  \\\n",
       "1636                      91320                   Ventura   \n",
       "3325                      91320                   Ventura   \n",
       "4992                      91320                   Ventura   \n",
       "6688                      91320                   Ventura   \n",
       "8384                      91320                   Ventura   \n",
       "10087                     91320                   Ventura   \n",
       "11769                     91320                   Ventura   \n",
       "13469                     91320                   Ventura   \n",
       "15146                     91320                   Ventura   \n",
       "\n",
       "       Vaccine Equity Metric Quartile                  VEM Source  \\\n",
       "1636                              4.0  Healthy Places Index Score   \n",
       "3325                              4.0  Healthy Places Index Score   \n",
       "4992                              4.0  Healthy Places Index Score   \n",
       "6688                              4.0  Healthy Places Index Score   \n",
       "8384                              4.0  Healthy Places Index Score   \n",
       "10087                             4.0  Healthy Places Index Score   \n",
       "11769                             4.0  Healthy Places Index Score   \n",
       "13469                             4.0  Healthy Places Index Score   \n",
       "15146                             4.0  Healthy Places Index Score   \n",
       "\n",
       "       16+ Population  Persons Fully Vaccinated  Persons Partially Vaccinated  \\\n",
       "1636          35413.0                   13005.0                        7558.0   \n",
       "3325          35413.0                   13356.0                        7690.0   \n",
       "4992          35413.0                   15020.0                        7690.0   \n",
       "6688          35413.0                   16972.0                        6816.0   \n",
       "8384          35413.0                   18768.0                        5824.0   \n",
       "10087             NaN                   20246.0                        5165.0   \n",
       "11769             NaN                   21618.0                        4773.0   \n",
       "13469             NaN                   22315.0                        4635.0   \n",
       "15146             NaN                   22315.0                        4635.0   \n",
       "\n",
       "       Percent of Population Fully Vaccinated  \\\n",
       "1636                                 0.367238   \n",
       "3325                                 0.377150   \n",
       "4992                                 0.424138   \n",
       "6688                                 0.479259   \n",
       "8384                                 0.529975   \n",
       "10087                                0.529767   \n",
       "11769                                0.565667   \n",
       "13469                                0.583906   \n",
       "15146                                0.583906   \n",
       "\n",
       "       Percent of Population Partially Vaccinated  \\\n",
       "1636                                     0.213424   \n",
       "3325                                     0.217152   \n",
       "4992                                     0.217152   \n",
       "6688                                     0.192472   \n",
       "8384                                     0.164459   \n",
       "10087                                    0.135150   \n",
       "11769                                    0.124893   \n",
       "13469                                    0.121282   \n",
       "15146                                    0.121282   \n",
       "\n",
       "       Percent of Population with 1+ Dose Redacted       date   County  \\\n",
       "1636                             0.580662       No 2021-04-14      NaN   \n",
       "3325                             0.594302       No 2021-04-21      NaN   \n",
       "4992                             0.641290       No 2021-04-28      NaN   \n",
       "6688                             0.671731       No 2021-05-05  Ventura   \n",
       "8384                             0.694434       No 2021-05-12  Ventura   \n",
       "10087                            0.664917       No 2021-05-18  Ventura   \n",
       "11769                            0.690560       No 2021-05-25  Ventura   \n",
       "13469                            0.705187       No 2021-06-01  Ventura   \n",
       "15146                            0.705187       No 2021-06-02  Ventura   \n",
       "\n",
       "       12+ Population  \n",
       "1636              NaN  \n",
       "3325              NaN  \n",
       "4992              NaN  \n",
       "6688              NaN  \n",
       "8384              NaN  \n",
       "10087    38216.800781  \n",
       "11769    38216.800781  \n",
       "13469    38216.800781  \n",
       "15146    38216.800781  "
      ]
     },
     "execution_count": 127,
     "metadata": {},
     "output_type": "execute_result"
    }
   ],
   "source": [
    "concat_df[concat_df[\"Zip Code Tabulation Area\"] == 91320]"
   ]
  },
  {
   "cell_type": "markdown",
   "id": "handmade-girlfriend",
   "metadata": {},
   "source": [
    "---"
   ]
  },
  {
   "cell_type": "markdown",
   "id": "virgin-saying",
   "metadata": {},
   "source": [
    "## Export"
   ]
  },
  {
   "cell_type": "markdown",
   "id": "manual-vinyl",
   "metadata": {},
   "source": [
    "### All updates"
   ]
  },
  {
   "cell_type": "code",
   "execution_count": 125,
   "id": "prospective-association",
   "metadata": {},
   "outputs": [],
   "source": [
    "concat_df.to_csv(\"data/timeseries.csv\", index=False)"
   ]
  },
  {
   "cell_type": "markdown",
   "id": "median-empty",
   "metadata": {},
   "source": [
    "### Latest update"
   ]
  },
  {
   "cell_type": "code",
   "execution_count": 126,
   "id": "destroyed-address",
   "metadata": {},
   "outputs": [],
   "source": [
    "concat_df[concat_df[\"date\"] == concat_df[\"date\"].max()].to_csv(\n",
    "    \"data/latest.csv\", index=False\n",
    ")"
   ]
  }
 ],
 "metadata": {
  "kernelspec": {
   "display_name": "Python 3",
   "language": "python",
   "name": "python3"
  },
  "language_info": {
   "codemirror_mode": {
    "name": "ipython",
    "version": 3
   },
   "file_extension": ".py",
   "mimetype": "text/x-python",
   "name": "python",
   "nbconvert_exporter": "python",
   "pygments_lexer": "ipython3",
   "version": "3.8.7"
  }
 },
 "nbformat": 4,
 "nbformat_minor": 5
}
