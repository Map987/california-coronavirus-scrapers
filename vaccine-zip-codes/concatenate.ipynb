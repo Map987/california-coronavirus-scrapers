{
 "cells": [
  {
   "cell_type": "code",
   "execution_count": 28,
   "id": "friendly-finder",
   "metadata": {},
   "outputs": [],
   "source": [
    "import glob\n",
    "import os\n",
    "import json\n",
    "import pandas as pd"
   ]
  },
  {
   "cell_type": "markdown",
   "id": "frequent-feedback",
   "metadata": {},
   "source": [
    "Get all files"
   ]
  },
  {
   "cell_type": "code",
   "execution_count": 33,
   "id": "lasting-credits",
   "metadata": {},
   "outputs": [],
   "source": [
    "path = \"\"\n",
    "files = glob.glob(os.path.join(path, \"data/raw/*.csv\"))"
   ]
  },
  {
   "cell_type": "code",
   "execution_count": 34,
   "id": "secondary-impression",
   "metadata": {},
   "outputs": [],
   "source": [
    "file_df = (\n",
    "    pd.read_csv(f, low_memory=False, parse_dates=['date']) for f in files\n",
    ")"
   ]
  },
  {
   "cell_type": "markdown",
   "id": "changed-subject",
   "metadata": {},
   "source": [
    "Concatenate them into one timeseries"
   ]
  },
  {
   "cell_type": "code",
   "execution_count": 35,
   "id": "demanding-chrome",
   "metadata": {},
   "outputs": [],
   "source": [
    "df = pd.concat(\n",
    "    file_df,\n",
    "    ignore_index=True,\n",
    ")"
   ]
  },
  {
   "cell_type": "markdown",
   "id": "prostate-burning",
   "metadata": {},
   "source": [
    "Export"
   ]
  },
  {
   "cell_type": "code",
   "execution_count": 38,
   "id": "pacific-economics",
   "metadata": {},
   "outputs": [],
   "source": [
    "df.to_csv(\"data/timeseries.csv\", index=False)"
   ]
  }
 ],
 "metadata": {
  "kernelspec": {
   "display_name": "Python 3",
   "language": "python",
   "name": "python3"
  },
  "language_info": {
   "codemirror_mode": {
    "name": "ipython",
    "version": 3
   },
   "file_extension": ".py",
   "mimetype": "text/x-python",
   "name": "python",
   "nbconvert_exporter": "python",
   "pygments_lexer": "ipython3",
   "version": "3.8.2"
  }
 },
 "nbformat": 4,
 "nbformat_minor": 5
}
