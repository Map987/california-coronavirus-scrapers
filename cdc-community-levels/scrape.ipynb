{
 "cells": [
  {
   "cell_type": "markdown",
   "id": "b3b32319-343e-459f-82de-55ec5f13f880",
   "metadata": {},
   "source": [
    "## Configuration\n",
    "_Initial steps to get the notebook ready to play nice with our repository. Do not delete this section._"
   ]
  },
  {
   "cell_type": "markdown",
   "id": "c338b550-1134-4886-b742-e7ac70b5a139",
   "metadata": {},
   "source": [
    "Code formatting with [black](https://pypi.org/project/nb-black/)."
   ]
  },
  {
   "cell_type": "code",
   "execution_count": 1,
   "id": "aabfb0e7-4f60-4a66-9ab4-f0c7658b35ae",
   "metadata": {},
   "outputs": [],
   "source": [
    "%load_ext lab_black"
   ]
  },
  {
   "cell_type": "markdown",
   "id": "1ce98595-d278-4eb5-8e13-dff94050449a",
   "metadata": {},
   "source": [
    "Add our `utils` directory to the system's `$PATH` so we can import Python files from sibling directories."
   ]
  },
  {
   "cell_type": "code",
   "execution_count": 2,
   "id": "a2c0dfc7-9cfe-4602-9177-6fe5c5da941e",
   "metadata": {},
   "outputs": [],
   "source": [
    "import os\n",
    "import pathlib"
   ]
  },
  {
   "cell_type": "code",
   "execution_count": 3,
   "id": "0feb0fee-3e9a-494f-9c2d-7445e0dd8976",
   "metadata": {},
   "outputs": [],
   "source": [
    "this_dir = pathlib.Path(os.path.abspath(\"\"))"
   ]
  },
  {
   "cell_type": "code",
   "execution_count": 4,
   "id": "9e9003d7-e61c-43a0-9346-41068ab4af12",
   "metadata": {},
   "outputs": [],
   "source": [
    "data_dir = this_dir / \"data\""
   ]
  },
  {
   "cell_type": "code",
   "execution_count": 5,
   "id": "0dbd9385-9471-4aac-9911-c4d01cd26168",
   "metadata": {},
   "outputs": [],
   "source": [
    "import pytz\n",
    "import glob\n",
    "import requests\n",
    "import pandas as pd\n",
    "from slugify import slugify\n",
    "from datetime import datetime, date"
   ]
  },
  {
   "cell_type": "markdown",
   "id": "270c4b9d-90d1-4e6a-ae89-6049d7b071a1",
   "metadata": {},
   "source": [
    "## Download"
   ]
  },
  {
   "cell_type": "markdown",
   "id": "c4435fc8-4ad1-429d-932b-12fdb5342c41",
   "metadata": {},
   "source": [
    "Download [CDC's COVID-19 community levels by county dataset](https://data.cdc.gov/Public-Health-Surveillance/United-States-COVID-19-Community-Levels-by-County/3nnm-4jni)"
   ]
  },
  {
   "cell_type": "code",
   "execution_count": 6,
   "id": "30a1f0bb-17d6-48ad-89bd-6b6c30321457",
   "metadata": {},
   "outputs": [],
   "source": [
    "df = pd.read_csv(\n",
    "    \"https://data.cdc.gov/resource/3nnm-4jni.csv\", parse_dates=[\"date_updated\"]\n",
    ")"
   ]
  },
  {
   "cell_type": "markdown",
   "id": "5fa48f58-2eaf-444e-90d8-bee9f9d2b756",
   "metadata": {},
   "source": [
    "Filter to California"
   ]
  },
  {
   "cell_type": "code",
   "execution_count": 7,
   "id": "713911c0-3741-4db1-8220-ee205b970933",
   "metadata": {},
   "outputs": [],
   "source": [
    "ca = df[df.state == \"California\"]"
   ]
  },
  {
   "cell_type": "markdown",
   "id": "cd0d2307-4a64-493a-950b-cfc13a322a6e",
   "metadata": {},
   "source": [
    "Make sure we have all 58"
   ]
  },
  {
   "cell_type": "code",
   "execution_count": 9,
   "id": "ff4d22c1-8e73-49ac-b87f-a0b953d414fb",
   "metadata": {},
   "outputs": [],
   "source": [
    "try:\n",
    "    assert len(ca) == 58\n",
    "except AssertionError:\n",
    "    raise AssertionError(f\"Extra or missing counties\")"
   ]
  },
  {
   "cell_type": "markdown",
   "id": "8f241dc6-bd85-4e71-97c7-d5997c280a9f",
   "metadata": {},
   "source": [
    "### Export"
   ]
  },
  {
   "cell_type": "markdown",
   "id": "70cb2126-b417-4a54-940a-803d97aa9580",
   "metadata": {},
   "source": [
    "Mark the current date"
   ]
  },
  {
   "cell_type": "code",
   "execution_count": 10,
   "id": "ac8b90ac-f711-4ad5-a666-60ecc2407320",
   "metadata": {},
   "outputs": [],
   "source": [
    "tz = pytz.timezone(\"America/Los_Angeles\")"
   ]
  },
  {
   "cell_type": "code",
   "execution_count": 11,
   "id": "3cac8569-f2fd-423c-b080-dac60906ecf3",
   "metadata": {},
   "outputs": [],
   "source": [
    "today = datetime.now(tz).date()"
   ]
  },
  {
   "cell_type": "code",
   "execution_count": 14,
   "id": "3ddb4939-583f-437e-b344-a089552827b5",
   "metadata": {},
   "outputs": [],
   "source": [
    "ca.to_csv(os.path.join(data_dir, f\"latest.csv\"), index=False)"
   ]
  }
 ],
 "metadata": {
  "kernelspec": {
   "display_name": "Python 3 (ipykernel)",
   "language": "python",
   "name": "python3"
  },
  "language_info": {
   "codemirror_mode": {
    "name": "ipython",
    "version": 3
   },
   "file_extension": ".py",
   "mimetype": "text/x-python",
   "name": "python",
   "nbconvert_exporter": "python",
   "pygments_lexer": "ipython3",
   "version": "3.8.11"
  }
 },
 "nbformat": 4,
 "nbformat_minor": 5
}
