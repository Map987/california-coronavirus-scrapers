{
 "cells": [
  {
   "cell_type": "markdown",
   "id": "bf3e4af1-ad23-4718-adad-72df43661a15",
   "metadata": {},
   "source": [
    "Code formatting with [black](https://pypi.org/project/nb-black/)."
   ]
  },
  {
   "cell_type": "code",
   "execution_count": 260,
   "id": "a1623d59-5531-4ca9-8537-63b7250a3e90",
   "metadata": {},
   "outputs": [
    {
     "name": "stdout",
     "output_type": "stream",
     "text": [
      "The lab_black extension is already loaded. To reload it, use:\n",
      "  %reload_ext lab_black\n"
     ]
    }
   ],
   "source": [
    "%load_ext lab_black"
   ]
  },
  {
   "cell_type": "markdown",
   "id": "3cf9aadd-5186-4c34-bb31-fdf6341446ec",
   "metadata": {},
   "source": [
    "Add our `utils` directory to the system's `$PATH` so we can import Python files from sibling directories."
   ]
  },
  {
   "cell_type": "code",
   "execution_count": 261,
   "id": "be8aa223-07ae-480e-b187-633191be6b6c",
   "metadata": {},
   "outputs": [],
   "source": [
    "import os\n",
    "import sys\n",
    "import glob"
   ]
  },
  {
   "cell_type": "code",
   "execution_count": 262,
   "id": "80540c26-e118-44d1-8308-1ae60bcf87e5",
   "metadata": {},
   "outputs": [],
   "source": [
    "import requests\n",
    "import pandas as pd\n",
    "from bs4 import BeautifulSoup\n",
    "import regex as re"
   ]
  },
  {
   "cell_type": "code",
   "execution_count": 263,
   "id": "ee3bb64f-249d-4e26-b3ce-2bf178288c22",
   "metadata": {},
   "outputs": [],
   "source": [
    "data_dir = os.path.join(os.path.abspath(\"\"), \"data\")"
   ]
  },
  {
   "cell_type": "markdown",
   "id": "1fd49b91-6b8e-46a9-aa65-85a7094e844f",
   "metadata": {},
   "source": [
    "Retrieve the page"
   ]
  },
  {
   "cell_type": "code",
   "execution_count": 264,
   "id": "11875ade-4aa9-4e4e-8d09-8bf2d5c2df52",
   "metadata": {},
   "outputs": [],
   "source": [
    "url = \"https://www.cdph.ca.gov/Programs/CID/DCDC/Pages/COVID-19/Regional-ICU-Capacity.aspx\""
   ]
  },
  {
   "cell_type": "code",
   "execution_count": 265,
   "id": "f625fbe4-f092-46d3-a6d3-ff13b61d8e7d",
   "metadata": {},
   "outputs": [],
   "source": [
    "page = requests.get(url)"
   ]
  },
  {
   "cell_type": "markdown",
   "id": "6c9b3a3e-965a-42e3-a092-bc5ea53cf935",
   "metadata": {},
   "source": [
    "Parse it"
   ]
  },
  {
   "cell_type": "code",
   "execution_count": 266,
   "id": "228055ae-cad2-4104-86d3-859a34cb56de",
   "metadata": {},
   "outputs": [],
   "source": [
    "soup = BeautifulSoup(page.content, \"html.parser\")"
   ]
  },
  {
   "cell_type": "markdown",
   "id": "005553b5-d59a-4a53-b22c-3ad85032092f",
   "metadata": {},
   "source": [
    "Focus in on the content well."
   ]
  },
  {
   "cell_type": "code",
   "execution_count": 267,
   "id": "d94ad364-ad98-4448-b4d6-fee933b6252b",
   "metadata": {},
   "outputs": [],
   "source": [
    "content = soup.find(\"div\", {\"id\": \"s4-bodyContainer\"})"
   ]
  },
  {
   "cell_type": "markdown",
   "id": "6612388e-0e67-4ec2-8828-bdfa37ebe09b",
   "metadata": {},
   "source": [
    "Get the timestamp"
   ]
  },
  {
   "cell_type": "code",
   "execution_count": 268,
   "id": "fd24c71a-1e90-4ca9-897d-9e534edba022",
   "metadata": {},
   "outputs": [],
   "source": [
    "date_container = content.find(\"span\", {\"class\": \"article-date-title\"})"
   ]
  },
  {
   "cell_type": "code",
   "execution_count": 269,
   "id": "c5ee355a-33bc-4d45-bace-3fa219fdaf65",
   "metadata": {},
   "outputs": [],
   "source": [
    "latest_date = pd.to_datetime(date_container.text.strip()).date()"
   ]
  },
  {
   "cell_type": "code",
   "execution_count": 270,
   "id": "b034f128-e070-43a4-a413-f0dbd4234369",
   "metadata": {},
   "outputs": [
    {
     "data": {
      "text/plain": [
       "datetime.date(2021, 9, 6)"
      ]
     },
     "execution_count": 270,
     "metadata": {},
     "output_type": "execute_result"
    }
   ],
   "source": [
    "latest_date"
   ]
  },
  {
   "cell_type": "markdown",
   "id": "a8333d0f-4c0d-412b-981b-bfcd15689b64",
   "metadata": {},
   "source": [
    "Get table"
   ]
  },
  {
   "cell_type": "code",
   "execution_count": 271,
   "id": "b684b31b-555d-4054-8deb-13606c282b47",
   "metadata": {},
   "outputs": [],
   "source": [
    "table = content.find(\"table\", {\"class\": \"ms-rteTable-4\"})"
   ]
  },
  {
   "cell_type": "markdown",
   "id": "629cb446-92b1-48c5-b7ff-1e9b81c19473",
   "metadata": {},
   "source": [
    "Verify the table is there"
   ]
  },
  {
   "cell_type": "code",
   "execution_count": 272,
   "id": "d25b8611-672f-4fd4-9c23-0fc0634e97b2",
   "metadata": {},
   "outputs": [],
   "source": [
    "assert len(table) == 1"
   ]
  },
  {
   "cell_type": "markdown",
   "id": "8acc4298-09b4-4a6d-aaf8-0a765393a669",
   "metadata": {},
   "source": [
    "Read it in"
   ]
  },
  {
   "cell_type": "code",
   "execution_count": 273,
   "id": "996ced71-4744-4c13-bc44-d3c3810120f4",
   "metadata": {},
   "outputs": [],
   "source": [
    "table_headers = [\n",
    "    \"region\",\n",
    "    \"pct_icu_beds_available\",  # % of Staffed Adult ICU Beds Available\n",
    "    \"pct_covid_positive_patients\",  # % COVID+ in Adult ICU Beds\n",
    "    \"consecutive_days_under_10_pct\",  # Number of  Consecutive Days Under 10 %\n",
    "    \"health_order_effective_date\",  # Date Health Order Effective\n",
    "    \"health_order_expiration_date\",  # Date Health Order Set to Expire\n",
    "]"
   ]
  },
  {
   "cell_type": "code",
   "execution_count": 274,
   "id": "9928a86a-8000-4f57-ba69-2bb0df989973",
   "metadata": {},
   "outputs": [],
   "source": [
    "def safetxt(element):\n",
    "    v = element.text.strip()\n",
    "    v = v.replace(\"\\u200b\", \"\")\n",
    "    return v"
   ]
  },
  {
   "cell_type": "code",
   "execution_count": 275,
   "id": "22edde49-b57d-4712-bf95-41d6f4509d5b",
   "metadata": {},
   "outputs": [],
   "source": [
    "def safenumber(element):\n",
    "    v = safetxt(element)\n",
    "    v = v.replace(\",\", \"\")\n",
    "    v = v.replace(\" \", \"\")\n",
    "    return v"
   ]
  },
  {
   "cell_type": "code",
   "execution_count": 276,
   "id": "2f050861-76a7-4e4b-abc7-109d656719bc",
   "metadata": {},
   "outputs": [],
   "source": [
    "df = parse_table(table)"
   ]
  },
  {
   "cell_type": "markdown",
   "id": "f7601641-5bf5-48f2-972b-8388cbf80767",
   "metadata": {},
   "source": [
    "Clean up missing values"
   ]
  },
  {
   "cell_type": "code",
   "execution_count": 277,
   "id": "4d3a8926-be4f-4bcb-8e0f-5bdd94e18626",
   "metadata": {},
   "outputs": [],
   "source": [
    "df[\"health_order_effective_date\"] = pd.to_datetime(\n",
    "    df[\"health_order_effective_date\"], errors=\"coerce\"\n",
    ")"
   ]
  },
  {
   "cell_type": "code",
   "execution_count": 278,
   "id": "859c89c2-d011-405e-bed6-4a640ceaea6d",
   "metadata": {},
   "outputs": [],
   "source": [
    "df[\"health_order_expiration_date\"] = pd.to_datetime(\n",
    "    df[\"health_order_expiration_date\"], errors=\"coerce\"\n",
    ")"
   ]
  },
  {
   "cell_type": "code",
   "execution_count": 279,
   "id": "818cf2be-8a73-4eff-98b9-ad4a3e235d4a",
   "metadata": {},
   "outputs": [],
   "source": [
    "df[\"consecutive_days_under_10_pct\"] = df[\"consecutive_days_under_10_pct\"].replace(\n",
    "    \"--\", \"0\"\n",
    ")"
   ]
  },
  {
   "cell_type": "code",
   "execution_count": 280,
   "id": "adea1191-27e9-4421-97e7-96a4a227b49b",
   "metadata": {},
   "outputs": [
    {
     "data": {
      "text/html": [
       "<div>\n",
       "<style scoped>\n",
       "    .dataframe tbody tr th:only-of-type {\n",
       "        vertical-align: middle;\n",
       "    }\n",
       "\n",
       "    .dataframe tbody tr th {\n",
       "        vertical-align: top;\n",
       "    }\n",
       "\n",
       "    .dataframe thead th {\n",
       "        text-align: right;\n",
       "    }\n",
       "</style>\n",
       "<table border=\"1\" class=\"dataframe\">\n",
       "  <thead>\n",
       "    <tr style=\"text-align: right;\">\n",
       "      <th></th>\n",
       "      <th>region</th>\n",
       "      <th>pct_icu_beds_available</th>\n",
       "      <th>pct_covid_positive_patients</th>\n",
       "      <th>consecutive_days_under_10_pct</th>\n",
       "      <th>health_order_effective_date</th>\n",
       "      <th>health_order_expiration_date</th>\n",
       "      <th>date</th>\n",
       "    </tr>\n",
       "  </thead>\n",
       "  <tbody>\n",
       "    <tr>\n",
       "      <th>0</th>\n",
       "      <td>California Statewide</td>\n",
       "      <td>20.3</td>\n",
       "      <td>36.7</td>\n",
       "      <td>0</td>\n",
       "      <td>NaT</td>\n",
       "      <td>NaT</td>\n",
       "      <td>2021-09-06</td>\n",
       "    </tr>\n",
       "    <tr>\n",
       "      <th>1</th>\n",
       "      <td>Bay Area</td>\n",
       "      <td>24.6</td>\n",
       "      <td>31.4</td>\n",
       "      <td>0</td>\n",
       "      <td>NaT</td>\n",
       "      <td>NaT</td>\n",
       "      <td>2021-09-06</td>\n",
       "    </tr>\n",
       "    <tr>\n",
       "      <th>2</th>\n",
       "      <td>Greater Sacramento</td>\n",
       "      <td>14.8</td>\n",
       "      <td>43.2</td>\n",
       "      <td>0</td>\n",
       "      <td>NaT</td>\n",
       "      <td>NaT</td>\n",
       "      <td>2021-09-06</td>\n",
       "    </tr>\n",
       "    <tr>\n",
       "      <th>3</th>\n",
       "      <td>Northern California</td>\n",
       "      <td>19.7</td>\n",
       "      <td>54.7</td>\n",
       "      <td>0</td>\n",
       "      <td>NaT</td>\n",
       "      <td>NaT</td>\n",
       "      <td>2021-09-06</td>\n",
       "    </tr>\n",
       "    <tr>\n",
       "      <th>4</th>\n",
       "      <td>San Joaquin Valley</td>\n",
       "      <td>8.4</td>\n",
       "      <td>52.7</td>\n",
       "      <td>7</td>\n",
       "      <td>2021-09-03</td>\n",
       "      <td>2021-09-09</td>\n",
       "      <td>2021-09-06</td>\n",
       "    </tr>\n",
       "    <tr>\n",
       "      <th>5</th>\n",
       "      <td>Southern California</td>\n",
       "      <td>21.8</td>\n",
       "      <td>33.4</td>\n",
       "      <td>0</td>\n",
       "      <td>NaT</td>\n",
       "      <td>NaT</td>\n",
       "      <td>2021-09-06</td>\n",
       "    </tr>\n",
       "  </tbody>\n",
       "</table>\n",
       "</div>"
      ],
      "text/plain": [
       "                 region pct_icu_beds_available pct_covid_positive_patients  \\\n",
       "0  California Statewide                   20.3                        36.7   \n",
       "1              Bay Area                   24.6                        31.4   \n",
       "2    Greater Sacramento                   14.8                        43.2   \n",
       "3   Northern California                   19.7                        54.7   \n",
       "4    San Joaquin Valley                    8.4                        52.7   \n",
       "5   Southern California                   21.8                        33.4   \n",
       "\n",
       "  consecutive_days_under_10_pct health_order_effective_date  \\\n",
       "0                             0                         NaT   \n",
       "1                             0                         NaT   \n",
       "2                             0                         NaT   \n",
       "3                             0                         NaT   \n",
       "4                             7                  2021-09-03   \n",
       "5                             0                         NaT   \n",
       "\n",
       "  health_order_expiration_date        date  \n",
       "0                          NaT  2021-09-06  \n",
       "1                          NaT  2021-09-06  \n",
       "2                          NaT  2021-09-06  \n",
       "3                          NaT  2021-09-06  \n",
       "4                   2021-09-09  2021-09-06  \n",
       "5                          NaT  2021-09-06  "
      ]
     },
     "execution_count": 280,
     "metadata": {},
     "output_type": "execute_result"
    }
   ],
   "source": [
    "df"
   ]
  },
  {
   "cell_type": "markdown",
   "id": "6128eaff-b266-4cea-b385-a7973708f573",
   "metadata": {},
   "source": [
    "Verify that all the values can be converted to floats"
   ]
  },
  {
   "cell_type": "code",
   "execution_count": 281,
   "id": "f33e75d9-131f-4c37-9dc2-e24e1ac9bfec",
   "metadata": {},
   "outputs": [],
   "source": [
    "try:\n",
    "    df.set_index(\n",
    "        [\n",
    "            \"date\",\n",
    "            \"health_order_effective_date\",\n",
    "            \"health_order_expiration_date\",\n",
    "            \"region\",\n",
    "        ]\n",
    "    ).astype(float)\n",
    "except Exception as e:\n",
    "    raise AssertionError(e)"
   ]
  },
  {
   "cell_type": "markdown",
   "id": "e9807fba-9ce1-41ed-8207-a7f999f7f190",
   "metadata": {},
   "source": [
    "Write it out"
   ]
  },
  {
   "cell_type": "code",
   "execution_count": 282,
   "id": "6e19d87d-aecc-412f-a51a-a3e5828157a7",
   "metadata": {},
   "outputs": [],
   "source": [
    "df.to_csv(\n",
    "    os.path.join(data_dir, f\"daily/icu-capacity-{latest_date}.csv\"),\n",
    "    index=False,\n",
    ")"
   ]
  },
  {
   "cell_type": "markdown",
   "id": "170e8392-e006-47ae-9a12-f10a6a43f04c",
   "metadata": {},
   "source": [
    "### Concatenate"
   ]
  },
  {
   "cell_type": "markdown",
   "id": "ea104894-a2d2-445b-a794-6655e995c426",
   "metadata": {},
   "source": [
    "Combine all scraped tables into one timeseries"
   ]
  },
  {
   "cell_type": "code",
   "execution_count": 283,
   "id": "71895541-300f-45ec-9558-608596b20f80",
   "metadata": {},
   "outputs": [],
   "source": [
    "path = \"\"\n",
    "files = glob.glob(os.path.join(path, \"data/daily/*.csv\"))"
   ]
  },
  {
   "cell_type": "code",
   "execution_count": 284,
   "id": "42854673-ebd5-4e84-ad3c-3cd5b2854e50",
   "metadata": {},
   "outputs": [],
   "source": [
    "file_df = (\n",
    "    pd.read_csv(\n",
    "        f,\n",
    "        low_memory=False,\n",
    "        parse_dates=[\n",
    "            \"date\",\n",
    "            \"health_order_effective_date\",\n",
    "            \"health_order_expiration_date\",\n",
    "        ],\n",
    "    )\n",
    "    for f in files\n",
    ")"
   ]
  },
  {
   "cell_type": "code",
   "execution_count": 285,
   "id": "82faaef2-c4ec-4ff7-a80c-fc93077c7f0a",
   "metadata": {},
   "outputs": [],
   "source": [
    "concat_df = pd.concat(\n",
    "    file_df,\n",
    "    ignore_index=True,\n",
    ")"
   ]
  },
  {
   "cell_type": "code",
   "execution_count": 286,
   "id": "d1903db9-1871-4a92-964c-8936d1e96ace",
   "metadata": {},
   "outputs": [],
   "source": [
    "sort_df = concat_df.sort_values([\"date\", \"region\"])"
   ]
  },
  {
   "cell_type": "code",
   "execution_count": 287,
   "id": "d84e2948-8b51-4a66-a82d-c565f8b401c9",
   "metadata": {},
   "outputs": [],
   "source": [
    "sort_df.to_csv(\"data/all/all.csv\", index=False)"
   ]
  }
 ],
 "metadata": {
  "kernelspec": {
   "display_name": "Python 3 (ipykernel)",
   "language": "python",
   "name": "python3"
  },
  "language_info": {
   "codemirror_mode": {
    "name": "ipython",
    "version": 3
   },
   "file_extension": ".py",
   "mimetype": "text/x-python",
   "name": "python",
   "nbconvert_exporter": "python",
   "pygments_lexer": "ipython3",
   "version": "3.8.11"
  }
 },
 "nbformat": 4,
 "nbformat_minor": 5
}
