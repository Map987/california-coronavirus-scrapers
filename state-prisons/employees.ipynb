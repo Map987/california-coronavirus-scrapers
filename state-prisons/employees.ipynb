{
 "cells": [
  {
   "cell_type": "markdown",
   "id": "4cc5dde0-ae77-4253-9917-db64fda13ac0",
   "metadata": {},
   "source": [
    "## Configuration\n",
    "_Initial steps to get the notebook ready to play nice with our repository. Do not delete this section._"
   ]
  },
  {
   "cell_type": "markdown",
   "id": "4777ced9-88ce-4949-babc-b9e325dfa1e2",
   "metadata": {},
   "source": [
    "Code formatting with [black](https://pypi.org/project/nb-black/)."
   ]
  },
  {
   "cell_type": "code",
   "execution_count": 138,
   "id": "161da925-c825-4014-8c96-4877fd6b1e19",
   "metadata": {},
   "outputs": [
    {
     "name": "stdout",
     "output_type": "stream",
     "text": [
      "The lab_black extension is already loaded. To reload it, use:\n",
      "  %reload_ext lab_black\n"
     ]
    }
   ],
   "source": [
    ""
   ]
  },
  {
   "cell_type": "markdown",
   "id": "c5e5f4a8-afac-457f-8aeb-ace6415ba8b5",
   "metadata": {},
   "source": [
    "Add our `utils` directory to the system's `$PATH` so we can import Python files from sibling directories."
   ]
  },
  {
   "cell_type": "code",
   "execution_count": 139,
   "id": "ba7c8715-3edd-4caf-8934-bffcb95185ed",
   "metadata": {},
   "outputs": [],
   "source": [
    "import os\n",
    "import pathlib"
   ]
  },
  {
   "cell_type": "code",
   "execution_count": 140,
   "id": "a42b6793-8513-43d5-8d70-fb9e03053285",
   "metadata": {},
   "outputs": [],
   "source": [
    "this_dir = pathlib.Path(os.path.abspath(\"\"))"
   ]
  },
  {
   "cell_type": "code",
   "execution_count": 141,
   "id": "4ba7e2e7-33a0-4a12-8427-f45179044c2e",
   "metadata": {},
   "outputs": [],
   "source": [
    "data_dir = this_dir / \"data\""
   ]
  },
  {
   "cell_type": "code",
   "execution_count": 142,
   "id": "05e39983-6099-4ce9-bcd1-d407a68b4b52",
   "metadata": {},
   "outputs": [],
   "source": [
    "import os\n",
    "import glob\n",
    "import requests\n",
    "import pandas as pd\n",
    "from bs4 import BeautifulSoup\n",
    "import regex as re"
   ]
  },
  {
   "cell_type": "markdown",
   "id": "3b7d45e8-17c9-4b51-8442-6028fc9a1b18",
   "metadata": {},
   "source": [
    "Retrieve the page"
   ]
  },
  {
   "cell_type": "code",
   "execution_count": 143,
   "id": "3b6e7aa6-d00f-456c-88e6-ceb4feff9337",
   "metadata": {},
   "outputs": [],
   "source": [
    "url = \"https://www.cdcr.ca.gov/covid19/cdcr-cchcs-covid-19-status/\""
   ]
  },
  {
   "cell_type": "code",
   "execution_count": 144,
   "id": "76b1f3d5-a611-45df-a04a-7700f79b1509",
   "metadata": {},
   "outputs": [],
   "source": [
    "page = requests.get(url)"
   ]
  },
  {
   "cell_type": "markdown",
   "id": "2b5e1742-29f7-4bd0-abd4-3251c18e69c9",
   "metadata": {},
   "source": [
    "Parse it."
   ]
  },
  {
   "cell_type": "code",
   "execution_count": 145,
   "id": "b4fc83a9-3016-4b25-a709-7b4ad00639a6",
   "metadata": {},
   "outputs": [],
   "source": [
    "soup = BeautifulSoup(page.content, \"html.parser\")"
   ]
  },
  {
   "cell_type": "markdown",
   "id": "63acfd6f-eb4e-4136-b30d-045b3a4640e0",
   "metadata": {},
   "source": [
    "Focus in on the content well."
   ]
  },
  {
   "cell_type": "code",
   "execution_count": 146,
   "id": "997534c6-5f1f-46b9-9623-6dc43b538d44",
   "metadata": {},
   "outputs": [],
   "source": [
    "content = soup.find(\"div\", {\"class\": \"page-standard__content\"})"
   ]
  },
  {
   "cell_type": "markdown",
   "id": "4ffbea58-0559-4819-972a-734071b8fe29",
   "metadata": {},
   "source": [
    "### Get the timestamp"
   ]
  },
  {
   "cell_type": "code",
   "execution_count": 147,
   "id": "3ea0d5c4-c648-4e78-91b2-698702f597f8",
   "metadata": {},
   "outputs": [],
   "source": [
    "update_date_string = content.find(\"p\", text=re.compile(\"Updated as of \")).text"
   ]
  },
  {
   "cell_type": "code",
   "execution_count": 148,
   "id": "ac117425-8ea2-4cb7-a389-e9de359211c0",
   "metadata": {},
   "outputs": [],
   "source": [
    "update_date_string_trim = update_date_string.replace(\"Updated as of \", \"\").split(\" (\")[\n",
    "    0\n",
    "]"
   ]
  },
  {
   "cell_type": "code",
   "execution_count": 149,
   "id": "f2a732b0-6e65-471d-b633-d5896bcc381d",
   "metadata": {},
   "outputs": [],
   "source": [
    "latest_date = pd.to_datetime(update_date_string_trim).date()"
   ]
  },
  {
   "cell_type": "markdown",
   "id": "aac4b294-78df-43d8-ae5b-85e8c82a89ca",
   "metadata": {},
   "source": [
    "### Get table of employee cases"
   ]
  },
  {
   "cell_type": "code",
   "execution_count": 150,
   "id": "1d9268a2-efcb-4f13-b813-db4ceded6765",
   "metadata": {},
   "outputs": [],
   "source": [
    "table_container = content.find(\"figure\", {\"class\": \"wp-block-table\"})"
   ]
  },
  {
   "cell_type": "code",
   "execution_count": 151,
   "id": "13f84eb1-9ff7-488c-9a69-7b50fe8afe9a",
   "metadata": {},
   "outputs": [],
   "source": [
    "table = table_container.find(\"table\")"
   ]
  },
  {
   "cell_type": "code",
   "execution_count": 152,
   "id": "86f8cacb-d7d7-423e-86a2-c4d17147eff2",
   "metadata": {},
   "outputs": [],
   "source": [
    "def safetxt(element):\n",
    "    v = element.text.strip()\n",
    "    v = v.replace(\"\\u200b\", \"\")\n",
    "    return v"
   ]
  },
  {
   "cell_type": "code",
   "execution_count": 153,
   "id": "9dee9df3-db1e-48fa-a24e-4d3a02fbdcc0",
   "metadata": {},
   "outputs": [],
   "source": [
    "def safenumber(element):\n",
    "    v = safetxt(element)\n",
    "    v = v.replace(\",\", \"\")\n",
    "    v = v.replace(\" \", \"\")\n",
    "    return v"
   ]
  },
  {
   "cell_type": "code",
   "execution_count": 154,
   "id": "5554d2ce-c46f-49ba-a57a-87650338c416",
   "metadata": {},
   "outputs": [],
   "source": [
    "def parse_table(soup):\n",
    "    tbody = soup.tbody\n",
    "    row_list = tbody.find_all(\"tr\")[1:]\n",
    "    dict_list = []\n",
    "    for row in row_list:\n",
    "        cell_list = row.find_all(\"td\")\n",
    "        d = dict(\n",
    "            institution_name=safetxt(cell_list[0]),\n",
    "            confirmed_cases=safenumber(cell_list[1]),\n",
    "            staff_returned_to_work=safenumber(cell_list[2]),\n",
    "            active_cases=safenumber(cell_list[3]),\n",
    "            new_confirmed_cases_14_day_total=safenumber(cell_list[4]),\n",
    "        )\n",
    "        dict_list.append(d)\n",
    "    df = pd.DataFrame(dict_list)\n",
    "    df[\"update_date\"] = latest_date\n",
    "    return df"
   ]
  },
  {
   "cell_type": "code",
   "execution_count": 155,
   "id": "be01ce34-65a7-4e43-9735-c14eb933a983",
   "metadata": {},
   "outputs": [],
   "source": [
    "df = parse_table(table)"
   ]
  },
  {
   "cell_type": "markdown",
   "id": "22d59678-1659-4480-9bd7-e9584b2fe9e0",
   "metadata": {},
   "source": [
    "Read the timeseries CSV in and append the latest scrape"
   ]
  },
  {
   "cell_type": "code",
   "execution_count": 156,
   "id": "33d137d6-142e-4bd6-8d4d-31fb62511c8f",
   "metadata": {},
   "outputs": [],
   "source": [
    "employee_timeseries = pd.read_csv(data_dir / \"employees/employee-cases.csv\")"
   ]
  },
  {
   "cell_type": "code",
   "execution_count": 157,
   "id": "7824abfc-659c-427d-a7cb-17b9653b51c2",
   "metadata": {},
   "outputs": [],
   "source": [
    "e_timeseries = df.copy()"
   ]
  },
  {
   "cell_type": "code",
   "execution_count": 158,
   "id": "081fec1f-4ec7-46f9-b165-5ace3c696a9d",
   "metadata": {},
   "outputs": [],
   "source": [
    "e_timeseries[\"update_date\"] = latest_date"
   ]
  },
  {
   "cell_type": "code",
   "execution_count": 159,
   "id": "6c6262d0-5482-4ed1-8f9b-6a60f5fe6c0a",
   "metadata": {},
   "outputs": [],
   "source": [
    "if e_timeseries[\"update_date\"].unique() in df[\"update_date\"].unique():\n",
    "    pass\n",
    "else:\n",
    "    employee_timeseries = pd.concat([employee_timeseries, e_timeseries])"
   ]
  },
  {
   "cell_type": "markdown",
   "id": "18f94e0d-daec-41c6-8aa7-c8fa898a83f3",
   "metadata": {},
   "source": [
    "### Get list of employee deaths"
   ]
  },
  {
   "cell_type": "code",
   "execution_count": 160,
   "id": "b2aaec9c-17b2-4ca3-8b46-10df9cfa2057",
   "metadata": {},
   "outputs": [],
   "source": [
    "deaths_ol = content.find(\"ol\")"
   ]
  },
  {
   "cell_type": "code",
   "execution_count": 161,
   "id": "f27cf5be-6860-4f25-a2b3-a2cc1f581c81",
   "metadata": {},
   "outputs": [],
   "source": [
    "raw_deaths_list = []\n",
    "for li in deaths_ol:\n",
    "    list_item_text = li.text\n",
    "    raw_deaths_list.append(list_item_text)"
   ]
  },
  {
   "cell_type": "code",
   "execution_count": 162,
   "id": "e33076e8-8ed5-4454-b88c-99725367e830",
   "metadata": {},
   "outputs": [],
   "source": [
    "deaths_df = pd.DataFrame(raw_deaths_list)"
   ]
  },
  {
   "cell_type": "markdown",
   "id": "9669bfe3-7d6b-4ca8-afce-31dab5f2c044",
   "metadata": {},
   "source": [
    "## Export"
   ]
  },
  {
   "cell_type": "markdown",
   "id": "8a1b6e3d-1efb-46dc-bea7-8d80fc06f641",
   "metadata": {},
   "source": [
    "Employee cases"
   ]
  },
  {
   "cell_type": "code",
   "execution_count": 163,
   "id": "07ef8bd0-052d-4fd9-b39d-b3333c7c3dc5",
   "metadata": {},
   "outputs": [],
   "source": [
    "employee_timeseries.to_csv(data_dir / \"employees/employee-cases.csv\", index=False)"
   ]
  },
  {
   "cell_type": "markdown",
   "id": "bb3cf936-56ba-48cf-8846-9177ab8f2c8a",
   "metadata": {},
   "source": [
    "Employee death list "
   ]
  },
  {
   "cell_type": "code",
   "execution_count": 164,
   "id": "68adf2fc-ef11-4281-9f53-ec66569e3278",
   "metadata": {},
   "outputs": [],
   "source": [
    "deaths_df.to_csv(data_dir / \"employees/employee-deaths.csv\", index=False)"
   ]
  }
 ],
 "metadata": {
  "kernelspec": {
   "display_name": "Python 3 (ipykernel)",
   "language": "python",
   "name": "python3"
  },
  "language_info": {
   "codemirror_mode": {
    "name": "ipython",
    "version": 3
   },
   "file_extension": ".py",
   "mimetype": "text/x-python",
   "name": "python",
   "nbconvert_exporter": "python",
   "pygments_lexer": "ipython3",
   "version": "3.8.11"
  }
 },
 "nbformat": 4,
 "nbformat_minor": 5
}
