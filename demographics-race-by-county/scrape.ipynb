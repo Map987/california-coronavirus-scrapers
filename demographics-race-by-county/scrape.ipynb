{
 "cells": [
  {
   "cell_type": "markdown",
   "metadata": {},
   "source": [
    "## Configuration\n",
    "_Initial steps to get the notebook ready to play nice with our repository. Do not delete this section._"
   ]
  },
  {
   "cell_type": "markdown",
   "metadata": {},
   "source": [
    "Code formatting with [black](https://pypi.org/project/nb-black/)."
   ]
  },
  {
   "cell_type": "code",
   "execution_count": 1,
   "metadata": {},
   "outputs": [],
   "source": [
    "%load_ext lab_black"
   ]
  },
  {
   "cell_type": "code",
   "execution_count": 14,
   "metadata": {},
   "outputs": [],
   "source": [
    "import os\n",
    "import glob\n",
    "import time\n",
    "import requests\n",
    "import pandas as pd\n",
    "from datetime import datetime\n",
    "from dateutil import tz\n",
    "from bs4 import BeautifulSoup"
   ]
  },
  {
   "cell_type": "code",
   "execution_count": 15,
   "metadata": {},
   "outputs": [],
   "source": [
    "data_dir = os.path.join(os.path.abspath(\"\"), \"data\")"
   ]
  },
  {
   "cell_type": "markdown",
   "metadata": {},
   "source": [
    "## County Names"
   ]
  },
  {
   "cell_type": "code",
   "execution_count": 4,
   "metadata": {},
   "outputs": [],
   "source": [
    "countyNames = [\n",
    "    \"california\",\n",
    "    \"losangeles\",\n",
    "    \"orange\",\n",
    "    \"ventura\",\n",
    "    \"sanbernardino\",\n",
    "    \"riverside\",\n",
    "    \"sandiego\",\n",
    "    \"imperial\",\n",
    "    \"inyo\",\n",
    "    \"santabarbara\",\n",
    "    \"tulare\",\n",
    "    \"kings\",\n",
    "    \"kern\",\n",
    "    \"fresno\",\n",
    "    \"sanluisobispo\",\n",
    "    \"monterey\",\n",
    "    \"mono\",\n",
    "    \"madera\",\n",
    "    \"merced\",\n",
    "    \"mariposa\",\n",
    "    \"sanmateo\",\n",
    "    \"santaclara\",\n",
    "    \"sanfrancisco\",\n",
    "    \"sacramento\",\n",
    "    \"alameda\",\n",
    "    \"napa\",\n",
    "    \"contracosta\",\n",
    "    \"solano\",\n",
    "    \"marin\",\n",
    "    \"sonoma\",\n",
    "    \"santacruz\",\n",
    "    \"sanbenito\",\n",
    "    \"sanjoaquin\",\n",
    "    \"calaveras\",\n",
    "    \"tuolumne\",\n",
    "    \"stanislaus\",\n",
    "    \"mendocino\",\n",
    "    \"lake\",\n",
    "    \"humboldt\",\n",
    "    \"trinity\",\n",
    "    \"delnorte\",\n",
    "    \"siskiyou\",\n",
    "    \"amador\",\n",
    "    \"placer\",\n",
    "    \"yolo\",\n",
    "    \"eldorado\",\n",
    "    \"alpine\",\n",
    "    \"sutter\",\n",
    "    \"yuba\",\n",
    "    \"nevada\",\n",
    "    \"sierra\",\n",
    "    \"colusa\",\n",
    "    \"glenn\",\n",
    "    \"butte\",\n",
    "    \"plumas\",\n",
    "    \"shasta\",\n",
    "    \"modoc\",\n",
    "    \"lassen\",\n",
    "    \"tehama\",\n",
    "]"
   ]
  },
  {
   "cell_type": "markdown",
   "metadata": {},
   "source": [
    "## Function to loop through each county to get the data"
   ]
  },
  {
   "cell_type": "code",
   "execution_count": 5,
   "metadata": {},
   "outputs": [],
   "source": [
    "data = []\n",
    "tempData = {}\n",
    "\n",
    "\n",
    "def getData(i, verbose=False):\n",
    "    url = f\"https://files.covid19.ca.gov/data/reviewed/equitydash/cumulative-{i}.json\"\n",
    "    if verbose:\n",
    "        print(url)\n",
    "    headers = {\n",
    "        \"User-Agent\": \"Mozilla/5.0 (Macintosh; Intel Mac OS X 10_10_1) AppleWebKit/537.36 (KHTML, like Gecko) Chrome/39.0.2171.95 Safari/537.36\"\n",
    "    }\n",
    "    request = requests.get(url, headers=headers)\n",
    "    tempData = request.json()\n",
    "    for item in tempData:\n",
    "        data.append(item)"
   ]
  },
  {
   "cell_type": "code",
   "execution_count": 6,
   "metadata": {},
   "outputs": [],
   "source": [
    "for name in countyNames:\n",
    "    getData(name)\n",
    "    time.sleep(0.3)"
   ]
  },
  {
   "cell_type": "markdown",
   "metadata": {},
   "source": [
    "## Get into DataFrame"
   ]
  },
  {
   "cell_type": "code",
   "execution_count": 7,
   "metadata": {},
   "outputs": [],
   "source": [
    "df = pd.DataFrame.from_dict(data).fillna(0)"
   ]
  },
  {
   "cell_type": "code",
   "execution_count": 8,
   "metadata": {},
   "outputs": [],
   "source": [
    "try:\n",
    "    assert df.shape[0] == 1593\n",
    "except:\n",
    "    console.log(\"Irregular number of rows\")"
   ]
  },
  {
   "cell_type": "markdown",
   "metadata": {},
   "source": [
    "## Get Last Modified Date"
   ]
  },
  {
   "cell_type": "code",
   "execution_count": 9,
   "metadata": {},
   "outputs": [],
   "source": [
    "url = (\n",
    "    f\"https://files.covid19.ca.gov/data/reviewed/equitydash/cumulative-california.json\"\n",
    ")\n",
    "headers = {\n",
    "    \"User-Agent\": \"Mozilla/5.0 (Macintosh; Intel Mac OS X 10_10_1) AppleWebKit/537.36 (KHTML, like Gecko) Chrome/39.0.2171.95 Safari/537.36\"\n",
    "}\n",
    "request = requests.get(url, headers=headers)\n",
    "\n",
    "date_raw = request.headers.get(\"Last-Modified\")\n",
    "objDate = datetime.strptime(date_raw, \"%a, %d %b %Y %H:%M:%S GMT\")"
   ]
  },
  {
   "cell_type": "markdown",
   "metadata": {},
   "source": [
    "## Convert from UTC to PST"
   ]
  },
  {
   "cell_type": "code",
   "execution_count": 10,
   "metadata": {},
   "outputs": [],
   "source": [
    "from_zone = tz.gettz(\"GMT\")\n",
    "to_zone = tz.gettz(\"US/Pacific\")\n",
    "date_raw = objDate.replace(tzinfo=from_zone)\n",
    "date = date_raw.astimezone(to_zone)"
   ]
  },
  {
   "cell_type": "markdown",
   "metadata": {},
   "source": [
    "## Format Date"
   ]
  },
  {
   "cell_type": "code",
   "execution_count": 11,
   "metadata": {},
   "outputs": [],
   "source": [
    "date = date.strftime(\"%Y-%m-%d\")"
   ]
  },
  {
   "cell_type": "markdown",
   "metadata": {},
   "source": [
    "## Write to CSV"
   ]
  },
  {
   "cell_type": "code",
   "execution_count": 12,
   "metadata": {},
   "outputs": [],
   "source": [
    "df.to_csv(os.path.join(data_dir, f\"cdph-equity-{date}.csv\"), index=False)"
   ]
  },
  {
   "cell_type": "code",
   "execution_count": 38,
   "metadata": {},
   "outputs": [],
   "source": [
    "df_list = []\n",
    "for p in [i for i in glob.glob(data_dir + \"/*.csv\") if not str(i).endswith(\"timeseries.csv\")]:\n",
    "    s = p[-14:-4]\n",
    "    d = pd.to_datetime(s)\n",
    "    df = pd.read_csv(p)\n",
    "    df['date'] = d\n",
    "    df_list.append(df)"
   ]
  },
  {
   "cell_type": "code",
   "execution_count": 39,
   "metadata": {},
   "outputs": [],
   "source": [
    "big_df = pd.concat(df_list)"
   ]
  },
  {
   "cell_type": "code",
   "execution_count": 41,
   "metadata": {},
   "outputs": [],
   "source": [
    "big_df.to_csv(os.path.join(data_dir, \"timeseries.csv\"), index=False)"
   ]
  }
 ],
 "metadata": {
  "kernelspec": {
   "display_name": "Python 3",
   "language": "python",
   "name": "python3"
  },
  "language_info": {
   "codemirror_mode": {
    "name": "ipython",
    "version": 3
   },
   "file_extension": ".py",
   "mimetype": "text/x-python",
   "name": "python",
   "nbconvert_exporter": "python",
   "pygments_lexer": "ipython3",
   "version": "3.8.8"
  }
 },
 "nbformat": 4,
 "nbformat_minor": 4
}
