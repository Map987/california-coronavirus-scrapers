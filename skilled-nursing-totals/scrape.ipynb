{
 "cells": [
  {
   "cell_type": "code",
   "execution_count": 1,
   "id": "21ace1e5-e7fd-44d6-888b-f14304c48e04",
   "metadata": {},
   "outputs": [],
   "source": [
    "%load_ext lab_black"
   ]
  },
  {
   "cell_type": "code",
   "execution_count": 21,
   "id": "3476092b-328c-47c4-b7d6-a8de6c3d0a09",
   "metadata": {},
   "outputs": [],
   "source": [
    "import os\n",
    "import glob\n",
    "import pathlib"
   ]
  },
  {
   "cell_type": "code",
   "execution_count": null,
   "id": "59934f62-f70b-466d-83ca-a5b5b0f9fffc",
   "metadata": {},
   "outputs": [],
   "source": [
    "import pandas as pd"
   ]
  },
  {
   "cell_type": "code",
   "execution_count": 4,
   "id": "5395de72-3eb5-4715-87a5-3cd4f4f5c34d",
   "metadata": {},
   "outputs": [],
   "source": [
    "from selenium import webdriver\n",
    "from selenium.webdriver.common.by import By\n",
    "from selenium.webdriver.chrome.options import Options\n",
    "from selenium.webdriver.support.ui import WebDriverWait\n",
    "from selenium.webdriver.chrome.webdriver import WebDriver\n",
    "from selenium.webdriver.support import expected_conditions as EC"
   ]
  },
  {
   "cell_type": "code",
   "execution_count": 23,
   "id": "1afc0d9c-53ad-497c-a1a6-e1e7890c1097",
   "metadata": {},
   "outputs": [],
   "source": [
    "data_dir = this_dir / \"data\""
   ]
  },
  {
   "cell_type": "code",
   "execution_count": 22,
   "id": "0c7ed508-5293-47e1-a0d4-fab62970206f",
   "metadata": {},
   "outputs": [],
   "source": [
    "this_dir = pathlib.Path(os.path.abspath(\"\"))"
   ]
  },
  {
   "cell_type": "markdown",
   "id": "22994605-c571-4a35-8211-80a64858c489",
   "metadata": {},
   "source": [
    "Configure the browser"
   ]
  },
  {
   "cell_type": "code",
   "execution_count": 5,
   "id": "34f2f501-cd6e-4950-af97-45f600c41852",
   "metadata": {},
   "outputs": [],
   "source": [
    "options = Options()\n",
    "options.add_argument('--headless')\n",
    "options.add_argument('--no-sandbox')\n",
    "options.add_argument('--disable-gpu')\n",
    "options.add_argument('--disable-dev-shm-usage')\n",
    "options.add_argument('--disable-extensions')"
   ]
  },
  {
   "cell_type": "code",
   "execution_count": 6,
   "id": "cb6d90e3-c482-4587-a027-5847fd9e1f27",
   "metadata": {},
   "outputs": [],
   "source": [
    "driver = webdriver.Chrome(options=options)"
   ]
  },
  {
   "cell_type": "markdown",
   "id": "896c8e9d-9fb0-411e-8715-3614b4d1e179",
   "metadata": {},
   "source": [
    "Get the page"
   ]
  },
  {
   "cell_type": "code",
   "execution_count": 7,
   "id": "7f2e4268-d098-4508-bbb1-c94a6c6d5458",
   "metadata": {},
   "outputs": [],
   "source": [
    "driver.get(\n",
    "    \"https://datavisualization.cdph.ca.gov/t/LNC/views/COVIDSNFDASHV3/COVIDSNFDASH?:embed=y&:showVizHome=no&:host_url=https%3A%2F%2Fdatavisualization.cdph.ca.gov%2F&:embed_code_version=3&:tabs=yes&:toolbar=yes&:showAppBanner=false&:display_spinner=no&:loadOrderID=0\"\n",
    ")"
   ]
  },
  {
   "cell_type": "markdown",
   "id": "5a932f34-3085-4bc1-8dff-792433632d88",
   "metadata": {},
   "source": [
    "Pull the date"
   ]
  },
  {
   "cell_type": "code",
   "execution_count": 8,
   "id": "8cd5eb00-e640-4372-b29b-0e744c148577",
   "metadata": {},
   "outputs": [],
   "source": [
    "def get_date():\n",
    "    wait = WebDriverWait(driver, 300)\n",
    "    wait.until(\n",
    "        EC.visibility_of_element_located(\n",
    "            (By.ID, \"tableau_base_widget_QuickFilterPanel_0\")\n",
    "        )\n",
    "    )\n",
    "    date_filter = driver.find_element_by_id(\"tableau_base_widget_QuickFilterPanel_0\")\n",
    "    date_string = date_filter.find_elements_by_xpath(\n",
    "        \"//div[contains(@class, 'tabComboBoxName')]\"\n",
    "    )[-1].text\n",
    "    return pd.to_datetime(date_string).date()"
   ]
  },
  {
   "cell_type": "code",
   "execution_count": 9,
   "id": "13b2fb92-3cf8-4e52-a40b-13c7f97a262e",
   "metadata": {},
   "outputs": [],
   "source": [
    "date = get_date()"
   ]
  },
  {
   "cell_type": "markdown",
   "id": "3a4c9ad9-d43f-4b60-b896-a4df559967ce",
   "metadata": {},
   "source": [
    "Routine to pull the download button"
   ]
  },
  {
   "cell_type": "code",
   "execution_count": 10,
   "id": "fde0e883-3674-4b63-a4a6-f0598888beab",
   "metadata": {},
   "outputs": [],
   "source": [
    "def get_download_button():\n",
    "    wait = WebDriverWait(driver, 300)\n",
    "    wait.until(EC.visibility_of_element_located((By.ID, \"download-ToolbarButton\")))\n",
    "    btn = driver.find_element_by_id(\"download-ToolbarButton\")\n",
    "    assert btn.text == \"Download\"\n",
    "    return btn"
   ]
  },
  {
   "cell_type": "markdown",
   "id": "32c1a7f2-8b37-4264-b263-bf74e22eeef0",
   "metadata": {},
   "source": [
    "Routine to pull data for values"
   ]
  },
  {
   "cell_type": "code",
   "execution_count": 11,
   "id": "1afa2b9b-09dd-4ed8-84c5-e40218aa2c0d",
   "metadata": {},
   "outputs": [],
   "source": [
    "def get_data(element_id):\n",
    "    # WAit for the box\n",
    "    wait = WebDriverWait(driver, 300)\n",
    "    wait.until(EC.visibility_of_element_located((By.ID, element_id)))\n",
    "\n",
    "    # Get it and click it twice\n",
    "    box = driver.find_element_by_id(element_id)\n",
    "    box.click()\n",
    "    box.click()\n",
    "\n",
    "    # Click the download button\n",
    "    download_button = get_download_button()\n",
    "    download_button.click()\n",
    "\n",
    "    # Wait for the popup\n",
    "    wait.until(EC.visibility_of_element_located((By.XPATH, \"//fieldset\")))\n",
    "    fieldset = driver.find_element_by_xpath(\"//fieldset\")\n",
    "\n",
    "    # Get the Data button and click it\n",
    "    buttons = fieldset.find_elements_by_xpath(\"//button\")\n",
    "    data_button = next(e for e in buttons if e.text == \"Data\")\n",
    "    data_button.click()\n",
    "\n",
    "    # Move to the new tab\n",
    "    driver.switch_to.window(driver.window_handles[1])\n",
    "\n",
    "    # Get the data\n",
    "    wait.until(EC.visibility_of_element_located((By.XPATH, \"//td\")))\n",
    "    value = int(driver.find_element_by_xpath(\"//td\").text)\n",
    "\n",
    "    # Close out\n",
    "    driver.close()\n",
    "    driver.switch_to.window(driver.window_handles[0])\n",
    "\n",
    "    # Return the data\n",
    "    return value"
   ]
  },
  {
   "cell_type": "markdown",
   "id": "7dbf5bb4-90ce-4691-ad30-1a0173e51a2c",
   "metadata": {},
   "source": [
    "Pull the four we're after"
   ]
  },
  {
   "cell_type": "code",
   "execution_count": 12,
   "id": "be326b4b-342e-478a-84c6-cc1cfe8c48d3",
   "metadata": {},
   "outputs": [],
   "source": [
    "resident_deaths = get_data(\"tabZoneId78\")"
   ]
  },
  {
   "cell_type": "code",
   "execution_count": 13,
   "id": "a312bfc7-6191-4568-961b-3b89383fe77a",
   "metadata": {},
   "outputs": [],
   "source": [
    "worker_deaths = get_data(\"tabZoneId86\")"
   ]
  },
  {
   "cell_type": "code",
   "execution_count": 14,
   "id": "58ed8ce8-bf82-4d3a-9975-6197060c0abb",
   "metadata": {},
   "outputs": [],
   "source": [
    "resident_cases = get_data(\"tabZoneId76\")"
   ]
  },
  {
   "cell_type": "code",
   "execution_count": 15,
   "id": "cf25a498-9097-4a29-8b75-1176449b34ab",
   "metadata": {},
   "outputs": [],
   "source": [
    "worker_cases = get_data(\"tabZoneId84\")"
   ]
  },
  {
   "cell_type": "code",
   "execution_count": 16,
   "id": "3be28252-1d05-40ab-9155-1c096ec3f97e",
   "metadata": {},
   "outputs": [],
   "source": [
    "data = dict(\n",
    "    date=date,\n",
    "    resident_cases=resident_cases,\n",
    "    worker_cases=worker_cases,\n",
    "    resident_deaths=resident_deaths,\n",
    "    worker_deaths=worker_deaths,\n",
    ")"
   ]
  },
  {
   "cell_type": "code",
   "execution_count": 17,
   "id": "a363330e-25e2-4949-8f14-997dfd861b7a",
   "metadata": {},
   "outputs": [
    {
     "data": {
      "text/plain": [
       "{'date': datetime.date(2021, 9, 15),\n",
       " 'resident_cases': 63455,\n",
       " 'worker_cases': 53889,\n",
       " 'resident_deaths': 9200,\n",
       " 'worker_deaths': 249}"
      ]
     },
     "execution_count": 17,
     "metadata": {},
     "output_type": "execute_result"
    }
   ],
   "source": [
    "data"
   ]
  },
  {
   "cell_type": "markdown",
   "id": "c390cf0d-55fa-4250-abcf-aa595f739a35",
   "metadata": {},
   "source": [
    "Kill the browser"
   ]
  },
  {
   "cell_type": "code",
   "execution_count": 18,
   "id": "15202d44-5cad-4d4e-8b13-1e59abd9a2ca",
   "metadata": {},
   "outputs": [],
   "source": [
    "driver.quit()"
   ]
  },
  {
   "cell_type": "markdown",
   "id": "d1520db2-95b6-4ede-b922-3308dfe2cb68",
   "metadata": {},
   "source": [
    "Export"
   ]
  },
  {
   "cell_type": "code",
   "execution_count": 19,
   "id": "7962484e-0251-42d9-8953-b584cb36bdcf",
   "metadata": {},
   "outputs": [],
   "source": [
    "df = pd.DataFrame([data])"
   ]
  },
  {
   "cell_type": "code",
   "execution_count": 24,
   "id": "c9ff6819-13cd-48c3-b7e4-740a9ab65bb4",
   "metadata": {},
   "outputs": [],
   "source": [
    "df.to_csv(data_dir / f\"{date}.csv\", index=False)"
   ]
  },
  {
   "cell_type": "code",
   "execution_count": 25,
   "id": "dbfd77b8-cc62-4b4a-bfe4-fb5a88cea490",
   "metadata": {},
   "outputs": [],
   "source": [
    "csv_list = [\n",
    "    i\n",
    "    for i in glob.glob(str(data_dir / \"*.csv\"))\n",
    "    if not str(i).endswith(\"timeseries.csv\")\n",
    "]"
   ]
  },
  {
   "cell_type": "code",
   "execution_count": 26,
   "id": "d2bf84fc-937c-4326-9025-d1fcaa61807e",
   "metadata": {},
   "outputs": [],
   "source": [
    "df_list = []\n",
    "for csv in csv_list:\n",
    "    file_date = csv.split(\"/\")[-1].replace(\".csv\", \"\")\n",
    "    df = pd.read_csv(csv, parse_dates=[\"date\"])\n",
    "    df_list.append(df)"
   ]
  },
  {
   "cell_type": "code",
   "execution_count": 27,
   "id": "a7a5b77b-a557-4305-ac8f-32a82f797133",
   "metadata": {},
   "outputs": [],
   "source": [
    "df = pd.concat(df_list).sort_values([\"date\"])"
   ]
  },
  {
   "cell_type": "code",
   "execution_count": 28,
   "id": "49758495-d63c-4fcc-8b8b-020f79d7ccd7",
   "metadata": {},
   "outputs": [],
   "source": [
    "df.to_csv(data_dir / \"timeseries.csv\", index=False)"
   ]
  }
 ],
 "metadata": {
  "kernelspec": {
   "display_name": "Python 3 (ipykernel)",
   "language": "python",
   "name": "python3"
  },
  "language_info": {
   "codemirror_mode": {
    "name": "ipython",
    "version": 3
   },
   "file_extension": ".py",
   "mimetype": "text/x-python",
   "name": "python",
   "nbconvert_exporter": "python",
   "pygments_lexer": "ipython3",
   "version": "3.8.8"
  }
 },
 "nbformat": 4,
 "nbformat_minor": 5
}
