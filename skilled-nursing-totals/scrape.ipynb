{
 "cells": [
  {
   "cell_type": "code",
   "execution_count": 2,
   "id": "21ace1e5-e7fd-44d6-888b-f14304c48e04",
   "metadata": {},
   "outputs": [
    {
     "name": "stdout",
     "output_type": "stream",
     "text": [
      "The lab_black extension is already loaded. To reload it, use:\n",
      "  %reload_ext lab_black\n"
     ]
    }
   ],
   "source": [
    "%load_ext lab_black"
   ]
  },
  {
   "cell_type": "code",
   "execution_count": 3,
   "id": "3476092b-328c-47c4-b7d6-a8de6c3d0a09",
   "metadata": {},
   "outputs": [],
   "source": [
    "import os\n",
    "import pathlib"
   ]
  },
  {
   "cell_type": "code",
   "execution_count": 4,
   "id": "0c7ed508-5293-47e1-a0d4-fab62970206f",
   "metadata": {},
   "outputs": [],
   "source": [
    "this_dir = pathlib.Path(os.path.abspath(\"\"))"
   ]
  },
  {
   "cell_type": "code",
   "execution_count": 5,
   "id": "1afc0d9c-53ad-497c-a1a6-e1e7890c1097",
   "metadata": {},
   "outputs": [],
   "source": [
    "data_dir = this_dir / \"data\""
   ]
  },
  {
   "cell_type": "code",
   "execution_count": 49,
   "id": "5395de72-3eb5-4715-87a5-3cd4f4f5c34d",
   "metadata": {},
   "outputs": [],
   "source": [
    "import pandas as pd\n",
    "from selenium import webdriver\n",
    "from selenium.webdriver.common.by import By\n",
    "from selenium.webdriver.support.ui import WebDriverWait\n",
    "from webdriver_manager.chrome import ChromeDriverManager\n",
    "from selenium.webdriver.support import expected_conditions as EC"
   ]
  },
  {
   "cell_type": "code",
   "execution_count": 23,
   "id": "34f2f501-cd6e-4950-af97-45f600c41852",
   "metadata": {},
   "outputs": [
    {
     "name": "stderr",
     "output_type": "stream",
     "text": [
      "\n",
      "\n",
      "====== WebDriver manager ======\n",
      "Current google-chrome version is 93.0.4577\n",
      "Get LATEST driver version for 93.0.4577\n",
      "Driver [/home/palewire/.wdm/drivers/chromedriver/linux64/93.0.4577.63/chromedriver] found in cache\n"
     ]
    }
   ],
   "source": [
    "driver = webdriver.Chrome(\n",
    "    ChromeDriverManager().install(),\n",
    ")"
   ]
  },
  {
   "cell_type": "code",
   "execution_count": 24,
   "id": "7f2e4268-d098-4508-bbb1-c94a6c6d5458",
   "metadata": {},
   "outputs": [],
   "source": [
    "driver.get(\n",
    "    \"https://datavisualization.cdph.ca.gov/t/LNC/views/COVIDSNFDASHV3/COVIDSNFDASH?:embed=y&:showVizHome=no&:host_url=https%3A%2F%2Fdatavisualization.cdph.ca.gov%2F&:embed_code_version=3&:tabs=yes&:toolbar=yes&:showAppBanner=false&:display_spinner=no&:loadOrderID=0\"\n",
    ")"
   ]
  },
  {
   "cell_type": "code",
   "execution_count": 25,
   "id": "1f135d25-6c5c-414b-9849-b63d423ae7f3",
   "metadata": {},
   "outputs": [
    {
     "data": {
      "text/plain": [
       "<selenium.webdriver.remote.webelement.WebElement (session=\"e4e1a3acd8fcf63a7add29d3800d0fba\", element=\"1a3b325f-25d9-4814-bbb2-f50ffa3df108\")>"
      ]
     },
     "execution_count": 25,
     "metadata": {},
     "output_type": "execute_result"
    }
   ],
   "source": [
    "wait = WebDriverWait(driver, 300)\n",
    "wait.until(\n",
    "    EC.visibility_of_element_located((By.ID, \"tableau_base_widget_QuickFilterPanel_0\"))\n",
    ")"
   ]
  },
  {
   "cell_type": "code",
   "execution_count": 39,
   "id": "3008f538-f932-49de-a781-c769b0f8edfb",
   "metadata": {},
   "outputs": [],
   "source": [
    "date_filter = driver.find_element_by_id(\"tableau_base_widget_QuickFilterPanel_0\")"
   ]
  },
  {
   "cell_type": "code",
   "execution_count": 47,
   "id": "420bccfd-b63f-4763-828a-404c0e28a33d",
   "metadata": {},
   "outputs": [],
   "source": [
    "date_string = date_filter.find_elements_by_xpath(\n",
    "    \"//div[contains(@class, 'tabComboBoxName')]\"\n",
    ")[-1].text"
   ]
  },
  {
   "cell_type": "code",
   "execution_count": 52,
   "id": "13b2fb92-3cf8-4e52-a40b-13c7f97a262e",
   "metadata": {},
   "outputs": [],
   "source": [
    "date = pd.to_datetime(date_string).date()"
   ]
  },
  {
   "cell_type": "code",
   "execution_count": 53,
   "id": "52af0974-2c79-4449-8dcc-b7ec8434db84",
   "metadata": {},
   "outputs": [
    {
     "data": {
      "text/plain": [
       "datetime.date(2021, 9, 11)"
      ]
     },
     "execution_count": 53,
     "metadata": {},
     "output_type": "execute_result"
    }
   ],
   "source": [
    "date"
   ]
  },
  {
   "cell_type": "code",
   "execution_count": null,
   "id": "767ac91e-01bd-4b19-93a3-182cd061c364",
   "metadata": {},
   "outputs": [],
   "source": []
  }
 ],
 "metadata": {
  "kernelspec": {
   "display_name": "Python 3 (ipykernel)",
   "language": "python",
   "name": "python3"
  },
  "language_info": {
   "codemirror_mode": {
    "name": "ipython",
    "version": 3
   },
   "file_extension": ".py",
   "mimetype": "text/x-python",
   "name": "python",
   "nbconvert_exporter": "python",
   "pygments_lexer": "ipython3",
   "version": "3.8.8"
  }
 },
 "nbformat": 4,
 "nbformat_minor": 5
}
