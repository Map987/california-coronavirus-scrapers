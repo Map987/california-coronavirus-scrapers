{
 "cells": [
  {
   "cell_type": "markdown",
   "id": "looking-match",
   "metadata": {},
   "source": [
    "# vaccine-doses-on-hand\n",
    "\n",
    "By [Sean Greene](https://www.latimes.com/people/sean-greene)\n",
    "\n",
    "Downloads the number of vaccine doses on hand from a Tableau dashboard published by the California Department of Public Health."
   ]
  },
  {
   "cell_type": "markdown",
   "id": "eligible-patent",
   "metadata": {},
   "source": [
    "## Import"
   ]
  },
  {
   "cell_type": "markdown",
   "id": "verbal-fashion",
   "metadata": {},
   "source": [
    "Code formatting with [black](https://pypi.org/project/nb-black/)."
   ]
  },
  {
   "cell_type": "code",
   "execution_count": 1,
   "id": "unlike-angle",
   "metadata": {},
   "outputs": [],
   "source": [
    "%load_ext lab_black"
   ]
  },
  {
   "cell_type": "markdown",
   "id": "detailed-chaos",
   "metadata": {},
   "source": [
    "Import dependencies."
   ]
  },
  {
   "cell_type": "code",
   "execution_count": 72,
   "id": "soviet-domain",
   "metadata": {},
   "outputs": [],
   "source": [
    "import os\n",
    "import re\n",
    "import pytz\n",
    "import json\n",
    "import requests\n",
    "import pandas as pd\n",
    "from datetime import datetime\n",
    "from bs4 import BeautifulSoup"
   ]
  },
  {
   "cell_type": "markdown",
   "id": "light-possession",
   "metadata": {},
   "source": [
    "## Scrape"
   ]
  },
  {
   "cell_type": "markdown",
   "id": "patient-tragedy",
   "metadata": {},
   "source": [
    "Set the URL"
   ]
  },
  {
   "cell_type": "code",
   "execution_count": 8,
   "id": "spiritual-speaker",
   "metadata": {},
   "outputs": [],
   "source": [
    "host = \"https://public.tableau.com\""
   ]
  },
  {
   "cell_type": "code",
   "execution_count": 9,
   "id": "adolescent-priest",
   "metadata": {},
   "outputs": [],
   "source": [
    "path = \"/views/COVID-19VaccineProviderDashboardPublic/PublicVaccineProviderDashboard\""
   ]
  },
  {
   "cell_type": "code",
   "execution_count": 10,
   "id": "danish-ordinance",
   "metadata": {},
   "outputs": [],
   "source": [
    "url = f\"{host}{path}\""
   ]
  },
  {
   "cell_type": "markdown",
   "id": "hundred-belle",
   "metadata": {},
   "source": [
    "Set the custom variables we need to manipulate the dashboard."
   ]
  },
  {
   "cell_type": "code",
   "execution_count": 11,
   "id": "binary-compression",
   "metadata": {},
   "outputs": [],
   "source": [
    "config = dict(\n",
    "    sheet_id=\"Main Vaccine Data Check (6)\",\n",
    "    value_index=3,\n",
    "    value_key=\"aliasIndices\",\n",
    "    type_index=2,\n",
    "    type_key=\"aliasIndices\",\n",
    "    label_index=1,\n",
    "    label_key=\"aliasIndices\",\n",
    ")"
   ]
  },
  {
   "cell_type": "markdown",
   "id": "conditional-documentation",
   "metadata": {},
   "source": [
    "Request the page"
   ]
  },
  {
   "cell_type": "code",
   "execution_count": 12,
   "id": "measured-interaction",
   "metadata": {},
   "outputs": [],
   "source": [
    "response = requests.get(url, params={\":embed\": \"y\", \":showVizHome\": \"no\"})"
   ]
  },
  {
   "cell_type": "markdown",
   "id": "meaningful-toronto",
   "metadata": {},
   "source": [
    "Parse the HTML"
   ]
  },
  {
   "cell_type": "code",
   "execution_count": 18,
   "id": "interstate-marble",
   "metadata": {},
   "outputs": [],
   "source": [
    "soup = BeautifulSoup(response.text, \"html.parser\")"
   ]
  },
  {
   "cell_type": "markdown",
   "id": "numeric-norwegian",
   "metadata": {},
   "source": [
    "Zero in on the part of the page with the URL where we can get the data. It's in JSON format"
   ]
  },
  {
   "cell_type": "code",
   "execution_count": 21,
   "id": "enhanced-candidate",
   "metadata": {},
   "outputs": [],
   "source": [
    "json_string = soup.find(\"textarea\", {\"id\": \"tsConfigContainer\"}).text"
   ]
  },
  {
   "cell_type": "markdown",
   "id": "composed-quantum",
   "metadata": {},
   "source": [
    "Parse it."
   ]
  },
  {
   "cell_type": "code",
   "execution_count": 22,
   "id": "excessive-strike",
   "metadata": {},
   "outputs": [],
   "source": [
    "context = json.loads(json_string)"
   ]
  },
  {
   "cell_type": "markdown",
   "id": "genuine-junction",
   "metadata": {},
   "source": [
    "Pull out the URL"
   ]
  },
  {
   "cell_type": "code",
   "execution_count": 23,
   "id": "starting-anderson",
   "metadata": {},
   "outputs": [],
   "source": [
    "data_url = (\n",
    "    f'{host}{context[\"vizql_root\"]}/bootstrapSession/sessions/{context[\"sessionid\"]}'\n",
    ")"
   ]
  },
  {
   "cell_type": "markdown",
   "id": "automated-implementation",
   "metadata": {},
   "source": [
    "Then download the raw data, clean it up, and turn it into usable dictionaries."
   ]
  },
  {
   "cell_type": "code",
   "execution_count": 25,
   "id": "seeing-being",
   "metadata": {},
   "outputs": [],
   "source": [
    "response = requests.post(data_url, data={\"sheet_id\": config[\"sheet_id\"]})"
   ]
  },
  {
   "cell_type": "code",
   "execution_count": 26,
   "id": "deluxe-disabled",
   "metadata": {},
   "outputs": [],
   "source": [
    "raw_text = response.text"
   ]
  },
  {
   "cell_type": "code",
   "execution_count": 27,
   "id": "martial-education",
   "metadata": {},
   "outputs": [],
   "source": [
    "json_pieces = [json.loads(d) for d in re.split(\"\\d{2,10};(?={.+})\", raw_text) if len(d)]"
   ]
  },
  {
   "cell_type": "code",
   "execution_count": 28,
   "id": "cooked-pitch",
   "metadata": {},
   "outputs": [],
   "source": [
    "root = next(d for d in json_pieces if \"secondaryInfo\" in d)"
   ]
  },
  {
   "cell_type": "code",
   "execution_count": 29,
   "id": "aging-omega",
   "metadata": {},
   "outputs": [],
   "source": [
    "data = root[\"secondaryInfo\"][\"presModelMap\"]"
   ]
  },
  {
   "cell_type": "markdown",
   "id": "amateur-particular",
   "metadata": {},
   "source": [
    "Build our value lookup."
   ]
  },
  {
   "cell_type": "code",
   "execution_count": 31,
   "id": "motivated-arnold",
   "metadata": {},
   "outputs": [],
   "source": [
    "value_columns = data[\"dataDictionary\"][\"presModelHolder\"][\"genDataDictionaryPresModel\"][\n",
    "    \"dataSegments\"\n",
    "][\"0\"][\"dataColumns\"]"
   ]
  },
  {
   "cell_type": "code",
   "execution_count": 32,
   "id": "separate-bulgaria",
   "metadata": {},
   "outputs": [],
   "source": [
    "lookup = {d[\"dataType\"]: d[\"dataValues\"] for d in value_columns}"
   ]
  },
  {
   "cell_type": "markdown",
   "id": "based-transcription",
   "metadata": {},
   "source": [
    "Download the embed so we can scrape it and find the VizQL root ID to build our query."
   ]
  },
  {
   "cell_type": "code",
   "execution_count": 33,
   "id": "detailed-province",
   "metadata": {},
   "outputs": [],
   "source": [
    "response = requests.get(url, params={\":embed\": \"y\", \":showVizHome\": \"no\"})"
   ]
  },
  {
   "cell_type": "code",
   "execution_count": 34,
   "id": "cordless-guinea",
   "metadata": {},
   "outputs": [],
   "source": [
    "soup = BeautifulSoup(response.text, \"html.parser\")"
   ]
  },
  {
   "cell_type": "code",
   "execution_count": 35,
   "id": "ranking-columbus",
   "metadata": {},
   "outputs": [],
   "source": [
    "context = json.loads(soup.find(\"textarea\", {\"id\": \"tsConfigContainer\"}).text)"
   ]
  },
  {
   "cell_type": "code",
   "execution_count": 37,
   "id": "occasional-hawaii",
   "metadata": {},
   "outputs": [],
   "source": [
    "data_url = (\n",
    "    f'{host}{context[\"vizql_root\"]}/bootstrapSession/sessions/{context[\"sessionid\"]}'\n",
    ")"
   ]
  },
  {
   "cell_type": "markdown",
   "id": "painful-transfer",
   "metadata": {},
   "source": [
    "Then download the raw data, clean it up, and turn it into usable dictionaries."
   ]
  },
  {
   "cell_type": "code",
   "execution_count": 38,
   "id": "independent-sequence",
   "metadata": {},
   "outputs": [],
   "source": [
    "response = requests.post(data_url, data={\"sheet_id\": config[\"sheet_id\"]})"
   ]
  },
  {
   "cell_type": "code",
   "execution_count": 39,
   "id": "hearing-repair",
   "metadata": {},
   "outputs": [],
   "source": [
    "raw_text = response.text"
   ]
  },
  {
   "cell_type": "code",
   "execution_count": 40,
   "id": "white-marble",
   "metadata": {},
   "outputs": [],
   "source": [
    "json_pieces = [json.loads(d) for d in re.split(\"\\d{2,10};(?={.+})\", raw_text) if len(d)]"
   ]
  },
  {
   "cell_type": "code",
   "execution_count": 41,
   "id": "killing-geneva",
   "metadata": {},
   "outputs": [],
   "source": [
    "root = next(d for d in json_pieces if \"secondaryInfo\" in d)"
   ]
  },
  {
   "cell_type": "code",
   "execution_count": 42,
   "id": "alike-anxiety",
   "metadata": {},
   "outputs": [],
   "source": [
    "data = root[\"secondaryInfo\"][\"presModelMap\"]"
   ]
  },
  {
   "cell_type": "markdown",
   "id": "toxic-leisure",
   "metadata": {},
   "source": [
    "Build our value lookup."
   ]
  },
  {
   "cell_type": "code",
   "execution_count": 43,
   "id": "micro-wisconsin",
   "metadata": {},
   "outputs": [],
   "source": [
    "value_columns = data[\"dataDictionary\"][\"presModelHolder\"][\"genDataDictionaryPresModel\"][\n",
    "    \"dataSegments\"\n",
    "][\"0\"][\"dataColumns\"]"
   ]
  },
  {
   "cell_type": "code",
   "execution_count": 44,
   "id": "incorporate-lodge",
   "metadata": {},
   "outputs": [],
   "source": [
    "lookup = {d[\"dataType\"]: d[\"dataValues\"] for d in value_columns}"
   ]
  },
  {
   "cell_type": "markdown",
   "id": "balanced-relaxation",
   "metadata": {},
   "source": [
    "Pull out the columns of indexes so we can run them against our lookup."
   ]
  },
  {
   "cell_type": "code",
   "execution_count": 45,
   "id": "spectacular-right",
   "metadata": {},
   "outputs": [],
   "source": [
    "pres_model_map = data[\"vizData\"][\"presModelHolder\"][\"genPresModelMapPresModel\"][\n",
    "    \"presModelMap\"\n",
    "]"
   ]
  },
  {
   "cell_type": "code",
   "execution_count": 47,
   "id": "regulated-roman",
   "metadata": {},
   "outputs": [],
   "source": [
    "columns = pres_model_map[config[\"sheet_id\"]][\"presModelHolder\"][\"genVizDataPresModel\"][\n",
    "    \"paneColumnsData\"\n",
    "][\"paneColumnsList\"][0][\"vizPaneColumns\"]"
   ]
  },
  {
   "cell_type": "markdown",
   "id": "classified-aircraft",
   "metadata": {},
   "source": [
    "Using our variables from above, pull out the lists of indexes we need."
   ]
  },
  {
   "cell_type": "code",
   "execution_count": 49,
   "id": "dutch-science",
   "metadata": {},
   "outputs": [],
   "source": [
    "labels_column = columns[config[\"label_index\"]][config[\"label_key\"]]"
   ]
  },
  {
   "cell_type": "code",
   "execution_count": 50,
   "id": "third-camera",
   "metadata": {},
   "outputs": [],
   "source": [
    "types_column = columns[config[\"type_index\"]][config[\"type_key\"]]"
   ]
  },
  {
   "cell_type": "code",
   "execution_count": 51,
   "id": "renewable-regulation",
   "metadata": {},
   "outputs": [],
   "source": [
    "values_column = columns[config[\"value_index\"]][config[\"value_key\"]]"
   ]
  },
  {
   "cell_type": "code",
   "execution_count": 52,
   "id": "graduate-edwards",
   "metadata": {},
   "outputs": [],
   "source": [
    "values_column_b = []\n",
    "for val in values_column:\n",
    "    values_column_b.append(abs(val) - 1)"
   ]
  },
  {
   "cell_type": "markdown",
   "id": "bottom-account",
   "metadata": {},
   "source": [
    "Run each one through our lookup."
   ]
  },
  {
   "cell_type": "code",
   "execution_count": 53,
   "id": "frank-concord",
   "metadata": {},
   "outputs": [],
   "source": [
    "labels = [lookup[\"cstring\"][label] for label in labels_column]"
   ]
  },
  {
   "cell_type": "code",
   "execution_count": 54,
   "id": "communist-plain",
   "metadata": {},
   "outputs": [],
   "source": [
    "types = [lookup[\"cstring\"][type] for type in types_column]"
   ]
  },
  {
   "cell_type": "code",
   "execution_count": 55,
   "id": "german-pride",
   "metadata": {},
   "outputs": [],
   "source": [
    "values_start = len(labels) + 4"
   ]
  },
  {
   "cell_type": "code",
   "execution_count": 56,
   "id": "synthetic-toronto",
   "metadata": {},
   "outputs": [],
   "source": [
    "values_end = len(labels)"
   ]
  },
  {
   "cell_type": "code",
   "execution_count": 57,
   "id": "nutritional-relative",
   "metadata": {},
   "outputs": [],
   "source": [
    "values = [lookup[\"cstring\"][value] for value in values_column_b]"
   ]
  },
  {
   "cell_type": "code",
   "execution_count": 58,
   "id": "latest-jesus",
   "metadata": {},
   "outputs": [],
   "source": [
    "try:\n",
    "    assert len(labels) == len(values)\n",
    "except AssertionError:\n",
    "    raise AssertionError(\"Labels and values list do not add up\")"
   ]
  },
  {
   "cell_type": "markdown",
   "id": "provincial-generator",
   "metadata": {},
   "source": [
    "`zip` and convert them to a `dict` so they are key/value'ed."
   ]
  },
  {
   "cell_type": "code",
   "execution_count": 59,
   "id": "junior-chorus",
   "metadata": {},
   "outputs": [],
   "source": [
    "data = [\n",
    "    {\"agency\": label, \"doses_on_hand\": value}\n",
    "    for label, value in (sorted(zip(labels, values), key=lambda d: d[0]))\n",
    "]"
   ]
  },
  {
   "cell_type": "markdown",
   "id": "legitimate-characteristic",
   "metadata": {},
   "source": [
    "## Transform"
   ]
  },
  {
   "cell_type": "markdown",
   "id": "hearing-bones",
   "metadata": {},
   "source": [
    "Convert into a pandas DataFrame"
   ]
  },
  {
   "cell_type": "code",
   "execution_count": 66,
   "id": "centered-ferry",
   "metadata": {},
   "outputs": [],
   "source": [
    "df = pd.DataFrame(data)"
   ]
  },
  {
   "cell_type": "markdown",
   "id": "exciting-hygiene",
   "metadata": {},
   "source": [
    "Convert strings to integers"
   ]
  },
  {
   "cell_type": "code",
   "execution_count": 68,
   "id": "governing-uncle",
   "metadata": {},
   "outputs": [],
   "source": [
    "def safeint(s):\n",
    "    \"\"\"\n",
    "    Convert the provided string to an integer. Return it.\n",
    "    \"\"\"\n",
    "    s = s.replace(\",\", \"\")\n",
    "    return int(s)"
   ]
  },
  {
   "cell_type": "code",
   "execution_count": 69,
   "id": "tropical-tokyo",
   "metadata": {},
   "outputs": [],
   "source": [
    "df[\"doses_on_hand\"] = df[\"doses_on_hand\"].apply(safeint)"
   ]
  },
  {
   "cell_type": "markdown",
   "id": "pediatric-blackjack",
   "metadata": {},
   "source": [
    "## Export"
   ]
  },
  {
   "cell_type": "code",
   "execution_count": 62,
   "id": "aquatic-numbers",
   "metadata": {},
   "outputs": [],
   "source": [
    "tz = pytz.timezone(\"America/Los_Angeles\")"
   ]
  },
  {
   "cell_type": "code",
   "execution_count": 65,
   "id": "described-federal",
   "metadata": {},
   "outputs": [],
   "source": [
    "today = datetime.now(tz).date()"
   ]
  },
  {
   "cell_type": "code",
   "execution_count": 75,
   "id": "broadband-overhead",
   "metadata": {},
   "outputs": [],
   "source": [
    "data_dir = os.path.join(os.path.abspath(\"\"), \"data\")"
   ]
  },
  {
   "cell_type": "code",
   "execution_count": 83,
   "id": "integral-partnership",
   "metadata": {},
   "outputs": [],
   "source": [
    "df.sort_values(\"agency\").to_csv(os.path.join(data_dir, f\"{today}.csv\"), index=False)"
   ]
  }
 ],
 "metadata": {
  "kernelspec": {
   "display_name": "Python 3",
   "language": "python",
   "name": "python3"
  },
  "language_info": {
   "codemirror_mode": {
    "name": "ipython",
    "version": 3
   },
   "file_extension": ".py",
   "mimetype": "text/x-python",
   "name": "python",
   "nbconvert_exporter": "python",
   "pygments_lexer": "ipython3",
   "version": "3.8.5"
  }
 },
 "nbformat": 4,
 "nbformat_minor": 5
}
