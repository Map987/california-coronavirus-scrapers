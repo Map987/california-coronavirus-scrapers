{
 "cells": [
  {
   "cell_type": "markdown",
   "id": "electric-casino",
   "metadata": {},
   "source": [
    "# vaccine-doses-on-hand\n",
    "\n",
    "By [Sean Greene](https://www.latimes.com/people/sean-greene)\n",
    "\n",
    "Downloads the number of vaccine doses on hand from a Tableau dashboard published by the California Department of Public Health."
   ]
  },
  {
   "cell_type": "markdown",
   "id": "cultural-triumph",
   "metadata": {},
   "source": [
    "## Import"
   ]
  },
  {
   "cell_type": "markdown",
   "id": "suburban-silly",
   "metadata": {},
   "source": [
    "Code formatting with [black](https://pypi.org/project/nb-black/)."
   ]
  },
  {
   "cell_type": "code",
   "execution_count": null,
   "id": "architectural-accountability",
   "metadata": {},
   "outputs": [],
   "source": [
    "%load_ext lab_black"
   ]
  },
  {
   "cell_type": "markdown",
   "id": "negative-integer",
   "metadata": {},
   "source": [
    "Import dependencies."
   ]
  },
  {
   "cell_type": "code",
   "execution_count": null,
   "id": "closing-connectivity",
   "metadata": {},
   "outputs": [],
   "source": [
    "import os\n",
    "import re\n",
    "import pytz\n",
    "import json\n",
    "import requests\n",
    "import pandas as pd\n",
    "from datetime import datetime\n",
    "from bs4 import BeautifulSoup"
   ]
  },
  {
   "cell_type": "markdown",
   "id": "norman-exhaust",
   "metadata": {},
   "source": [
    "## Scrape"
   ]
  },
  {
   "cell_type": "markdown",
   "id": "large-grain",
   "metadata": {},
   "source": [
    "Set the URL"
   ]
  },
  {
   "cell_type": "code",
   "execution_count": null,
   "id": "preliminary-bullet",
   "metadata": {},
   "outputs": [],
   "source": [
    "host = \"https://public.tableau.com\""
   ]
  },
  {
   "cell_type": "code",
   "execution_count": null,
   "id": "temporal-flashing",
   "metadata": {},
   "outputs": [],
   "source": [
    "path = \"/views/COVID-19VaccineProviderDashboardPublic/PublicVaccineProviderDashboard\""
   ]
  },
  {
   "cell_type": "code",
   "execution_count": null,
   "id": "narrow-headset",
   "metadata": {},
   "outputs": [],
   "source": [
    "url = f\"{host}{path}\""
   ]
  },
  {
   "cell_type": "markdown",
   "id": "extensive-armstrong",
   "metadata": {},
   "source": [
    "Set the custom variables we need to manipulate the dashboard."
   ]
  },
  {
   "cell_type": "code",
   "execution_count": null,
   "id": "olive-march",
   "metadata": {},
   "outputs": [],
   "source": [
    "config = dict(\n",
    "    sheet_id=\"Main Vaccine Data Check (6)\",\n",
    "    value_index=3,\n",
    "    value_key=\"aliasIndices\",\n",
    "    type_index=2,\n",
    "    type_key=\"aliasIndices\",\n",
    "    label_index=1,\n",
    "    label_key=\"aliasIndices\",\n",
    ")"
   ]
  },
  {
   "cell_type": "markdown",
   "id": "geographic-tulsa",
   "metadata": {},
   "source": [
    "Request the page"
   ]
  },
  {
   "cell_type": "code",
   "execution_count": null,
   "id": "dramatic-highland",
   "metadata": {},
   "outputs": [],
   "source": [
    "response = requests.get(url, params={\":embed\": \"y\", \":showVizHome\": \"no\"})"
   ]
  },
  {
   "cell_type": "markdown",
   "id": "nervous-island",
   "metadata": {},
   "source": [
    "Parse the HTML"
   ]
  },
  {
   "cell_type": "code",
   "execution_count": null,
   "id": "equipped-confirmation",
   "metadata": {},
   "outputs": [],
   "source": [
    "soup = BeautifulSoup(response.text, \"html.parser\")"
   ]
  },
  {
   "cell_type": "markdown",
   "id": "typical-service",
   "metadata": {},
   "source": [
    "Zero in on the part of the page with the URL where we can get the data. It's in JSON format"
   ]
  },
  {
   "cell_type": "code",
   "execution_count": null,
   "id": "previous-melbourne",
   "metadata": {},
   "outputs": [],
   "source": [
    "json_string = soup.find(\"textarea\", {\"id\": \"tsConfigContainer\"}).text"
   ]
  },
  {
   "cell_type": "markdown",
   "id": "computational-yellow",
   "metadata": {},
   "source": [
    "Parse it."
   ]
  },
  {
   "cell_type": "code",
   "execution_count": null,
   "id": "worthy-farmer",
   "metadata": {},
   "outputs": [],
   "source": [
    "context = json.loads(json_string)"
   ]
  },
  {
   "cell_type": "markdown",
   "id": "essential-movie",
   "metadata": {},
   "source": [
    "Pull out the URL"
   ]
  },
  {
   "cell_type": "code",
   "execution_count": null,
   "id": "amino-queen",
   "metadata": {},
   "outputs": [],
   "source": [
    "data_url = (\n",
    "    f'{host}{context[\"vizql_root\"]}/bootstrapSession/sessions/{context[\"sessionid\"]}'\n",
    ")"
   ]
  },
  {
   "cell_type": "markdown",
   "id": "progressive-latex",
   "metadata": {},
   "source": [
    "Then download the raw data, clean it up, and turn it into usable dictionaries."
   ]
  },
  {
   "cell_type": "code",
   "execution_count": null,
   "id": "duplicate-amino",
   "metadata": {},
   "outputs": [],
   "source": [
    "response = requests.post(data_url, data={\"sheet_id\": config[\"sheet_id\"]})"
   ]
  },
  {
   "cell_type": "code",
   "execution_count": null,
   "id": "still-wrapping",
   "metadata": {},
   "outputs": [],
   "source": [
    "raw_text = response.text"
   ]
  },
  {
   "cell_type": "code",
   "execution_count": null,
   "id": "infinite-conclusion",
   "metadata": {},
   "outputs": [],
   "source": [
    "json_pieces = [json.loads(d) for d in re.split(\"\\d{2,10};(?={.+})\", raw_text) if len(d)]"
   ]
  },
  {
   "cell_type": "code",
   "execution_count": null,
   "id": "exceptional-carol",
   "metadata": {},
   "outputs": [],
   "source": [
    "root = next(d for d in json_pieces if \"secondaryInfo\" in d)"
   ]
  },
  {
   "cell_type": "code",
   "execution_count": null,
   "id": "increasing-hazard",
   "metadata": {},
   "outputs": [],
   "source": [
    "data = root[\"secondaryInfo\"][\"presModelMap\"]"
   ]
  },
  {
   "cell_type": "markdown",
   "id": "buried-fraction",
   "metadata": {},
   "source": [
    "Build our value lookup."
   ]
  },
  {
   "cell_type": "code",
   "execution_count": null,
   "id": "solar-router",
   "metadata": {},
   "outputs": [],
   "source": [
    "value_columns = data[\"dataDictionary\"][\"presModelHolder\"][\"genDataDictionaryPresModel\"][\n",
    "    \"dataSegments\"\n",
    "][\"0\"][\"dataColumns\"]"
   ]
  },
  {
   "cell_type": "code",
   "execution_count": null,
   "id": "disciplinary-beginning",
   "metadata": {},
   "outputs": [],
   "source": [
    "lookup = {d[\"dataType\"]: d[\"dataValues\"] for d in value_columns}"
   ]
  },
  {
   "cell_type": "markdown",
   "id": "moral-hacker",
   "metadata": {},
   "source": [
    "Download the embed so we can scrape it and find the VizQL root ID to build our query."
   ]
  },
  {
   "cell_type": "code",
   "execution_count": null,
   "id": "naked-perception",
   "metadata": {},
   "outputs": [],
   "source": [
    "response = requests.get(url, params={\":embed\": \"y\", \":showVizHome\": \"no\"})"
   ]
  },
  {
   "cell_type": "code",
   "execution_count": null,
   "id": "laughing-boating",
   "metadata": {},
   "outputs": [],
   "source": [
    "soup = BeautifulSoup(response.text, \"html.parser\")"
   ]
  },
  {
   "cell_type": "code",
   "execution_count": null,
   "id": "efficient-accordance",
   "metadata": {},
   "outputs": [],
   "source": [
    "context = json.loads(soup.find(\"textarea\", {\"id\": \"tsConfigContainer\"}).text)"
   ]
  },
  {
   "cell_type": "code",
   "execution_count": null,
   "id": "european-orange",
   "metadata": {},
   "outputs": [],
   "source": [
    "data_url = (\n",
    "    f'{host}{context[\"vizql_root\"]}/bootstrapSession/sessions/{context[\"sessionid\"]}'\n",
    ")"
   ]
  },
  {
   "cell_type": "markdown",
   "id": "scientific-kelly",
   "metadata": {},
   "source": [
    "Then download the raw data, clean it up, and turn it into usable dictionaries."
   ]
  },
  {
   "cell_type": "code",
   "execution_count": null,
   "id": "recognized-julian",
   "metadata": {},
   "outputs": [],
   "source": [
    "response = requests.post(data_url, data={\"sheet_id\": config[\"sheet_id\"]})"
   ]
  },
  {
   "cell_type": "code",
   "execution_count": null,
   "id": "greater-roman",
   "metadata": {},
   "outputs": [],
   "source": [
    "raw_text = response.text"
   ]
  },
  {
   "cell_type": "code",
   "execution_count": null,
   "id": "sporting-postage",
   "metadata": {},
   "outputs": [],
   "source": [
    "json_pieces = [json.loads(d) for d in re.split(\"\\d{2,10};(?={.+})\", raw_text) if len(d)]"
   ]
  },
  {
   "cell_type": "code",
   "execution_count": null,
   "id": "unlimited-collective",
   "metadata": {},
   "outputs": [],
   "source": [
    "root = next(d for d in json_pieces if \"secondaryInfo\" in d)"
   ]
  },
  {
   "cell_type": "code",
   "execution_count": null,
   "id": "accepted-fleece",
   "metadata": {},
   "outputs": [],
   "source": [
    "data = root[\"secondaryInfo\"][\"presModelMap\"]"
   ]
  },
  {
   "cell_type": "markdown",
   "id": "criminal-disability",
   "metadata": {},
   "source": [
    "Build our value lookup."
   ]
  },
  {
   "cell_type": "code",
   "execution_count": null,
   "id": "suspended-cache",
   "metadata": {},
   "outputs": [],
   "source": [
    "value_columns = data[\"dataDictionary\"][\"presModelHolder\"][\"genDataDictionaryPresModel\"][\n",
    "    \"dataSegments\"\n",
    "][\"0\"][\"dataColumns\"]"
   ]
  },
  {
   "cell_type": "code",
   "execution_count": null,
   "id": "judicial-improvement",
   "metadata": {},
   "outputs": [],
   "source": [
    "lookup = {d[\"dataType\"]: d[\"dataValues\"] for d in value_columns}"
   ]
  },
  {
   "cell_type": "markdown",
   "id": "liquid-bernard",
   "metadata": {},
   "source": [
    "Pull out the columns of indexes so we can run them against our lookup."
   ]
  },
  {
   "cell_type": "code",
   "execution_count": null,
   "id": "generous-joyce",
   "metadata": {},
   "outputs": [],
   "source": [
    "pres_model_map = data[\"vizData\"][\"presModelHolder\"][\"genPresModelMapPresModel\"][\n",
    "    \"presModelMap\"\n",
    "]"
   ]
  },
  {
   "cell_type": "code",
   "execution_count": null,
   "id": "bridal-singer",
   "metadata": {},
   "outputs": [],
   "source": [
    "columns = pres_model_map[config[\"sheet_id\"]][\"presModelHolder\"][\"genVizDataPresModel\"][\n",
    "    \"paneColumnsData\"\n",
    "][\"paneColumnsList\"][0][\"vizPaneColumns\"]"
   ]
  },
  {
   "cell_type": "markdown",
   "id": "checked-faculty",
   "metadata": {},
   "source": [
    "Using our variables from above, pull out the lists of indexes we need."
   ]
  },
  {
   "cell_type": "code",
   "execution_count": null,
   "id": "meaning-relations",
   "metadata": {},
   "outputs": [],
   "source": [
    "labels_column = columns[config[\"label_index\"]][config[\"label_key\"]]"
   ]
  },
  {
   "cell_type": "code",
   "execution_count": null,
   "id": "fewer-gender",
   "metadata": {},
   "outputs": [],
   "source": [
    "values_column = columns[config[\"value_index\"]][config[\"value_key\"]]"
   ]
  },
  {
   "cell_type": "code",
   "execution_count": null,
   "id": "acceptable-equity",
   "metadata": {},
   "outputs": [],
   "source": [
    "values_column_b = []\n",
    "for val in values_column:\n",
    "    values_column_b.append(abs(val) - 1)"
   ]
  },
  {
   "cell_type": "markdown",
   "id": "reduced-princess",
   "metadata": {},
   "source": [
    "Run each one through our lookup."
   ]
  },
  {
   "cell_type": "code",
   "execution_count": null,
   "id": "adequate-welsh",
   "metadata": {},
   "outputs": [],
   "source": [
    "labels = [lookup[\"cstring\"][label] for label in labels_column]"
   ]
  },
  {
   "cell_type": "code",
   "execution_count": null,
   "id": "hawaiian-cleaning",
   "metadata": {},
   "outputs": [],
   "source": [
    "values = [lookup[\"cstring\"][value] for value in values_column_b]"
   ]
  },
  {
   "cell_type": "code",
   "execution_count": null,
   "id": "incredible-sacrifice",
   "metadata": {},
   "outputs": [],
   "source": [
    "try:\n",
    "    assert len(labels) == len(values)\n",
    "except AssertionError:\n",
    "    raise AssertionError(\"Labels and values list do not add up\")"
   ]
  },
  {
   "cell_type": "markdown",
   "id": "pressed-capacity",
   "metadata": {},
   "source": [
    "`zip` and convert them to a `dict` so they are key/value'ed."
   ]
  },
  {
   "cell_type": "code",
   "execution_count": null,
   "id": "complex-client",
   "metadata": {},
   "outputs": [],
   "source": [
    "data = [\n",
    "    {\"agency\": label, \"doses_on_hand\": value}\n",
    "    for label, value in (sorted(zip(labels, values), key=lambda d: d[0]))\n",
    "]"
   ]
  },
  {
   "cell_type": "markdown",
   "id": "premium-gregory",
   "metadata": {},
   "source": [
    "## Transform"
   ]
  },
  {
   "cell_type": "markdown",
   "id": "meaningful-tribune",
   "metadata": {},
   "source": [
    "Convert into a pandas DataFrame"
   ]
  },
  {
   "cell_type": "code",
   "execution_count": null,
   "id": "documented-cotton",
   "metadata": {},
   "outputs": [],
   "source": [
    "df = pd.DataFrame(data)"
   ]
  },
  {
   "cell_type": "markdown",
   "id": "quantitative-recipe",
   "metadata": {},
   "source": [
    "Convert strings to integers"
   ]
  },
  {
   "cell_type": "code",
   "execution_count": null,
   "id": "intensive-buffer",
   "metadata": {},
   "outputs": [],
   "source": [
    "def safeint(s):\n",
    "    \"\"\"\n",
    "    Convert the provided string to an integer. Return it.\n",
    "    \"\"\"\n",
    "    s = s.replace(\",\", \"\")\n",
    "    return int(s)"
   ]
  },
  {
   "cell_type": "code",
   "execution_count": null,
   "id": "respiratory-buffer",
   "metadata": {},
   "outputs": [],
   "source": [
    "df[\"doses_on_hand\"] = df[\"doses_on_hand\"].apply(safeint)"
   ]
  },
  {
   "cell_type": "markdown",
   "id": "solid-dimension",
   "metadata": {},
   "source": [
    "## Export"
   ]
  },
  {
   "cell_type": "markdown",
   "id": "fewer-driving",
   "metadata": {},
   "source": [
    "Save out the data as a CSV that's datestamped to California time."
   ]
  },
  {
   "cell_type": "code",
   "execution_count": null,
   "id": "assured-monday",
   "metadata": {},
   "outputs": [],
   "source": [
    "tz = pytz.timezone(\"America/Los_Angeles\")"
   ]
  },
  {
   "cell_type": "code",
   "execution_count": null,
   "id": "contained-olympus",
   "metadata": {},
   "outputs": [],
   "source": [
    "today = datetime.now(tz).date()"
   ]
  },
  {
   "cell_type": "code",
   "execution_count": null,
   "id": "instant-durham",
   "metadata": {},
   "outputs": [],
   "source": [
    "data_dir = os.path.join(os.path.abspath(\"\"), \"data\")"
   ]
  },
  {
   "cell_type": "code",
   "execution_count": null,
   "id": "enormous-momentum",
   "metadata": {},
   "outputs": [],
   "source": [
    "df.sort_values(\"agency\").to_csv(os.path.join(data_dir, f\"{today}.csv\"), index=False)"
   ]
  }
 ],
 "metadata": {
  "kernelspec": {
   "display_name": "Python 3",
   "language": "python",
   "name": "python3"
  },
  "language_info": {
   "codemirror_mode": {
    "name": "ipython",
    "version": 3
   },
   "file_extension": ".py",
   "mimetype": "text/x-python",
   "name": "python",
   "nbconvert_exporter": "python",
   "pygments_lexer": "ipython3",
   "version": "3.8.5"
  }
 },
 "nbformat": 4,
 "nbformat_minor": 5
}
