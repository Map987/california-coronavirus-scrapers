{
 "cells": [
  {
   "cell_type": "markdown",
   "id": "geological-source",
   "metadata": {},
   "source": [
    "# vaccine-doses-on-hand\n",
    "\n",
    "By [Sean Greene](https://www.latimes.com/people/sean-greene)\n",
    "\n",
    "Downloads the number of vaccine doses on hand from a Tableau dashboard published by the California Department of Public Health."
   ]
  },
  {
   "cell_type": "markdown",
   "id": "aggregate-longitude",
   "metadata": {},
   "source": [
    "## Import"
   ]
  },
  {
   "cell_type": "markdown",
   "id": "animated-ultimate",
   "metadata": {},
   "source": [
    "Code formatting with [black](https://pypi.org/project/nb-black/)."
   ]
  },
  {
   "cell_type": "code",
   "execution_count": 1,
   "id": "reflected-brunei",
   "metadata": {},
   "outputs": [],
   "source": [
    "%load_ext lab_black"
   ]
  },
  {
   "cell_type": "markdown",
   "id": "beginning-crisis",
   "metadata": {},
   "source": [
    "Import dependencies."
   ]
  },
  {
   "cell_type": "code",
   "execution_count": 72,
   "id": "empty-tribute",
   "metadata": {},
   "outputs": [],
   "source": [
    "import os\n",
    "import re\n",
    "import pytz\n",
    "import json\n",
    "import requests\n",
    "import pandas as pd\n",
    "from datetime import datetime\n",
    "from bs4 import BeautifulSoup"
   ]
  },
  {
   "cell_type": "markdown",
   "id": "greenhouse-minority",
   "metadata": {},
   "source": [
    "## Scrape"
   ]
  },
  {
   "cell_type": "markdown",
   "id": "linear-camcorder",
   "metadata": {},
   "source": [
    "Set the URL"
   ]
  },
  {
   "cell_type": "code",
   "execution_count": 8,
   "id": "solar-small",
   "metadata": {},
   "outputs": [],
   "source": [
    "host = \"https://public.tableau.com\""
   ]
  },
  {
   "cell_type": "code",
   "execution_count": 9,
   "id": "internal-publication",
   "metadata": {},
   "outputs": [],
   "source": [
    "path = \"/views/COVID-19VaccineProviderDashboardPublic/PublicVaccineProviderDashboard\""
   ]
  },
  {
   "cell_type": "code",
   "execution_count": 10,
   "id": "apparent-strain",
   "metadata": {},
   "outputs": [],
   "source": [
    "url = f\"{host}{path}\""
   ]
  },
  {
   "cell_type": "markdown",
   "id": "robust-tsunami",
   "metadata": {},
   "source": [
    "Set the custom variables we need to manipulate the dashboard."
   ]
  },
  {
   "cell_type": "code",
   "execution_count": 11,
   "id": "designed-softball",
   "metadata": {},
   "outputs": [],
   "source": [
    "config = dict(\n",
    "    sheet_id=\"Main Vaccine Data Check (6)\",\n",
    "    value_index=3,\n",
    "    value_key=\"aliasIndices\",\n",
    "    type_index=2,\n",
    "    type_key=\"aliasIndices\",\n",
    "    label_index=1,\n",
    "    label_key=\"aliasIndices\",\n",
    ")"
   ]
  },
  {
   "cell_type": "markdown",
   "id": "absent-division",
   "metadata": {},
   "source": [
    "Request the page"
   ]
  },
  {
   "cell_type": "code",
   "execution_count": 12,
   "id": "younger-significance",
   "metadata": {},
   "outputs": [],
   "source": [
    "response = requests.get(url, params={\":embed\": \"y\", \":showVizHome\": \"no\"})"
   ]
  },
  {
   "cell_type": "markdown",
   "id": "racial-happening",
   "metadata": {},
   "source": [
    "Parse the HTML"
   ]
  },
  {
   "cell_type": "code",
   "execution_count": 18,
   "id": "smart-thompson",
   "metadata": {},
   "outputs": [],
   "source": [
    "soup = BeautifulSoup(response.text, \"html.parser\")"
   ]
  },
  {
   "cell_type": "markdown",
   "id": "amended-signal",
   "metadata": {},
   "source": [
    "Zero in on the part of the page with the URL where we can get the data. It's in JSON format"
   ]
  },
  {
   "cell_type": "code",
   "execution_count": 21,
   "id": "tropical-antigua",
   "metadata": {},
   "outputs": [],
   "source": [
    "json_string = soup.find(\"textarea\", {\"id\": \"tsConfigContainer\"}).text"
   ]
  },
  {
   "cell_type": "markdown",
   "id": "authentic-poison",
   "metadata": {},
   "source": [
    "Parse it."
   ]
  },
  {
   "cell_type": "code",
   "execution_count": 22,
   "id": "dominican-declaration",
   "metadata": {},
   "outputs": [],
   "source": [
    "context = json.loads(json_string)"
   ]
  },
  {
   "cell_type": "markdown",
   "id": "constant-shooting",
   "metadata": {},
   "source": [
    "Pull out the URL"
   ]
  },
  {
   "cell_type": "code",
   "execution_count": 23,
   "id": "worldwide-mineral",
   "metadata": {},
   "outputs": [],
   "source": [
    "data_url = (\n",
    "    f'{host}{context[\"vizql_root\"]}/bootstrapSession/sessions/{context[\"sessionid\"]}'\n",
    ")"
   ]
  },
  {
   "cell_type": "markdown",
   "id": "exempt-retention",
   "metadata": {},
   "source": [
    "Then download the raw data, clean it up, and turn it into usable dictionaries."
   ]
  },
  {
   "cell_type": "code",
   "execution_count": 25,
   "id": "legendary-blanket",
   "metadata": {},
   "outputs": [],
   "source": [
    "response = requests.post(data_url, data={\"sheet_id\": config[\"sheet_id\"]})"
   ]
  },
  {
   "cell_type": "code",
   "execution_count": 26,
   "id": "featured-carolina",
   "metadata": {},
   "outputs": [],
   "source": [
    "raw_text = response.text"
   ]
  },
  {
   "cell_type": "code",
   "execution_count": 27,
   "id": "coordinated-official",
   "metadata": {},
   "outputs": [],
   "source": [
    "json_pieces = [json.loads(d) for d in re.split(\"\\d{2,10};(?={.+})\", raw_text) if len(d)]"
   ]
  },
  {
   "cell_type": "code",
   "execution_count": 28,
   "id": "damaged-divorce",
   "metadata": {},
   "outputs": [],
   "source": [
    "root = next(d for d in json_pieces if \"secondaryInfo\" in d)"
   ]
  },
  {
   "cell_type": "code",
   "execution_count": 29,
   "id": "preceding-eagle",
   "metadata": {},
   "outputs": [],
   "source": [
    "data = root[\"secondaryInfo\"][\"presModelMap\"]"
   ]
  },
  {
   "cell_type": "markdown",
   "id": "worldwide-respect",
   "metadata": {},
   "source": [
    "Build our value lookup."
   ]
  },
  {
   "cell_type": "code",
   "execution_count": 31,
   "id": "sharp-apple",
   "metadata": {},
   "outputs": [],
   "source": [
    "value_columns = data[\"dataDictionary\"][\"presModelHolder\"][\"genDataDictionaryPresModel\"][\n",
    "    \"dataSegments\"\n",
    "][\"0\"][\"dataColumns\"]"
   ]
  },
  {
   "cell_type": "code",
   "execution_count": 32,
   "id": "indian-hacker",
   "metadata": {},
   "outputs": [],
   "source": [
    "lookup = {d[\"dataType\"]: d[\"dataValues\"] for d in value_columns}"
   ]
  },
  {
   "cell_type": "markdown",
   "id": "divided-bridal",
   "metadata": {},
   "source": [
    "Download the embed so we can scrape it and find the VizQL root ID to build our query."
   ]
  },
  {
   "cell_type": "code",
   "execution_count": 33,
   "id": "aquatic-antique",
   "metadata": {},
   "outputs": [],
   "source": [
    "response = requests.get(url, params={\":embed\": \"y\", \":showVizHome\": \"no\"})"
   ]
  },
  {
   "cell_type": "code",
   "execution_count": 34,
   "id": "dated-spanish",
   "metadata": {},
   "outputs": [],
   "source": [
    "soup = BeautifulSoup(response.text, \"html.parser\")"
   ]
  },
  {
   "cell_type": "code",
   "execution_count": 35,
   "id": "induced-aircraft",
   "metadata": {},
   "outputs": [],
   "source": [
    "context = json.loads(soup.find(\"textarea\", {\"id\": \"tsConfigContainer\"}).text)"
   ]
  },
  {
   "cell_type": "code",
   "execution_count": 37,
   "id": "welcome-location",
   "metadata": {},
   "outputs": [],
   "source": [
    "data_url = (\n",
    "    f'{host}{context[\"vizql_root\"]}/bootstrapSession/sessions/{context[\"sessionid\"]}'\n",
    ")"
   ]
  },
  {
   "cell_type": "markdown",
   "id": "metallic-medicine",
   "metadata": {},
   "source": [
    "Then download the raw data, clean it up, and turn it into usable dictionaries."
   ]
  },
  {
   "cell_type": "code",
   "execution_count": 38,
   "id": "former-extreme",
   "metadata": {},
   "outputs": [],
   "source": [
    "response = requests.post(data_url, data={\"sheet_id\": config[\"sheet_id\"]})"
   ]
  },
  {
   "cell_type": "code",
   "execution_count": 39,
   "id": "exclusive-pillow",
   "metadata": {},
   "outputs": [],
   "source": [
    "raw_text = response.text"
   ]
  },
  {
   "cell_type": "code",
   "execution_count": 40,
   "id": "visible-detection",
   "metadata": {},
   "outputs": [],
   "source": [
    "json_pieces = [json.loads(d) for d in re.split(\"\\d{2,10};(?={.+})\", raw_text) if len(d)]"
   ]
  },
  {
   "cell_type": "code",
   "execution_count": 41,
   "id": "therapeutic-lyric",
   "metadata": {},
   "outputs": [],
   "source": [
    "root = next(d for d in json_pieces if \"secondaryInfo\" in d)"
   ]
  },
  {
   "cell_type": "code",
   "execution_count": 42,
   "id": "brave-light",
   "metadata": {},
   "outputs": [],
   "source": [
    "data = root[\"secondaryInfo\"][\"presModelMap\"]"
   ]
  },
  {
   "cell_type": "markdown",
   "id": "dominican-missile",
   "metadata": {},
   "source": [
    "Build our value lookup."
   ]
  },
  {
   "cell_type": "code",
   "execution_count": 43,
   "id": "understood-assault",
   "metadata": {},
   "outputs": [],
   "source": [
    "value_columns = data[\"dataDictionary\"][\"presModelHolder\"][\"genDataDictionaryPresModel\"][\n",
    "    \"dataSegments\"\n",
    "][\"0\"][\"dataColumns\"]"
   ]
  },
  {
   "cell_type": "code",
   "execution_count": 44,
   "id": "still-copyright",
   "metadata": {},
   "outputs": [],
   "source": [
    "lookup = {d[\"dataType\"]: d[\"dataValues\"] for d in value_columns}"
   ]
  },
  {
   "cell_type": "markdown",
   "id": "cubic-victim",
   "metadata": {},
   "source": [
    "Pull out the columns of indexes so we can run them against our lookup."
   ]
  },
  {
   "cell_type": "code",
   "execution_count": 45,
   "id": "comparative-class",
   "metadata": {},
   "outputs": [],
   "source": [
    "pres_model_map = data[\"vizData\"][\"presModelHolder\"][\"genPresModelMapPresModel\"][\n",
    "    \"presModelMap\"\n",
    "]"
   ]
  },
  {
   "cell_type": "code",
   "execution_count": 47,
   "id": "directed-degree",
   "metadata": {},
   "outputs": [],
   "source": [
    "columns = pres_model_map[config[\"sheet_id\"]][\"presModelHolder\"][\"genVizDataPresModel\"][\n",
    "    \"paneColumnsData\"\n",
    "][\"paneColumnsList\"][0][\"vizPaneColumns\"]"
   ]
  },
  {
   "cell_type": "markdown",
   "id": "fewer-brooks",
   "metadata": {},
   "source": [
    "Using our variables from above, pull out the lists of indexes we need."
   ]
  },
  {
   "cell_type": "code",
   "execution_count": 49,
   "id": "tamil-simon",
   "metadata": {},
   "outputs": [],
   "source": [
    "labels_column = columns[config[\"label_index\"]][config[\"label_key\"]]"
   ]
  },
  {
   "cell_type": "code",
   "execution_count": 50,
   "id": "following-receipt",
   "metadata": {},
   "outputs": [],
   "source": [
    "types_column = columns[config[\"type_index\"]][config[\"type_key\"]]"
   ]
  },
  {
   "cell_type": "code",
   "execution_count": 51,
   "id": "junior-distinction",
   "metadata": {},
   "outputs": [],
   "source": [
    "values_column = columns[config[\"value_index\"]][config[\"value_key\"]]"
   ]
  },
  {
   "cell_type": "code",
   "execution_count": 52,
   "id": "athletic-difficulty",
   "metadata": {},
   "outputs": [],
   "source": [
    "values_column_b = []\n",
    "for val in values_column:\n",
    "    values_column_b.append(abs(val) - 1)"
   ]
  },
  {
   "cell_type": "markdown",
   "id": "minimal-machinery",
   "metadata": {},
   "source": [
    "Run each one through our lookup."
   ]
  },
  {
   "cell_type": "code",
   "execution_count": 53,
   "id": "suited-theta",
   "metadata": {},
   "outputs": [],
   "source": [
    "labels = [lookup[\"cstring\"][label] for label in labels_column]"
   ]
  },
  {
   "cell_type": "code",
   "execution_count": 54,
   "id": "requested-granny",
   "metadata": {},
   "outputs": [],
   "source": [
    "types = [lookup[\"cstring\"][type] for type in types_column]"
   ]
  },
  {
   "cell_type": "code",
   "execution_count": 55,
   "id": "happy-restoration",
   "metadata": {},
   "outputs": [],
   "source": [
    "values_start = len(labels) + 4"
   ]
  },
  {
   "cell_type": "code",
   "execution_count": 56,
   "id": "devoted-conclusion",
   "metadata": {},
   "outputs": [],
   "source": [
    "values_end = len(labels)"
   ]
  },
  {
   "cell_type": "code",
   "execution_count": 57,
   "id": "virgin-tuner",
   "metadata": {},
   "outputs": [],
   "source": [
    "values = [lookup[\"cstring\"][value] for value in values_column_b]"
   ]
  },
  {
   "cell_type": "code",
   "execution_count": 58,
   "id": "upper-debate",
   "metadata": {},
   "outputs": [],
   "source": [
    "try:\n",
    "    assert len(labels) == len(values)\n",
    "except AssertionError:\n",
    "    raise AssertionError(\"Labels and values list do not add up\")"
   ]
  },
  {
   "cell_type": "markdown",
   "id": "colonial-bottom",
   "metadata": {},
   "source": [
    "`zip` and convert them to a `dict` so they are key/value'ed."
   ]
  },
  {
   "cell_type": "code",
   "execution_count": 59,
   "id": "selected-bronze",
   "metadata": {},
   "outputs": [],
   "source": [
    "data = [\n",
    "    {\"agency\": label, \"doses_on_hand\": value}\n",
    "    for label, value in (sorted(zip(labels, values), key=lambda d: d[0]))\n",
    "]"
   ]
  },
  {
   "cell_type": "markdown",
   "id": "trained-whale",
   "metadata": {},
   "source": [
    "## Transform"
   ]
  },
  {
   "cell_type": "markdown",
   "id": "hawaiian-purse",
   "metadata": {},
   "source": [
    "Convert into a pandas DataFrame"
   ]
  },
  {
   "cell_type": "code",
   "execution_count": 66,
   "id": "desperate-closer",
   "metadata": {},
   "outputs": [],
   "source": [
    "df = pd.DataFrame(data)"
   ]
  },
  {
   "cell_type": "markdown",
   "id": "frozen-colony",
   "metadata": {},
   "source": [
    "Convert strings to integers"
   ]
  },
  {
   "cell_type": "code",
   "execution_count": 68,
   "id": "strange-passion",
   "metadata": {},
   "outputs": [],
   "source": [
    "def safeint(s):\n",
    "    \"\"\"\n",
    "    Convert the provided string to an integer. Return it.\n",
    "    \"\"\"\n",
    "    s = s.replace(\",\", \"\")\n",
    "    return int(s)"
   ]
  },
  {
   "cell_type": "code",
   "execution_count": 69,
   "id": "framed-plasma",
   "metadata": {},
   "outputs": [],
   "source": [
    "df[\"doses_on_hand\"] = df[\"doses_on_hand\"].apply(safeint)"
   ]
  },
  {
   "cell_type": "markdown",
   "id": "advance-madness",
   "metadata": {},
   "source": [
    "## Export"
   ]
  },
  {
   "cell_type": "markdown",
   "id": "sticky-magazine",
   "metadata": {},
   "source": [
    "Save out the data as a CSV that's datestamped to California time."
   ]
  },
  {
   "cell_type": "code",
   "execution_count": 62,
   "id": "broadband-basics",
   "metadata": {},
   "outputs": [],
   "source": [
    "tz = pytz.timezone(\"America/Los_Angeles\")"
   ]
  },
  {
   "cell_type": "code",
   "execution_count": 65,
   "id": "norwegian-ordinance",
   "metadata": {},
   "outputs": [],
   "source": [
    "today = datetime.now(tz).date()"
   ]
  },
  {
   "cell_type": "code",
   "execution_count": 75,
   "id": "direct-victorian",
   "metadata": {},
   "outputs": [],
   "source": [
    "data_dir = os.path.join(os.path.abspath(\"\"), \"data\")"
   ]
  },
  {
   "cell_type": "code",
   "execution_count": 83,
   "id": "lonely-comedy",
   "metadata": {},
   "outputs": [],
   "source": [
    "df.sort_values(\"agency\").to_csv(os.path.join(data_dir, f\"{today}.csv\"), index=False)"
   ]
  }
 ],
 "metadata": {
  "kernelspec": {
   "display_name": "Python 3",
   "language": "python",
   "name": "python3"
  },
  "language_info": {
   "codemirror_mode": {
    "name": "ipython",
    "version": 3
   },
   "file_extension": ".py",
   "mimetype": "text/x-python",
   "name": "python",
   "nbconvert_exporter": "python",
   "pygments_lexer": "ipython3",
   "version": "3.8.5"
  }
 },
 "nbformat": 4,
 "nbformat_minor": 5
}
