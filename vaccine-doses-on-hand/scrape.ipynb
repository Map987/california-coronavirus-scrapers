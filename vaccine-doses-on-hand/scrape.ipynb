{
 "cells": [
  {
   "cell_type": "markdown",
   "id": "first-industry",
   "metadata": {},
   "source": [
    "# vaccine-doses-on-hand\n",
    "\n",
    "By [Sean Greene](https://www.latimes.com/people/sean-greene)\n",
    "\n",
    "Downloads the number of vaccine doses on hand from a Tableau dashboard published by the California Department of Public Health."
   ]
  },
  {
   "cell_type": "markdown",
   "id": "wired-perception",
   "metadata": {},
   "source": [
    "## Import"
   ]
  },
  {
   "cell_type": "markdown",
   "id": "tamil-economy",
   "metadata": {},
   "source": [
    "Code formatting with [black](https://pypi.org/project/nb-black/)."
   ]
  },
  {
   "cell_type": "code",
   "execution_count": 1,
   "id": "running-district",
   "metadata": {},
   "outputs": [],
   "source": [
    ""
   ]
  },
  {
   "cell_type": "markdown",
   "id": "further-playback",
   "metadata": {},
   "source": [
    "Import dependencies."
   ]
  },
  {
   "cell_type": "code",
   "execution_count": 2,
   "id": "polyphonic-drill",
   "metadata": {},
   "outputs": [],
   "source": [
    "import os\n",
    "import pytz\n",
    "from datetime import datetime"
   ]
  },
  {
   "cell_type": "code",
   "execution_count": 3,
   "id": "grateful-sample",
   "metadata": {},
   "outputs": [],
   "source": [
    "from tableauscraper import TableauScraper as TS"
   ]
  },
  {
   "cell_type": "markdown",
   "id": "pacific-burns",
   "metadata": {},
   "source": [
    "## Scrape"
   ]
  },
  {
   "cell_type": "markdown",
   "id": "advanced-growth",
   "metadata": {},
   "source": [
    "Set the URL"
   ]
  },
  {
   "cell_type": "code",
   "execution_count": 4,
   "id": "preliminary-ribbon",
   "metadata": {},
   "outputs": [],
   "source": [
    "host = \"https://public.tableau.com\""
   ]
  },
  {
   "cell_type": "code",
   "execution_count": 5,
   "id": "juvenile-share",
   "metadata": {},
   "outputs": [],
   "source": [
    "path = \"/views/COVID-19VaccineProviderDashboardPublic/PublicVaccineProviderDashboard\""
   ]
  },
  {
   "cell_type": "code",
   "execution_count": 6,
   "id": "intermediate-kitty",
   "metadata": {},
   "outputs": [],
   "source": [
    "url = f\"{host}{path}\""
   ]
  },
  {
   "cell_type": "code",
   "execution_count": 7,
   "id": "boring-advisory",
   "metadata": {},
   "outputs": [],
   "source": [
    "ts = TS()\n",
    "ts.loads(url)"
   ]
  },
  {
   "cell_type": "code",
   "execution_count": 11,
   "id": "composed-german",
   "metadata": {},
   "outputs": [],
   "source": [
    "dashboard = ts.getWorkbook()"
   ]
  },
  {
   "cell_type": "code",
   "execution_count": 12,
   "id": "nervous-large",
   "metadata": {},
   "outputs": [],
   "source": [
    "target = \"Main Vaccine Data Check (6)\""
   ]
  },
  {
   "cell_type": "code",
   "execution_count": 13,
   "id": "interesting-vault",
   "metadata": {},
   "outputs": [],
   "source": [
    "sheet = next(w for w in dashboard.worksheets if w.name == target)"
   ]
  },
  {
   "cell_type": "code",
   "execution_count": 14,
   "id": "2669dff6-10a2-4580-aaad-9f16b9191a63",
   "metadata": {},
   "outputs": [],
   "source": [
    "df = sheet.data"
   ]
  },
  {
   "cell_type": "code",
   "execution_count": 12,
   "id": "00a8692c-ae76-4fff-b128-4817922702c7",
   "metadata": {},
   "outputs": [
    {
     "data": {
      "text/html": [
       "<div>\n",
       "<style scoped>\n",
       "    .dataframe tbody tr th:only-of-type {\n",
       "        vertical-align: middle;\n",
       "    }\n",
       "\n",
       "    .dataframe tbody tr th {\n",
       "        vertical-align: top;\n",
       "    }\n",
       "\n",
       "    .dataframe thead th {\n",
       "        text-align: right;\n",
       "    }\n",
       "</style>\n",
       "<table border=\"1\" class=\"dataframe\">\n",
       "  <thead>\n",
       "    <tr style=\"text-align: right;\">\n",
       "      <th></th>\n",
       "      <th>MCE/LHJ/LTCF-value</th>\n",
       "      <th>MCE/LHJ/LTCF-alias</th>\n",
       "      <th>Type-value</th>\n",
       "      <th>Type-alias</th>\n",
       "      <th>AGG(Total On Hand Tiberius)-alias</th>\n",
       "    </tr>\n",
       "  </thead>\n",
       "  <tbody>\n",
       "    <tr>\n",
       "      <th>0</th>\n",
       "      <td>Adventist Health</td>\n",
       "      <td>Adventist Health</td>\n",
       "      <td>MCE</td>\n",
       "      <td>Multi-County Entity</td>\n",
       "      <td>30867</td>\n",
       "    </tr>\n",
       "    <tr>\n",
       "      <th>1</th>\n",
       "      <td>AHMC</td>\n",
       "      <td>AHMC</td>\n",
       "      <td>MCE</td>\n",
       "      <td>Multi-County Entity</td>\n",
       "      <td>5177</td>\n",
       "    </tr>\n",
       "    <tr>\n",
       "      <th>2</th>\n",
       "      <td>Alameda County Public Health Department</td>\n",
       "      <td>Alameda County Public Health Department</td>\n",
       "      <td>LHJ</td>\n",
       "      <td>Local Health Jurisdiction</td>\n",
       "      <td>91881</td>\n",
       "    </tr>\n",
       "    <tr>\n",
       "      <th>3</th>\n",
       "      <td>Albertsons</td>\n",
       "      <td>Albertsons</td>\n",
       "      <td>LTCF</td>\n",
       "      <td>LTCF</td>\n",
       "      <td>210655</td>\n",
       "    </tr>\n",
       "    <tr>\n",
       "      <th>4</th>\n",
       "      <td>Alpine County Health and Human Services</td>\n",
       "      <td>Alpine County Health and Human Services</td>\n",
       "      <td>LHJ</td>\n",
       "      <td>Local Health Jurisdiction</td>\n",
       "      <td>690</td>\n",
       "    </tr>\n",
       "    <tr>\n",
       "      <th>...</th>\n",
       "      <td>...</td>\n",
       "      <td>...</td>\n",
       "      <td>...</td>\n",
       "      <td>...</td>\n",
       "      <td>...</td>\n",
       "    </tr>\n",
       "    <tr>\n",
       "      <th>83</th>\n",
       "      <td>UC Health</td>\n",
       "      <td>UC Health</td>\n",
       "      <td>MCE</td>\n",
       "      <td>Multi-County Entity</td>\n",
       "      <td>88194</td>\n",
       "    </tr>\n",
       "    <tr>\n",
       "      <th>84</th>\n",
       "      <td>Ventura County Health Department</td>\n",
       "      <td>Ventura County Health Department</td>\n",
       "      <td>LHJ</td>\n",
       "      <td>Local Health Jurisdiction</td>\n",
       "      <td>28019</td>\n",
       "    </tr>\n",
       "    <tr>\n",
       "      <th>85</th>\n",
       "      <td>Walgreens</td>\n",
       "      <td>Walgreens</td>\n",
       "      <td>LTCF</td>\n",
       "      <td>LTCF</td>\n",
       "      <td>176692</td>\n",
       "    </tr>\n",
       "    <tr>\n",
       "      <th>86</th>\n",
       "      <td>Walmart</td>\n",
       "      <td>Walmart</td>\n",
       "      <td>LTCF</td>\n",
       "      <td>LTCF</td>\n",
       "      <td>6207</td>\n",
       "    </tr>\n",
       "    <tr>\n",
       "      <th>87</th>\n",
       "      <td>Yolo County Health and Human Services Agency</td>\n",
       "      <td>Yolo County Health and Human Services Agency</td>\n",
       "      <td>LHJ</td>\n",
       "      <td>Local Health Jurisdiction</td>\n",
       "      <td>9935</td>\n",
       "    </tr>\n",
       "  </tbody>\n",
       "</table>\n",
       "<p>88 rows × 5 columns</p>\n",
       "</div>"
      ],
      "text/plain": [
       "                              MCE/LHJ/LTCF-value  \\\n",
       "0                               Adventist Health   \n",
       "1                                           AHMC   \n",
       "2        Alameda County Public Health Department   \n",
       "3                                     Albertsons   \n",
       "4        Alpine County Health and Human Services   \n",
       "..                                           ...   \n",
       "83                                     UC Health   \n",
       "84              Ventura County Health Department   \n",
       "85                                     Walgreens   \n",
       "86                                       Walmart   \n",
       "87  Yolo County Health and Human Services Agency   \n",
       "\n",
       "                              MCE/LHJ/LTCF-alias Type-value  \\\n",
       "0                               Adventist Health        MCE   \n",
       "1                                           AHMC        MCE   \n",
       "2        Alameda County Public Health Department        LHJ   \n",
       "3                                     Albertsons       LTCF   \n",
       "4        Alpine County Health and Human Services        LHJ   \n",
       "..                                           ...        ...   \n",
       "83                                     UC Health        MCE   \n",
       "84              Ventura County Health Department        LHJ   \n",
       "85                                     Walgreens       LTCF   \n",
       "86                                       Walmart       LTCF   \n",
       "87  Yolo County Health and Human Services Agency        LHJ   \n",
       "\n",
       "                   Type-alias AGG(Total On Hand Tiberius)-alias  \n",
       "0         Multi-County Entity                             30867  \n",
       "1         Multi-County Entity                              5177  \n",
       "2   Local Health Jurisdiction                             91881  \n",
       "3                        LTCF                            210655  \n",
       "4   Local Health Jurisdiction                               690  \n",
       "..                        ...                               ...  \n",
       "83        Multi-County Entity                             88194  \n",
       "84  Local Health Jurisdiction                             28019  \n",
       "85                       LTCF                            176692  \n",
       "86                       LTCF                              6207  \n",
       "87  Local Health Jurisdiction                              9935  \n",
       "\n",
       "[88 rows x 5 columns]"
      ]
     },
     "execution_count": 12,
     "metadata": {},
     "output_type": "execute_result"
    }
   ],
   "source": [
    "df"
   ]
  },
  {
   "cell_type": "markdown",
   "id": "adjustable-listing",
   "metadata": {},
   "source": [
    "## Export"
   ]
  },
  {
   "cell_type": "markdown",
   "id": "another-proceeding",
   "metadata": {},
   "source": [
    "Save out the data as a CSV that's datestamped to California time."
   ]
  },
  {
   "cell_type": "code",
   "execution_count": null,
   "id": "civic-birth",
   "metadata": {},
   "outputs": [],
   "source": [
    "tz = pytz.timezone(\"America/Los_Angeles\")"
   ]
  },
  {
   "cell_type": "code",
   "execution_count": null,
   "id": "specialized-might",
   "metadata": {},
   "outputs": [],
   "source": [
    "today = datetime.now(tz).date()"
   ]
  },
  {
   "cell_type": "code",
   "execution_count": null,
   "id": "early-characteristic",
   "metadata": {},
   "outputs": [],
   "source": [
    "data_dir = os.path.join(os.path.abspath(\"\"), \"data\")"
   ]
  },
  {
   "cell_type": "code",
   "execution_count": null,
   "id": "egyptian-provision",
   "metadata": {},
   "outputs": [],
   "source": [
    "df.to_csv(os.path.join(data_dir, f\"{today}.csv\"), index=False)"
   ]
  }
 ],
 "metadata": {
  "kernelspec": {
   "display_name": "Python 3",
   "language": "python",
   "name": "python3"
  },
  "language_info": {
   "codemirror_mode": {
    "name": "ipython",
    "version": 3
   },
   "file_extension": ".py",
   "mimetype": "text/x-python",
   "name": "python",
   "nbconvert_exporter": "python",
   "pygments_lexer": "ipython3",
   "version": "3.8.0"
  }
 },
 "nbformat": 4,
 "nbformat_minor": 5
}
