{
 "cells": [
  {
   "cell_type": "markdown",
   "id": "geological-source",
   "metadata": {},
   "source": [
    "# vaccine-doses-on-hand\n",
    "\n",
    "By [Sean Greene](https://www.latimes.com/people/sean-greene)\n",
    "\n",
    "Downloads the number of vaccine doses on hand from a Tableau dashboard published by the California Department of Public Health."
   ]
  },
  {
   "cell_type": "markdown",
   "id": "aggregate-longitude",
   "metadata": {},
   "source": [
    "## Import"
   ]
  },
  {
   "cell_type": "markdown",
   "id": "animated-ultimate",
   "metadata": {},
   "source": [
    "Code formatting with [black](https://pypi.org/project/nb-black/)."
   ]
  },
  {
   "cell_type": "code",
   "execution_count": 1,
   "id": "reflected-brunei",
   "metadata": {
    "execution": {
     "iopub.execute_input": "2021-02-18T23:13:15.383947Z",
     "iopub.status.busy": "2021-02-18T23:13:15.378958Z",
     "iopub.status.idle": "2021-02-18T23:13:15.465173Z",
     "shell.execute_reply": "2021-02-18T23:13:15.465532Z"
    }
   },
   "outputs": [],
   "source": [
    "%load_ext lab_black"
   ]
  },
  {
   "cell_type": "markdown",
   "id": "beginning-crisis",
   "metadata": {},
   "source": [
    "Import dependencies."
   ]
  },
  {
   "cell_type": "code",
   "execution_count": 2,
   "id": "empty-tribute",
   "metadata": {
    "execution": {
     "iopub.execute_input": "2021-02-18T23:13:15.469123Z",
     "iopub.status.busy": "2021-02-18T23:13:15.468615Z",
     "iopub.status.idle": "2021-02-18T23:13:15.837552Z",
     "shell.execute_reply": "2021-02-18T23:13:15.837923Z"
    }
   },
   "outputs": [],
   "source": [
    "import os\n",
    "import re\n",
    "import pytz\n",
    "import json\n",
    "import requests\n",
    "import pandas as pd\n",
    "from datetime import datetime\n",
    "from bs4 import BeautifulSoup"
   ]
  },
  {
   "cell_type": "markdown",
   "id": "greenhouse-minority",
   "metadata": {},
   "source": [
    "## Scrape"
   ]
  },
  {
   "cell_type": "markdown",
   "id": "linear-camcorder",
   "metadata": {},
   "source": [
    "Set the URL"
   ]
  },
  {
   "cell_type": "code",
   "execution_count": 3,
   "id": "solar-small",
   "metadata": {
    "execution": {
     "iopub.execute_input": "2021-02-18T23:13:15.842725Z",
     "iopub.status.busy": "2021-02-18T23:13:15.841481Z",
     "iopub.status.idle": "2021-02-18T23:13:15.846132Z",
     "shell.execute_reply": "2021-02-18T23:13:15.846519Z"
    }
   },
   "outputs": [],
   "source": [
    "host = \"https://public.tableau.com\""
   ]
  },
  {
   "cell_type": "code",
   "execution_count": 4,
   "id": "internal-publication",
   "metadata": {
    "execution": {
     "iopub.execute_input": "2021-02-18T23:13:15.850574Z",
     "iopub.status.busy": "2021-02-18T23:13:15.850093Z",
     "iopub.status.idle": "2021-02-18T23:13:15.852581Z",
     "shell.execute_reply": "2021-02-18T23:13:15.852125Z"
    }
   },
   "outputs": [],
   "source": [
    "path = \"/views/COVID-19VaccineProviderDashboardPublic/PublicVaccineProviderDashboard\""
   ]
  },
  {
   "cell_type": "code",
   "execution_count": 5,
   "id": "apparent-strain",
   "metadata": {
    "execution": {
     "iopub.execute_input": "2021-02-18T23:13:15.856813Z",
     "iopub.status.busy": "2021-02-18T23:13:15.856360Z",
     "iopub.status.idle": "2021-02-18T23:13:15.858572Z",
     "shell.execute_reply": "2021-02-18T23:13:15.858138Z"
    }
   },
   "outputs": [],
   "source": [
    "url = f\"{host}{path}\""
   ]
  },
  {
   "cell_type": "markdown",
   "id": "robust-tsunami",
   "metadata": {},
   "source": [
    "Set the custom variables we need to manipulate the dashboard."
   ]
  },
  {
   "cell_type": "code",
   "execution_count": 6,
   "id": "designed-softball",
   "metadata": {
    "execution": {
     "iopub.execute_input": "2021-02-18T23:13:15.862515Z",
     "iopub.status.busy": "2021-02-18T23:13:15.862075Z",
     "iopub.status.idle": "2021-02-18T23:13:15.867610Z",
     "shell.execute_reply": "2021-02-18T23:13:15.867237Z"
    }
   },
   "outputs": [],
   "source": [
    "config = dict(\n",
    "    sheet_id=\"Main Vaccine Data Check (6)\",\n",
    "    value_index=3,\n",
    "    value_key=\"aliasIndices\",\n",
    "    type_index=2,\n",
    "    type_key=\"aliasIndices\",\n",
    "    label_index=1,\n",
    "    label_key=\"aliasIndices\",\n",
    ")"
   ]
  },
  {
   "cell_type": "markdown",
   "id": "absent-division",
   "metadata": {},
   "source": [
    "Request the page"
   ]
  },
  {
   "cell_type": "code",
   "execution_count": 7,
   "id": "younger-significance",
   "metadata": {
    "execution": {
     "iopub.execute_input": "2021-02-18T23:13:15.873173Z",
     "iopub.status.busy": "2021-02-18T23:13:15.872683Z",
     "iopub.status.idle": "2021-02-18T23:13:16.249240Z",
     "shell.execute_reply": "2021-02-18T23:13:16.247030Z"
    }
   },
   "outputs": [],
   "source": [
    "response = requests.get(url, params={\":embed\": \"y\", \":showVizHome\": \"no\"})"
   ]
  },
  {
   "cell_type": "markdown",
   "id": "racial-happening",
   "metadata": {},
   "source": [
    "Parse the HTML"
   ]
  },
  {
   "cell_type": "code",
   "execution_count": 8,
   "id": "smart-thompson",
   "metadata": {
    "execution": {
     "iopub.execute_input": "2021-02-18T23:13:16.263693Z",
     "iopub.status.busy": "2021-02-18T23:13:16.262032Z",
     "iopub.status.idle": "2021-02-18T23:13:16.294643Z",
     "shell.execute_reply": "2021-02-18T23:13:16.294273Z"
    }
   },
   "outputs": [],
   "source": [
    "soup = BeautifulSoup(response.text, \"html.parser\")"
   ]
  },
  {
   "cell_type": "markdown",
   "id": "amended-signal",
   "metadata": {},
   "source": [
    "Zero in on the part of the page with the URL where we can get the data. It's in JSON format"
   ]
  },
  {
   "cell_type": "code",
   "execution_count": 9,
   "id": "tropical-antigua",
   "metadata": {
    "execution": {
     "iopub.execute_input": "2021-02-18T23:13:16.298333Z",
     "iopub.status.busy": "2021-02-18T23:13:16.297802Z",
     "iopub.status.idle": "2021-02-18T23:13:16.301472Z",
     "shell.execute_reply": "2021-02-18T23:13:16.301822Z"
    }
   },
   "outputs": [],
   "source": [
    "json_string = soup.find(\"textarea\", {\"id\": \"tsConfigContainer\"}).text"
   ]
  },
  {
   "cell_type": "markdown",
   "id": "authentic-poison",
   "metadata": {},
   "source": [
    "Parse it."
   ]
  },
  {
   "cell_type": "code",
   "execution_count": 10,
   "id": "dominican-declaration",
   "metadata": {
    "execution": {
     "iopub.execute_input": "2021-02-18T23:13:16.305878Z",
     "iopub.status.busy": "2021-02-18T23:13:16.305293Z",
     "iopub.status.idle": "2021-02-18T23:13:16.308214Z",
     "shell.execute_reply": "2021-02-18T23:13:16.307844Z"
    }
   },
   "outputs": [],
   "source": [
    "context = json.loads(json_string)"
   ]
  },
  {
   "cell_type": "markdown",
   "id": "constant-shooting",
   "metadata": {},
   "source": [
    "Pull out the URL"
   ]
  },
  {
   "cell_type": "code",
   "execution_count": 11,
   "id": "worldwide-mineral",
   "metadata": {
    "execution": {
     "iopub.execute_input": "2021-02-18T23:13:16.312813Z",
     "iopub.status.busy": "2021-02-18T23:13:16.312311Z",
     "iopub.status.idle": "2021-02-18T23:13:16.314956Z",
     "shell.execute_reply": "2021-02-18T23:13:16.314576Z"
    }
   },
   "outputs": [],
   "source": [
    "data_url = (\n",
    "    f'{host}{context[\"vizql_root\"]}/bootstrapSession/sessions/{context[\"sessionid\"]}'\n",
    ")"
   ]
  },
  {
   "cell_type": "markdown",
   "id": "exempt-retention",
   "metadata": {},
   "source": [
    "Then download the raw data, clean it up, and turn it into usable dictionaries."
   ]
  },
  {
   "cell_type": "code",
   "execution_count": 12,
   "id": "legendary-blanket",
   "metadata": {
    "execution": {
     "iopub.execute_input": "2021-02-18T23:13:16.320225Z",
     "iopub.status.busy": "2021-02-18T23:13:16.319785Z",
     "iopub.status.idle": "2021-02-18T23:13:16.500857Z",
     "shell.execute_reply": "2021-02-18T23:13:16.499495Z"
    }
   },
   "outputs": [],
   "source": [
    "response = requests.post(data_url, data={\"sheet_id\": config[\"sheet_id\"]})"
   ]
  },
  {
   "cell_type": "code",
   "execution_count": 13,
   "id": "featured-carolina",
   "metadata": {
    "execution": {
     "iopub.execute_input": "2021-02-18T23:13:16.511594Z",
     "iopub.status.busy": "2021-02-18T23:13:16.510023Z",
     "iopub.status.idle": "2021-02-18T23:13:16.519177Z",
     "shell.execute_reply": "2021-02-18T23:13:16.517924Z"
    }
   },
   "outputs": [],
   "source": [
    "raw_text = response.text"
   ]
  },
  {
   "cell_type": "code",
   "execution_count": 14,
   "id": "coordinated-official",
   "metadata": {
    "execution": {
     "iopub.execute_input": "2021-02-18T23:13:16.546608Z",
     "iopub.status.busy": "2021-02-18T23:13:16.546017Z",
     "iopub.status.idle": "2021-02-18T23:13:16.550679Z",
     "shell.execute_reply": "2021-02-18T23:13:16.551056Z"
    }
   },
   "outputs": [],
   "source": [
    "json_pieces = [json.loads(d) for d in re.split(\"\\d{2,10};(?={.+})\", raw_text) if len(d)]"
   ]
  },
  {
   "cell_type": "code",
   "execution_count": 15,
   "id": "damaged-divorce",
   "metadata": {
    "execution": {
     "iopub.execute_input": "2021-02-18T23:13:16.555647Z",
     "iopub.status.busy": "2021-02-18T23:13:16.555179Z",
     "iopub.status.idle": "2021-02-18T23:13:16.557576Z",
     "shell.execute_reply": "2021-02-18T23:13:16.557215Z"
    }
   },
   "outputs": [],
   "source": [
    "root = next(d for d in json_pieces if \"secondaryInfo\" in d)"
   ]
  },
  {
   "cell_type": "code",
   "execution_count": 16,
   "id": "preceding-eagle",
   "metadata": {
    "execution": {
     "iopub.execute_input": "2021-02-18T23:13:16.561749Z",
     "iopub.status.busy": "2021-02-18T23:13:16.561278Z",
     "iopub.status.idle": "2021-02-18T23:13:16.563724Z",
     "shell.execute_reply": "2021-02-18T23:13:16.563330Z"
    }
   },
   "outputs": [],
   "source": [
    "data = root[\"secondaryInfo\"][\"presModelMap\"]"
   ]
  },
  {
   "cell_type": "markdown",
   "id": "worldwide-respect",
   "metadata": {},
   "source": [
    "Build our value lookup."
   ]
  },
  {
   "cell_type": "code",
   "execution_count": 17,
   "id": "sharp-apple",
   "metadata": {
    "execution": {
     "iopub.execute_input": "2021-02-18T23:13:16.567380Z",
     "iopub.status.busy": "2021-02-18T23:13:16.566902Z",
     "iopub.status.idle": "2021-02-18T23:13:16.571368Z",
     "shell.execute_reply": "2021-02-18T23:13:16.571725Z"
    }
   },
   "outputs": [],
   "source": [
    "value_columns = data[\"dataDictionary\"][\"presModelHolder\"][\"genDataDictionaryPresModel\"][\n",
    "    \"dataSegments\"\n",
    "][\"0\"][\"dataColumns\"]"
   ]
  },
  {
   "cell_type": "code",
   "execution_count": 18,
   "id": "indian-hacker",
   "metadata": {
    "execution": {
     "iopub.execute_input": "2021-02-18T23:13:16.575363Z",
     "iopub.status.busy": "2021-02-18T23:13:16.574885Z",
     "iopub.status.idle": "2021-02-18T23:13:16.577978Z",
     "shell.execute_reply": "2021-02-18T23:13:16.578336Z"
    }
   },
   "outputs": [],
   "source": [
    "lookup = {d[\"dataType\"]: d[\"dataValues\"] for d in value_columns}"
   ]
  },
  {
   "cell_type": "markdown",
   "id": "divided-bridal",
   "metadata": {},
   "source": [
    "Download the embed so we can scrape it and find the VizQL root ID to build our query."
   ]
  },
  {
   "cell_type": "code",
   "execution_count": 19,
   "id": "aquatic-antique",
   "metadata": {
    "execution": {
     "iopub.execute_input": "2021-02-18T23:13:16.583178Z",
     "iopub.status.busy": "2021-02-18T23:13:16.581217Z",
     "iopub.status.idle": "2021-02-18T23:13:16.955792Z",
     "shell.execute_reply": "2021-02-18T23:13:16.954984Z"
    }
   },
   "outputs": [],
   "source": [
    "response = requests.get(url, params={\":embed\": \"y\", \":showVizHome\": \"no\"})"
   ]
  },
  {
   "cell_type": "code",
   "execution_count": 20,
   "id": "dated-spanish",
   "metadata": {
    "execution": {
     "iopub.execute_input": "2021-02-18T23:13:16.979039Z",
     "iopub.status.busy": "2021-02-18T23:13:16.978554Z",
     "iopub.status.idle": "2021-02-18T23:13:16.982104Z",
     "shell.execute_reply": "2021-02-18T23:13:16.982607Z"
    }
   },
   "outputs": [],
   "source": [
    "soup = BeautifulSoup(response.text, \"html.parser\")"
   ]
  },
  {
   "cell_type": "code",
   "execution_count": 21,
   "id": "induced-aircraft",
   "metadata": {
    "execution": {
     "iopub.execute_input": "2021-02-18T23:13:16.987238Z",
     "iopub.status.busy": "2021-02-18T23:13:16.986789Z",
     "iopub.status.idle": "2021-02-18T23:13:16.990738Z",
     "shell.execute_reply": "2021-02-18T23:13:16.990296Z"
    }
   },
   "outputs": [],
   "source": [
    "context = json.loads(soup.find(\"textarea\", {\"id\": \"tsConfigContainer\"}).text)"
   ]
  },
  {
   "cell_type": "code",
   "execution_count": 22,
   "id": "welcome-location",
   "metadata": {
    "execution": {
     "iopub.execute_input": "2021-02-18T23:13:16.994541Z",
     "iopub.status.busy": "2021-02-18T23:13:16.993854Z",
     "iopub.status.idle": "2021-02-18T23:13:16.997299Z",
     "shell.execute_reply": "2021-02-18T23:13:16.997648Z"
    }
   },
   "outputs": [],
   "source": [
    "data_url = (\n",
    "    f'{host}{context[\"vizql_root\"]}/bootstrapSession/sessions/{context[\"sessionid\"]}'\n",
    ")"
   ]
  },
  {
   "cell_type": "markdown",
   "id": "metallic-medicine",
   "metadata": {},
   "source": [
    "Then download the raw data, clean it up, and turn it into usable dictionaries."
   ]
  },
  {
   "cell_type": "code",
   "execution_count": 23,
   "id": "former-extreme",
   "metadata": {
    "execution": {
     "iopub.execute_input": "2021-02-18T23:13:17.001693Z",
     "iopub.status.busy": "2021-02-18T23:13:17.001036Z",
     "iopub.status.idle": "2021-02-18T23:13:17.376373Z",
     "shell.execute_reply": "2021-02-18T23:13:17.374754Z"
    }
   },
   "outputs": [],
   "source": [
    "response = requests.post(data_url, data={\"sheet_id\": config[\"sheet_id\"]})"
   ]
  },
  {
   "cell_type": "code",
   "execution_count": 24,
   "id": "exclusive-pillow",
   "metadata": {
    "execution": {
     "iopub.execute_input": "2021-02-18T23:13:17.388532Z",
     "iopub.status.busy": "2021-02-18T23:13:17.385749Z",
     "iopub.status.idle": "2021-02-18T23:13:17.394699Z",
     "shell.execute_reply": "2021-02-18T23:13:17.393306Z"
    }
   },
   "outputs": [],
   "source": [
    "raw_text = response.text"
   ]
  },
  {
   "cell_type": "code",
   "execution_count": 25,
   "id": "visible-detection",
   "metadata": {
    "execution": {
     "iopub.execute_input": "2021-02-18T23:13:17.421147Z",
     "iopub.status.busy": "2021-02-18T23:13:17.420585Z",
     "iopub.status.idle": "2021-02-18T23:13:17.425079Z",
     "shell.execute_reply": "2021-02-18T23:13:17.425464Z"
    }
   },
   "outputs": [],
   "source": [
    "json_pieces = [json.loads(d) for d in re.split(\"\\d{2,10};(?={.+})\", raw_text) if len(d)]"
   ]
  },
  {
   "cell_type": "code",
   "execution_count": 26,
   "id": "therapeutic-lyric",
   "metadata": {
    "execution": {
     "iopub.execute_input": "2021-02-18T23:13:17.429307Z",
     "iopub.status.busy": "2021-02-18T23:13:17.428826Z",
     "iopub.status.idle": "2021-02-18T23:13:17.432149Z",
     "shell.execute_reply": "2021-02-18T23:13:17.431774Z"
    }
   },
   "outputs": [],
   "source": [
    "root = next(d for d in json_pieces if \"secondaryInfo\" in d)"
   ]
  },
  {
   "cell_type": "code",
   "execution_count": 27,
   "id": "brave-light",
   "metadata": {
    "execution": {
     "iopub.execute_input": "2021-02-18T23:13:17.436316Z",
     "iopub.status.busy": "2021-02-18T23:13:17.435684Z",
     "iopub.status.idle": "2021-02-18T23:13:17.438696Z",
     "shell.execute_reply": "2021-02-18T23:13:17.438239Z"
    }
   },
   "outputs": [],
   "source": [
    "data = root[\"secondaryInfo\"][\"presModelMap\"]"
   ]
  },
  {
   "cell_type": "markdown",
   "id": "dominican-missile",
   "metadata": {},
   "source": [
    "Build our value lookup."
   ]
  },
  {
   "cell_type": "code",
   "execution_count": 28,
   "id": "understood-assault",
   "metadata": {
    "execution": {
     "iopub.execute_input": "2021-02-18T23:13:17.442116Z",
     "iopub.status.busy": "2021-02-18T23:13:17.441680Z",
     "iopub.status.idle": "2021-02-18T23:13:17.447304Z",
     "shell.execute_reply": "2021-02-18T23:13:17.446852Z"
    }
   },
   "outputs": [],
   "source": [
    "value_columns = data[\"dataDictionary\"][\"presModelHolder\"][\"genDataDictionaryPresModel\"][\n",
    "    \"dataSegments\"\n",
    "][\"0\"][\"dataColumns\"]"
   ]
  },
  {
   "cell_type": "code",
   "execution_count": 29,
   "id": "still-copyright",
   "metadata": {
    "execution": {
     "iopub.execute_input": "2021-02-18T23:13:17.451448Z",
     "iopub.status.busy": "2021-02-18T23:13:17.450999Z",
     "iopub.status.idle": "2021-02-18T23:13:17.454480Z",
     "shell.execute_reply": "2021-02-18T23:13:17.454822Z"
    }
   },
   "outputs": [],
   "source": [
    "lookup = {d[\"dataType\"]: d[\"dataValues\"] for d in value_columns}"
   ]
  },
  {
   "cell_type": "markdown",
   "id": "cubic-victim",
   "metadata": {},
   "source": [
    "Pull out the columns of indexes so we can run them against our lookup."
   ]
  },
  {
   "cell_type": "code",
   "execution_count": 30,
   "id": "comparative-class",
   "metadata": {
    "execution": {
     "iopub.execute_input": "2021-02-18T23:13:17.458094Z",
     "iopub.status.busy": "2021-02-18T23:13:17.457642Z",
     "iopub.status.idle": "2021-02-18T23:13:17.461731Z",
     "shell.execute_reply": "2021-02-18T23:13:17.461325Z"
    }
   },
   "outputs": [],
   "source": [
    "pres_model_map = data[\"vizData\"][\"presModelHolder\"][\"genPresModelMapPresModel\"][\n",
    "    \"presModelMap\"\n",
    "]"
   ]
  },
  {
   "cell_type": "code",
   "execution_count": 31,
   "id": "directed-degree",
   "metadata": {
    "execution": {
     "iopub.execute_input": "2021-02-18T23:13:17.465134Z",
     "iopub.status.busy": "2021-02-18T23:13:17.464654Z",
     "iopub.status.idle": "2021-02-18T23:13:17.470111Z",
     "shell.execute_reply": "2021-02-18T23:13:17.470461Z"
    }
   },
   "outputs": [],
   "source": [
    "columns = pres_model_map[config[\"sheet_id\"]][\"presModelHolder\"][\"genVizDataPresModel\"][\n",
    "    \"paneColumnsData\"\n",
    "][\"paneColumnsList\"][0][\"vizPaneColumns\"]"
   ]
  },
  {
   "cell_type": "markdown",
   "id": "fewer-brooks",
   "metadata": {},
   "source": [
    "Using our variables from above, pull out the lists of indexes we need."
   ]
  },
  {
   "cell_type": "code",
   "execution_count": 32,
   "id": "tamil-simon",
   "metadata": {
    "execution": {
     "iopub.execute_input": "2021-02-18T23:13:17.473815Z",
     "iopub.status.busy": "2021-02-18T23:13:17.473369Z",
     "iopub.status.idle": "2021-02-18T23:13:17.476582Z",
     "shell.execute_reply": "2021-02-18T23:13:17.476944Z"
    }
   },
   "outputs": [],
   "source": [
    "labels_column = columns[config[\"label_index\"]][config[\"label_key\"]]"
   ]
  },
  {
   "cell_type": "code",
   "execution_count": 33,
   "id": "following-receipt",
   "metadata": {
    "execution": {
     "iopub.execute_input": "2021-02-18T23:13:17.480303Z",
     "iopub.status.busy": "2021-02-18T23:13:17.479858Z",
     "iopub.status.idle": "2021-02-18T23:13:17.483419Z",
     "shell.execute_reply": "2021-02-18T23:13:17.483784Z"
    }
   },
   "outputs": [],
   "source": [
    "types_column = columns[config[\"type_index\"]][config[\"type_key\"]]"
   ]
  },
  {
   "cell_type": "code",
   "execution_count": 34,
   "id": "junior-distinction",
   "metadata": {
    "execution": {
     "iopub.execute_input": "2021-02-18T23:13:17.487147Z",
     "iopub.status.busy": "2021-02-18T23:13:17.486650Z",
     "iopub.status.idle": "2021-02-18T23:13:17.490438Z",
     "shell.execute_reply": "2021-02-18T23:13:17.490056Z"
    }
   },
   "outputs": [],
   "source": [
    "values_column = columns[config[\"value_index\"]][config[\"value_key\"]]"
   ]
  },
  {
   "cell_type": "code",
   "execution_count": 35,
   "id": "athletic-difficulty",
   "metadata": {
    "execution": {
     "iopub.execute_input": "2021-02-18T23:13:17.494309Z",
     "iopub.status.busy": "2021-02-18T23:13:17.493852Z",
     "iopub.status.idle": "2021-02-18T23:13:17.497699Z",
     "shell.execute_reply": "2021-02-18T23:13:17.497320Z"
    }
   },
   "outputs": [],
   "source": [
    "values_column_b = []\n",
    "for val in values_column:\n",
    "    values_column_b.append(abs(val) - 1)"
   ]
  },
  {
   "cell_type": "markdown",
   "id": "minimal-machinery",
   "metadata": {},
   "source": [
    "Run each one through our lookup."
   ]
  },
  {
   "cell_type": "code",
   "execution_count": 36,
   "id": "suited-theta",
   "metadata": {
    "execution": {
     "iopub.execute_input": "2021-02-18T23:13:17.501951Z",
     "iopub.status.busy": "2021-02-18T23:13:17.501289Z",
     "iopub.status.idle": "2021-02-18T23:13:17.505198Z",
     "shell.execute_reply": "2021-02-18T23:13:17.504747Z"
    }
   },
   "outputs": [],
   "source": [
    "labels = [lookup[\"cstring\"][label] for label in labels_column]"
   ]
  },
  {
   "cell_type": "code",
   "execution_count": 37,
   "id": "requested-granny",
   "metadata": {
    "execution": {
     "iopub.execute_input": "2021-02-18T23:13:17.508573Z",
     "iopub.status.busy": "2021-02-18T23:13:17.508121Z",
     "iopub.status.idle": "2021-02-18T23:13:17.511386Z",
     "shell.execute_reply": "2021-02-18T23:13:17.511709Z"
    }
   },
   "outputs": [],
   "source": [
    "types = [lookup[\"cstring\"][type] for type in types_column]"
   ]
  },
  {
   "cell_type": "code",
   "execution_count": 38,
   "id": "happy-restoration",
   "metadata": {
    "execution": {
     "iopub.execute_input": "2021-02-18T23:13:17.514936Z",
     "iopub.status.busy": "2021-02-18T23:13:17.514481Z",
     "iopub.status.idle": "2021-02-18T23:13:17.517793Z",
     "shell.execute_reply": "2021-02-18T23:13:17.518143Z"
    }
   },
   "outputs": [],
   "source": [
    "values_start = len(labels) + 4"
   ]
  },
  {
   "cell_type": "code",
   "execution_count": 39,
   "id": "devoted-conclusion",
   "metadata": {
    "execution": {
     "iopub.execute_input": "2021-02-18T23:13:17.521388Z",
     "iopub.status.busy": "2021-02-18T23:13:17.520923Z",
     "iopub.status.idle": "2021-02-18T23:13:17.523998Z",
     "shell.execute_reply": "2021-02-18T23:13:17.523623Z"
    }
   },
   "outputs": [],
   "source": [
    "values_end = len(labels)"
   ]
  },
  {
   "cell_type": "code",
   "execution_count": 40,
   "id": "virgin-tuner",
   "metadata": {
    "execution": {
     "iopub.execute_input": "2021-02-18T23:13:17.527944Z",
     "iopub.status.busy": "2021-02-18T23:13:17.526898Z",
     "iopub.status.idle": "2021-02-18T23:13:17.530111Z",
     "shell.execute_reply": "2021-02-18T23:13:17.530466Z"
    }
   },
   "outputs": [],
   "source": [
    "values = [lookup[\"cstring\"][value] for value in values_column_b]"
   ]
  },
  {
   "cell_type": "code",
   "execution_count": 41,
   "id": "upper-debate",
   "metadata": {
    "execution": {
     "iopub.execute_input": "2021-02-18T23:13:17.534342Z",
     "iopub.status.busy": "2021-02-18T23:13:17.533901Z",
     "iopub.status.idle": "2021-02-18T23:13:17.537303Z",
     "shell.execute_reply": "2021-02-18T23:13:17.537660Z"
    }
   },
   "outputs": [],
   "source": [
    "try:\n",
    "    assert len(labels) == len(values)\n",
    "except AssertionError:\n",
    "    raise AssertionError(\"Labels and values list do not add up\")"
   ]
  },
  {
   "cell_type": "markdown",
   "id": "colonial-bottom",
   "metadata": {},
   "source": [
    "`zip` and convert them to a `dict` so they are key/value'ed."
   ]
  },
  {
   "cell_type": "code",
   "execution_count": 42,
   "id": "selected-bronze",
   "metadata": {
    "execution": {
     "iopub.execute_input": "2021-02-18T23:13:17.542295Z",
     "iopub.status.busy": "2021-02-18T23:13:17.541641Z",
     "iopub.status.idle": "2021-02-18T23:13:17.547221Z",
     "shell.execute_reply": "2021-02-18T23:13:17.546851Z"
    }
   },
   "outputs": [],
   "source": [
    "data = [\n",
    "    {\"agency\": label, \"doses_on_hand\": value}\n",
    "    for label, value in (sorted(zip(labels, values), key=lambda d: d[0]))\n",
    "]"
   ]
  },
  {
   "cell_type": "markdown",
   "id": "trained-whale",
   "metadata": {},
   "source": [
    "## Transform"
   ]
  },
  {
   "cell_type": "markdown",
   "id": "hawaiian-purse",
   "metadata": {},
   "source": [
    "Convert into a pandas DataFrame"
   ]
  },
  {
   "cell_type": "code",
   "execution_count": 43,
   "id": "desperate-closer",
   "metadata": {
    "execution": {
     "iopub.execute_input": "2021-02-18T23:13:17.551651Z",
     "iopub.status.busy": "2021-02-18T23:13:17.551191Z",
     "iopub.status.idle": "2021-02-18T23:13:17.554364Z",
     "shell.execute_reply": "2021-02-18T23:13:17.553982Z"
    }
   },
   "outputs": [],
   "source": [
    "df = pd.DataFrame(data)"
   ]
  },
  {
   "cell_type": "markdown",
   "id": "frozen-colony",
   "metadata": {},
   "source": [
    "Convert strings to integers"
   ]
  },
  {
   "cell_type": "code",
   "execution_count": 44,
   "id": "strange-passion",
   "metadata": {
    "execution": {
     "iopub.execute_input": "2021-02-18T23:13:17.558089Z",
     "iopub.status.busy": "2021-02-18T23:13:17.557646Z",
     "iopub.status.idle": "2021-02-18T23:13:17.561881Z",
     "shell.execute_reply": "2021-02-18T23:13:17.561513Z"
    }
   },
   "outputs": [],
   "source": [
    "def safeint(s):\n",
    "    \"\"\"\n",
    "    Convert the provided string to an integer. Return it.\n",
    "    \"\"\"\n",
    "    s = s.replace(\",\", \"\")\n",
    "    return int(s)"
   ]
  },
  {
   "cell_type": "code",
   "execution_count": 45,
   "id": "framed-plasma",
   "metadata": {
    "execution": {
     "iopub.execute_input": "2021-02-18T23:13:17.566915Z",
     "iopub.status.busy": "2021-02-18T23:13:17.566124Z",
     "iopub.status.idle": "2021-02-18T23:13:17.569580Z",
     "shell.execute_reply": "2021-02-18T23:13:17.569928Z"
    }
   },
   "outputs": [],
   "source": [
    "df[\"doses_on_hand\"] = df[\"doses_on_hand\"].apply(safeint)"
   ]
  },
  {
   "cell_type": "markdown",
   "id": "advance-madness",
   "metadata": {},
   "source": [
    "## Export"
   ]
  },
  {
   "cell_type": "markdown",
   "id": "sticky-magazine",
   "metadata": {},
   "source": [
    "Save out the data as a CSV that's datestamped to California time."
   ]
  },
  {
   "cell_type": "code",
   "execution_count": 46,
   "id": "broadband-basics",
   "metadata": {
    "execution": {
     "iopub.execute_input": "2021-02-18T23:13:17.573017Z",
     "iopub.status.busy": "2021-02-18T23:13:17.572522Z",
     "iopub.status.idle": "2021-02-18T23:13:17.587734Z",
     "shell.execute_reply": "2021-02-18T23:13:17.587380Z"
    }
   },
   "outputs": [],
   "source": [
    "tz = pytz.timezone(\"America/Los_Angeles\")"
   ]
  },
  {
   "cell_type": "code",
   "execution_count": 47,
   "id": "norwegian-ordinance",
   "metadata": {
    "execution": {
     "iopub.execute_input": "2021-02-18T23:13:17.592363Z",
     "iopub.status.busy": "2021-02-18T23:13:17.591935Z",
     "iopub.status.idle": "2021-02-18T23:13:17.593602Z",
     "shell.execute_reply": "2021-02-18T23:13:17.593947Z"
    }
   },
   "outputs": [],
   "source": [
    "today = datetime.now(tz).date()"
   ]
  },
  {
   "cell_type": "code",
   "execution_count": 48,
   "id": "direct-victorian",
   "metadata": {
    "execution": {
     "iopub.execute_input": "2021-02-18T23:13:17.597554Z",
     "iopub.status.busy": "2021-02-18T23:13:17.597094Z",
     "iopub.status.idle": "2021-02-18T23:13:17.600283Z",
     "shell.execute_reply": "2021-02-18T23:13:17.600636Z"
    }
   },
   "outputs": [],
   "source": [
    "data_dir = os.path.join(os.path.abspath(\"\"), \"data\")"
   ]
  },
  {
   "cell_type": "code",
   "execution_count": 49,
   "id": "lonely-comedy",
   "metadata": {
    "execution": {
     "iopub.execute_input": "2021-02-18T23:13:17.605053Z",
     "iopub.status.busy": "2021-02-18T23:13:17.604256Z",
     "iopub.status.idle": "2021-02-18T23:13:17.610051Z",
     "shell.execute_reply": "2021-02-18T23:13:17.610412Z"
    }
   },
   "outputs": [],
   "source": [
    "df.sort_values(\"agency\").to_csv(os.path.join(data_dir, f\"{today}.csv\"), index=False)"
   ]
  }
 ],
 "metadata": {
  "kernelspec": {
   "display_name": "Python 3",
   "language": "python",
   "name": "python3"
  },
  "language_info": {
   "codemirror_mode": {
    "name": "ipython",
    "version": 3
   },
   "file_extension": ".py",
   "mimetype": "text/x-python",
   "name": "python",
   "nbconvert_exporter": "python",
   "pygments_lexer": "ipython3",
   "version": "3.8.5"
  }
 },
 "nbformat": 4,
 "nbformat_minor": 5
}
