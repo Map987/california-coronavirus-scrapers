{
 "cells": [
  {
   "cell_type": "markdown",
   "id": "geological-source",
   "metadata": {},
   "source": [
    "# vaccine-doses-on-hand\n",
    "\n",
    "By [Sean Greene](https://www.latimes.com/people/sean-greene)\n",
    "\n",
    "Downloads the number of vaccine doses on hand from a Tableau dashboard published by the California Department of Public Health."
   ]
  },
  {
   "cell_type": "markdown",
   "id": "aggregate-longitude",
   "metadata": {},
   "source": [
    "## Import"
   ]
  },
  {
   "cell_type": "markdown",
   "id": "animated-ultimate",
   "metadata": {},
   "source": [
    "Code formatting with [black](https://pypi.org/project/nb-black/)."
   ]
  },
  {
   "cell_type": "code",
   "execution_count": 1,
   "id": "reflected-brunei",
   "metadata": {
    "execution": {
     "iopub.execute_input": "2021-02-18T23:26:55.974196Z",
     "iopub.status.busy": "2021-02-18T23:26:55.973586Z",
     "iopub.status.idle": "2021-02-18T23:26:56.100332Z",
     "shell.execute_reply": "2021-02-18T23:26:56.099698Z"
    }
   },
   "outputs": [],
   "source": [
    "%load_ext lab_black"
   ]
  },
  {
   "cell_type": "markdown",
   "id": "beginning-crisis",
   "metadata": {},
   "source": [
    "Import dependencies."
   ]
  },
  {
   "cell_type": "code",
   "execution_count": 2,
   "id": "empty-tribute",
   "metadata": {
    "execution": {
     "iopub.execute_input": "2021-02-18T23:26:56.104200Z",
     "iopub.status.busy": "2021-02-18T23:26:56.103687Z",
     "iopub.status.idle": "2021-02-18T23:26:56.491435Z",
     "shell.execute_reply": "2021-02-18T23:26:56.490516Z"
    }
   },
   "outputs": [],
   "source": [
    "import os\n",
    "import re\n",
    "import pytz\n",
    "import json\n",
    "import requests\n",
    "import pandas as pd\n",
    "from datetime import datetime\n",
    "from bs4 import BeautifulSoup"
   ]
  },
  {
   "cell_type": "markdown",
   "id": "greenhouse-minority",
   "metadata": {},
   "source": [
    "## Scrape"
   ]
  },
  {
   "cell_type": "markdown",
   "id": "linear-camcorder",
   "metadata": {},
   "source": [
    "Set the URL"
   ]
  },
  {
   "cell_type": "code",
   "execution_count": 3,
   "id": "solar-small",
   "metadata": {
    "execution": {
     "iopub.execute_input": "2021-02-18T23:26:56.497147Z",
     "iopub.status.busy": "2021-02-18T23:26:56.494636Z",
     "iopub.status.idle": "2021-02-18T23:26:56.500113Z",
     "shell.execute_reply": "2021-02-18T23:26:56.499679Z"
    }
   },
   "outputs": [],
   "source": [
    "host = \"https://public.tableau.com\""
   ]
  },
  {
   "cell_type": "code",
   "execution_count": 4,
   "id": "internal-publication",
   "metadata": {
    "execution": {
     "iopub.execute_input": "2021-02-18T23:26:56.504183Z",
     "iopub.status.busy": "2021-02-18T23:26:56.503674Z",
     "iopub.status.idle": "2021-02-18T23:26:56.507012Z",
     "shell.execute_reply": "2021-02-18T23:26:56.506566Z"
    }
   },
   "outputs": [],
   "source": [
    "path = \"/views/COVID-19VaccineProviderDashboardPublic/PublicVaccineProviderDashboard\""
   ]
  },
  {
   "cell_type": "code",
   "execution_count": 5,
   "id": "apparent-strain",
   "metadata": {
    "execution": {
     "iopub.execute_input": "2021-02-18T23:26:56.511207Z",
     "iopub.status.busy": "2021-02-18T23:26:56.510158Z",
     "iopub.status.idle": "2021-02-18T23:26:56.513274Z",
     "shell.execute_reply": "2021-02-18T23:26:56.512852Z"
    }
   },
   "outputs": [],
   "source": [
    "url = f\"{host}{path}\""
   ]
  },
  {
   "cell_type": "markdown",
   "id": "robust-tsunami",
   "metadata": {},
   "source": [
    "Set the custom variables we need to manipulate the dashboard."
   ]
  },
  {
   "cell_type": "code",
   "execution_count": 6,
   "id": "designed-softball",
   "metadata": {
    "execution": {
     "iopub.execute_input": "2021-02-18T23:26:56.517775Z",
     "iopub.status.busy": "2021-02-18T23:26:56.517243Z",
     "iopub.status.idle": "2021-02-18T23:26:56.522914Z",
     "shell.execute_reply": "2021-02-18T23:26:56.523316Z"
    }
   },
   "outputs": [],
   "source": [
    "config = dict(\n",
    "    sheet_id=\"Main Vaccine Data Check (6)\",\n",
    "    value_index=3,\n",
    "    value_key=\"aliasIndices\",\n",
    "    type_index=2,\n",
    "    type_key=\"aliasIndices\",\n",
    "    label_index=1,\n",
    "    label_key=\"aliasIndices\",\n",
    ")"
   ]
  },
  {
   "cell_type": "markdown",
   "id": "absent-division",
   "metadata": {},
   "source": [
    "Request the page"
   ]
  },
  {
   "cell_type": "code",
   "execution_count": 7,
   "id": "younger-significance",
   "metadata": {
    "execution": {
     "iopub.execute_input": "2021-02-18T23:26:56.529394Z",
     "iopub.status.busy": "2021-02-18T23:26:56.528853Z",
     "iopub.status.idle": "2021-02-18T23:26:56.987958Z",
     "shell.execute_reply": "2021-02-18T23:26:56.987392Z"
    }
   },
   "outputs": [],
   "source": [
    "response = requests.get(url, params={\":embed\": \"y\", \":showVizHome\": \"no\"})"
   ]
  },
  {
   "cell_type": "markdown",
   "id": "racial-happening",
   "metadata": {},
   "source": [
    "Parse the HTML"
   ]
  },
  {
   "cell_type": "code",
   "execution_count": 8,
   "id": "smart-thompson",
   "metadata": {
    "execution": {
     "iopub.execute_input": "2021-02-18T23:26:56.993354Z",
     "iopub.status.busy": "2021-02-18T23:26:56.992759Z",
     "iopub.status.idle": "2021-02-18T23:26:57.033014Z",
     "shell.execute_reply": "2021-02-18T23:26:57.032497Z"
    }
   },
   "outputs": [],
   "source": [
    "soup = BeautifulSoup(response.text, \"html.parser\")"
   ]
  },
  {
   "cell_type": "markdown",
   "id": "amended-signal",
   "metadata": {},
   "source": [
    "Zero in on the part of the page with the URL where we can get the data. It's in JSON format"
   ]
  },
  {
   "cell_type": "code",
   "execution_count": 9,
   "id": "tropical-antigua",
   "metadata": {
    "execution": {
     "iopub.execute_input": "2021-02-18T23:26:57.037209Z",
     "iopub.status.busy": "2021-02-18T23:26:57.036704Z",
     "iopub.status.idle": "2021-02-18T23:26:57.039986Z",
     "shell.execute_reply": "2021-02-18T23:26:57.040383Z"
    }
   },
   "outputs": [],
   "source": [
    "json_string = soup.find(\"textarea\", {\"id\": \"tsConfigContainer\"}).text"
   ]
  },
  {
   "cell_type": "markdown",
   "id": "authentic-poison",
   "metadata": {},
   "source": [
    "Parse it."
   ]
  },
  {
   "cell_type": "code",
   "execution_count": 10,
   "id": "dominican-declaration",
   "metadata": {
    "execution": {
     "iopub.execute_input": "2021-02-18T23:26:57.044939Z",
     "iopub.status.busy": "2021-02-18T23:26:57.044036Z",
     "iopub.status.idle": "2021-02-18T23:26:57.049706Z",
     "shell.execute_reply": "2021-02-18T23:26:57.049215Z"
    }
   },
   "outputs": [],
   "source": [
    "context = json.loads(json_string)"
   ]
  },
  {
   "cell_type": "markdown",
   "id": "constant-shooting",
   "metadata": {},
   "source": [
    "Pull out the URL"
   ]
  },
  {
   "cell_type": "code",
   "execution_count": 11,
   "id": "worldwide-mineral",
   "metadata": {
    "execution": {
     "iopub.execute_input": "2021-02-18T23:26:57.054268Z",
     "iopub.status.busy": "2021-02-18T23:26:57.052526Z",
     "iopub.status.idle": "2021-02-18T23:26:57.056813Z",
     "shell.execute_reply": "2021-02-18T23:26:57.056315Z"
    }
   },
   "outputs": [],
   "source": [
    "data_url = (\n",
    "    f'{host}{context[\"vizql_root\"]}/bootstrapSession/sessions/{context[\"sessionid\"]}'\n",
    ")"
   ]
  },
  {
   "cell_type": "markdown",
   "id": "exempt-retention",
   "metadata": {},
   "source": [
    "Then download the raw data, clean it up, and turn it into usable dictionaries."
   ]
  },
  {
   "cell_type": "code",
   "execution_count": 12,
   "id": "legendary-blanket",
   "metadata": {
    "execution": {
     "iopub.execute_input": "2021-02-18T23:26:57.061205Z",
     "iopub.status.busy": "2021-02-18T23:26:57.059651Z",
     "iopub.status.idle": "2021-02-18T23:26:57.277466Z",
     "shell.execute_reply": "2021-02-18T23:26:57.276885Z"
    }
   },
   "outputs": [],
   "source": [
    "response = requests.post(data_url, data={\"sheet_id\": config[\"sheet_id\"]})"
   ]
  },
  {
   "cell_type": "code",
   "execution_count": 13,
   "id": "featured-carolina",
   "metadata": {
    "execution": {
     "iopub.execute_input": "2021-02-18T23:26:57.283271Z",
     "iopub.status.busy": "2021-02-18T23:26:57.282021Z",
     "iopub.status.idle": "2021-02-18T23:26:57.283857Z",
     "shell.execute_reply": "2021-02-18T23:26:57.284274Z"
    }
   },
   "outputs": [],
   "source": [
    "raw_text = response.text"
   ]
  },
  {
   "cell_type": "code",
   "execution_count": 14,
   "id": "coordinated-official",
   "metadata": {
    "execution": {
     "iopub.execute_input": "2021-02-18T23:26:57.310790Z",
     "iopub.status.busy": "2021-02-18T23:26:57.310223Z",
     "iopub.status.idle": "2021-02-18T23:26:57.312215Z",
     "shell.execute_reply": "2021-02-18T23:26:57.312613Z"
    }
   },
   "outputs": [],
   "source": [
    "json_pieces = [json.loads(d) for d in re.split(\"\\d{2,10};(?={.+})\", raw_text) if len(d)]"
   ]
  },
  {
   "cell_type": "code",
   "execution_count": 15,
   "id": "damaged-divorce",
   "metadata": {
    "execution": {
     "iopub.execute_input": "2021-02-18T23:26:57.318780Z",
     "iopub.status.busy": "2021-02-18T23:26:57.317599Z",
     "iopub.status.idle": "2021-02-18T23:26:57.319365Z",
     "shell.execute_reply": "2021-02-18T23:26:57.319785Z"
    }
   },
   "outputs": [],
   "source": [
    "root = next(d for d in json_pieces if \"secondaryInfo\" in d)"
   ]
  },
  {
   "cell_type": "code",
   "execution_count": 16,
   "id": "preceding-eagle",
   "metadata": {
    "execution": {
     "iopub.execute_input": "2021-02-18T23:26:57.323696Z",
     "iopub.status.busy": "2021-02-18T23:26:57.322839Z",
     "iopub.status.idle": "2021-02-18T23:26:57.326423Z",
     "shell.execute_reply": "2021-02-18T23:26:57.325902Z"
    }
   },
   "outputs": [],
   "source": [
    "data = root[\"secondaryInfo\"][\"presModelMap\"]"
   ]
  },
  {
   "cell_type": "markdown",
   "id": "worldwide-respect",
   "metadata": {},
   "source": [
    "Build our value lookup."
   ]
  },
  {
   "cell_type": "code",
   "execution_count": 17,
   "id": "sharp-apple",
   "metadata": {
    "execution": {
     "iopub.execute_input": "2021-02-18T23:26:57.330384Z",
     "iopub.status.busy": "2021-02-18T23:26:57.329858Z",
     "iopub.status.idle": "2021-02-18T23:26:57.335123Z",
     "shell.execute_reply": "2021-02-18T23:26:57.334615Z"
    }
   },
   "outputs": [],
   "source": [
    "value_columns = data[\"dataDictionary\"][\"presModelHolder\"][\"genDataDictionaryPresModel\"][\n",
    "    \"dataSegments\"\n",
    "][\"0\"][\"dataColumns\"]"
   ]
  },
  {
   "cell_type": "code",
   "execution_count": 18,
   "id": "indian-hacker",
   "metadata": {
    "execution": {
     "iopub.execute_input": "2021-02-18T23:26:57.340326Z",
     "iopub.status.busy": "2021-02-18T23:26:57.339783Z",
     "iopub.status.idle": "2021-02-18T23:26:57.342236Z",
     "shell.execute_reply": "2021-02-18T23:26:57.341813Z"
    }
   },
   "outputs": [],
   "source": [
    "lookup = {d[\"dataType\"]: d[\"dataValues\"] for d in value_columns}"
   ]
  },
  {
   "cell_type": "markdown",
   "id": "divided-bridal",
   "metadata": {},
   "source": [
    "Download the embed so we can scrape it and find the VizQL root ID to build our query."
   ]
  },
  {
   "cell_type": "code",
   "execution_count": 19,
   "id": "aquatic-antique",
   "metadata": {
    "execution": {
     "iopub.execute_input": "2021-02-18T23:26:57.347382Z",
     "iopub.status.busy": "2021-02-18T23:26:57.346829Z",
     "iopub.status.idle": "2021-02-18T23:26:57.539317Z",
     "shell.execute_reply": "2021-02-18T23:26:57.538799Z"
    }
   },
   "outputs": [],
   "source": [
    "response = requests.get(url, params={\":embed\": \"y\", \":showVizHome\": \"no\"})"
   ]
  },
  {
   "cell_type": "code",
   "execution_count": 20,
   "id": "dated-spanish",
   "metadata": {
    "execution": {
     "iopub.execute_input": "2021-02-18T23:26:57.568661Z",
     "iopub.status.busy": "2021-02-18T23:26:57.556965Z",
     "iopub.status.idle": "2021-02-18T23:26:57.571043Z",
     "shell.execute_reply": "2021-02-18T23:26:57.570536Z"
    }
   },
   "outputs": [],
   "source": [
    "soup = BeautifulSoup(response.text, \"html.parser\")"
   ]
  },
  {
   "cell_type": "code",
   "execution_count": 21,
   "id": "induced-aircraft",
   "metadata": {
    "execution": {
     "iopub.execute_input": "2021-02-18T23:26:57.577421Z",
     "iopub.status.busy": "2021-02-18T23:26:57.576894Z",
     "iopub.status.idle": "2021-02-18T23:26:57.579219Z",
     "shell.execute_reply": "2021-02-18T23:26:57.578803Z"
    }
   },
   "outputs": [],
   "source": [
    "context = json.loads(soup.find(\"textarea\", {\"id\": \"tsConfigContainer\"}).text)"
   ]
  },
  {
   "cell_type": "code",
   "execution_count": 22,
   "id": "welcome-location",
   "metadata": {
    "execution": {
     "iopub.execute_input": "2021-02-18T23:26:57.582689Z",
     "iopub.status.busy": "2021-02-18T23:26:57.582194Z",
     "iopub.status.idle": "2021-02-18T23:26:57.585601Z",
     "shell.execute_reply": "2021-02-18T23:26:57.585164Z"
    }
   },
   "outputs": [],
   "source": [
    "data_url = (\n",
    "    f'{host}{context[\"vizql_root\"]}/bootstrapSession/sessions/{context[\"sessionid\"]}'\n",
    ")"
   ]
  },
  {
   "cell_type": "markdown",
   "id": "metallic-medicine",
   "metadata": {},
   "source": [
    "Then download the raw data, clean it up, and turn it into usable dictionaries."
   ]
  },
  {
   "cell_type": "code",
   "execution_count": 23,
   "id": "former-extreme",
   "metadata": {
    "execution": {
     "iopub.execute_input": "2021-02-18T23:26:57.590450Z",
     "iopub.status.busy": "2021-02-18T23:26:57.588308Z",
     "iopub.status.idle": "2021-02-18T23:26:57.819855Z",
     "shell.execute_reply": "2021-02-18T23:26:57.819289Z"
    }
   },
   "outputs": [],
   "source": [
    "response = requests.post(data_url, data={\"sheet_id\": config[\"sheet_id\"]})"
   ]
  },
  {
   "cell_type": "code",
   "execution_count": 24,
   "id": "exclusive-pillow",
   "metadata": {
    "execution": {
     "iopub.execute_input": "2021-02-18T23:26:57.824239Z",
     "iopub.status.busy": "2021-02-18T23:26:57.823174Z",
     "iopub.status.idle": "2021-02-18T23:26:57.826504Z",
     "shell.execute_reply": "2021-02-18T23:26:57.826011Z"
    }
   },
   "outputs": [],
   "source": [
    "raw_text = response.text"
   ]
  },
  {
   "cell_type": "code",
   "execution_count": 25,
   "id": "visible-detection",
   "metadata": {
    "execution": {
     "iopub.execute_input": "2021-02-18T23:26:57.856510Z",
     "iopub.status.busy": "2021-02-18T23:26:57.855226Z",
     "iopub.status.idle": "2021-02-18T23:26:57.857184Z",
     "shell.execute_reply": "2021-02-18T23:26:57.857673Z"
    }
   },
   "outputs": [],
   "source": [
    "json_pieces = [json.loads(d) for d in re.split(\"\\d{2,10};(?={.+})\", raw_text) if len(d)]"
   ]
  },
  {
   "cell_type": "code",
   "execution_count": 26,
   "id": "therapeutic-lyric",
   "metadata": {
    "execution": {
     "iopub.execute_input": "2021-02-18T23:26:57.863615Z",
     "iopub.status.busy": "2021-02-18T23:26:57.862722Z",
     "iopub.status.idle": "2021-02-18T23:26:57.864961Z",
     "shell.execute_reply": "2021-02-18T23:26:57.864541Z"
    }
   },
   "outputs": [],
   "source": [
    "root = next(d for d in json_pieces if \"secondaryInfo\" in d)"
   ]
  },
  {
   "cell_type": "code",
   "execution_count": 27,
   "id": "brave-light",
   "metadata": {
    "execution": {
     "iopub.execute_input": "2021-02-18T23:26:57.870109Z",
     "iopub.status.busy": "2021-02-18T23:26:57.869218Z",
     "iopub.status.idle": "2021-02-18T23:26:57.871626Z",
     "shell.execute_reply": "2021-02-18T23:26:57.871125Z"
    }
   },
   "outputs": [],
   "source": [
    "data = root[\"secondaryInfo\"][\"presModelMap\"]"
   ]
  },
  {
   "cell_type": "markdown",
   "id": "dominican-missile",
   "metadata": {},
   "source": [
    "Build our value lookup."
   ]
  },
  {
   "cell_type": "code",
   "execution_count": 28,
   "id": "understood-assault",
   "metadata": {
    "execution": {
     "iopub.execute_input": "2021-02-18T23:26:57.875461Z",
     "iopub.status.busy": "2021-02-18T23:26:57.874960Z",
     "iopub.status.idle": "2021-02-18T23:26:57.880351Z",
     "shell.execute_reply": "2021-02-18T23:26:57.879847Z"
    }
   },
   "outputs": [],
   "source": [
    "value_columns = data[\"dataDictionary\"][\"presModelHolder\"][\"genDataDictionaryPresModel\"][\n",
    "    \"dataSegments\"\n",
    "][\"0\"][\"dataColumns\"]"
   ]
  },
  {
   "cell_type": "code",
   "execution_count": 29,
   "id": "still-copyright",
   "metadata": {
    "execution": {
     "iopub.execute_input": "2021-02-18T23:26:57.883744Z",
     "iopub.status.busy": "2021-02-18T23:26:57.883247Z",
     "iopub.status.idle": "2021-02-18T23:26:57.887221Z",
     "shell.execute_reply": "2021-02-18T23:26:57.886782Z"
    }
   },
   "outputs": [],
   "source": [
    "lookup = {d[\"dataType\"]: d[\"dataValues\"] for d in value_columns}"
   ]
  },
  {
   "cell_type": "markdown",
   "id": "cubic-victim",
   "metadata": {},
   "source": [
    "Pull out the columns of indexes so we can run them against our lookup."
   ]
  },
  {
   "cell_type": "code",
   "execution_count": 30,
   "id": "comparative-class",
   "metadata": {
    "execution": {
     "iopub.execute_input": "2021-02-18T23:26:57.890842Z",
     "iopub.status.busy": "2021-02-18T23:26:57.890326Z",
     "iopub.status.idle": "2021-02-18T23:26:57.894439Z",
     "shell.execute_reply": "2021-02-18T23:26:57.893934Z"
    }
   },
   "outputs": [],
   "source": [
    "pres_model_map = data[\"vizData\"][\"presModelHolder\"][\"genPresModelMapPresModel\"][\n",
    "    \"presModelMap\"\n",
    "]"
   ]
  },
  {
   "cell_type": "code",
   "execution_count": 31,
   "id": "directed-degree",
   "metadata": {
    "execution": {
     "iopub.execute_input": "2021-02-18T23:26:57.900173Z",
     "iopub.status.busy": "2021-02-18T23:26:57.899645Z",
     "iopub.status.idle": "2021-02-18T23:26:57.904017Z",
     "shell.execute_reply": "2021-02-18T23:26:57.903596Z"
    }
   },
   "outputs": [],
   "source": [
    "columns = pres_model_map[config[\"sheet_id\"]][\"presModelHolder\"][\"genVizDataPresModel\"][\n",
    "    \"paneColumnsData\"\n",
    "][\"paneColumnsList\"][0][\"vizPaneColumns\"]"
   ]
  },
  {
   "cell_type": "markdown",
   "id": "fewer-brooks",
   "metadata": {},
   "source": [
    "Using our variables from above, pull out the lists of indexes we need."
   ]
  },
  {
   "cell_type": "code",
   "execution_count": 32,
   "id": "tamil-simon",
   "metadata": {
    "execution": {
     "iopub.execute_input": "2021-02-18T23:26:57.909016Z",
     "iopub.status.busy": "2021-02-18T23:26:57.908487Z",
     "iopub.status.idle": "2021-02-18T23:26:57.910644Z",
     "shell.execute_reply": "2021-02-18T23:26:57.911035Z"
    }
   },
   "outputs": [],
   "source": [
    "labels_column = columns[config[\"label_index\"]][config[\"label_key\"]]"
   ]
  },
  {
   "cell_type": "code",
   "execution_count": 33,
   "id": "following-receipt",
   "metadata": {
    "execution": {
     "iopub.execute_input": "2021-02-18T23:26:57.914388Z",
     "iopub.status.busy": "2021-02-18T23:26:57.913884Z",
     "iopub.status.idle": "2021-02-18T23:26:57.917236Z",
     "shell.execute_reply": "2021-02-18T23:26:57.917661Z"
    }
   },
   "outputs": [],
   "source": [
    "types_column = columns[config[\"type_index\"]][config[\"type_key\"]]"
   ]
  },
  {
   "cell_type": "code",
   "execution_count": 34,
   "id": "junior-distinction",
   "metadata": {
    "execution": {
     "iopub.execute_input": "2021-02-18T23:26:57.921383Z",
     "iopub.status.busy": "2021-02-18T23:26:57.920886Z",
     "iopub.status.idle": "2021-02-18T23:26:57.924550Z",
     "shell.execute_reply": "2021-02-18T23:26:57.924127Z"
    }
   },
   "outputs": [],
   "source": [
    "values_column = columns[config[\"value_index\"]][config[\"value_key\"]]"
   ]
  },
  {
   "cell_type": "code",
   "execution_count": 35,
   "id": "athletic-difficulty",
   "metadata": {
    "execution": {
     "iopub.execute_input": "2021-02-18T23:26:57.931004Z",
     "iopub.status.busy": "2021-02-18T23:26:57.930093Z",
     "iopub.status.idle": "2021-02-18T23:26:57.932207Z",
     "shell.execute_reply": "2021-02-18T23:26:57.931793Z"
    }
   },
   "outputs": [],
   "source": [
    "values_column_b = []\n",
    "for val in values_column:\n",
    "    values_column_b.append(abs(val) - 1)"
   ]
  },
  {
   "cell_type": "markdown",
   "id": "minimal-machinery",
   "metadata": {},
   "source": [
    "Run each one through our lookup."
   ]
  },
  {
   "cell_type": "code",
   "execution_count": 36,
   "id": "suited-theta",
   "metadata": {
    "execution": {
     "iopub.execute_input": "2021-02-18T23:26:57.938024Z",
     "iopub.status.busy": "2021-02-18T23:26:57.936936Z",
     "iopub.status.idle": "2021-02-18T23:26:57.938673Z",
     "shell.execute_reply": "2021-02-18T23:26:57.939096Z"
    }
   },
   "outputs": [],
   "source": [
    "labels = [lookup[\"cstring\"][label] for label in labels_column]"
   ]
  },
  {
   "cell_type": "code",
   "execution_count": 37,
   "id": "requested-granny",
   "metadata": {
    "execution": {
     "iopub.execute_input": "2021-02-18T23:26:57.942433Z",
     "iopub.status.busy": "2021-02-18T23:26:57.941934Z",
     "iopub.status.idle": "2021-02-18T23:26:57.945307Z",
     "shell.execute_reply": "2021-02-18T23:26:57.945762Z"
    }
   },
   "outputs": [],
   "source": [
    "types = [lookup[\"cstring\"][type] for type in types_column]"
   ]
  },
  {
   "cell_type": "code",
   "execution_count": 38,
   "id": "happy-restoration",
   "metadata": {
    "execution": {
     "iopub.execute_input": "2021-02-18T23:26:57.951090Z",
     "iopub.status.busy": "2021-02-18T23:26:57.949963Z",
     "iopub.status.idle": "2021-02-18T23:26:57.951668Z",
     "shell.execute_reply": "2021-02-18T23:26:57.952081Z"
    }
   },
   "outputs": [],
   "source": [
    "values_start = len(labels) + 4"
   ]
  },
  {
   "cell_type": "code",
   "execution_count": 39,
   "id": "devoted-conclusion",
   "metadata": {
    "execution": {
     "iopub.execute_input": "2021-02-18T23:26:57.956743Z",
     "iopub.status.busy": "2021-02-18T23:26:57.955847Z",
     "iopub.status.idle": "2021-02-18T23:26:57.958053Z",
     "shell.execute_reply": "2021-02-18T23:26:57.957592Z"
    }
   },
   "outputs": [],
   "source": [
    "values_end = len(labels)"
   ]
  },
  {
   "cell_type": "code",
   "execution_count": 40,
   "id": "virgin-tuner",
   "metadata": {
    "execution": {
     "iopub.execute_input": "2021-02-18T23:26:57.961627Z",
     "iopub.status.busy": "2021-02-18T23:26:57.961116Z",
     "iopub.status.idle": "2021-02-18T23:26:57.964813Z",
     "shell.execute_reply": "2021-02-18T23:26:57.964396Z"
    }
   },
   "outputs": [],
   "source": [
    "values = [lookup[\"cstring\"][value] for value in values_column_b]"
   ]
  },
  {
   "cell_type": "code",
   "execution_count": 41,
   "id": "upper-debate",
   "metadata": {
    "execution": {
     "iopub.execute_input": "2021-02-18T23:26:57.971585Z",
     "iopub.status.busy": "2021-02-18T23:26:57.970500Z",
     "iopub.status.idle": "2021-02-18T23:26:57.972169Z",
     "shell.execute_reply": "2021-02-18T23:26:57.972591Z"
    }
   },
   "outputs": [],
   "source": [
    "try:\n",
    "    assert len(labels) == len(values)\n",
    "except AssertionError:\n",
    "    raise AssertionError(\"Labels and values list do not add up\")"
   ]
  },
  {
   "cell_type": "markdown",
   "id": "colonial-bottom",
   "metadata": {},
   "source": [
    "`zip` and convert them to a `dict` so they are key/value'ed."
   ]
  },
  {
   "cell_type": "code",
   "execution_count": 42,
   "id": "selected-bronze",
   "metadata": {
    "execution": {
     "iopub.execute_input": "2021-02-18T23:26:57.980329Z",
     "iopub.status.busy": "2021-02-18T23:26:57.978258Z",
     "iopub.status.idle": "2021-02-18T23:26:57.982347Z",
     "shell.execute_reply": "2021-02-18T23:26:57.981919Z"
    }
   },
   "outputs": [],
   "source": [
    "data = [\n",
    "    {\"agency\": label, \"doses_on_hand\": value}\n",
    "    for label, value in (sorted(zip(labels, values), key=lambda d: d[0]))\n",
    "]"
   ]
  },
  {
   "cell_type": "markdown",
   "id": "trained-whale",
   "metadata": {},
   "source": [
    "## Transform"
   ]
  },
  {
   "cell_type": "markdown",
   "id": "hawaiian-purse",
   "metadata": {},
   "source": [
    "Convert into a pandas DataFrame"
   ]
  },
  {
   "cell_type": "code",
   "execution_count": 43,
   "id": "desperate-closer",
   "metadata": {
    "execution": {
     "iopub.execute_input": "2021-02-18T23:26:57.988208Z",
     "iopub.status.busy": "2021-02-18T23:26:57.987334Z",
     "iopub.status.idle": "2021-02-18T23:26:57.989122Z",
     "shell.execute_reply": "2021-02-18T23:26:57.989543Z"
    }
   },
   "outputs": [],
   "source": [
    "df = pd.DataFrame(data)"
   ]
  },
  {
   "cell_type": "markdown",
   "id": "frozen-colony",
   "metadata": {},
   "source": [
    "Convert strings to integers"
   ]
  },
  {
   "cell_type": "code",
   "execution_count": 44,
   "id": "strange-passion",
   "metadata": {
    "execution": {
     "iopub.execute_input": "2021-02-18T23:26:57.993804Z",
     "iopub.status.busy": "2021-02-18T23:26:57.993262Z",
     "iopub.status.idle": "2021-02-18T23:26:57.997857Z",
     "shell.execute_reply": "2021-02-18T23:26:57.997305Z"
    }
   },
   "outputs": [],
   "source": [
    "def safeint(s):\n",
    "    \"\"\"\n",
    "    Convert the provided string to an integer. Return it.\n",
    "    \"\"\"\n",
    "    s = s.replace(\",\", \"\")\n",
    "    return int(s)"
   ]
  },
  {
   "cell_type": "code",
   "execution_count": 45,
   "id": "framed-plasma",
   "metadata": {
    "execution": {
     "iopub.execute_input": "2021-02-18T23:26:58.003988Z",
     "iopub.status.busy": "2021-02-18T23:26:58.003444Z",
     "iopub.status.idle": "2021-02-18T23:26:58.005556Z",
     "shell.execute_reply": "2021-02-18T23:26:58.006004Z"
    }
   },
   "outputs": [],
   "source": [
    "df[\"doses_on_hand\"] = df[\"doses_on_hand\"].apply(safeint)"
   ]
  },
  {
   "cell_type": "markdown",
   "id": "advance-madness",
   "metadata": {},
   "source": [
    "## Export"
   ]
  },
  {
   "cell_type": "markdown",
   "id": "sticky-magazine",
   "metadata": {},
   "source": [
    "Save out the data as a CSV that's datestamped to California time."
   ]
  },
  {
   "cell_type": "code",
   "execution_count": 46,
   "id": "broadband-basics",
   "metadata": {
    "execution": {
     "iopub.execute_input": "2021-02-18T23:26:58.008996Z",
     "iopub.status.busy": "2021-02-18T23:26:58.008501Z",
     "iopub.status.idle": "2021-02-18T23:26:58.026935Z",
     "shell.execute_reply": "2021-02-18T23:26:58.026492Z"
    }
   },
   "outputs": [],
   "source": [
    "tz = pytz.timezone(\"America/Los_Angeles\")"
   ]
  },
  {
   "cell_type": "code",
   "execution_count": 47,
   "id": "norwegian-ordinance",
   "metadata": {
    "execution": {
     "iopub.execute_input": "2021-02-18T23:26:58.032518Z",
     "iopub.status.busy": "2021-02-18T23:26:58.031525Z",
     "iopub.status.idle": "2021-02-18T23:26:58.033184Z",
     "shell.execute_reply": "2021-02-18T23:26:58.033605Z"
    }
   },
   "outputs": [],
   "source": [
    "today = datetime.now(tz).date()"
   ]
  },
  {
   "cell_type": "code",
   "execution_count": 48,
   "id": "direct-victorian",
   "metadata": {
    "execution": {
     "iopub.execute_input": "2021-02-18T23:26:58.039333Z",
     "iopub.status.busy": "2021-02-18T23:26:58.038450Z",
     "iopub.status.idle": "2021-02-18T23:26:58.040633Z",
     "shell.execute_reply": "2021-02-18T23:26:58.040197Z"
    }
   },
   "outputs": [],
   "source": [
    "data_dir = os.path.join(os.path.abspath(\"\"), \"data\")"
   ]
  },
  {
   "cell_type": "code",
   "execution_count": 49,
   "id": "lonely-comedy",
   "metadata": {
    "execution": {
     "iopub.execute_input": "2021-02-18T23:26:58.045325Z",
     "iopub.status.busy": "2021-02-18T23:26:58.044294Z",
     "iopub.status.idle": "2021-02-18T23:26:58.050844Z",
     "shell.execute_reply": "2021-02-18T23:26:58.050371Z"
    }
   },
   "outputs": [],
   "source": [
    "df.sort_values(\"agency\").to_csv(os.path.join(data_dir, f\"{today}.csv\"), index=False)"
   ]
  }
 ],
 "metadata": {
  "kernelspec": {
   "display_name": "Python 3",
   "language": "python",
   "name": "python3"
  },
  "language_info": {
   "codemirror_mode": {
    "name": "ipython",
    "version": 3
   },
   "file_extension": ".py",
   "mimetype": "text/x-python",
   "name": "python",
   "nbconvert_exporter": "python",
   "pygments_lexer": "ipython3",
   "version": "3.8.7"
  }
 },
 "nbformat": 4,
 "nbformat_minor": 5
}
