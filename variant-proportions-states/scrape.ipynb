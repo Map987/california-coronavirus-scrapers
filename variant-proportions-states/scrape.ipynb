{
 "cells": [
  {
   "cell_type": "markdown",
   "id": "narrative-helmet",
   "metadata": {
    "tags": []
   },
   "source": [
    "# CDC variants proportions by state\n",
    "\n",
    "By [Matt Stiles](https://www.latimes.com/people/matt-stiles) and [Rahul Mukherjee](https://www.latimes.com/people/rahul-mukherjee)\n",
    "\n",
    "Downloads variant totals and proportions from a [Tableau dashboard](https://covid.cdc.gov/covid-data-tracker/#variant-proportions) published by the U.S. Centers for Disease Control and Prevention."
   ]
  },
  {
   "cell_type": "markdown",
   "id": "hybrid-circular",
   "metadata": {},
   "source": [
    "## Import"
   ]
  },
  {
   "cell_type": "markdown",
   "id": "advanced-richards",
   "metadata": {},
   "source": [
    "Code formatting with [black](https://pypi.org/project/nb-black/)."
   ]
  },
  {
   "cell_type": "code",
   "execution_count": 36,
   "id": "hired-guard",
   "metadata": {},
   "outputs": [
    {
     "name": "stdout",
     "output_type": "stream",
     "text": [
      "The lab_black extension is already loaded. To reload it, use:\n",
      "  %reload_ext lab_black\n"
     ]
    }
   ],
   "source": [
    "%load_ext lab_black"
   ]
  },
  {
   "cell_type": "markdown",
   "id": "sharing-computer",
   "metadata": {},
   "source": [
    "Import dependencies."
   ]
  },
  {
   "cell_type": "code",
   "execution_count": 37,
   "id": "connected-whale",
   "metadata": {},
   "outputs": [],
   "source": [
    "import os\n",
    "import pytz\n",
    "from datetime import datetime"
   ]
  },
  {
   "cell_type": "code",
   "execution_count": 38,
   "id": "occupational-indianapolis",
   "metadata": {},
   "outputs": [],
   "source": [
    "import pandas as pd\n",
    "from tableauscraper import TableauScraper as TS"
   ]
  },
  {
   "cell_type": "code",
   "execution_count": 39,
   "id": "bad76ca6-6e67-4a40-90fc-f42db106b533",
   "metadata": {},
   "outputs": [],
   "source": [
    "import requests\n",
    "from bs4 import BeautifulSoup\n",
    "import json\n",
    "import re"
   ]
  },
  {
   "cell_type": "code",
   "execution_count": 40,
   "id": "computational-incidence",
   "metadata": {},
   "outputs": [],
   "source": [
    "# !pipenv install tableauscraper=='0.1.10'"
   ]
  },
  {
   "cell_type": "code",
   "execution_count": 41,
   "id": "resistant-camel",
   "metadata": {},
   "outputs": [],
   "source": [
    "tz = pytz.timezone(\"America/Los_Angeles\")"
   ]
  },
  {
   "cell_type": "code",
   "execution_count": 42,
   "id": "pleasant-shield",
   "metadata": {},
   "outputs": [],
   "source": [
    "today = datetime.now(tz).date()"
   ]
  },
  {
   "cell_type": "markdown",
   "id": "chemical-disability",
   "metadata": {},
   "source": [
    "## Scrape"
   ]
  },
  {
   "cell_type": "markdown",
   "id": "inside-defeat",
   "metadata": {},
   "source": [
    "Set the URL"
   ]
  },
  {
   "cell_type": "code",
   "execution_count": 43,
   "id": "prospective-hanging",
   "metadata": {},
   "outputs": [],
   "source": [
    "url = \"https://public.tableau.com/views/WeightedStateVariantTable/StateVBMTable.csv?%3Adisplay_static_image=y&%3AbootstrapWhenNotified=true&%3Aembed=true&%3Alanguage=en-US&:embed=y&:showVizHome=n&:apiID=host0\""
   ]
  },
  {
   "cell_type": "code",
   "execution_count": 44,
   "id": "4db3b426-2694-4c63-99f2-7ac62dec38d4",
   "metadata": {},
   "outputs": [],
   "source": [
    "src = pd.read_csv(url)"
   ]
  },
  {
   "cell_type": "code",
   "execution_count": 45,
   "id": "active-shipping",
   "metadata": {},
   "outputs": [],
   "source": [
    "df = src[[\"State/Jurisdiction\", \"Variant\", \"Measure Values\"]].copy()"
   ]
  },
  {
   "cell_type": "code",
   "execution_count": 46,
   "id": "connected-worth",
   "metadata": {},
   "outputs": [],
   "source": [
    "df.rename(\n",
    "    columns={\n",
    "        \"State/Jurisdiction\": \"state\",\n",
    "        \"Variant\": \"variable\",\n",
    "        \"Measure Values\": \"value\",\n",
    "    },\n",
    "    inplace=True,\n",
    ")"
   ]
  },
  {
   "cell_type": "code",
   "execution_count": 47,
   "id": "given-coupon",
   "metadata": {},
   "outputs": [
    {
     "name": "stderr",
     "output_type": "stream",
     "text": [
      "/var/folders/45/kg6qghdn1sndgj0s14gsfyxh0000gn/T/ipykernel_49657/1757737581.py:2: FutureWarning: The default value of regex will change from True to False in a future version.\n",
      "  df.variable.str.replace(\".\", \"\", regex=False)\n"
     ]
    }
   ],
   "source": [
    "df.variable = (\n",
    "    df.variable.str.replace(\".\", \"\", regex=False)\n",
    "    .str.replace(r\"\\(.*\\)\", \"\")\n",
    "    .str.replace(\" \", \"\")\n",
    "    .str.lower()\n",
    ")"
   ]
  },
  {
   "cell_type": "code",
   "execution_count": 48,
   "id": "a1048c5f-dbf2-4795-9b80-01df2e3068ba",
   "metadata": {},
   "outputs": [
    {
     "data": {
      "text/plain": [
       "array(['ay1', 'ay2', 'b117', 'b11529', 'b1351', 'b1427/429', 'b1525',\n",
       "       'b1526', 'b16171', 'b16172', 'b16173', 'b1621', 'other', 'p1',\n",
       "       'p2'], dtype=object)"
      ]
     },
     "execution_count": 48,
     "metadata": {},
     "output_type": "execute_result"
    }
   ],
   "source": [
    "df.variable.unique()"
   ]
  },
  {
   "cell_type": "code",
   "execution_count": 49,
   "id": "clear-desert",
   "metadata": {},
   "outputs": [],
   "source": [
    "df.value = pd.to_numeric(df.value)"
   ]
  },
  {
   "cell_type": "code",
   "execution_count": 50,
   "id": "artistic-generator",
   "metadata": {},
   "outputs": [],
   "source": [
    "df_pivot = df.pivot_table(\n",
    "    values=\"value\", index=\"state\", columns=\"variable\"\n",
    ").reset_index()"
   ]
  },
  {
   "cell_type": "code",
   "execution_count": 51,
   "id": "floppy-shooting",
   "metadata": {},
   "outputs": [],
   "source": [
    "df_pivot.columns = (\n",
    "    df_pivot.columns.str.lower()\n",
    "    .str.replace(\".\", \"\", regex=False)\n",
    "    .str.replace(\" \", \"_\", regex=False)\n",
    "    .str.replace(\"/\", \"_\", regex=False)\n",
    ")"
   ]
  },
  {
   "cell_type": "code",
   "execution_count": 52,
   "id": "ac9b1a31-0ed1-4be6-98e3-b6818495c3f1",
   "metadata": {},
   "outputs": [],
   "source": [
    "df_pivot[\"update_date\"] = today"
   ]
  },
  {
   "cell_type": "code",
   "execution_count": 53,
   "id": "935fa869-7cfb-495d-ab69-8a2888e05321",
   "metadata": {},
   "outputs": [
    {
     "data": {
      "text/html": [
       "<div>\n",
       "<style scoped>\n",
       "    .dataframe tbody tr th:only-of-type {\n",
       "        vertical-align: middle;\n",
       "    }\n",
       "\n",
       "    .dataframe tbody tr th {\n",
       "        vertical-align: top;\n",
       "    }\n",
       "\n",
       "    .dataframe thead th {\n",
       "        text-align: right;\n",
       "    }\n",
       "</style>\n",
       "<table border=\"1\" class=\"dataframe\">\n",
       "  <thead>\n",
       "    <tr style=\"text-align: right;\">\n",
       "      <th>variable</th>\n",
       "      <th>state</th>\n",
       "      <th>ay1</th>\n",
       "      <th>ay2</th>\n",
       "      <th>b11529</th>\n",
       "      <th>b117</th>\n",
       "      <th>b1351</th>\n",
       "      <th>b1427_429</th>\n",
       "      <th>b1525</th>\n",
       "      <th>b1526</th>\n",
       "      <th>b16171</th>\n",
       "      <th>b16172</th>\n",
       "      <th>b16173</th>\n",
       "      <th>b1621</th>\n",
       "      <th>other</th>\n",
       "      <th>p1</th>\n",
       "      <th>p2</th>\n",
       "      <th>update_date</th>\n",
       "    </tr>\n",
       "  </thead>\n",
       "  <tbody>\n",
       "    <tr>\n",
       "      <th>0</th>\n",
       "      <td>Alabama</td>\n",
       "      <td>0.000000</td>\n",
       "      <td>0.0</td>\n",
       "      <td>0.716028</td>\n",
       "      <td>0.0</td>\n",
       "      <td>0.0</td>\n",
       "      <td>0.0</td>\n",
       "      <td>0.0</td>\n",
       "      <td>0.0</td>\n",
       "      <td>0.0</td>\n",
       "      <td>0.281818</td>\n",
       "      <td>0.0</td>\n",
       "      <td>0.0</td>\n",
       "      <td>0.007277</td>\n",
       "      <td>0.0</td>\n",
       "      <td>0.0</td>\n",
       "      <td>2022-01-28</td>\n",
       "    </tr>\n",
       "    <tr>\n",
       "      <th>1</th>\n",
       "      <td>Alaska</td>\n",
       "      <td>0.000000</td>\n",
       "      <td>0.0</td>\n",
       "      <td>0.453202</td>\n",
       "      <td>0.0</td>\n",
       "      <td>0.0</td>\n",
       "      <td>0.0</td>\n",
       "      <td>0.0</td>\n",
       "      <td>0.0</td>\n",
       "      <td>0.0</td>\n",
       "      <td>0.546798</td>\n",
       "      <td>0.0</td>\n",
       "      <td>0.0</td>\n",
       "      <td>0.000000</td>\n",
       "      <td>0.0</td>\n",
       "      <td>0.0</td>\n",
       "      <td>2022-01-28</td>\n",
       "    </tr>\n",
       "    <tr>\n",
       "      <th>2</th>\n",
       "      <td>American Samoa</td>\n",
       "      <td>0.000000</td>\n",
       "      <td>0.0</td>\n",
       "      <td>0.333333</td>\n",
       "      <td>0.0</td>\n",
       "      <td>0.0</td>\n",
       "      <td>0.0</td>\n",
       "      <td>0.0</td>\n",
       "      <td>0.0</td>\n",
       "      <td>0.0</td>\n",
       "      <td>0.000000</td>\n",
       "      <td>0.0</td>\n",
       "      <td>0.0</td>\n",
       "      <td>0.000000</td>\n",
       "      <td>0.0</td>\n",
       "      <td>0.0</td>\n",
       "      <td>2022-01-28</td>\n",
       "    </tr>\n",
       "    <tr>\n",
       "      <th>3</th>\n",
       "      <td>Arizona</td>\n",
       "      <td>0.000000</td>\n",
       "      <td>0.0</td>\n",
       "      <td>0.416553</td>\n",
       "      <td>0.0</td>\n",
       "      <td>0.0</td>\n",
       "      <td>0.0</td>\n",
       "      <td>0.0</td>\n",
       "      <td>0.0</td>\n",
       "      <td>0.0</td>\n",
       "      <td>0.578083</td>\n",
       "      <td>0.0</td>\n",
       "      <td>0.0</td>\n",
       "      <td>0.008784</td>\n",
       "      <td>0.0</td>\n",
       "      <td>0.0</td>\n",
       "      <td>2022-01-28</td>\n",
       "    </tr>\n",
       "    <tr>\n",
       "      <th>4</th>\n",
       "      <td>Arkansas</td>\n",
       "      <td>0.004288</td>\n",
       "      <td>0.0</td>\n",
       "      <td>0.551982</td>\n",
       "      <td>0.0</td>\n",
       "      <td>0.0</td>\n",
       "      <td>0.0</td>\n",
       "      <td>0.0</td>\n",
       "      <td>0.0</td>\n",
       "      <td>0.0</td>\n",
       "      <td>0.443749</td>\n",
       "      <td>0.0</td>\n",
       "      <td>0.0</td>\n",
       "      <td>0.007178</td>\n",
       "      <td>0.0</td>\n",
       "      <td>0.0</td>\n",
       "      <td>2022-01-28</td>\n",
       "    </tr>\n",
       "  </tbody>\n",
       "</table>\n",
       "</div>"
      ],
      "text/plain": [
       "variable           state       ay1  ay2    b11529  b117  b1351  b1427_429  \\\n",
       "0                Alabama  0.000000  0.0  0.716028   0.0    0.0        0.0   \n",
       "1                 Alaska  0.000000  0.0  0.453202   0.0    0.0        0.0   \n",
       "2         American Samoa  0.000000  0.0  0.333333   0.0    0.0        0.0   \n",
       "3                Arizona  0.000000  0.0  0.416553   0.0    0.0        0.0   \n",
       "4               Arkansas  0.004288  0.0  0.551982   0.0    0.0        0.0   \n",
       "\n",
       "variable  b1525  b1526  b16171    b16172  b16173  b1621     other   p1   p2  \\\n",
       "0           0.0    0.0     0.0  0.281818     0.0    0.0  0.007277  0.0  0.0   \n",
       "1           0.0    0.0     0.0  0.546798     0.0    0.0  0.000000  0.0  0.0   \n",
       "2           0.0    0.0     0.0  0.000000     0.0    0.0  0.000000  0.0  0.0   \n",
       "3           0.0    0.0     0.0  0.578083     0.0    0.0  0.008784  0.0  0.0   \n",
       "4           0.0    0.0     0.0  0.443749     0.0    0.0  0.007178  0.0  0.0   \n",
       "\n",
       "variable update_date  \n",
       "0         2022-01-28  \n",
       "1         2022-01-28  \n",
       "2         2022-01-28  \n",
       "3         2022-01-28  \n",
       "4         2022-01-28  "
      ]
     },
     "execution_count": 53,
     "metadata": {},
     "output_type": "execute_result"
    }
   ],
   "source": [
    "df_pivot.head()"
   ]
  },
  {
   "cell_type": "markdown",
   "id": "dated-tonight",
   "metadata": {},
   "source": [
    "## Export"
   ]
  },
  {
   "cell_type": "markdown",
   "id": "lovely-blink",
   "metadata": {},
   "source": [
    "Save out the data as a CSV that's datestamped to California time."
   ]
  },
  {
   "cell_type": "code",
   "execution_count": 54,
   "id": "frozen-vitamin",
   "metadata": {},
   "outputs": [],
   "source": [
    "data_dir = os.path.join(os.path.abspath(\"\"), \"data\")"
   ]
  },
  {
   "cell_type": "code",
   "execution_count": 55,
   "id": "laughing-domain",
   "metadata": {},
   "outputs": [],
   "source": [
    "df_pivot.to_csv(\n",
    "    os.path.join(data_dir, f\"variants_cdc_proportions_timeseries_{today}_.csv\"),\n",
    "    index=False,\n",
    ")"
   ]
  }
 ],
 "metadata": {
  "kernelspec": {
   "display_name": "Python 3 (ipykernel)",
   "language": "python",
   "name": "python3"
  },
  "language_info": {
   "codemirror_mode": {
    "name": "ipython",
    "version": 3
   },
   "file_extension": ".py",
   "mimetype": "text/x-python",
   "name": "python",
   "nbconvert_exporter": "python",
   "pygments_lexer": "ipython3",
   "version": "3.8.9"
  }
 },
 "nbformat": 4,
 "nbformat_minor": 5
}
