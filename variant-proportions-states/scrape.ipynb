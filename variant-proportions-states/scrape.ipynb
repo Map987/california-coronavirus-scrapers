{
 "cells": [
  {
   "cell_type": "markdown",
   "id": "narrative-helmet",
   "metadata": {},
   "source": [
    "# CDC variants proportions by state\n",
    "\n",
    "By [Matt Stiles](https://www.latimes.com/people/matt-stiles)\n",
    "\n",
    "Downloads variant totals and proportions from a [Tableau dashboard](https://covid.cdc.gov/covid-data-tracker/#variant-proportions) published by the U.S. Centers for Disease Control and Prevention."
   ]
  },
  {
   "cell_type": "markdown",
   "id": "hybrid-circular",
   "metadata": {},
   "source": [
    "## Import"
   ]
  },
  {
   "cell_type": "markdown",
   "id": "advanced-richards",
   "metadata": {},
   "source": [
    "Code formatting with [black](https://pypi.org/project/nb-black/)."
   ]
  },
  {
   "cell_type": "code",
   "execution_count": 1,
   "id": "hired-guard",
   "metadata": {},
   "outputs": [],
   "source": [
    "%load_ext lab_black"
   ]
  },
  {
   "cell_type": "markdown",
   "id": "sharing-computer",
   "metadata": {},
   "source": [
    "Import dependencies."
   ]
  },
  {
   "cell_type": "code",
   "execution_count": 2,
   "id": "connected-whale",
   "metadata": {},
   "outputs": [],
   "source": [
    "import os\n",
    "import pytz\n",
    "from datetime import datetime"
   ]
  },
  {
   "cell_type": "code",
   "execution_count": 3,
   "id": "occupational-indianapolis",
   "metadata": {},
   "outputs": [],
   "source": [
    "import pandas as pd\n",
    "from tableauscraper import TableauScraper as TS"
   ]
  },
  {
   "cell_type": "code",
   "execution_count": 4,
   "id": "computational-incidence",
   "metadata": {},
   "outputs": [],
   "source": [
    "# !pipenv install tableauscraper=='0.1.10'"
   ]
  },
  {
   "cell_type": "code",
   "execution_count": 5,
   "id": "resistant-camel",
   "metadata": {},
   "outputs": [],
   "source": [
    "tz = pytz.timezone(\"America/Los_Angeles\")"
   ]
  },
  {
   "cell_type": "code",
   "execution_count": 6,
   "id": "pleasant-shield",
   "metadata": {},
   "outputs": [],
   "source": [
    "today = datetime.now(tz).date()"
   ]
  },
  {
   "cell_type": "markdown",
   "id": "chemical-disability",
   "metadata": {},
   "source": [
    "## Scrape"
   ]
  },
  {
   "cell_type": "markdown",
   "id": "inside-defeat",
   "metadata": {},
   "source": [
    "Set the URL"
   ]
  },
  {
   "cell_type": "code",
   "execution_count": 9,
   "id": "prospective-hanging",
   "metadata": {},
   "outputs": [],
   "source": [
    "url = \"https://public.tableau.com/views/WeightedStateVariantTable/StateVBMTable\""
   ]
  },
  {
   "cell_type": "code",
   "execution_count": 10,
   "id": "informed-speaking",
   "metadata": {},
   "outputs": [],
   "source": [
    "ts = TS()\n",
    "ts.loads(url)"
   ]
  },
  {
   "cell_type": "code",
   "execution_count": null,
   "id": "surgical-blackberry",
   "metadata": {},
   "outputs": [],
   "source": [
    "workbook = ts.getWorkbook()"
   ]
  },
  {
   "cell_type": "code",
   "execution_count": null,
   "id": "historic-corrections",
   "metadata": {},
   "outputs": [],
   "source": [
    "target = \"State Proportions\""
   ]
  },
  {
   "cell_type": "code",
   "execution_count": null,
   "id": "cardiovascular-cylinder",
   "metadata": {},
   "outputs": [],
   "source": [
    "sheet = next(w for w in workbook.worksheets if w.name == target)"
   ]
  },
  {
   "cell_type": "code",
   "execution_count": null,
   "id": "unlimited-memorial",
   "metadata": {},
   "outputs": [],
   "source": [
    "src = sheet.data"
   ]
  },
  {
   "cell_type": "code",
   "execution_count": null,
   "id": "active-shipping",
   "metadata": {},
   "outputs": [],
   "source": [
    "df = src[[\"State-value\", \"Measure Names-alias\", \"Measure Values-alias\"]].copy()"
   ]
  },
  {
   "cell_type": "code",
   "execution_count": null,
   "id": "connected-worth",
   "metadata": {},
   "outputs": [],
   "source": [
    "df.rename(\n",
    "    columns={\n",
    "        \"State-value\": \"state\",\n",
    "        \"Measure Names-alias\": \"variable\",\n",
    "        \"Measure Values-alias\": \"value\",\n",
    "    },\n",
    "    inplace=True,\n",
    ")"
   ]
  },
  {
   "cell_type": "code",
   "execution_count": null,
   "id": "given-coupon",
   "metadata": {},
   "outputs": [],
   "source": [
    "df.value = df.value.str.replace(\",\", \"\", regex=False).str.replace(\"%\", \"\", regex=False)"
   ]
  },
  {
   "cell_type": "code",
   "execution_count": null,
   "id": "clear-desert",
   "metadata": {},
   "outputs": [],
   "source": [
    "df.value = pd.to_numeric(df.value)"
   ]
  },
  {
   "cell_type": "code",
   "execution_count": null,
   "id": "artistic-generator",
   "metadata": {},
   "outputs": [],
   "source": [
    "df_pivot = df.pivot_table(\n",
    "    values=\"value\", index=\"state\", columns=\"variable\"\n",
    ").reset_index()"
   ]
  },
  {
   "cell_type": "code",
   "execution_count": null,
   "id": "floppy-shooting",
   "metadata": {},
   "outputs": [],
   "source": [
    "df_pivot.columns = (\n",
    "    df_pivot.columns.str.lower()\n",
    "    .str.replace(\".\", \"\", regex=False)\n",
    "    .str.replace(\" \", \"_\", regex=False)\n",
    "    .str.replace(\"/\", \"_\", regex=False)\n",
    ")"
   ]
  },
  {
   "cell_type": "code",
   "execution_count": null,
   "id": "ac9b1a31-0ed1-4be6-98e3-b6818495c3f1",
   "metadata": {},
   "outputs": [],
   "source": [
    "df_pivot[\"update_date\"] = today"
   ]
  },
  {
   "cell_type": "code",
   "execution_count": null,
   "id": "935fa869-7cfb-495d-ab69-8a2888e05321",
   "metadata": {},
   "outputs": [],
   "source": [
    "df_pivot.head()"
   ]
  },
  {
   "cell_type": "markdown",
   "id": "dated-tonight",
   "metadata": {},
   "source": [
    "## Export"
   ]
  },
  {
   "cell_type": "markdown",
   "id": "lovely-blink",
   "metadata": {},
   "source": [
    "Save out the data as a CSV that's datestamped to California time."
   ]
  },
  {
   "cell_type": "code",
   "execution_count": null,
   "id": "frozen-vitamin",
   "metadata": {},
   "outputs": [],
   "source": [
    "data_dir = os.path.join(os.path.abspath(\"\"), \"data\")"
   ]
  },
  {
   "cell_type": "code",
   "execution_count": null,
   "id": "laughing-domain",
   "metadata": {},
   "outputs": [],
   "source": [
    "df_pivot.to_csv(\n",
    "    os.path.join(data_dir, f\"variants_cdc_proportions_timeseries_{today}_.csv\"),\n",
    "    index=False,\n",
    ")"
   ]
  }
 ],
 "metadata": {
  "kernelspec": {
   "display_name": "Python 3 (ipykernel)",
   "language": "python",
   "name": "python3"
  },
  "language_info": {
   "codemirror_mode": {
    "name": "ipython",
    "version": 3
   },
   "file_extension": ".py",
   "mimetype": "text/x-python",
   "name": "python",
   "nbconvert_exporter": "python",
   "pygments_lexer": "ipython3",
   "version": "3.8.8"
  }
 },
 "nbformat": 4,
 "nbformat_minor": 5
}
